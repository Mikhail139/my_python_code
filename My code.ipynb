{
 "cells": [
  {
   "cell_type": "code",
   "execution_count": 29,
   "id": "c7aedce2-c87c-4e36-944b-1812466afcef",
   "metadata": {},
   "outputs": [
    {
     "name": "stdin",
     "output_type": "stream",
     "text": [
      " 6\n"
     ]
    },
    {
     "name": "stdout",
     "output_type": "stream",
     "text": [
      "chetnoe\n"
     ]
    }
   ],
   "source": [
    "a=int(input())\n",
    "if a%2==0:\n",
    "    print('chetnoe')\n",
    "else:\n",
    "    print('nechetnoe')"
   ]
  },
  {
   "cell_type": "code",
   "execution_count": 4,
   "id": "4c3e7af9-4086-4322-aedf-debe972448fc",
   "metadata": {},
   "outputs": [
    {
     "name": "stdin",
     "output_type": "stream",
     "text": [
      "a 4\n",
      "b 0\n"
     ]
    },
    {
     "name": "stdout",
     "output_type": "stream",
     "text": [
      "Zero\n"
     ]
    },
    {
     "name": "stdin",
     "output_type": "stream",
     "text": [
      "try again 5\n"
     ]
    },
    {
     "name": "stdout",
     "output_type": "stream",
     "text": [
      "0.8\n"
     ]
    }
   ],
   "source": [
    "a=int(input('a'))\n",
    "b=int(input('b'))\n",
    "if b!=0:\n",
    "    print(a/b)\n",
    "else:\n",
    "    print('Zero')\n",
    "    b=int(input('try again'))\n",
    "    if b==0:\n",
    "        print('you lose')\n",
    "    else:\n",
    "        print(a/b)"
   ]
  },
  {
   "cell_type": "code",
   "execution_count": 8,
   "id": "c8c50e51-4a67-4057-b6a7-74a4b316400d",
   "metadata": {},
   "outputs": [
    {
     "name": "stdout",
     "output_type": "stream",
     "text": [
      "*\n",
      "***\n",
      "*****\n",
      "*******\n"
     ]
    }
   ],
   "source": [
    "c=1\n",
    "while c<=8:\n",
    "    print('*'*c)\n",
    "    c+=2"
   ]
  },
  {
   "cell_type": "code",
   "execution_count": 12,
   "id": "6292c09f-a269-4f6b-affe-b6234cdfbfaa",
   "metadata": {},
   "outputs": [
    {
     "name": "stdin",
     "output_type": "stream",
     "text": [
      " 1\n",
      " 10\n"
     ]
    },
    {
     "name": "stdout",
     "output_type": "stream",
     "text": [
      "55\n"
     ]
    }
   ],
   "source": [
    "a=int(input())\n",
    "b=int(input())\n",
    "s=0\n",
    "i=a\n",
    "while i<=b:\n",
    "    s+=i\n",
    "    i+=1\n",
    "print(s)"
   ]
  },
  {
   "cell_type": "code",
   "execution_count": 26,
   "id": "5c3d7dbf-d8fe-4ebc-a07c-fc4c65aa57ab",
   "metadata": {},
   "outputs": [
    {
     "name": "stdin",
     "output_type": "stream",
     "text": [
      " 3 3\n"
     ]
    },
    {
     "name": "stdout",
     "output_type": "stream",
     "text": [
      "9\n"
     ]
    },
    {
     "name": "stdin",
     "output_type": "stream",
     "text": [
      " 0 4\n"
     ]
    },
    {
     "name": "stdout",
     "output_type": "stream",
     "text": [
      "Ignore\n"
     ]
    },
    {
     "name": "stdin",
     "output_type": "stream",
     "text": [
      " 4 4\n"
     ]
    },
    {
     "name": "stdout",
     "output_type": "stream",
     "text": [
      "16\n",
      "5 limit\n"
     ]
    }
   ],
   "source": [
    "i=0\n",
    "while i<5:\n",
    "    a, b=input().split()\n",
    "    a=int(a)\n",
    "    b=int(b)\n",
    "    if a==0 and b==0:\n",
    "        print('Zero')\n",
    "        break\n",
    "    if a==0 or b==0:\n",
    "        print('Ignore')\n",
    "        continue\n",
    "    print(a*b)\n",
    "    i+=1\n",
    "else:\n",
    "    print('5 limit')"
   ]
  },
  {
   "cell_type": "code",
   "execution_count": 35,
   "id": "e7d02f56-3d23-40de-a024-7059de1076c3",
   "metadata": {},
   "outputs": [
    {
     "name": "stdin",
     "output_type": "stream",
     "text": [
      " 6\n"
     ]
    },
    {
     "name": "stdout",
     "output_type": "stream",
     "text": [
      "******\n",
      "******\n",
      "******\n",
      "******\n",
      "******\n",
      "******\n"
     ]
    }
   ],
   "source": [
    "n=int(input())\n",
    "for i in range(n):\n",
    "    for j in range(n):\n",
    "        print ('*', end='')\n",
    "    print()"
   ]
  },
  {
   "cell_type": "code",
   "execution_count": 37,
   "id": "6a4c7524-2157-418b-b5a6-a71418e0d0fc",
   "metadata": {},
   "outputs": [
    {
     "name": "stdin",
     "output_type": "stream",
     "text": [
      " 2 98\n"
     ]
    },
    {
     "name": "stdout",
     "output_type": "stream",
     "text": [
      "2400\n"
     ]
    }
   ],
   "source": [
    "a, b=input().split()\n",
    "a=int(a)\n",
    "b=int(b)\n",
    "s=0\n",
    "for i in range (a, b+1):\n",
    "    if i%2==1:\n",
    "        s+=i\n",
    "print(s)"
   ]
  },
  {
   "cell_type": "code",
   "execution_count": 2,
   "id": "87a9d26e-7929-4bbd-bccc-f82210d4f99c",
   "metadata": {},
   "outputs": [
    {
     "name": "stdin",
     "output_type": "stream",
     "text": [
      "text here LHFKSHICSIUHFUISHCSHFISFHCSUHFISC\n"
     ]
    },
    {
     "name": "stdout",
     "output_type": "stream",
     "text": [
      "4\n"
     ]
    }
   ],
   "source": [
    "genome=input('text here')\n",
    "print(genome.count('C'))"
   ]
  },
  {
   "cell_type": "code",
   "execution_count": 28,
   "id": "d18c591a-6389-48ba-aaf2-a65fc4d6a6ff",
   "metadata": {},
   "outputs": [
    {
     "name": "stdin",
     "output_type": "stream",
     "text": [
      " aaaabbcaa\n"
     ]
    },
    {
     "name": "stdout",
     "output_type": "stream",
     "text": [
      "a4b2c1a2"
     ]
    }
   ],
   "source": [
    "a=input()\n",
    "b=a+str(0)\n",
    "cnt=1\n",
    "i=1\n",
    "for x in a:\n",
    "    if x==b[i]:\n",
    "        cnt+=1\n",
    "        i+=1\n",
    "    elif x!=b[i]:\n",
    "        print(str(x) + str(cnt), end='')\n",
    "        cnt=1\n",
    "        i+=1"
   ]
  },
  {
   "cell_type": "code",
   "execution_count": 3,
   "id": "b48bb2fd-d625-4394-b1a4-4d521f5b399b",
   "metadata": {},
   "outputs": [
    {
     "name": "stdout",
     "output_type": "stream",
     "text": [
      "Hello, Ivan!\n",
      "Hello, Masha!\n",
      "Hello, Sasha!\n"
     ]
    }
   ],
   "source": [
    "students = ['Ivan', 'Masha', 'Sasha']\n",
    "for a in students:\n",
    "    print('Hello, ' + a + '!')"
   ]
  },
  {
   "cell_type": "code",
   "execution_count": 14,
   "id": "d42e4f96-7f38-4b28-a52d-88d3463563cb",
   "metadata": {},
   "outputs": [
    {
     "name": "stdout",
     "output_type": "stream",
     "text": [
      "['Ivan', 'Kirill', 'Masha', 'Sasha', 'Olga', 'Misha', 'M', 'i', 's', 'h', 'a']\n"
     ]
    }
   ],
   "source": [
    "a = ['Ivan', 'Masha', 'Sasha']\n",
    "a.append('Olga')\n",
    "a+=['Misha']\n",
    "a+=('Misha')\n",
    "a.insert(1, 'Kirill')\n",
    "print(a)"
   ]
  },
  {
   "cell_type": "code",
   "execution_count": 6,
   "id": "7223ebfe-744e-4c67-a4ab-060d042517a2",
   "metadata": {},
   "outputs": [
    {
     "name": "stdout",
     "output_type": "stream",
     "text": [
      "['Ivan', 'Masha', 'Sasha']\n",
      "Sasha\n",
      "Ivan\n"
     ]
    }
   ],
   "source": [
    "a = ['Masha', 'Ivan', 'Sasha']\n",
    "a.sort()\n",
    "print(a)\n",
    "print(max(a))\n",
    "print(min(a))\n"
   ]
  },
  {
   "cell_type": "code",
   "execution_count": 12,
   "id": "3d36847d-b471-4f97-9aae-2c59b8d09564",
   "metadata": {},
   "outputs": [
    {
     "name": "stdout",
     "output_type": "stream",
     "text": [
      "['1', '5', '4']\n",
      "['4', '5', '1']\n"
     ]
    }
   ],
   "source": [
    "a = ['4', '5', '1']\n",
    "a.reverse()\n",
    "b=list(reversed(a))\n",
    "print(b)\n",
    "print(a)"
   ]
  },
  {
   "cell_type": "code",
   "execution_count": 23,
   "id": "fb8432a1-2b77-48ce-b0eb-44e2cf0b85be",
   "metadata": {},
   "outputs": [
    {
     "name": "stdout",
     "output_type": "stream",
     "text": [
      "[42, 'FFFFFF', 2]\n",
      "[42, 'FFFFFF', 2]\n",
      "[42, 'FFFFFF', 30]\n",
      "[42, 'FFFFFF', 30]\n"
     ]
    }
   ],
   "source": [
    "m=[1, 'FFFFFF', 2]\n",
    "n=m\n",
    "m[0]=42\n",
    "print(m)\n",
    "print(n)\n",
    "n[2]=30\n",
    "print(m)\n",
    "print(n)"
   ]
  },
  {
   "cell_type": "code",
   "execution_count": 25,
   "id": "1ed40122-96c6-4854-9bd9-f36ad46d3230",
   "metadata": {},
   "outputs": [
    {
     "name": "stdout",
     "output_type": "stream",
     "text": [
      "['Masha', 'Ivan', 'Sasha', 'Misha']\n",
      "2\n"
     ]
    }
   ],
   "source": [
    "st=['Masha', 'Ivan', 'Sasha', 'Olga', 'Misha']\n",
    "st.remove('Olga')\n",
    "idx=st.index('Sasha')\n",
    "print(st)\n",
    "print(idx)"
   ]
  },
  {
   "cell_type": "code",
   "execution_count": 26,
   "id": "d650f7ed-9906-4064-bbe9-3497b7bd75e3",
   "metadata": {},
   "outputs": [
    {
     "name": "stdout",
     "output_type": "stream",
     "text": [
      "['Masha', 'Sasha', 'Olga', 'Misha']\n"
     ]
    }
   ],
   "source": [
    "st=['Masha', 'Ivan', 'Sasha', 'Olga', 'Misha']\n",
    "del st[1]\n",
    "print(st)"
   ]
  },
  {
   "cell_type": "code",
   "execution_count": 27,
   "id": "a1aa4887-ad21-4fd4-9cc2-906013b0132d",
   "metadata": {},
   "outputs": [
    {
     "name": "stdout",
     "output_type": "stream",
     "text": [
      "['Masha', 'Ivan', 'Olga', 'Misha']\n",
      "2\n"
     ]
    }
   ],
   "source": [
    "st=['Masha', 'Ivan', 'Sasha', 'Olga', 'Misha']\n",
    "idx=st.index('Sasha')\n",
    "del st[idx]\n",
    "print(st)\n",
    "print(idx)"
   ]
  },
  {
   "cell_type": "code",
   "execution_count": 28,
   "id": "fa9889d2-9969-4de2-9a3c-d46531a0616f",
   "metadata": {},
   "outputs": [
    {
     "name": "stdout",
     "output_type": "stream",
     "text": [
      "[1, 2, 3]\n",
      "[1, 10, 3]\n",
      "[20, 10, 3]\n",
      "[20, 10, 3]\n"
     ]
    }
   ],
   "source": [
    "a = [1, 2, 3]\n",
    "b = a\n",
    "print(b)\n",
    "a[1] = 10\n",
    "print(b)\n",
    "b[0] = 20\n",
    "print(a)\n",
    "a = [5, 6]\n",
    "print(b)"
   ]
  },
  {
   "cell_type": "code",
   "execution_count": 31,
   "id": "f38b3de6-a4e9-42fc-8434-17495e90225b",
   "metadata": {},
   "outputs": [
    {
     "name": "stdin",
     "output_type": "stream",
     "text": [
      " 33 44\n"
     ]
    },
    {
     "name": "stdout",
     "output_type": "stream",
     "text": [
      "33\n",
      "44\n"
     ]
    }
   ],
   "source": [
    "a, b=[int(i) for i in input().split()]\n",
    "print(a)\n",
    "print(b)"
   ]
  },
  {
   "cell_type": "code",
   "execution_count": 37,
   "id": "0bbe7b74-71c3-4469-9b83-20ae2249c114",
   "metadata": {},
   "outputs": [
    {
     "name": "stdin",
     "output_type": "stream",
     "text": [
      " 3 4 5 56 7 78 8 1\n"
     ]
    },
    {
     "name": "stdout",
     "output_type": "stream",
     "text": [
      "[1, 8, 78, 7, 56, 5, 4, 3]\n"
     ]
    }
   ],
   "source": [
    "a=[int(i) for i in input().split()]\n",
    "a.reverse()\n",
    "print(a)"
   ]
  },
  {
   "cell_type": "code",
   "execution_count": 40,
   "id": "cc54319a-d780-4730-a3ef-1bd79b808b34",
   "metadata": {},
   "outputs": [
    {
     "name": "stdout",
     "output_type": "stream",
     "text": [
      "[1, 1, 1, 1, 1, 1]\n",
      "[0, 1, 2, 3, 4, 5]\n",
      "[0, 1, 4, 9, 16, 25]\n"
     ]
    }
   ],
   "source": [
    "a=[1 for i in range(6)]\n",
    "b=[i for i in range(6)]\n",
    "c=[i*i for i in range(6)]\n",
    "print(a)\n",
    "print(b)\n",
    "print(c)"
   ]
  },
  {
   "cell_type": "code",
   "execution_count": 56,
   "id": "8391eba5-d853-4277-a126-4079fe2f2e59",
   "metadata": {},
   "outputs": [
    {
     "name": "stdin",
     "output_type": "stream",
     "text": [
      " 1 1\n"
     ]
    },
    {
     "name": "stdout",
     "output_type": "stream",
     "text": [
      "2\n"
     ]
    }
   ],
   "source": [
    "s=0\n",
    "for i in [int(i) for i in input().split()]:\n",
    "    s+=i\n",
    "print(s)"
   ]
  },
  {
   "cell_type": "code",
   "execution_count": 9,
   "id": "e500efeb-aec1-4834-8771-495d91449676",
   "metadata": {},
   "outputs": [
    {
     "name": "stdin",
     "output_type": "stream",
     "text": [
      " 1 3 5 6 10\n"
     ]
    },
    {
     "name": "stdout",
     "output_type": "stream",
     "text": [
      "13 6 9 15 7\n"
     ]
    }
   ],
   "source": [
    "a=[int(i) for i in input().split()]\n",
    "b=int((len(a)))\n",
    "x=-1\n",
    "y=1\n",
    "if b==1:\n",
    "    print(a[0])\n",
    "else:\n",
    "    for i in range(b-1):\n",
    "        i=a[x]+a[y]\n",
    "        x+=1\n",
    "        y+=1\n",
    "        print(i, end=' ')\n",
    "    print(a[-2]+a[0])"
   ]
  },
  {
   "cell_type": "code",
   "execution_count": 31,
   "id": "179bb713-5a28-440c-aa00-3fafedc3afb6",
   "metadata": {},
   "outputs": [
    {
     "name": "stdin",
     "output_type": "stream",
     "text": [
      " 1 1 1 1 1 2 2 2\n"
     ]
    },
    {
     "name": "stdout",
     "output_type": "stream",
     "text": [
      "1 1 1 1 2 2 "
     ]
    }
   ],
   "source": [
    "a=[int(i) for i in input().split()]\n",
    "b=[]\n",
    "a.sort()\n",
    "n=int(len(a))\n",
    "x=0\n",
    "y=1\n",
    "for i in range(n-1):\n",
    "    if a[x]==a[y]:\n",
    "        x+=1\n",
    "        y+=1\n",
    "        b+=[a[x]]\n",
    "    elif a[x]!=a[y]:\n",
    "        x+=1\n",
    "        y+=1\n",
    "print(*set(b))"
   ]
  },
  {
   "cell_type": "code",
   "execution_count": 1,
   "id": "e5977267-fa19-47a2-b818-8397e6e05116",
   "metadata": {},
   "outputs": [
    {
     "name": "stdout",
     "output_type": "stream",
     "text": [
      "[[0, 0, 0], [0, 0, 0], [0, 0, 0]]\n",
      "[[0, 0, 0], [0, 5, 0], [0, 0, 0]]\n"
     ]
    }
   ],
   "source": [
    "n=3\n",
    "a=[[0]*n for i in range(n)]\n",
    "print(a)\n",
    "a[1][1]=5\n",
    "print(a)"
   ]
  },
  {
   "cell_type": "code",
   "execution_count": null,
   "id": "bf0337fa-6257-453c-b592-25fac635afc0",
   "metadata": {},
   "outputs": [],
   "source": [
    "a=int(input())\n",
    "b=a+0\n",
    "c=a*a\n",
    "while b!=0:\n",
    "    a=int(input())\n",
    "    c+=a*a\n",
    "    b+=a\n",
    "    d+=c\n",
    "else:\n",
    "    print(c)"
   ]
  },
  {
   "cell_type": "code",
   "execution_count": 1,
   "id": "d60954c3-869d-462d-94cd-7b8a0657c641",
   "metadata": {},
   "outputs": [
    {
     "name": "stdout",
     "output_type": "stream",
     "text": [
      "1 2 2 3 3\n"
     ]
    }
   ],
   "source": [
    "a=[]\n",
    "n=5\n",
    "for i in range(100):\n",
    "    a+=[i]*i\n",
    "print(*a[:n])"
   ]
  },
  {
   "cell_type": "code",
   "execution_count": null,
   "id": "4693c396-1559-448b-bdcd-0db029f049e0",
   "metadata": {},
   "outputs": [],
   "source": [
    "a=[int(i) for i in input().split()]\n",
    "b=int(input())\n",
    "c=[]\n",
    "x=-1\n",
    "if b not in a:\n",
    "    print('Отсутствует')\n",
    "else:\n",
    "    for i in a:\n",
    "        x+=1\n",
    "        if b==i:\n",
    "            c+=[x]\n",
    "print(*c)"
   ]
  },
  {
   "cell_type": "code",
   "execution_count": 78,
   "id": "f7c9c088-4f77-44a2-a299-64bf538cb42c",
   "metadata": {},
   "outputs": [
    {
     "name": "stdin",
     "output_type": "stream",
     "text": [
      " 2 3 4 5\n",
      " 2 5 6 7\n",
      " 1 7 8 9\n",
      " end\n"
     ]
    },
    {
     "name": "stdout",
     "output_type": "stream",
     "text": [
      "11 18 22 22 \n",
      "15 18 24 22 \n",
      "20 17 26 21 \n"
     ]
    }
   ],
   "source": [
    "a=0\n",
    "b=[]\n",
    "c=[]\n",
    "while a!='end':\n",
    "    a=input()\n",
    "    if a!='end':\n",
    "        a=[int(i) for i in a.split()]\n",
    "        b+=[a]\n",
    "c=b[:]\n",
    "for n in range (len(b)):\n",
    "    c[n]=b[n][:]\n",
    "for i in range(len(b)):\n",
    "    for j in range(len(b[i])):\n",
    "        c[i][j] = b[i-1][j] + b[(i+1)%len(b)][j] + b[i][j-1] + b[i][(j+1)%len(b[i])]\n",
    "        print(c[i][j], end=' ')\n",
    "    print()"
   ]
  },
  {
   "cell_type": "code",
   "execution_count": 61,
   "id": "8b8ad5ae-b0c8-4d7a-9b89-5559a4d7eb70",
   "metadata": {},
   "outputs": [
    {
     "name": "stdout",
     "output_type": "stream",
     "text": [
      "[1, 2, 3, 4, 5, 6, 7, 8, 9, 10, 11, 12, 13, 14, 15, 16, 17, 18, 19, 20, 21, 22, 23, 24, 25]\n"
     ]
    }
   ],
   "source": [
    "n=5\n",
    "c=0\n",
    "a=[]\n",
    "while c<n*n:\n",
    "    c+=1\n",
    "    a+=[c]\n",
    "print(a)"
   ]
  },
  {
   "cell_type": "code",
   "execution_count": 66,
   "id": "4f5d9844-ffa2-450a-ae0e-4e40731cd6e7",
   "metadata": {},
   "outputs": [
    {
     "name": "stdout",
     "output_type": "stream",
     "text": [
      "[[0, 0, 0, 0, 0], [0, 0, 0, 0, 0], [0, 0, 0, 0, 0], [0, 0, 0, 0, 0], [0, 0, 0, 0, 0]]\n"
     ]
    }
   ],
   "source": [
    "n=5\n",
    "#a=[[n for j in range(n)] for i in range(n)]\n",
    "a = [[0]*n for i in range(n)]\n",
    "print(a)"
   ]
  },
  {
   "cell_type": "code",
   "execution_count": 1,
   "id": "f6ceb709-06d7-465c-bb17-d50b25aeee95",
   "metadata": {},
   "outputs": [
    {
     "name": "stdin",
     "output_type": "stream",
     "text": [
      " 5\n"
     ]
    },
    {
     "name": "stdout",
     "output_type": "stream",
     "text": [
      "1 2 3 4 5\n",
      "16 17 18 19 6\n",
      "15 24 25 20 7\n",
      "14 23 22 21 8\n",
      "13 12 11 10 9\n"
     ]
    }
   ],
   "source": [
    "# Заполнение матрицы по спирали\n",
    "def zm(n):\n",
    "    dx, dy = 1, 0\n",
    "    x, y = 0, 0\n",
    "    arr = [[None] * n for _ in range(n)]\n",
    "    for i in range(1, n**2+1):\n",
    "        arr[x][y] = i\n",
    "        nx, ny = x+dx, y+dy\n",
    "        if 0 <= nx < n and 0 <= ny < n and not arr[nx][ny]:\n",
    "            x, y = nx, ny\n",
    "        else:\n",
    "            dx, dy = -dy, dx\n",
    "            x, y = x+dx, y+dy\n",
    "    for x in list(zip(*arr)):\n",
    "        print(*x)\n",
    "\n",
    "zm(int(input()))"
   ]
  },
  {
   "cell_type": "code",
   "execution_count": 3,
   "id": "a1daaedb-ebd5-424b-9bb1-ef71b56a0bca",
   "metadata": {},
   "outputs": [
    {
     "name": "stdout",
     "output_type": "stream",
     "text": [
      "[[None, None, None, None, None], [None, None, None, None, None], [None, None, None, None, None], [None, None, None, None, None], [None, None, None, None, None]]\n"
     ]
    }
   ],
   "source": [
    "n=5\n",
    "arr = [[None] * n for _ in range(n)]\n",
    "print(arr)"
   ]
  },
  {
   "cell_type": "code",
   "execution_count": 50,
   "id": "07e5a02d-7c97-40fc-b4fc-454d66dfe657",
   "metadata": {},
   "outputs": [],
   "source": [
    "def f(x):\n",
    "    x=4.5\n",
    "    if 2<x:\n",
    "        return (x-2)**2+1\n",
    "    if -2<x<=2:\n",
    "        return -x/2\n",
    "    if x<=-2:\n",
    "        return 1-(x+2)**2"
   ]
  },
  {
   "cell_type": "code",
   "execution_count": 186,
   "id": "c2f2063c-5b57-4056-b02f-2befc284b593",
   "metadata": {},
   "outputs": [
    {
     "name": "stdout",
     "output_type": "stream",
     "text": [
      "[5, 0, 4]\n"
     ]
    }
   ],
   "source": [
    "lst = [10, 0, 8, 3]\n",
    "for i in range(len(lst)-1,-1,-1):\n",
    "    if lst[i]%2!=0:\n",
    "        lst.remove(lst[i])\n",
    "for i in range(len(lst)-1,-1,-1):    \n",
    "    if lst[i]%2==0:\n",
    "        lst[i]=lst[i]//2\n",
    "print(lst)"
   ]
  },
  {
   "cell_type": "code",
   "execution_count": 187,
   "id": "5644640b-b621-4911-bcc1-4dcd5305a118",
   "metadata": {},
   "outputs": [
    {
     "name": "stdout",
     "output_type": "stream",
     "text": [
      "[5, 0, 4]\n"
     ]
    }
   ],
   "source": [
    "lst = [10, 0, 8, 3]\n",
    "for i in range(len(lst)-1,-1,-1):\n",
    "    if lst[i]%2!=0:\n",
    "        lst.remove(lst[i])   \n",
    "    else:\n",
    "        lst[i]=lst[i]//2\n",
    "print(lst)"
   ]
  },
  {
   "cell_type": "code",
   "execution_count": 201,
   "id": "3a09ea82-fb01-4160-94be-91b250d9e8fe",
   "metadata": {},
   "outputs": [
    {
     "name": "stdin",
     "output_type": "stream",
     "text": [
      " 1 2 3 4 5 6\n"
     ]
    },
    {
     "name": "stdout",
     "output_type": "stream",
     "text": [
      "[1, 2, 3]\n"
     ]
    }
   ],
   "source": [
    "def fff(lst):\n",
    "    for i in range(len(lst)-1,-1,-1):\n",
    "        if lst[i]%2!=0:\n",
    "            lst.remove(lst[i])   \n",
    "        else:\n",
    "            lst[i]=lst[i]//2\n",
    "    print(lst)\n",
    "fff([int(i) for i in input().split()])"
   ]
  },
  {
   "cell_type": "code",
   "execution_count": null,
   "id": "2a1244a1-68b9-4b6c-aedc-4aeb956abda2",
   "metadata": {},
   "outputs": [],
   "source": [
    "def update_dictionary(d, key, value):\n",
    "    if key in d:\n",
    "        d[key].append(value)\n",
    "    elif key*2 not in d:\n",
    "        d[key*2]=[value]    \n",
    "    else:\n",
    "        d[key*2].append(value)"
   ]
  },
  {
   "cell_type": "code",
   "execution_count": 2,
   "id": "75cc3d9a-4bf9-4c70-926f-ffac0632ea73",
   "metadata": {},
   "outputs": [
    {
     "name": "stdin",
     "output_type": "stream",
     "text": [
      " a aa abC aa ac abc bcd a\n"
     ]
    },
    {
     "name": "stdout",
     "output_type": "stream",
     "text": [
      "['a', 'aa', 'abC', 'aa', 'ac', 'abc', 'bcd', 'a']\n"
     ]
    }
   ],
   "source": [
    "a=[i for i in input().split()]\n",
    "print(a)"
   ]
  },
  {
   "cell_type": "code",
   "execution_count": 13,
   "id": "3400b53e-7b6d-49e4-b182-2250c234bcc2",
   "metadata": {},
   "outputs": [
    {
     "name": "stdout",
     "output_type": "stream",
     "text": [
      "a2 aa2 abC1 aa2 ac1 abc1 bcd1 a2 "
     ]
    }
   ],
   "source": [
    "a=['a', 'aa', 'abC', 'aa', 'ac', 'abc', 'bcd', 'a']\n",
    "cnt=-1\n",
    "for i in a:\n",
    "    cnt+=1\n",
    "    print(str(a[cnt]) + str(a.count(a[cnt])), end=' ')\n",
    "    "
   ]
  },
  {
   "cell_type": "code",
   "execution_count": 18,
   "id": "e1df3c13-1ece-4a3b-9663-96b8dec36d2d",
   "metadata": {},
   "outputs": [
    {
     "name": "stdout",
     "output_type": "stream",
     "text": [
      "a 2\n",
      "aa 2\n",
      "abc 2\n",
      "ac 1\n",
      "bcd 1\n"
     ]
    }
   ],
   "source": [
    "a=['a', 'aa', 'abc', 'aa', 'ac', 'abc', 'bcd', 'a']\n",
    "a.sort()\n",
    "b=a+['']\n",
    "cnt=1\n",
    "i=1\n",
    "for x in a:\n",
    "    if x==b[i]:\n",
    "        cnt+=1\n",
    "        i+=1\n",
    "    elif x!=b[i]:\n",
    "        print(str(x) + ' ' + str(cnt))\n",
    "        cnt=1\n",
    "        i+=1"
   ]
  },
  {
   "cell_type": "code",
   "execution_count": 108,
   "id": "063c5fb5-b365-4f30-a1a2-92b94c199d7f",
   "metadata": {},
   "outputs": [
    {
     "name": "stdin",
     "output_type": "stream",
     "text": [
      " 3\n",
      " 4\n"
     ]
    },
    {
     "name": "stdout",
     "output_type": "stream",
     "text": [
      "4\n"
     ]
    },
    {
     "name": "stdin",
     "output_type": "stream",
     "text": [
      " 5\n"
     ]
    },
    {
     "name": "stdout",
     "output_type": "stream",
     "text": [
      "4\n"
     ]
    },
    {
     "name": "stdin",
     "output_type": "stream",
     "text": [
      " 6\n"
     ]
    },
    {
     "name": "stdout",
     "output_type": "stream",
     "text": [
      "4\n",
      "\n"
     ]
    }
   ],
   "source": [
    "d={}\n",
    "n=int(input())\n",
    "for i in range(n):\n",
    "    b=int(input())\n",
    "    if b in d.keys():\n",
    "        print(d[b])\n",
    "    else:\n",
    "        d[b]=4\n",
    "        print(d[b])\n",
    "print()"
   ]
  },
  {
   "cell_type": "code",
   "execution_count": 32,
   "id": "71928277-3f5c-4a19-bee9-336ce7d3a70c",
   "metadata": {},
   "outputs": [
    {
     "name": "stdout",
     "output_type": "stream",
     "text": [
      "3 5 4\n"
     ]
    }
   ],
   "source": [
    "with open ('file.txt', 'r') as inf:\n",
    "    s1=inf.readline().strip()\n",
    "    s2=inf.readline().strip()\n",
    "    print(s1+s2)"
   ]
  },
  {
   "cell_type": "code",
   "execution_count": 30,
   "id": "14146f0b-878d-4aa3-b1ab-3998b8d0dda6",
   "metadata": {},
   "outputs": [
    {
     "name": "stdout",
     "output_type": "stream",
     "text": [
      "3 5 4\n"
     ]
    }
   ],
   "source": [
    "with open ('file.txt', 'r') as inf:\n",
    "    s=inf.readline().strip()\n",
    "    print(s)"
   ]
  },
  {
   "cell_type": "code",
   "execution_count": 33,
   "id": "89a07c01-223e-4380-9b72-d98c1d2a82fa",
   "metadata": {},
   "outputs": [
    {
     "name": "stdout",
     "output_type": "stream",
     "text": [
      "3 5 4\n"
     ]
    }
   ],
   "source": [
    "with open ('file.txt', 'w') as ouf:\n",
    "    ouf.write('Some text \\n')\n",
    "    ouf.write(str(25))"
   ]
  },
  {
   "cell_type": "code",
   "execution_count": 34,
   "id": "14ec6b82-ec1d-46ee-9b1d-46dc1854cf2a",
   "metadata": {},
   "outputs": [
    {
     "name": "stdout",
     "output_type": "stream",
     "text": [
      "Some text \n",
      "\n",
      "25\n"
     ]
    }
   ],
   "source": [
    "with open ('file.txt', 'r') as inf:\n",
    "    for i in inf:\n",
    "        print(i)"
   ]
  },
  {
   "cell_type": "code",
   "execution_count": 55,
   "id": "7e473562-15e9-4971-a8e7-a32c02cd4944",
   "metadata": {},
   "outputs": [
    {
     "name": "stdout",
     "output_type": "stream",
     "text": [
      "vvvvvvvvvvvvvvEaaaaaaaaaaaaDDDDDDDDDDDDDDSSSSSLLLLLLLLLLLLLLLggggggggssssssssssssssssXXXXXXXXXXXXXhUUUUUvvvBBBBBBBBBBBBBBBBBBBBkkkknnnnnnnnnnOOOOOOOjjjjjjjjjjjjjjjjjRRRRRRRRRRRRRRRRIIIIIIIIIIIIIIIIILLLLLLLLLLLLLZZZZZZZZZZZZZZZZcccccccccccBBBBBBBBBVVVVVVVVVVVVVVVMMMMMMMMFFFFFFFyyyyyyyyyyyyyyRRRRRRRRRRRRRRRRRRRXXXXXlddddddddddddddddmmmmmmmmmmjjjjjjjjjjjjjjQQQQQQQQQQQpppppppppppppBBBPPPPPPPPPPPPPPPFFFFFFBBBBBBBBBBBnnnnnnnnnnnnnnnnnnnZZZHHHHHHHwwAAAAAAHHHHHHHHHHMMMMMMMMMMMM\n"
     ]
    }
   ],
   "source": [
    "a='v14E1a12D14S5L15g8s16X13h1U5v3B20k4n10O7j17R16I17L13Z16c11B9V15M8F7y14R19X5l1d16m10j14Q11p13B3P15F6B11n19Z3H7w2A6H10M12'\n",
    "b='0123456789'\n",
    "aa=''\n",
    "s=''\n",
    "cnt=0\n",
    "for i in a:\n",
    "    if i not in b:\n",
    "        aa+=i\n",
    "import re\n",
    "a\n",
    "num = re.findall(r'\\d+', a)\n",
    "num2=[int(i) for i in num]\n",
    "for i in aa:\n",
    "    n=i*num2[cnt]\n",
    "    s+=n\n",
    "    cnt+=1\n",
    "print(s)\n",
    "with open ('file.txt', 'w') as ouf:\n",
    "    ouf.write(s)"
   ]
  },
  {
   "cell_type": "code",
   "execution_count": 224,
   "id": "a5ef75fe-97eb-47d4-bde0-13327553a8e1",
   "metadata": {},
   "outputs": [
    {
     "name": "stdout",
     "output_type": "stream",
     "text": [
      "cpaZb 7\n"
     ]
    }
   ],
   "source": [
    "a=''\n",
    "with open ('dataset_3363_3 (3).txt', 'r') as inf:\n",
    "    for line in inf:\n",
    "        a+=line.strip()\n",
    "num=[]\n",
    "import re\n",
    "a\n",
    "f=re.findall(r'(?i)([a-z]+)', a)\n",
    "f.sort()\n",
    "for i in f:\n",
    "    num.append(f.count(i))\n",
    "print(f[num.index(max(num))], str(max(num)))\n",
    "result=str(f[num.index(max(num))]) + ' ' + str(max(num))\n",
    "with open ('file.txt', 'w') as ouf:\n",
    "    ouf.write(result)"
   ]
  },
  {
   "cell_type": "code",
   "execution_count": 232,
   "id": "60878a88-145b-4c3e-a1db-df82d40f63a3",
   "metadata": {},
   "outputs": [
    {
     "name": "stdout",
     "output_type": "stream",
     "text": [
      "['Петров', '85', '92', '78']\n"
     ]
    }
   ],
   "source": [
    "a='Петров;85;92;78'\n",
    "a=[str(i) for i in a.split(';')]\n",
    "print(a)"
   ]
  },
  {
   "cell_type": "code",
   "execution_count": 234,
   "id": "36b901fa-fa94-4fa6-828a-d31bd98b7d2e",
   "metadata": {},
   "outputs": [
    {
     "name": "stdout",
     "output_type": "stream",
     "text": [
      "[85, 92, 78]\n"
     ]
    }
   ],
   "source": [
    "a='Петров;85;92;78'\n",
    "import re\n",
    "a\n",
    "b = re.findall(r'\\d+', a)\n",
    "num=[int(i) for i in b]\n",
    "print(num)"
   ]
  },
  {
   "cell_type": "code",
   "execution_count": 322,
   "id": "45a355eb-4bb2-4063-8b82-866f5723be19",
   "metadata": {},
   "outputs": [],
   "source": [
    "a=''\n",
    "math=[]\n",
    "rez=[]\n",
    "math=[]\n",
    "phis=[]\n",
    "rus=[]\n",
    "with open ('dataset_3363_4 (2).txt', 'r') as inf:\n",
    "    for line in inf:\n",
    "        a+=line.strip()\n",
    "import re\n",
    "a\n",
    "b = re.findall(r'\\d+', a)\n",
    "num=[int(i) for i in b]\n",
    "one=0\n",
    "two=1\n",
    "three=2\n",
    "while three<len(num):\n",
    "    rez.append((num[one]+num[two]+num[three])/3)\n",
    "    one+=3\n",
    "    two+=3\n",
    "    three+=3\n",
    "for i in range (0, len(num), 3):# сумма по математике\n",
    "    math.append(num[i])\n",
    "smath=sum(math)/len(math)\n",
    "for i in range (1, len(num), 3):# сумма по физике\n",
    "    phis.append(num[i])\n",
    "sphis=sum(phis)/len(math)\n",
    "for i in range (2, len(num), 3):# сумма по русскому\n",
    "    rus.append(num[i])\n",
    "srus=sum(rus)/len(math)\n",
    "for i in rez:\n",
    "    with open ('file.txt', 'a') as ouf:\n",
    "        ouf.write(str(i) + '\\n')\n",
    "with open ('file.txt', 'a') as ouf:    \n",
    "    ouf.write(str(smath) + ' ' + str(sphis) + ' ' + str(srus))"
   ]
  },
  {
   "cell_type": "code",
   "execution_count": 43,
   "id": "b049beb8-fc3d-4649-9002-d659e92bc428",
   "metadata": {},
   "outputs": [
    {
     "name": "stdout",
     "output_type": "stream",
     "text": [
      "['C:\\\\Users\\\\misha\\\\AppData\\\\Local\\\\Programs\\\\Python\\\\Python311\\\\Lib\\\\site-packages\\\\ipykernel_launcher.py', '-f', 'C:\\\\Users\\\\misha\\\\AppData\\\\Roaming\\\\jupyter\\\\runtime\\\\kernel-96bd6589-c21c-44cc-9496-aeb5811b7da2.json']\n"
     ]
    }
   ],
   "source": [
    "import sys\n",
    "print(len(sys.argv))"
   ]
  },
  {
   "cell_type": "code",
   "execution_count": 7,
   "id": "b533c89c-d2f6-4487-a2b3-fc72f5a4b49e",
   "metadata": {},
   "outputs": [
    {
     "name": "stdin",
     "output_type": "stream",
     "text": [
      " 10\n"
     ]
    },
    {
     "name": "stdout",
     "output_type": "stream",
     "text": [
      "62.83185307179586\n"
     ]
    }
   ],
   "source": [
    "r=int(input())\n",
    "import math\n",
    "print(2*math.pi*r)"
   ]
  },
  {
   "cell_type": "code",
   "execution_count": 48,
   "id": "55225db3-a2bb-4f58-a71e-a880a4ac1f4e",
   "metadata": {},
   "outputs": [
    {
     "name": "stdout",
     "output_type": "stream",
     "text": [
      "-f C:\\Users\\misha\\AppData\\Roaming\\jupyter\\runtime\\kernel-96bd6589-c21c-44cc-9496-aeb5811b7da2.json\n"
     ]
    }
   ],
   "source": [
    "import sys\n",
    "print(*sys.argv[1:])"
   ]
  },
  {
   "cell_type": "code",
   "execution_count": 51,
   "id": "6eec6028-66df-41c0-bf70-23b222c16ee8",
   "metadata": {},
   "outputs": [
    {
     "name": "stdout",
     "output_type": "stream",
     "text": [
      "<!doctype html>\n",
      "<html>\n",
      "<head>\n",
      "    <title>Example Domain</title>\n",
      "\n",
      "    <meta charset=\"utf-8\" />\n",
      "    <meta http-equiv=\"Content-type\" content=\"text/html; charset=utf-8\" />\n",
      "    <meta name=\"viewport\" content=\"width=device-width, initial-scale=1\" />\n",
      "    <style type=\"text/css\">\n",
      "    body {\n",
      "        background-color: #f0f0f2;\n",
      "        margin: 0;\n",
      "        padding: 0;\n",
      "        font-family: -apple-system, system-ui, BlinkMacSystemFont, \"Segoe UI\", \"Open Sans\", \"Helvetica Neue\", Helvetica, Arial, sans-serif;\n",
      "        \n",
      "    }\n",
      "    div {\n",
      "        width: 600px;\n",
      "        margin: 5em auto;\n",
      "        padding: 2em;\n",
      "        background-color: #fdfdff;\n",
      "        border-radius: 0.5em;\n",
      "        box-shadow: 2px 3px 7px 2px rgba(0,0,0,0.02);\n",
      "    }\n",
      "    a:link, a:visited {\n",
      "        color: #38488f;\n",
      "        text-decoration: none;\n",
      "    }\n",
      "    @media (max-width: 700px) {\n",
      "        div {\n",
      "            margin: 0 auto;\n",
      "            width: auto;\n",
      "        }\n",
      "    }\n",
      "    </style>    \n",
      "</head>\n",
      "\n",
      "<body>\n",
      "<div>\n",
      "    <h1>Example Domain</h1>\n",
      "    <p>This domain is for use in illustrative examples in documents. You may use this\n",
      "    domain in literature without prior coordination or asking for permission.</p>\n",
      "    <p><a href=\"https://www.iana.org/domains/example\">More information...</a></p>\n",
      "</div>\n",
      "</body>\n",
      "</html>\n",
      "\n"
     ]
    }
   ],
   "source": [
    "import requests\n",
    "r=requests.get('http://example.com')\n",
    "print(r.text)"
   ]
  },
  {
   "cell_type": "code",
   "execution_count": 73,
   "id": "ac1d279f-9518-4bff-9423-ea1af680f5cc",
   "metadata": {},
   "outputs": [
    {
     "name": "stdout",
     "output_type": "stream",
     "text": [
      "https://stepik.org/media/attachments/course67/3.6.2/555.txt\n",
      "219\n"
     ]
    }
   ],
   "source": [
    "cnt=0\n",
    "with open ('dataset_3378_2 (1).txt', 'r') as inf:\n",
    "    u=inf.readline().strip()\n",
    "    print(u)\n",
    "import requests\n",
    "r=requests.get(u)\n",
    "for i in r.text.splitlines():\n",
    "    cnt+=1\n",
    "print(cnt)\n",
    "with open ('file.txt', 'w') as ouf:\n",
    "    ouf.write(str(cnt))"
   ]
  },
  {
   "cell_type": "code",
   "execution_count": 106,
   "id": "77b4ee96-3e25-42f3-b678-f9ebd7cd4485",
   "metadata": {},
   "outputs": [
    {
     "name": "stdout",
     "output_type": "stream",
     "text": [
      "https://stepik.org/media/attachments/course67/3.6.3/699991.txt\n",
      "396639.txt\n",
      "835329.txt\n",
      "344063.txt\n",
      "194307.txt\n",
      "195211.txt\n",
      "769171.txt\n",
      "153554.txt\n",
      "680916.txt\n",
      "335636.txt\n",
      "935728.txt\n",
      "081303.txt\n",
      "792633.txt\n",
      "668368.txt\n",
      "647731.txt\n",
      "904392.txt\n",
      "684563.txt\n",
      "997337.txt\n",
      "329467.txt\n",
      "366219.txt\n",
      "730037.txt\n",
      "310230.txt\n",
      "104249.txt\n",
      "382504.txt\n",
      "433681.txt\n",
      "507359.txt\n",
      "293649.txt\n",
      "011641.txt\n",
      "717942.txt\n",
      "258080.txt\n",
      "569395.txt\n",
      "756825.txt\n",
      "921388.txt\n",
      "437007.txt\n",
      "004090.txt\n",
      "362705.txt\n",
      "145282.txt\n",
      "990216.txt\n",
      "645783.txt\n",
      "451262.txt\n",
      "193295.txt\n",
      "777343.txt\n",
      "324603.txt\n",
      "888934.txt\n",
      "138655.txt\n",
      "818396.txt\n",
      "290594.txt\n",
      "478003.txt\n",
      "276687.txt\n",
      "703763.txt\n",
      "712469.txt\n",
      "064418.txt\n",
      "246033.txt\n",
      "356768.txt\n",
      "504290.txt\n",
      "629914.txt\n",
      "062456.txt\n",
      "658472.txt\n",
      "037659.txt\n",
      "351978.txt\n",
      "523822.txt\n",
      "653493.txt\n",
      "859227.txt\n",
      "878358.txt\n",
      "944504.txt\n",
      "457602.txt\n",
      "548571.txt\n",
      "090976.txt\n",
      "965991.txt\n",
      "138128.txt\n",
      "255843.txt\n",
      "797598.txt\n",
      "640003.txt\n",
      "789435.txt\n",
      "181382.txt\n",
      "590526.txt\n",
      "430513.txt\n",
      "182774.txt\n",
      "924794.txt\n",
      "998193.txt\n",
      "770039.txt\n",
      "619504.txt\n",
      "098137.txt\n",
      "874234.txt\n",
      "476929.txt\n",
      "254654.txt\n",
      "972817.txt\n",
      "183249.txt\n",
      "231788.txt\n",
      "238807.txt\n",
      "775176.txt\n",
      "332055.txt\n",
      "971266.txt\n",
      "641342.txt\n",
      "377648.txt\n",
      "665641.txt\n",
      "120842.txt\n",
      "435728.txt\n",
      "860507.txt\n",
      "845049.txt\n",
      "103662.txt\n",
      "989375.txt\n",
      "949525.txt\n",
      "622807.txt\n",
      "441279.txt\n",
      "252484.txt\n",
      "595082.txt\n",
      "942502.txt\n",
      "544418.txt\n",
      "242071.txt\n",
      "696203.txt\n",
      "470997.txt\n",
      "858079.txt\n",
      "299971.txt\n",
      "474312.txt\n",
      "202815.txt\n",
      "192361.txt\n",
      "036087.txt\n",
      "208836.txt\n",
      "057270.txt\n",
      "414940.txt\n",
      "685551.txt\n",
      "877276.txt\n",
      "183839.txt\n",
      "681194.txt\n",
      "268115.txt\n",
      "850395.txt\n",
      "841311.txt\n",
      "318124.txt\n",
      "502298.txt\n",
      "870820.txt\n",
      "886554.txt\n",
      "874723.txt\n",
      "785247.txt\n",
      "743951.txt\n",
      "893121.txt\n",
      "493592.txt\n",
      "043302.txt\n",
      "512901.txt\n",
      "455422.txt\n",
      "405792.txt\n",
      "223561.txt\n",
      "711048.txt\n",
      "986818.txt\n",
      "919305.txt\n",
      "673023.txt\n",
      "195915.txt\n",
      "113918.txt\n",
      "829948.txt\n",
      "407495.txt\n",
      "799448.txt\n",
      "455591.txt\n",
      "046533.txt\n",
      "895838.txt\n",
      "203749.txt\n",
      "897513.txt\n",
      "023903.txt\n",
      "639854.txt\n",
      "767954.txt\n",
      "483260.txt\n",
      "305657.txt\n",
      "113973.txt\n",
      "569665.txt\n",
      "811640.txt\n",
      "627996.txt\n",
      "555691.txt\n",
      "126531.txt\n",
      "434239.txt\n",
      "812997.txt\n",
      "012540.txt\n",
      "457171.txt\n",
      "809767.txt\n",
      "113083.txt\n",
      "168190.txt\n",
      "105218.txt\n",
      "426930.txt\n",
      "839383.txt\n",
      "318610.txt\n",
      "727580.txt\n",
      "966169.txt\n",
      "633699.txt\n",
      "933699.txt\n",
      "254907.txt\n",
      "277257.txt\n",
      "105289.txt\n",
      "618947.txt\n",
      "788422.txt\n",
      "598850.txt\n",
      "218724.txt\n",
      "855788.txt\n",
      "414896.txt\n",
      "086361.txt\n",
      "259720.txt\n",
      "864746.txt\n",
      "213015.txt\n",
      "706951.txt\n",
      "790699.txt\n",
      "556965.txt\n",
      "843911.txt\n",
      "824452.txt\n",
      "558623.txt\n",
      "299517.txt\n",
      "204151.txt\n",
      "864178.txt\n",
      "001410.txt\n",
      "268784.txt\n",
      "413917.txt\n",
      "258819.txt\n",
      "694433.txt\n",
      "376424.txt\n",
      "198564.txt\n",
      "228068.txt\n",
      "417050.txt\n",
      "453058.txt\n",
      "182986.txt\n",
      "237570.txt\n",
      "680981.txt\n",
      "865546.txt\n",
      "367559.txt\n",
      "122687.txt\n",
      "783680.txt\n",
      "626200.txt\n",
      "953943.txt\n",
      "009102.txt\n",
      "882919.txt\n",
      "984198.txt\n",
      "867571.txt\n",
      "889641.txt\n",
      "223919.txt\n",
      "748056.txt\n",
      "577611.txt\n",
      "749540.txt\n",
      "536080.txt\n",
      "351770.txt\n",
      "968708.txt\n",
      "311090.txt\n",
      "239129.txt\n",
      "312237.txt\n",
      "053569.txt\n",
      "678528.txt\n",
      "767429.txt\n",
      "095729.txt\n",
      "452488.txt\n",
      "798915.txt\n",
      "426191.txt\n",
      "067336.txt\n",
      "949017.txt\n",
      "987573.txt\n",
      "843785.txt\n",
      "We are the champions, my friends,\n",
      "And we'll keep on fighting 'til the end.\n",
      "We are the champions.\n",
      "We are the champions.\n",
      "No time for losers\n",
      "'Cause we are the champions of the world.\n",
      "We are the champions, my friends,\n",
      "And we'll keep on fighting 'til the end.\n",
      "We are the champions.\n",
      "We are the champions.\n",
      "No time for losers\n",
      "'Cause we are the champions of the world.\n"
     ]
    }
   ],
   "source": [
    "with open ('dataset_3378_3.txt', 'r') as inf:\n",
    "    u=inf.readline().strip()\n",
    "print(u)\n",
    "import requests   \n",
    "r=requests.get(u)\n",
    "while not r.text.startswith('We'):\n",
    "    r=requests.get('https://stepik.org/media/attachments/course67/3.6.3/' + r.text)\n",
    "    print(r.text)\n",
    "    continue\n",
    "else:\n",
    "    print(r.text)\n",
    "    with open ('file.txt', 'w') as ouf:\n",
    "        ouf.write(str(r.text))"
   ]
  },
  {
   "cell_type": "code",
   "execution_count": 6,
   "id": "6914af95-2f2e-42e4-911b-be977f868262",
   "metadata": {},
   "outputs": [
    {
     "name": "stdin",
     "output_type": "stream",
     "text": [
      " abcd\n",
      " *d%#\n",
      " abacabadaba\n",
      " #*%*d*%\n"
     ]
    },
    {
     "name": "stdout",
     "output_type": "stream",
     "text": [
      "*d*%*d*#*d*\n",
      "dacabac\n"
     ]
    }
   ],
   "source": [
    "# abcd\n",
    "# *d%#\n",
    "# abacabadaba\n",
    "# #*%*d*%\n",
    "a=input()\n",
    "b=input()\n",
    "c=input()\n",
    "d=input()\n",
    "cc=''\n",
    "dd=''\n",
    "k={}\n",
    "for i in range(len(a)):\n",
    "    k[a[i]]=b[i]\n",
    "for i in c:\n",
    "    if i in k.keys():\n",
    "        cc+=k[i]\n",
    "print(cc)\n",
    "k.clear()\n",
    "for i in range(len(a)):\n",
    "    k[b[i]]=a[i]\n",
    "for i in d:\n",
    "    if i in k.keys():\n",
    "        dd+=k[i]\n",
    "print(dd)"
   ]
  },
  {
   "cell_type": "code",
   "execution_count": 48,
   "id": "1cc7f718-8922-49b6-b20b-1d758e0681a5",
   "metadata": {},
   "outputs": [
    {
     "name": "stdin",
     "output_type": "stream",
     "text": [
      " 4\n",
      " champions\n",
      " we\n",
      " are\n",
      " Stepik\n",
      " 3\n",
      " We are the champignons\n",
      " We Are The Champions\n",
      " Stepic\n"
     ]
    },
    {
     "name": "stdout",
     "output_type": "stream",
     "text": [
      "champignons\n",
      "the\n",
      "stepic\n"
     ]
    }
   ],
   "source": [
    "# 4\n",
    "# champions\n",
    "# we\n",
    "# are\n",
    "# Stepik\n",
    "# 3\n",
    "# We are the champignons\n",
    "# We Are The Champions\n",
    "# Stepic\n",
    "a=int(input())\n",
    "aa=set()\n",
    "bb=set()\n",
    "for i in range(a):\n",
    "    aa.add(input().lower())\n",
    "b=int(input())\n",
    "for i in range(b):\n",
    "    bb|={i for i in input().lower().split()}\n",
    "for i in bb:\n",
    "    if i not in aa:\n",
    "        print(i)"
   ]
  },
  {
   "cell_type": "code",
   "execution_count": 61,
   "id": "518d47f8-5d11-47c7-a88b-4378effef33d",
   "metadata": {},
   "outputs": [
    {
     "name": "stdin",
     "output_type": "stream",
     "text": [
      " ff fff gg\n"
     ]
    },
    {
     "name": "stdout",
     "output_type": "stream",
     "text": [
      "{'ff', 'fff', 'gg'}\n"
     ]
    }
   ],
   "source": [
    "aa=set()\n",
    "bb=set()\n",
    "aa|={i for i in input().lower().split()}\n",
    "print(aa)"
   ]
  },
  {
   "cell_type": "code",
   "execution_count": 63,
   "id": "eb98fd94-52dc-487f-bfb2-440ea0657907",
   "metadata": {},
   "outputs": [
    {
     "name": "stdout",
     "output_type": "stream",
     "text": [
      "{'север': 1, 'юг': -1, 'восток': 1, 'запад': -1}\n"
     ]
    }
   ],
   "source": [
    "# 4\n",
    "# север 10\n",
    "# запад 20\n",
    "# юг 30\n",
    "# восток 40\n",
    "b=[]\n",
    "a=int(input())\n",
    "x=[]\n",
    "y=[]\n",
    "xx=0\n",
    "yy=0\n",
    "for i in range(a):\n",
    "    b+=input().split()\n",
    "for i in range(0, len(b), 2):\n",
    "    x+=b[i].split()\n",
    "for i in range(1, len(b), 2):\n",
    "    y.append(int(b[i]))\n",
    "for i in range(len(x)):\n",
    "    if x[i]=='север':\n",
    "        yy+=y[i]\n",
    "    elif x[i]=='юг':\n",
    "        yy+=y[i]*(-1)   \n",
    "    elif x[i]=='восток':\n",
    "        xx+=y[i]\n",
    "    else:\n",
    "        xx+=y[i]*(-1)\n",
    "print(xx, yy)"
   ]
  },
  {
   "cell_type": "code",
   "execution_count": 76,
   "id": "8e270bb6-5cad-4172-9f96-4b6d1a30df87",
   "metadata": {},
   "outputs": [],
   "source": [
    "text=[]\n",
    "clas=[]\n",
    "rost=[]\n",
    "d={1:0,2:0,3:0,4:0,5:0,6:0,7:0,8:0,9:0,10:0,11:0}\n",
    "cnt={1:0,2:0,3:0,4:0,5:0,6:0,7:0,8:0,9:0,10:0,11:0}\n",
    "with open ('dataset_3380_5 (1).txt', 'r') as inf:\n",
    "    for line in inf:\n",
    "        text+=line.strip().split()\n",
    "for i in range(0, len(text), 3):\n",
    "    clas.append(int(text[i]))\n",
    "for i in range(2, len(text), 3):\n",
    "    rost.append(int(text[i]))\n",
    "for i in range(len(clas)):\n",
    "    d[clas[i]]+=(rost[i])\n",
    "    cnt[clas[i]]+=1\n",
    "rez={x:float(d[x])/cnt[x] for x in d}\n",
    "for i, j in rez.items():\n",
    "    with open ('file.txt', 'a') as ouf:\n",
    "        ouf.write(str(i) + ' ' + str(j) + '\\n')"
   ]
  },
  {
   "cell_type": "code",
   "execution_count": 81,
   "id": "0ccb5f48-66b5-4a12-a6a7-63cf7e0a421a",
   "metadata": {},
   "outputs": [
    {
     "name": "stdin",
     "output_type": "stream",
     "text": [
      " 5\n",
      " Спартак;9;Зенит;10\n",
      " Спартак;9;Зенит;10\n",
      " Спартак;9;Зенит;10\n",
      " Спартак;9;Зенит;10\n",
      " Спартак;9;Зенит;10\n"
     ]
    },
    {
     "name": "stdout",
     "output_type": "stream",
     "text": [
      "{'Спартак': 5, 'Зенит': 5}\n",
      "['lose', 'win', 'lose', 'win', 'lose', 'win', 'lose', 'win', 'lose', 'win']\n"
     ]
    }
   ],
   "source": [
    "a=int(input()) # не работает\n",
    "match=[]\n",
    "comm=[]\n",
    "score=[]\n",
    "score1=[]\n",
    "score2=[]\n",
    "win=[]\n",
    "rez = {}\n",
    "cs=[]\n",
    "for i in range(a):\n",
    "    b=input().split(';')\n",
    "    match+=b\n",
    "for i in range(0, len(match), 2):\n",
    "    comm.append(str(match[i]))\n",
    "for i in range(1, len(match), 2):\n",
    "    score.append(int(match[i]))\n",
    "for i in range(0, len(score), 2):\n",
    "    score1.append(int(score[i]))\n",
    "for i in range(1, len(score), 2):\n",
    "    score2.append(int(score[i]))\n",
    "for i in range(len(score1)):\n",
    "    if score1[i]<score2[i]:\n",
    "        win+='lose'.split()\n",
    "        win+='win'.split()\n",
    "    elif score1[i]>score2[i]:\n",
    "        win+='win'.split()\n",
    "        win+='lose'.split()\n",
    "    else:\n",
    "        win+='draw'.split()\n",
    "        win+='draw'.split()\n",
    "for i in range(len(comm)):\n",
    "    cs+=comm[i].split()\n",
    "    cs+=win[i].split()\n",
    "for i in range(len(comm)):\n",
    "    rez[comm[i]]=(comm.count(comm[i]))\n",
    "print(cs)\n",
    "print(rez)\n",
    "    "
   ]
  },
  {
   "cell_type": "code",
   "execution_count": null,
   "id": "7426d556-9fd5-4f22-99b6-86d7f87f49b8",
   "metadata": {},
   "outputs": [],
   "source": [
    "a=int(input()) # не работает\n",
    "match=[]\n",
    "comm=[]\n",
    "score=[]\n",
    "win=[]\n",
    "rez = {str(i):[]*a for i in range(a)}\n",
    "for i in range(a):\n",
    "    b=input().split(';')\n",
    "    match+=[b]\n",
    "for i in range(0, len(match), 1):\n",
    "    for j in range(0, len(match), 1):\n",
    "        if int(match[i][1]) > int(match[i][3]):\n",
    "            win+='lose'.split()\n",
    "        else:\n",
    "            win+='win'.split()\n",
    "print(win)"
   ]
  },
  {
   "cell_type": "code",
   "execution_count": 34,
   "id": "0fdd7a6d-c7bc-488c-b99d-60fca30c8d99",
   "metadata": {},
   "outputs": [],
   "source": [
    "from pylab import *"
   ]
  },
  {
   "cell_type": "code",
   "execution_count": null,
   "id": "d6f5926b-5e66-4b53-967e-97119dc1386e",
   "metadata": {},
   "outputs": [],
   "source": [
    "! pip install matplotlib\n",
    "! pip install numpy"
   ]
  },
  {
   "cell_type": "code",
   "execution_count": 35,
   "id": "e450d4e9-6af6-4bf6-b98a-4a9af597a50c",
   "metadata": {},
   "outputs": [
    {
     "name": "stdout",
     "output_type": "stream",
     "text": [
      "[0.         0.55555556 1.11111111 1.66666667 2.22222222 2.77777778\n",
      " 3.33333333 3.88888889 4.44444444 5.        ]\n",
      "[ 0.          0.30864198  1.2345679   2.77777778  4.9382716   7.71604938\n",
      " 11.11111111 15.12345679 19.75308642 25.        ]\n"
     ]
    }
   ],
   "source": [
    "from pylab import *\n",
    "x=linspace(0, 5, 10)\n",
    "y=x**2\n",
    "print(x)\n",
    "print(y)"
   ]
  },
  {
   "cell_type": "code",
   "execution_count": 43,
   "id": "e2264d2a-7033-47a8-ac8a-88a57a36021d",
   "metadata": {},
   "outputs": [
    {
     "data": {
      "image/png": "[encoded data removed]",
      "text/plain": [
       "<Figure size 640x480 with 1 Axes>"
      ]
     },
     "metadata": {},
     "output_type": "display_data"
    }
   ],
   "source": [
    "from pylab import *\n",
    "x=linspace(0, 5, 10)\n",
    "y=x ** 2\n",
    "figure()\n",
    "plot(x, y, 'r')\n",
    "xlabel('x')\n",
    "ylabel('y')\n",
    "title('title')\n",
    "show()"
   ]
  },
  {
   "cell_type": "code",
   "execution_count": 44,
   "id": "bfc38a81-d11b-46e4-96d9-e09db4f240e2",
   "metadata": {},
   "outputs": [
    {
     "data": {
      "image/png": "[encoded data removed]",
      "text/plain": [
       "<Figure size 640x480 with 1 Axes>"
      ]
     },
     "metadata": {},
     "output_type": "display_data"
    }
   ],
   "source": [
    "fig=plt.figure()\n",
    "axes=fig.add_axes([0.1, 0.1, 0.8, 0.8])\n",
    "axes.plot(x, y, 'r')\n",
    "\n",
    "axes.set_xlabel('x')\n",
    "axes.set_ylabel('y')\n",
    "axes.set_title('title')\n",
    "\n",
    "show()"
   ]
  },
  {
   "cell_type": "code",
   "execution_count": 45,
   "id": "086005c7-c3a1-4673-bf9a-b3a407491761",
   "metadata": {},
   "outputs": [
    {
     "data": {
      "image/png": "[encoded data removed]",
      "text/plain": [
       "<Figure size 640x480 with 2 Axes>"
      ]
     },
     "metadata": {},
     "output_type": "display_data"
    }
   ],
   "source": [
    "fig=plt.figure()\n",
    "axes1=fig.add_axes([0.1, 0.1, 0.8, 0.8])\n",
    "axes2=fig.add_axes([0.2, 0.5, 0.4, 0.3])\n",
    "\n",
    "axes1.plot(x, y, 'r')\n",
    "axes1.set_xlabel('x')\n",
    "axes1.set_ylabel('y')\n",
    "axes1.set_title('title')\n",
    "\n",
    "axes2.plot(x, y, 'g')\n",
    "axes2.set_xlabel('x')\n",
    "axes2.set_ylabel('y')\n",
    "axes2.set_title('isert title')\n",
    "show()"
   ]
  },
  {
   "cell_type": "code",
   "execution_count": 50,
   "id": "0b9e2b6d-e908-4832-8aea-e34ef7de3506",
   "metadata": {},
   "outputs": [
    {
     "data": {
      "image/png": "[encoded data removed]",
      "text/plain": [
       "<Figure size 640x480 with 2 Axes>"
      ]
     },
     "metadata": {},
     "output_type": "display_data"
    }
   ],
   "source": [
    "fig, axes=plt.subplots(nrows=1, ncols=2)\n",
    "\n",
    "for ax in axes:\n",
    "    ax.plot(x, y, 'r')\n",
    "    ax.set_xlabel('x')\n",
    "    ax.set_ylabel('y')\n",
    "    ax.set_title('title')\n",
    "fig.tight_layout()\n",
    "show()"
   ]
  },
  {
   "cell_type": "code",
   "execution_count": 53,
   "id": "1048e607-f0d0-4507-ad79-bf072c4f3333",
   "metadata": {},
   "outputs": [
    {
     "data": {
      "image/png": "[encoded data removed]",
      "text/plain": [
       "<Figure size 1200x300 with 1 Axes>"
      ]
     },
     "metadata": {},
     "output_type": "display_data"
    }
   ],
   "source": [
    "fig, axes=plt.subplots(figsize=(12, 3))\n",
    "\n",
    "axes.plot(x, y, 'r')\n",
    "axes.set_xlabel('x')\n",
    "axes.set_ylabel('y')\n",
    "axes.set_title('title')\n",
    "\n",
    "show()"
   ]
  },
  {
   "cell_type": "code",
   "execution_count": 54,
   "id": "57292260-089f-49e3-84ae-5e4021c7ba48",
   "metadata": {},
   "outputs": [
    {
     "data": {
      "image/png": "[encoded data removed]",
      "text/plain": [
       "<Figure size 640x480 with 1 Axes>"
      ]
     },
     "metadata": {},
     "output_type": "display_data"
    }
   ],
   "source": [
    "fig, ax=plt.subplots()\n",
    "\n",
    "ax.plot(x, x**2, label='y=x**2')\n",
    "ax.plot(x, x**3, label='y=x**3')\n",
    "ax.legend(loc=2)\n",
    "ax.set_xlabel('x')\n",
    "ax.set_ylabel('y')\n",
    "ax.set_title('title')\n",
    "\n",
    "show()"
   ]
  },
  {
   "cell_type": "code",
   "execution_count": 68,
   "id": "1bf40bb4-b38b-49a8-9207-062aba3ba40d",
   "metadata": {},
   "outputs": [
    {
     "data": {
      "image/png": "[encoded data removed]",
      "text/plain": [
       "<Figure size 1200x400 with 2 Axes>"
      ]
     },
     "metadata": {},
     "output_type": "display_data"
    }
   ],
   "source": [
    "from pylab import *\n",
    "import numpy\n",
    "\n",
    "n=numpy.random.rand(100)\n",
    "fig, axes=plt.subplots(1, 2, figsize=(12, 4))\n",
    "\n",
    "axes[0].hist(n)\n",
    "axes[0].set_title('Default histogram')\n",
    "axes[0].set_xlim(min(n), max(n))\n",
    "\n",
    "axes[1].hist(n, cumulative=True, bins=50)\n",
    "axes[1].set_title('Cumulative detailed histogram')\n",
    "axes[1].set_xlim(min(n), max(n))\n",
    "\n",
    "show()"
   ]
  },
  {
   "cell_type": "code",
   "execution_count": 77,
   "id": "1090f3b5-5591-49c5-9636-ccfb0e9fbbaa",
   "metadata": {},
   "outputs": [
    {
     "name": "stdout",
     "output_type": "stream",
     "text": [
      "[2 3 4]\n"
     ]
    },
    {
     "data": {
      "text/plain": [
       "(3,)"
      ]
     },
     "execution_count": 77,
     "metadata": {},
     "output_type": "execute_result"
    }
   ],
   "source": [
    "from numpy import *\n",
    "a=array([2, 3, 4])\n",
    "print(a)\n",
    "a.ndim #размерность массива (одномерный ,двумерный)\n",
    "a.shape размер массива(число строкб столбцов и т.д.)"
   ]
  },
  {
   "cell_type": "code",
   "execution_count": 81,
   "id": "6b4bb559-64fa-45d3-8916-531e4d8da478",
   "metadata": {},
   "outputs": [
    {
     "name": "stdout",
     "output_type": "stream",
     "text": [
      "[[1.5 2.  3. ]\n",
      " [4.  5.  6. ]]\n"
     ]
    },
    {
     "data": {
      "text/plain": [
       "6"
      ]
     },
     "execution_count": 81,
     "metadata": {},
     "output_type": "execute_result"
    }
   ],
   "source": [
    "from numpy import *\n",
    "b=array([(1.5, 2, 3), (4, 5, 6)])\n",
    "print(b)\n",
    "b.size"
   ]
  },
  {
   "cell_type": "code",
   "execution_count": 83,
   "id": "24e581f0-6502-44f8-b22d-2408168a6454",
   "metadata": {},
   "outputs": [
    {
     "data": {
      "text/plain": [
       "array([[0., 0.],\n",
       "       [0., 0.],\n",
       "       [0., 0.]])"
      ]
     },
     "execution_count": 83,
     "metadata": {},
     "output_type": "execute_result"
    }
   ],
   "source": [
    "from numpy import *\n",
    "z=zeros((3,2))\n",
    "z"
   ]
  },
  {
   "cell_type": "code",
   "execution_count": 84,
   "id": "f30795df-bb09-4e34-b45b-f52e9f0ba2ca",
   "metadata": {},
   "outputs": [
    {
     "data": {
      "text/plain": [
       "array([10, 15, 20, 25])"
      ]
     },
     "execution_count": 84,
     "metadata": {},
     "output_type": "execute_result"
    }
   ],
   "source": [
    "from numpy import *\n",
    "arange(10, 30, 5) #аналогично функции range"
   ]
  },
  {
   "cell_type": "code",
   "execution_count": 86,
   "id": "75201ac3-7a53-4ff3-aaee-9fad0ada497d",
   "metadata": {},
   "outputs": [
    {
     "data": {
      "text/plain": [
       "array([0.  , 0.25, 0.5 , 0.75, 1.  , 1.25, 1.5 , 1.75, 2.  ])"
      ]
     },
     "execution_count": 86,
     "metadata": {},
     "output_type": "execute_result"
    }
   ],
   "source": [
    "from numpy import *\n",
    "linspace(0, 2, 9)"
   ]
  },
  {
   "cell_type": "code",
   "execution_count": 87,
   "id": "0b8a5df1-322b-4f3e-96e9-8a1bcd053202",
   "metadata": {},
   "outputs": [
    {
     "name": "stdout",
     "output_type": "stream",
     "text": [
      "[[ 0  1  2]\n",
      " [ 3  4  5]\n",
      " [ 6  7  8]\n",
      " [ 9 10 11]]\n"
     ]
    }
   ],
   "source": [
    "from numpy import *\n",
    "b=arange(12).reshape(4, 3)\n",
    "print(b)"
   ]
  },
  {
   "cell_type": "code",
   "execution_count": 91,
   "id": "169a7906-85ca-4cdc-a344-0483f1c4771d",
   "metadata": {},
   "outputs": [
    {
     "name": "stdout",
     "output_type": "stream",
     "text": [
      "[10 12 30]\n",
      "[0 1 2]\n",
      "[10 13 32]\n",
      "[10 11 28]\n"
     ]
    }
   ],
   "source": [
    "from numpy import *\n",
    "a=array([10, 12, 30])\n",
    "b=arange(3)\n",
    "print(a)\n",
    "print(b)\n",
    "print(a+b)\n",
    "print(a-b)"
   ]
  },
  {
   "cell_type": "code",
   "execution_count": 94,
   "id": "92dbb5e0-61a9-451c-81b4-6f0a9a8bfafc",
   "metadata": {},
   "outputs": [
    {
     "name": "stdout",
     "output_type": "stream",
     "text": [
      "[10 20 30]\n",
      "[100 400 900]\n"
     ]
    }
   ],
   "source": [
    "from numpy import *\n",
    "a=array([10, 20, 30])\n",
    "print(a)\n",
    "print(a**2)"
   ]
  },
  {
   "cell_type": "code",
   "execution_count": 95,
   "id": "606329f9-c054-4615-8021-91f8739759d0",
   "metadata": {},
   "outputs": [
    {
     "data": {
      "text/plain": [
       "array([ True, False, False])"
      ]
     },
     "execution_count": 95,
     "metadata": {},
     "output_type": "execute_result"
    }
   ],
   "source": [
    "from numpy import *\n",
    "a=array([10, 20, 30])\n",
    "a<20"
   ]
  },
  {
   "cell_type": "code",
   "execution_count": 1,
   "id": "3d82f244-fc1c-4335-aae1-3b20cc3c53a6",
   "metadata": {},
   "outputs": [
    {
     "name": "stdout",
     "output_type": "stream",
     "text": [
      "The Zen of Python, by Tim Peters\n",
      "\n",
      "Beautiful is better than ugly.\n",
      "Explicit is better than implicit.\n",
      "Simple is better than complex.\n",
      "Complex is better than complicated.\n",
      "Flat is better than nested.\n",
      "Sparse is better than dense.\n",
      "Readability counts.\n",
      "Special cases aren't special enough to break the rules.\n",
      "Although practicality beats purity.\n",
      "Errors should never pass silently.\n",
      "Unless explicitly silenced.\n",
      "In the face of ambiguity, refuse the temptation to guess.\n",
      "There should be one-- and preferably only one --obvious way to do it.\n",
      "Although that way may not be obvious at first unless you're Dutch.\n",
      "Now is better than never.\n",
      "Although never is often better than *right* now.\n",
      "If the implementation is hard to explain, it's a bad idea.\n",
      "If the implementation is easy to explain, it may be a good idea.\n",
      "Namespaces are one honking great idea -- let's do more of those!\n"
     ]
    }
   ],
   "source": [
    "import this"
   ]
  },
  {
   "cell_type": "code",
   "execution_count": 28,
   "id": "916637de-c545-4392-ad09-d06344079bc0",
   "metadata": {},
   "outputs": [
    {
     "name": "stdout",
     "output_type": "stream",
     "text": [
      "0\n"
     ]
    }
   ],
   "source": [
    "# n - количество цифр в числе\n",
    "# i - цифра по порядку\n",
    "num=1234\n",
    "n=(num // 10 ** (4 - 1)) % 10\n",
    "print(n)"
   ]
  },
  {
   "cell_type": "code",
   "execution_count": 33,
   "id": "c0d910fc-0167-4cde-95c9-28f1d4f695e1",
   "metadata": {},
   "outputs": [
    {
     "name": "stdin",
     "output_type": "stream",
     "text": [
      " 4\n",
      " 3\n",
      " 2\n",
      " 1\n"
     ]
    },
    {
     "name": "stdout",
     "output_type": "stream",
     "text": [
      "2 1 4 3\n"
     ]
    }
   ],
   "source": [
    "a, b, c, d = int(input()), int(input()), int(input()), int(input())\n",
    "aa, bb, cc, dd = 0, 0, 0, 0\n",
    "if a>c:\n",
    "    aa+=c\n",
    "    bb+=d\n",
    "    cc+=a\n",
    "    dd+=b\n",
    "    a=aa\n",
    "    b=bb\n",
    "    c=cc\n",
    "    d=dd\n",
    "print(a, b, c, d)"
   ]
  },
  {
   "cell_type": "code",
   "execution_count": 31,
   "id": "3ad413a2-f3e6-4ccb-b4e0-edf747650712",
   "metadata": {},
   "outputs": [
    {
     "name": "stdin",
     "output_type": "stream",
     "text": [
      " 4\n",
      " 3\n",
      " 2\n",
      " 1\n"
     ]
    },
    {
     "name": "stdout",
     "output_type": "stream",
     "text": [
      "2 1 4 3\n"
     ]
    }
   ],
   "source": [
    "a, b, c, d = int(input()), int(input()), int(input()), int(input())\n",
    "if a>c:\n",
    "    a, b, c, d = c, d, a, b\n",
    "print(a, b, c, d)"
   ]
  },
  {
   "cell_type": "code",
   "execution_count": 34,
   "id": "cda571bd-c82c-4e2e-999d-e4a154a61dc1",
   "metadata": {},
   "outputs": [
    {
     "name": "stdin",
     "output_type": "stream",
     "text": [
      " -50\n",
      " 40\n",
      " -100\n",
      " -50\n"
     ]
    },
    {
     "name": "stdout",
     "output_type": "stream",
     "text": [
      "-50\n"
     ]
    }
   ],
   "source": [
    "a, b, c, d = int(input()), int(input()), int(input()), int(input())\n",
    "aa, bb, cc, dd = 0, 0, 0, 0\n",
    "if a>c:\n",
    "    aa+=c\n",
    "    bb+=d\n",
    "    cc+=a\n",
    "    dd+=b\n",
    "    a=aa\n",
    "    b=bb\n",
    "    c=cc\n",
    "    d=dd\n",
    "if c>b:\n",
    "    print('пустое множество')\n",
    "elif b>c and b<=d:\n",
    "    print(c, b)\n",
    "elif b>c and b>d:\n",
    "    print(c, d)\n",
    "elif b>c and a>c:\n",
    "    print(a, b)    \n",
    "elif b==c:\n",
    "    print(b)"
   ]
  },
  {
   "cell_type": "code",
   "execution_count": 1,
   "id": "75ddab43-5321-4f9e-a97e-eba65c15f192",
   "metadata": {},
   "outputs": [
    {
     "name": "stdin",
     "output_type": "stream",
     "text": [
      " 22\n"
     ]
    },
    {
     "name": "stdout",
     "output_type": "stream",
     "text": [
      "YES\n"
     ]
    }
   ],
   "source": [
    "a = int(input())\n",
    "if a%2!=0:\n",
    "    print('YES')\n",
    "elif a%2==0 and 2<=a<=5:\n",
    "    print('NO')\n",
    "elif a%2==0 and 6<=a<=20:\n",
    "    print('YES')\n",
    "elif a%2==0 and a>20:\n",
    "    print('YES')"
   ]
  },
  {
   "cell_type": "code",
   "execution_count": 2,
   "id": "39f40253-6dc5-43ed-b7a6-2e8e97478d83",
   "metadata": {},
   "outputs": [
    {
     "name": "stdout",
     "output_type": "stream",
     "text": [
      "1\n"
     ]
    }
   ],
   "source": [
    "x1=1\n",
    "x2=2\n",
    "print(abs(x1-x2))"
   ]
  },
  {
   "cell_type": "code",
   "execution_count": 1,
   "id": "55d622c0-a0c9-4ad4-9cad-37f7ce78c267",
   "metadata": {},
   "outputs": [
    {
     "name": "stdout",
     "output_type": "stream",
     "text": [
      "4\n"
     ]
    }
   ],
   "source": [
    "a=3384390.4339\n",
    "a=a*10\n",
    "print(int(a%10))"
   ]
  },
  {
   "cell_type": "code",
   "execution_count": 8,
   "id": "86c50981-0b4b-4f6e-af97-3d8030a6e82b",
   "metadata": {},
   "outputs": [
    {
     "name": "stdout",
     "output_type": "stream",
     "text": [
      "0.4339000000618398\n"
     ]
    }
   ],
   "source": [
    "a=3384390.4339\n",
    "print((a)%int(a))"
   ]
  },
  {
   "cell_type": "code",
   "execution_count": 8,
   "id": "76f91d61-9619-4269-904b-a250ca6541ea",
   "metadata": {},
   "outputs": [
    {
     "name": "stdout",
     "output_type": "stream",
     "text": [
      "1361015"
     ]
    }
   ],
   "source": [
    "total = 0\n",
    "for i in range(1, 6):\n",
    "    total += i\n",
    "    print(total, end=\"\")"
   ]
  },
  {
   "cell_type": "code",
   "execution_count": 3,
   "id": "f41434f9-83d3-41f7-8612-e7f13fb87c5b",
   "metadata": {},
   "outputs": [
    {
     "name": "stdin",
     "output_type": "stream",
     "text": [
      " 10\n"
     ]
    },
    {
     "name": "stdout",
     "output_type": "stream",
     "text": [
      "1 1 2 3 5 8 13 21 34 55 "
     ]
    }
   ],
   "source": [
    "# Последовательность Фибоначчи\n",
    "a = int(input())\n",
    "s=1\n",
    "p=0\n",
    "n=1\n",
    "for i in range(a):\n",
    "    print(s, end=' ')\n",
    "    s+=p\n",
    "    p, n = n, s"
   ]
  },
  {
   "cell_type": "code",
   "execution_count": 24,
   "id": "2924fed9-d42b-40b7-99bb-c6f092a6f707",
   "metadata": {},
   "outputs": [
    {
     "name": "stdin",
     "output_type": "stream",
     "text": [
      " 1457984\n"
     ]
    },
    {
     "name": "stdout",
     "output_type": "stream",
     "text": [
      "58324\n"
     ]
    }
   ],
   "source": [
    "# Вычислить минимальное количество монет номиналом 25, 10, 5, 1, которые в сумме дают указанное число\n",
    "g = int(input())\n",
    "cnt = 0\n",
    "while g!=0:\n",
    "    if g>=25:\n",
    "        while g>=25:\n",
    "            g-=25\n",
    "            cnt+=1\n",
    "    if g>=10:\n",
    "        while g>=10:\n",
    "            g-=10\n",
    "            cnt+=1\n",
    "    if g>=5:\n",
    "        while g>=5:\n",
    "            g-=5\n",
    "            cnt+=1\n",
    "    if g>=1:\n",
    "        while g>=1:\n",
    "            g-=1\n",
    "            cnt+=1  \n",
    "print(cnt)"
   ]
  },
  {
   "cell_type": "code",
   "execution_count": 26,
   "id": "813c1665-7e36-4a41-a0fd-7808b5f505c1",
   "metadata": {},
   "outputs": [
    {
     "name": "stdout",
     "output_type": "stream",
     "text": [
      "5\n"
     ]
    }
   ],
   "source": [
    "num = 123456789\n",
    "total = 0\n",
    "while num != 0:\n",
    "    last_digit = num % 10\n",
    "    if last_digit > 4:\n",
    "        total += 1\n",
    "\n",
    "    num = num // 10\n",
    "\n",
    "print(total)"
   ]
  },
  {
   "cell_type": "code",
   "execution_count": 4,
   "id": "b76ccfe1-2731-48c3-9595-de2c6a793d8c",
   "metadata": {},
   "outputs": [
    {
     "name": "stdout",
     "output_type": "stream",
     "text": [
      "25\n"
     ]
    }
   ],
   "source": [
    "result = 0\n",
    "for i in range(10):\n",
    "    if i % 2 == 0:\n",
    "        continue\n",
    "    result += i\n",
    "\n",
    "print(result)"
   ]
  },
  {
   "cell_type": "code",
   "execution_count": 46,
   "id": "7a5dc9e8-1e21-4c80-91cc-4cfe3de58ffd",
   "metadata": {},
   "outputs": [
    {
     "name": "stdin",
     "output_type": "stream",
     "text": [
      " 136\n"
     ]
    },
    {
     "name": "stdout",
     "output_type": "stream",
     "text": [
      "6\n"
     ]
    }
   ],
   "source": [
    "n = int(input())\n",
    "max_digit = 0\n",
    "flag = False\n",
    "while n > 0:\n",
    "    digit = n % 10\n",
    "    if digit % 3 == 0:\n",
    "        if digit == 0:\n",
    "            flag = True\n",
    "        if digit > max_digit:\n",
    "            max_digit = digit\n",
    "    n = n // 10\n",
    "if max_digit == 0 and flag == False:\n",
    "    print('NO')\n",
    "else:\n",
    "    print(max_digit)\n",
    "    "
   ]
  },
  {
   "cell_type": "code",
   "execution_count": 53,
   "id": "58f9c64b-7f41-4666-8f1f-fc481a2814c7",
   "metadata": {},
   "outputs": [
    {
     "name": "stdout",
     "output_type": "stream",
     "text": [
      "455667"
     ]
    }
   ],
   "source": [
    "n = int(input())\n",
    "n = n + 2\n",
    "for i in range(n-1, 1, -1):\n",
    "    for j in range(5):\n",
    "        print(n-i, end=' ')\n",
    "    print()"
   ]
  },
  {
   "cell_type": "code",
   "execution_count": 55,
   "id": "5c9789ce-c8dc-433a-b178-a77d2da9123b",
   "metadata": {},
   "outputs": [
    {
     "name": "stdin",
     "output_type": "stream",
     "text": [
      " 10\n"
     ]
    },
    {
     "name": "stdout",
     "output_type": "stream",
     "text": [
      "1 + 1 = 2\n",
      "1 + 2 = 3\n",
      "1 + 3 = 4\n",
      "1 + 4 = 5\n",
      "1 + 5 = 6\n",
      "1 + 6 = 7\n",
      "1 + 7 = 8\n",
      "1 + 8 = 9\n",
      "1 + 9 = 10\n",
      "\n",
      "2 + 1 = 3\n",
      "2 + 2 = 4\n",
      "2 + 3 = 5\n",
      "2 + 4 = 6\n",
      "2 + 5 = 7\n",
      "2 + 6 = 8\n",
      "2 + 7 = 9\n",
      "2 + 8 = 10\n",
      "2 + 9 = 11\n",
      "\n",
      "3 + 1 = 4\n",
      "3 + 2 = 5\n",
      "3 + 3 = 6\n",
      "3 + 4 = 7\n",
      "3 + 5 = 8\n",
      "3 + 6 = 9\n",
      "3 + 7 = 10\n",
      "3 + 8 = 11\n",
      "3 + 9 = 12\n",
      "\n",
      "4 + 1 = 5\n",
      "4 + 2 = 6\n",
      "4 + 3 = 7\n",
      "4 + 4 = 8\n",
      "4 + 5 = 9\n",
      "4 + 6 = 10\n",
      "4 + 7 = 11\n",
      "4 + 8 = 12\n",
      "4 + 9 = 13\n",
      "\n",
      "5 + 1 = 6\n",
      "5 + 2 = 7\n",
      "5 + 3 = 8\n",
      "5 + 4 = 9\n",
      "5 + 5 = 10\n",
      "5 + 6 = 11\n",
      "5 + 7 = 12\n",
      "5 + 8 = 13\n",
      "5 + 9 = 14\n",
      "\n",
      "6 + 1 = 7\n",
      "6 + 2 = 8\n",
      "6 + 3 = 9\n",
      "6 + 4 = 10\n",
      "6 + 5 = 11\n",
      "6 + 6 = 12\n",
      "6 + 7 = 13\n",
      "6 + 8 = 14\n",
      "6 + 9 = 15\n",
      "\n",
      "7 + 1 = 8\n",
      "7 + 2 = 9\n",
      "7 + 3 = 10\n",
      "7 + 4 = 11\n",
      "7 + 5 = 12\n",
      "7 + 6 = 13\n",
      "7 + 7 = 14\n",
      "7 + 8 = 15\n",
      "7 + 9 = 16\n",
      "\n",
      "8 + 1 = 9\n",
      "8 + 2 = 10\n",
      "8 + 3 = 11\n",
      "8 + 4 = 12\n",
      "8 + 5 = 13\n",
      "8 + 6 = 14\n",
      "8 + 7 = 15\n",
      "8 + 8 = 16\n",
      "8 + 9 = 17\n",
      "\n",
      "9 + 1 = 10\n",
      "9 + 2 = 11\n",
      "9 + 3 = 12\n",
      "9 + 4 = 13\n",
      "9 + 5 = 14\n",
      "9 + 6 = 15\n",
      "9 + 7 = 16\n",
      "9 + 8 = 17\n",
      "9 + 9 = 18\n",
      "\n",
      "10 + 1 = 11\n",
      "10 + 2 = 12\n",
      "10 + 3 = 13\n",
      "10 + 4 = 14\n",
      "10 + 5 = 15\n",
      "10 + 6 = 16\n",
      "10 + 7 = 17\n",
      "10 + 8 = 18\n",
      "10 + 9 = 19\n",
      "\n"
     ]
    }
   ],
   "source": [
    "# таблица сложения\n",
    "n = int(input())\n",
    "for i in range(1, n+1):\n",
    "    for j in range(1, 10):\n",
    "        print(i, '+', j, '=', i+j, end='\\n')\n",
    "    print()"
   ]
  },
  {
   "cell_type": "code",
   "execution_count": 107,
   "id": "d50b7a17-f1d4-450e-8ec4-45468bd4b020",
   "metadata": {},
   "outputs": [
    {
     "name": "stdin",
     "output_type": "stream",
     "text": [
      " 6\n"
     ]
    },
    {
     "name": "stdout",
     "output_type": "stream",
     "text": [
      "*\n",
      "**\n",
      "***\n",
      "****\n",
      "***\n",
      "**\n",
      "*\n"
     ]
    }
   ],
   "source": [
    "# треугольник\n",
    "n = int(input())\n",
    "for i in range(n//2+1):\n",
    "    for j in range(i+1):\n",
    "        print('*', end='')\n",
    "    print()\n",
    "for i in range(n//2, 0, -1):\n",
    "    for j in range(i):\n",
    "        print('*', end='')\n",
    "    print()"
   ]
  },
  {
   "cell_type": "code",
   "execution_count": 115,
   "id": "a8023b4d-402e-4963-8ce0-772a851c7ee8",
   "metadata": {},
   "outputs": [
    {
     "name": "stdout",
     "output_type": "stream",
     "text": [
      "1 9 90\n"
     ]
    }
   ],
   "source": [
    "# решение уравнения\n",
    "for n in range(1, 11):\n",
    "    for k in range(1, 21):\n",
    "        for m in range(1, 201):\n",
    "            if 10*n+5*k+0.5*m==100 and n+k+m==100:\n",
    "                print(n, k, m)"
   ]
  },
  {
   "cell_type": "code",
   "execution_count": 123,
   "id": "bc41cb8d-0041-4418-ac08-083bb17cf660",
   "metadata": {},
   "outputs": [
    {
     "name": "stdin",
     "output_type": "stream",
     "text": [
      " 10\n"
     ]
    },
    {
     "name": "stdout",
     "output_type": "stream",
     "text": [
      "1 \n",
      "2 3 \n",
      "4 5 6 \n",
      "7 8 9 10 \n",
      "11 12 13 14 15 \n",
      "16 17 18 19 20 21 \n",
      "22 23 24 25 26 27 28 \n",
      "29 30 31 32 33 34 35 36 \n",
      "37 38 39 40 41 42 43 44 45 \n",
      "46 47 48 49 50 51 52 53 54 55 \n"
     ]
    }
   ],
   "source": [
    "# треугольник из последовательных цифр\n",
    "n = int(input())\n",
    "cnt = 0\n",
    "for i in range(1, n + 1):\n",
    "    for j in range(i):\n",
    "        cnt += 1\n",
    "        print(cnt, end=' ')\n",
    "    print()"
   ]
  },
  {
   "cell_type": "code",
   "execution_count": 128,
   "id": "594c13f7-f654-4cc8-bd09-9776bf94d390",
   "metadata": {},
   "outputs": [
    {
     "name": "stdin",
     "output_type": "stream",
     "text": [
      " 7\n"
     ]
    },
    {
     "name": "stdout",
     "output_type": "stream",
     "text": [
      "1\n",
      "121\n",
      "12321\n",
      "1234321\n",
      "123454321\n",
      "12345654321\n",
      "1234567654321\n"
     ]
    }
   ],
   "source": [
    "n = int(input())\n",
    "for i in range(1, n + 1):\n",
    "    for j in range(1, i + 1):\n",
    "        print(j, end='')\n",
    "    for k in range(i - 1, 0, -1):\n",
    "        print(k, end='')\n",
    "    print()"
   ]
  },
  {
   "cell_type": "code",
   "execution_count": 7,
   "id": "5a94413c-e946-447f-9e75-5c7d92a66569",
   "metadata": {},
   "outputs": [
    {
     "data": {
      "text/plain": [
       "2"
      ]
     },
     "execution_count": 7,
     "metadata": {},
     "output_type": "execute_result"
    }
   ],
   "source": [
    "2%6"
   ]
  },
  {
   "cell_type": "code",
   "execution_count": 159,
   "id": "5e29d487-86c3-49f7-bd33-7d8c9aeae6ea",
   "metadata": {},
   "outputs": [
    {
     "name": "stdout",
     "output_type": "stream",
     "text": [
      "96 252\n"
     ]
    }
   ],
   "source": [
    "# Максимальный делитель и сумма делителей\n",
    "a = 1\n",
    "b = 10\n",
    "total = 0\n",
    "largest = 0\n",
    "cnt = 0\n",
    "for i in range(a, b + 1):\n",
    "    total = 0\n",
    "    for j in range(1, i + 1):\n",
    "        if i%j==0:\n",
    "            total += j\n",
    "            if total>=cnt and i>=largest:\n",
    "                cnt = total\n",
    "                largest = i\n",
    "print(largest, cnt)"
   ]
  },
  {
   "cell_type": "code",
   "execution_count": 160,
   "id": "b37ca937-cc6e-48f9-9200-4d65ff84f5b6",
   "metadata": {},
   "outputs": [
    {
     "name": "stdout",
     "output_type": "stream",
     "text": [
      "1+\n",
      "2++\n",
      "3++\n",
      "4+++\n",
      "5++\n"
     ]
    }
   ],
   "source": [
    "# + это количество делителей в диапазоне от 1 до n\n",
    "n = 5\n",
    "cnt = 0\n",
    "for i in range(1, n + 1):\n",
    "    cnt = 0\n",
    "    for j in range(1, i + 1):\n",
    "        if i%j==0:\n",
    "            cnt += 1\n",
    "    print(i, '+'*cnt, sep='', end='\\n')"
   ]
  },
  {
   "cell_type": "code",
   "execution_count": 202,
   "id": "90d1df3a-44f9-494b-a67a-3e0aaff0faf3",
   "metadata": {},
   "outputs": [
    {
     "name": "stdout",
     "output_type": "stream",
     "text": [
      "3\n"
     ]
    }
   ],
   "source": [
    "n = 192\n",
    "s = 0\n",
    "if n//10==0:\n",
    "    print(n)\n",
    "else:\n",
    "    while n//10 != 0:\n",
    "        s = 0\n",
    "        for i in str(n):\n",
    "            s += int(i)\n",
    "            n = s\n",
    "    print(s)"
   ]
  },
  {
   "cell_type": "code",
   "execution_count": null,
   "id": "f5f192ca-75d7-42ea-a0b5-1ae7192068a1",
   "metadata": {},
   "outputs": [],
   "source": [
    "#Вывести все простые числа из диапазона (те, которые делятся на 1 и на себя. Число 1 простым не является)\n",
    "a = int(input())\n",
    "b = int(input())\n",
    "cnt = 0\n",
    "r = 0\n",
    "for i in range(a, b + 1):\n",
    "    r = 0\n",
    "    cnt = 0\n",
    "    for j in range(1, i + 1):\n",
    "        if i%j==0 and i%1==0:\n",
    "            cnt += 1\n",
    "            r = i\n",
    "    if cnt==2 and r!=1:\n",
    "        print(r)"
   ]
  },
  {
   "cell_type": "code",
   "execution_count": 10,
   "id": "9c56fdac-8073-4e38-8760-287825ebcb8c",
   "metadata": {},
   "outputs": [
    {
     "name": "stdout",
     "output_type": "stream",
     "text": [
      "12\n"
     ]
    }
   ],
   "source": [
    "n = 444\n",
    "s = 0\n",
    "if len(str(n))==1:\n",
    "    print(n)\n",
    "else:\n",
    "    while n !=0:\n",
    "        if n % 2 == 0:\n",
    "            s += n % 10\n",
    "        n //= 10\n",
    "    print(s)"
   ]
  },
  {
   "cell_type": "code",
   "execution_count": 12,
   "id": "5571d91e-81c5-4adf-bbe2-9e2be3269ec4",
   "metadata": {},
   "outputs": [
    {
     "name": "stdout",
     "output_type": "stream",
     "text": [
      "0\n"
     ]
    }
   ],
   "source": [
    "n = 3\n",
    "s = 0\n",
    "while n !=0:\n",
    "    if n % 2 == 0:\n",
    "        s += n % 10\n",
    "    n //= 10\n",
    "print(s)"
   ]
  },
  {
   "cell_type": "code",
   "execution_count": null,
   "id": "005934f9-952b-4f6a-a948-3d75f378e54f",
   "metadata": {},
   "outputs": [],
   "source": [
    "n = 8\n",
    "count = 0\n",
    "maximum = 0\n",
    "for i in range(1, n + 1):\n",
    "    x = int(input())\n",
    "    if x % 4 == 0:\n",
    "        count += 1\n",
    "        if x > maximum:\n",
    "            maximum = x\n",
    "if count > 0:\n",
    "    print(count)\n",
    "    print(maximum)\n",
    "else:\n",
    "    print('NO')"
   ]
  },
  {
   "cell_type": "code",
   "execution_count": 16,
   "id": "aadd5f13-306f-456a-83b1-069fa0e40ac7",
   "metadata": {},
   "outputs": [
    {
     "name": "stdin",
     "output_type": "stream",
     "text": [
      " 3\n"
     ]
    },
    {
     "name": "stdout",
     "output_type": "stream",
     "text": [
      "*******************\n",
      "*                 *\n",
      "*******************\n"
     ]
    }
   ],
   "source": [
    "a = int(input())\n",
    "print('*'*19)\n",
    "for i in range(a-2):\n",
    "    print('*                 *')\n",
    "print('*'*19)"
   ]
  },
  {
   "cell_type": "code",
   "execution_count": 18,
   "id": "a8ea096b-f490-439b-b6af-66c837e1805b",
   "metadata": {},
   "outputs": [
    {
     "name": "stdin",
     "output_type": "stream",
     "text": [
      " 56639\n"
     ]
    },
    {
     "name": "stdout",
     "output_type": "stream",
     "text": [
      "1\n",
      "1\n",
      "2\n",
      "21\n",
      "9\n",
      "1\n"
     ]
    }
   ],
   "source": [
    "n = int(input())\n",
    "c3 = 0\n",
    "clast = 0\n",
    "cchet = 0\n",
    "sb5 = 0\n",
    "pb7 = 1\n",
    "c05 = 0\n",
    "last = n%10\n",
    "while n!=0:\n",
    "    if n%10==3:\n",
    "        c3 += 1\n",
    "    if last==n%10:\n",
    "        clast += 1\n",
    "    if (n%10)%2==0:\n",
    "        cchet += 1\n",
    "    if n%10>5:\n",
    "        sb5 += n%10\n",
    "    if n%10>7:\n",
    "        pb7 *= n%10    \n",
    "    if n%10==0 or n%10==5:\n",
    "        c05 += 1\n",
    "    n = n // 10\n",
    "print(c3)\n",
    "print(clast)\n",
    "print(cchet)\n",
    "print(sb5)\n",
    "print(pb7)\n",
    "print(c05)"
   ]
  },
  {
   "cell_type": "code",
   "execution_count": 46,
   "id": "882d476b-d41f-46f3-9e7c-5d657ea9219e",
   "metadata": {},
   "outputs": [
    {
     "name": "stdout",
     "output_type": "stream",
     "text": [
      "32832\n",
      "1729\n",
      "4104\n",
      "13832\n",
      "20683\n"
     ]
    }
   ],
   "source": [
    "s = set()\n",
    "for i in range(1, 33):\n",
    "    for j in range(1, i + 1):\n",
    "        a = i**3\n",
    "        b = j**3\n",
    "        for k in range(1, 33):\n",
    "            for n in range(1, k + 1):\n",
    "                c = k**3\n",
    "                d = n**3\n",
    "                if a + b == c + d and a!=c and b!=d:\n",
    "                    s.add(a + b)\n",
    "print(*s, sep='\\n')"
   ]
  },
  {
   "cell_type": "code",
   "execution_count": 51,
   "id": "47e905df-b2a9-4c07-9080-13ae993725aa",
   "metadata": {},
   "outputs": [
    {
     "name": "stdout",
     "output_type": "stream",
     "text": [
      "w\n"
     ]
    }
   ],
   "source": [
    "s = \"In 2010, someone paid 10k Bitcoin for two pizzas.\"\n",
    "\n",
    "print(s[39])"
   ]
  },
  {
   "cell_type": "code",
   "execution_count": 1,
   "id": "80828a27-4e7f-422b-82b3-3ba6c93a351f",
   "metadata": {},
   "outputs": [
    {
     "name": "stdin",
     "output_type": "stream",
     "text": [
      " jfnmdbsdfnsjfqenfdssjdfhsdjlkppppppppppppppppppgggggxxzzzssswwwwwwwwwwwwwwwwwwfgdfxdfg\n"
     ]
    },
    {
     "name": "stdout",
     "output_type": "stream",
     "text": [
      "p\n"
     ]
    }
   ],
   "source": [
    "# вывести наиболее встречающийся символ\n",
    "a = input()\n",
    "cnt = 0\n",
    "b = ''\n",
    "for i in a:\n",
    "    if a.count(i)>=cnt:\n",
    "        cnt = a.count(i)\n",
    "        b = i\n",
    "print(b)"
   ]
  },
  {
   "cell_type": "code",
   "execution_count": 4,
   "id": "1b074aaf-60c3-4633-8127-781bcaffc5d7",
   "metadata": {},
   "outputs": [
    {
     "name": "stdin",
     "output_type": "stream",
     "text": [
      " In the hole in the ground there lived a hobbit\n"
     ]
    },
    {
     "name": "stdout",
     "output_type": "stream",
     "text": [
      "In tobbit\n"
     ]
    }
   ],
   "source": [
    "a = input()\n",
    "if a == 'hh' or a[0]=='h' and a[-1]=='h':\n",
    "    print('')\n",
    "else:\n",
    "    print(a[:a.index('h')], a[a.rindex('h')+1:], sep='')"
   ]
  },
  {
   "cell_type": "code",
   "execution_count": 5,
   "id": "d345279f-ed4d-489f-84b3-d35de32175a8",
   "metadata": {},
   "outputs": [
    {
     "name": "stdout",
     "output_type": "stream",
     "text": [
      "My name is Timur, I am 27, I work as a math teacher\n"
     ]
    }
   ],
   "source": [
    "age = 27\n",
    "name = 'Timur'\n",
    "profession = 'math teacher'\n",
    "txt = 'My name is {0}, I am {1}, I work as a {2}'.format(name, age, profession)\n",
    "print(txt)"
   ]
  },
  {
   "cell_type": "code",
   "execution_count": 6,
   "id": "67cf8ba6-93f2-4ccc-9204-0908df35b3d8",
   "metadata": {},
   "outputs": [
    {
     "name": "stdout",
     "output_type": "stream",
     "text": [
      "My name is Timur-Timur-Timur\n"
     ]
    }
   ],
   "source": [
    "name = 'Timur'\n",
    "txt = 'My name is {0}-{0}-{0}'.format(name)\n",
    "print(txt)"
   ]
  },
  {
   "cell_type": "code",
   "execution_count": 7,
   "id": "83c1bee5-f18c-4b0f-99c1-2799a939dce7",
   "metadata": {},
   "outputs": [
    {
     "name": "stdout",
     "output_type": "stream",
     "text": [
      "Hello, Timur Guev. You are 27. You are a math teacher. You were a member of BeeGeek\n"
     ]
    }
   ],
   "source": [
    "first_name = 'Timur'\n",
    "last_name = 'Guev'\n",
    "age = 27\n",
    "profession = 'math teacher'\n",
    "affiliation = 'BeeGeek'\n",
    "print(f'Hello, {first_name} {last_name}. You are {age}. You are a {profession}. You were a member of {affiliation}')"
   ]
  },
  {
   "cell_type": "code",
   "execution_count": 9,
   "id": "b61cf3cf-37ec-430e-adbb-66ca18744695",
   "metadata": {},
   "outputs": [
    {
     "name": "stdout",
     "output_type": "stream",
     "text": [
      "In 2010, someone paid 10K Bitcoin for two pizzas.\n"
     ]
    }
   ],
   "source": [
    "year = 2010\n",
    "amount = '10K'\n",
    "currency = 'Bitcoin'\n",
    "\n",
    "print(f'In {year}, someone paid {amount} {currency} for two pizzas.')"
   ]
  },
  {
   "cell_type": "code",
   "execution_count": 15,
   "id": "03d882b2-b962-4993-8678-4d053f8995da",
   "metadata": {},
   "outputs": [
    {
     "name": "stdout",
     "output_type": "stream",
     "text": [
      "A\n",
      "B\n",
      "C\n",
      "D\n",
      "E\n",
      "F\n",
      "G\n",
      "H\n",
      "I\n",
      "J\n",
      "K\n",
      "L\n",
      "M\n",
      "N\n",
      "O\n",
      "P\n",
      "Q\n",
      "R\n",
      "S\n",
      "T\n",
      "U\n",
      "V\n",
      "W\n",
      "X\n",
      "Y\n",
      "Z\n"
     ]
    }
   ],
   "source": [
    "# вывести заглавные буквы английского алфавита\n",
    "for i in range(26):\n",
    "    print(chr(ord('A') + i))"
   ]
  },
  {
   "cell_type": "code",
   "execution_count": 20,
   "id": "979130dd-db77-4580-ba16-c6b41fab2c01",
   "metadata": {},
   "outputs": [
    {
     "name": "stdin",
     "output_type": "stream",
     "text": [
      " 200\n",
      " 300\n"
     ]
    },
    {
     "name": "stdout",
     "output_type": "stream",
     "text": [
      "È É Ê Ë Ì Í Î Ï Ð Ñ Ò Ó Ô Õ Ö × Ø Ù Ú Û Ü Ý Þ ß à á â ã ä å æ ç è é ê ë ì í î ï ð ñ ò ó ô õ ö ÷ ø ù ú û ü ý þ ÿ Ā ā Ă ă Ą ą Ć ć Ĉ ĉ Ċ ċ Č č Ď ď Đ đ Ē ē Ĕ ĕ Ė ė Ę ę Ě ě Ĝ ĝ Ğ ğ Ġ ġ Ģ ģ Ĥ ĥ Ħ ħ Ĩ ĩ Ī ī Ĭ "
     ]
    }
   ],
   "source": [
    "a, b = int(input()), int(input())\n",
    "for i in range(a, b + 1):\n",
    "    print(chr(i), end=' ')"
   ]
  },
  {
   "cell_type": "code",
   "execution_count": 23,
   "id": "1fffc7ec-2872-4f13-ab28-316da66736ce",
   "metadata": {},
   "outputs": [
    {
     "name": "stdin",
     "output_type": "stream",
     "text": [
      " 1\n",
      " vwbtwtfqpmvdijutbofqfsfhijwbzuf \n"
     ]
    },
    {
     "name": "stdout",
     "output_type": "stream",
     "text": [
      "uvasvsepoluchitsanepereghivayte9"
     ]
    }
   ],
   "source": [
    "# Шифр Цезаря\n",
    "n = int(input())\n",
    "a = input()\n",
    "for i in a:\n",
    "    c = 0\n",
    "    if (ord(i) - n)<97:\n",
    "        c = 26\n",
    "        print(chr(ord(i) - n + c), end='')\n",
    "    else:\n",
    "        print(chr(ord(i) - n + c), end='')"
   ]
  },
  {
   "cell_type": "code",
   "execution_count": 25,
   "id": "678058c2-7ca1-47d2-842d-b8ba29ae3ae4",
   "metadata": {},
   "outputs": [
    {
     "name": "stdin",
     "output_type": "stream",
     "text": [
      " dgdgdfgdfhfhghjgj\n"
     ]
    },
    {
     "name": "stdout",
     "output_type": "stream",
     "text": [
      "8\n"
     ]
    }
   ],
   "source": [
    "# найти индекс второго 'f'\n",
    "a = input()\n",
    "cnt = 0\n",
    "if a.count('f') == 1:\n",
    "    print(-1)\n",
    "elif a.count('f') == 0:\n",
    "    print(-2)\n",
    "for i in range(len(a)):\n",
    "    if a[i] == 'f':\n",
    "        cnt += 1\n",
    "        if cnt == 2:\n",
    "            print(i)\n",
    "            break"
   ]
  },
  {
   "cell_type": "code",
   "execution_count": 4,
   "id": "227b6dfe-d22f-431b-8542-b389a91a026f",
   "metadata": {},
   "outputs": [
    {
     "name": "stdout",
     "output_type": "stream",
     "text": [
      "['a', 'bb', 'ccc', 'dddd', 'eeeee', 'ffffff', 'ggggggg', 'hhhhhhhh', 'iiiiiiiii', 'jjjjjjjjjj', 'kkkkkkkkkkk', 'llllllllllll', 'mmmmmmmmmmmmm', 'nnnnnnnnnnnnnn', 'ooooooooooooooo', 'pppppppppppppppp', 'qqqqqqqqqqqqqqqqq', 'rrrrrrrrrrrrrrrrrr', 'sssssssssssssssssss', 'tttttttttttttttttttt', 'uuuuuuuuuuuuuuuuuuuuu', 'vvvvvvvvvvvvvvvvvvvvvv', 'wwwwwwwwwwwwwwwwwwwwwww', 'xxxxxxxxxxxxxxxxxxxxxxxx', 'yyyyyyyyyyyyyyyyyyyyyyyyy', 'zzzzzzzzzzzzzzzzzzzzzzzzzz']\n"
     ]
    }
   ],
   "source": [
    "cnt = 0\n",
    "a = 'abcdefghijklmnopqrstuvwxyz'\n",
    "l = []\n",
    "for i in a:\n",
    "    l.append(a[cnt] * (cnt + 1))\n",
    "    cnt += 1\n",
    "print(l)"
   ]
  },
  {
   "cell_type": "code",
   "execution_count": 5,
   "id": "8d38ca35-f3b4-40a4-8815-ace5caa81bf7",
   "metadata": {},
   "outputs": [
    {
     "name": "stdout",
     "output_type": "stream",
     "text": [
      "b\n"
     ]
    }
   ],
   "source": [
    "# На вход программе подается натуральное число n и n строк, а затем число k. Напишите программу, которая выводит k-ую букву из введенных строк на одной строке без пробелов.\n",
    "n = int(input())\n",
    "l = []\n",
    "cnt = 0\n",
    "c = 1\n",
    "for i in range(n):\n",
    "    a = input()\n",
    "    l.append(len(a))\n",
    "    l.append(a)\n",
    "k = int(input())\n",
    "for i in range((len(l)//2)):\n",
    "    if l[cnt] >= k:\n",
    "        print(l[c][k - 1], end='')\n",
    "    cnt += 2\n",
    "    c += 2"
   ]
  },
  {
   "cell_type": "code",
   "execution_count": null,
   "id": "1c1f0246-369f-4cea-9133-2f4cdbbf764b",
   "metadata": {},
   "outputs": [],
   "source": [
    "# На вход программе подается натуральное число n, затем n строк, затем число k — количество поисковых запросов, затем k строк — поисковые запросы. Напишите программу, которая выводит все введенные строки, в которых встречаются одновременно все поисковые запросы.\n",
    "# ВЫВОДИТ ВСЕ a где совпадает в записанном в p\n",
    "a = []\n",
    "p = []\n",
    "for i in range(int(input())):\n",
    "    a.append(input())\n",
    "for k in range(int(input())):\n",
    "    p.append(input())\n",
    "for j in p:\n",
    "    for h in a:\n",
    "        if j.lower() in h.lower():\n",
    "            print(h)\n",
    "    break"
   ]
  },
  {
   "cell_type": "code",
   "execution_count": null,
   "id": "3b3d307b-746e-4311-acef-12729816c6af",
   "metadata": {},
   "outputs": [],
   "source": [
    "# На вход программе подается натуральное число n, затем n строк, затем число k — количество поисковых запросов, затем k строк — поисковые запросы. Напишите программу, которая выводит все введенные строки, в которых встречаются одновременно все поисковые запросы.\n",
    "# ВЫВОДИТ ВСЕ a где совпадает в записанном в p. в p запись идет в строку через пробел\n",
    "a = []\n",
    "p = ''\n",
    "for i in range(int(input())):\n",
    "    a.append(input())\n",
    "for k in range(int(input())):\n",
    "    p += input() + ' '\n",
    "for j in a:\n",
    "    if p.rstrip().lower() in j.lower():\n",
    "        print(j)"
   ]
  },
  {
   "cell_type": "code",
   "execution_count": null,
   "id": "806a1d86-cc05-4b4c-b7bf-8433a3250b2f",
   "metadata": {},
   "outputs": [],
   "source": [
    "# На вход программе подается натуральное число n, затем n строк, затем число k — количество поисковых запросов, затем k строк — поисковые запросы. Напишите программу, которая выводит все введенные строки, в которых встречаются одновременно все поисковые запросы.\n",
    "# ВЫВОДИТ ВСЕ a, если совпадает в a все что указано в p независимо от порядка\n",
    "a = []\n",
    "p = []\n",
    "for i in range(int(input())):\n",
    "    a.append(input())\n",
    "k = int(input())\n",
    "for k in range(k):\n",
    "    p.append(input())\n",
    "for j in a:\n",
    "    cnt = 0\n",
    "    for h in p:\n",
    "        if h.lower() in j.lower():\n",
    "            cnt += 1\n",
    "            if cnt == len(p):\n",
    "                print(j)"
   ]
  },
  {
   "cell_type": "code",
   "execution_count": 11,
   "id": "ff599e9a-3b94-4afc-abcf-96c26300aa76",
   "metadata": {},
   "outputs": [
    {
     "name": "stdout",
     "output_type": "stream",
     "text": [
      "[17, 10, 11, 25, 4, 5, 6, 17, 10, 11, 4, 5, 6]\n"
     ]
    }
   ],
   "source": [
    "numbers = [8, 9, 10, 11]\n",
    "numbers.remove(numbers[1])\n",
    "numbers.insert(1, 17)\n",
    "numbers.extend([4, 5, 6])\n",
    "numbers.remove(numbers[0])\n",
    "numbers.extend(numbers)\n",
    "numbers.insert(3, 25)\n",
    "print(numbers)\n"
   ]
  },
  {
   "cell_type": "code",
   "execution_count": 16,
   "id": "783345ee-ef51-4175-a666-312dc4508a7e",
   "metadata": {},
   "outputs": [
    {
     "name": "stdout",
     "output_type": "stream",
     "text": [
      "1 9 8 7 6 5 4 3 2 10\n"
     ]
    }
   ],
   "source": [
    "# Поменять местами максимальное значение с минимальным\n",
    "a = [10, 9, 8, 7, 6, 5, 4, 3, 2, 1]\n",
    "mxc = max(a)\n",
    "mnc = min(a)\n",
    "mx = a.index(max(a))\n",
    "mn = a.index(min(a))\n",
    "a.insert(mx, mnc)\n",
    "a.pop(mx + 1)\n",
    "a.insert(mn, mxc)\n",
    "a.pop(mn + 1)\n",
    "print(*a)"
   ]
  },
  {
   "cell_type": "code",
   "execution_count": 44,
   "id": "14781c96-7289-4395-a4c3-997321542471",
   "metadata": {},
   "outputs": [
    {
     "name": "stdin",
     "output_type": "stream",
     "text": [
      " #12\n"
     ]
    },
    {
     "name": "stdout",
     "output_type": "stream",
     "text": [
      "12\n"
     ]
    }
   ],
   "source": [
    "# убрать комментарии из кода, начинающиеся с #. Ввод # и количество добавляемых строк\n",
    "n = input().split('#')\n",
    "t = []\n",
    "r = []\n",
    "for i in range(int(n[1])):\n",
    "    t += input().split('\\n')\n",
    "for j in t:\n",
    "    if '#' in j:\n",
    "        r.append(j[:j.index('#')].rstrip())\n",
    "    else:\n",
    "        r.append(j)\n",
    "print(*r, sep='\\n')"
   ]
  },
  {
   "cell_type": "code",
   "execution_count": 45,
   "id": "25ab0d01-3b60-4665-9072-3f79321bdda5",
   "metadata": {},
   "outputs": [
    {
     "name": "stdout",
     "output_type": "stream",
     "text": [
      "Отсортированный список: [1000, 99, 45, 34, 12, 9, 8, 7, 6, 1, 0, -2, -3, -67]\n"
     ]
    }
   ],
   "source": [
    "a = [1, 7, -3, 9, 0, -67, 34, 12, 45, 1000, 6,  8, -2, 99]\n",
    "a.sort(reverse=True)  # сортируем по убыванию\n",
    "print('Отсортированный список:', a)"
   ]
  },
  {
   "cell_type": "code",
   "execution_count": 9,
   "id": "358aeb02-3fc9-4d6f-8c4c-9a2a036508aa",
   "metadata": {},
   "outputs": [
    {
     "name": "stdout",
     "output_type": "stream",
     "text": [
      "[101, 111, 121, 131, 141, 151, 161, 171, 181, 191, 202, 212, 222, 232, 242, 252, 262, 272, 282, 292, 303, 313, 323, 333, 343, 353, 363, 373, 383, 393, 404, 414, 424, 434, 444, 454, 464, 474, 484, 494, 505, 515, 525, 535, 545, 555, 565, 575, 585, 595, 606, 616, 626, 636, 646, 656, 666, 676, 686, 696, 707, 717, 727, 737, 747, 757, 767, 777, 787, 797, 808, 818, 828, 838, 848, 858, 868, 878, 888, 898, 909, 919, 929, 939, 949, 959, 969, 979, 989, 999]\n"
     ]
    }
   ],
   "source": [
    "palindromes = [int(i) for i in range(100, 1000) if ((i // 10 ** (3 - 1)) % 10) == ((i // 10 ** (3 - 3)) % 10)]\n",
    "\n",
    "print(palindromes)"
   ]
  },
  {
   "cell_type": "code",
   "execution_count": null,
   "id": "8d134729-aa16-48ea-981e-95ef3bffc07f",
   "metadata": {},
   "outputs": [],
   "source": [
    "print(*[int(i) for i in input() if i.isdigit()], sep='')"
   ]
  },
  {
   "cell_type": "code",
   "execution_count": 31,
   "id": "866a1f79-4944-462d-9427-32e5e2a8a4b3",
   "metadata": {},
   "outputs": [
    {
     "name": "stdout",
     "output_type": "stream",
     "text": [
      "[-97, -96, -95, -94, -91, -84, -84, -84, -83, -79, -78, -78, -78, -76, -76, -75, -74, -74, -73, -71, -71, -71, -68, -68, -66, -65, -62, -61, -58, -56, -55, -55, -51, -47, -41, -40, -37, -32, -29, -27, -26, -26, -24, -20, -19, -17, -17, -16, -16, -13, -11, -9, -8, -6, 0, 1, 7, 7, 11, 14, 16, 17, 17, 21, 21, 24, 25, 32, 36, 38, 38, 39, 44, 44, 47, 48, 50, 52, 56, 58, 63, 67, 69, 70, 75, 78, 79, 79, 88, 88, 88, 91, 92, 93, 93, 94, 96, 96, 97, 98]\n"
     ]
    }
   ],
   "source": [
    "# пузырьковая сортировка\n",
    "a = [17, 24, 91, 96, 67, -27, 79, -71, -71, 58, 48, 88, 88, -16, -78, 96, -76, 56, 92, 1, 32, -17, 36, 88, -61, -97, -37, -84, 50, 47, 94, -6, 52, -76, 93, 14, -32, 98, -65, -16, -9, -68, -20, -40, -71, 93, -91, 44, 25, 79, 97, 0, -94, 7, -47, -96, -55, -58, -78, -78, -79, 75, 44, -56, -41, 38, 16, 70, 17, -17, -24, -83, -74, -73, 11, -26, 63, -75, -19, -13, -51, -74, 21, -8, 21, -68, -66, -84, -95, 78, 69, -29, 39, 38, -55, 7, -11, -26, -62, -84]\n",
    "\n",
    "n = len(a)\n",
    "for i in range(n - 1):\n",
    "    cnt = 0\n",
    "    for j in range(n - i - 1):\n",
    "        if a[j] > a[j + 1]:\n",
    "            a[j], a[j + 1] = a[j + 1], a[j]\n",
    "        else:\n",
    "            cnt += 1\n",
    "    if cnt == n:\n",
    "        break\n",
    "print(a)"
   ]
  },
  {
   "cell_type": "code",
   "execution_count": 28,
   "id": "c3807750-381b-4d39-a02f-9ec14c9c15d7",
   "metadata": {},
   "outputs": [
    {
     "name": "stdout",
     "output_type": "stream",
     "text": [
      "[-97, -96, -94, -94, -79, -77, -72, -72, -71, -71, -67, -67, -64, -64, -63, -62, -62, -61, -60, -58, -56, -52, -48, -47, -42, -41, -39, -36, -32, -31, -30, -26, -24, -23, -22, -21, -19, -16, -16, -14, -10, -8, -5, -3, -1, 0, 2, 2, 3, 3, 5, 9, 9, 14, 20, 22, 27, 32, 32, 35, 35, 39, 39, 41, 41, 43, 48, 53, 57, 57, 58, 59, 59, 59, 60, 60, 61, 62, 63, 63, 64, 66, 71, 72, 76, 78, 78, 80, 82, 84, 87, 87, 89, 90, 92, 92, 93, 94, 96, 98]\n"
     ]
    }
   ],
   "source": [
    "# сортировка выбором\n",
    "a = [78, -32, 5, 39, 58, -5, -63, 57, 72, 9, 53, -1, 63, -97, -21, -94, -47, 57, -8, 60, -23, -72, -22, -79, 90, 96, -41, -71, -48, 84, 89, -96, 41, -16, 94, -60, -64, -39, 60, -14, -62, -19, -3, 32, 98, 14, 43, 3, -56, 71, -71, -67, 80, 27, 92, 92, -64, 0, -77, 2, -26, 41, 3, -31, 48, 39, 20, -30, 35, 32, -58, 2, 63, 64, 66, 62, 82, -62, 9, -52, 35, -61, 87, 78, 93, -42, 87, -72, -10, -36, 61, -16, 59, 59, 22, -24, -67, 76, -94, 59]\n",
    "\n",
    "n = len(a)\n",
    "b = []\n",
    "for i in range(n):\n",
    "        b.append(min(a))\n",
    "        a.remove(min(a))\n",
    "print(b)"
   ]
  },
  {
   "cell_type": "code",
   "execution_count": 2,
   "id": "a310dad7-4675-475a-a380-cdfbf1138dee",
   "metadata": {},
   "outputs": [
    {
     "name": "stdin",
     "output_type": "stream",
     "text": [
      " 6\n"
     ]
    },
    {
     "name": "stdout",
     "output_type": "stream",
     "text": [
      "[2, 4]\n"
     ]
    }
   ],
   "source": [
    "print([int(i) for i in range(2, int(input()), 2)])"
   ]
  },
  {
   "cell_type": "code",
   "execution_count": 20,
   "id": "5d693493-7b14-4003-9381-11c20bd3a851",
   "metadata": {},
   "outputs": [
    {
     "name": "stdin",
     "output_type": "stream",
     "text": [
      " 7-1234-567-890\n"
     ]
    },
    {
     "name": "stdout",
     "output_type": "stream",
     "text": [
      "NO\n"
     ]
    }
   ],
   "source": [
    "# проверка валидности номера телефона abc-def-hijk или 7-abc-def-hijk\n",
    "n = input().split('-')\n",
    "if len(n[0]) == 1 and int(n[0]) !=7:\n",
    "    print('NO')\n",
    "    end\n",
    "for i in n:\n",
    "    if i.isdigit():\n",
    "        if (len(n) == 3 or len(n) == 4) and (len(n[0]) == 1 or len(n[0]) == 3) and len(n[-1]) == 4 and len(n[-2]) == 3:\n",
    "            True\n",
    "        else:\n",
    "            print('NO')\n",
    "            break\n",
    "    else:\n",
    "            print('NO')\n",
    "            break\n",
    "else:\n",
    "    print('YES')"
   ]
  },
  {
   "cell_type": "code",
   "execution_count": 21,
   "id": "945dc485-9bc8-427e-814c-026726e6d115",
   "metadata": {},
   "outputs": [
    {
     "name": "stdin",
     "output_type": "stream",
     "text": [
      " 34534-43534556-44-5-5\n"
     ]
    },
    {
     "name": "stdout",
     "output_type": "stream",
     "text": [
      "NO\n",
      "Количество ошибок 5\n"
     ]
    }
   ],
   "source": [
    "# проверка валидности номера телефона abc-def-hijk или 7-abc-def-hijk\n",
    "n = input().split('-')\n",
    "cnt = 0\n",
    "if len(n[0]) == 1 and int(n[0]) !=7:\n",
    "    cnt += 1\n",
    "for i in n:\n",
    "    if i.isdigit():\n",
    "        if (len(n) == 3 or len(n) == 4) and (len(n[0]) == 1 or len(n[0]) == 3) and len(n[-1]) == 4 and len(n[-2]) == 3:\n",
    "            cnt += 0\n",
    "        else:\n",
    "            cnt += 1\n",
    "    else:\n",
    "            cnt += 1\n",
    "if cnt == 0:\n",
    "    print('YES')\n",
    "else:\n",
    "    print('NO')\n",
    "    print('Количество ошибок', cnt)"
   ]
  },
  {
   "cell_type": "code",
   "execution_count": 4,
   "id": "504a4a41-56c8-457f-b0ce-ec555e362f6d",
   "metadata": {},
   "outputs": [
    {
     "name": "stdout",
     "output_type": "stream",
     "text": [
      "4\n"
     ]
    }
   ],
   "source": [
    "# На вход подаются заполнитель и количество выводимых строк. Необходимо вывести треугольник\n",
    "# объявление функции\n",
    "def draw_triangle(fill, base):\n",
    "    n = 1\n",
    "    while n != (base // 2) + 1:\n",
    "        print(fill * n)\n",
    "        n += 1\n",
    "    while n != 0:\n",
    "        print(fill * n)\n",
    "        n -= 1\n",
    "# считываем данные\n",
    "fill = input()\n",
    "base = int(input())\n",
    "\n",
    "# вызываем функцию\n",
    "draw_triangle(fill, base)"
   ]
  },
  {
   "cell_type": "code",
   "execution_count": 7,
   "id": "7f1c29a1-91f5-49ac-9267-b89c70d6dbac",
   "metadata": {},
   "outputs": [
    {
     "name": "stdout",
     "output_type": "stream",
     "text": [
      "[[3, 1], [8, 0]]\n"
     ]
    }
   ],
   "source": [
    "a = [[3, 1], [8, 0]]\n",
    "print(sorted(a))"
   ]
  },
  {
   "cell_type": "code",
   "execution_count": null,
   "id": "073de2ad-69da-4c3f-b922-853132001e7f",
   "metadata": {},
   "outputs": [],
   "source": [
    "def quick_merge(a):\n",
    "    return sorted([int(i) for i in a])\n",
    "a =[]\n",
    "for i in range(int(input())):\n",
    "    a.extend(input().split())\n",
    "print(*quick_merge(a))"
   ]
  },
  {
   "cell_type": "code",
   "execution_count": null,
   "id": "b6b4367f-0be1-448e-807b-3981a8d97e82",
   "metadata": {},
   "outputs": [],
   "source": [
    "# Пароль является надежным если: его длина не менее 8  символов;\n",
    "# он содержит как минимум одну заглавную букву (верхний регистр); \n",
    "# он содержит как минимум одну строчную букву (нижний регистр);\n",
    "# он содержит хотя бы одну цифру.\n",
    "\n",
    "# объявление функции\n",
    "def is_password_good(password):\n",
    "    u = 0\n",
    "    l = 0\n",
    "    d = 0\n",
    "    if len(password)<8 or password.isdigit() or password.isalpha():\n",
    "        return False\n",
    "        end\n",
    "    for i in password:\n",
    "        if i.isalpha():\n",
    "            if i == i.upper():\n",
    "                u += 1\n",
    "            if i == i.lower():\n",
    "                l += 1\n",
    "        if i.isdigit():\n",
    "            d += 1\n",
    "    if u != 0 and l != 0 and d != 0:\n",
    "        return True\n",
    "    else:\n",
    "        return False\n",
    "\n",
    "# считываем данные\n",
    "txt = input()\n",
    "\n",
    "# вызываем функцию\n",
    "print(is_password_good(txt))"
   ]
  },
  {
   "cell_type": "code",
   "execution_count": 11,
   "id": "f10c1894-22c9-4b5a-8cfd-da6dfbcca46f",
   "metadata": {},
   "outputs": [
    {
     "name": "stdout",
     "output_type": "stream",
     "text": [
      "['S', 't', 'a', 'n', 'd', 'a', 'r', 't', 's', 'm', 'a', 'l', 'l', 'e', 's', 't', 's', 'e', 'l', 'l', 'A', 'm', 's', 't', 'r', 'a', 'd', 'n', 'a', 't', 's']\n",
      "['s', 't', 'a', 'n', 'd', 'a', 'r', 't', 's', 'm', 'A', 'l', 'l', 'e', 's', 't', 's', 'e', 'l', 'l', 'a', 'm', 's', 't', 'r', 'a', 'd', 'n', 'a', 't', 'S']\n"
     ]
    }
   ],
   "source": [
    "a = 'Standart - smallest, sell Amstrad nats.'\n",
    "n = [i for i in a if i.isalpha()]\n",
    "print(n)\n",
    "print(n[::-1])"
   ]
  },
  {
   "cell_type": "code",
   "execution_count": null,
   "id": "12ce4ca8-6ee1-4f10-93b6-bbb0b27f8074",
   "metadata": {},
   "outputs": [],
   "source": [
    "# Проверка на закрытые скобки\n",
    "# объявление функции\n",
    "def is_correct_bracket(text):\n",
    "    if text.count('(') != text.count(')'):\n",
    "        return False\n",
    "        end\n",
    "    o = 0\n",
    "    for i in range(len(text)):\n",
    "        if text[i] == '(':\n",
    "            o += 1\n",
    "        else:\n",
    "            o -= 1\n",
    "        if o <= -1:\n",
    "            return False\n",
    "            break\n",
    "    else:\n",
    "        return True\n",
    "# считываем данные\n",
    "txt = input()\n",
    "\n",
    "# вызываем функцию\n",
    "print(is_correct_bracket(txt))"
   ]
  },
  {
   "cell_type": "code",
   "execution_count": 123,
   "id": "a059d1f4-1a96-43a1-a364-a517cbe70063",
   "metadata": {},
   "outputs": [
    {
     "name": "stdout",
     "output_type": "stream",
     "text": [
      "convert_to_int32\n"
     ]
    }
   ],
   "source": [
    "a = 'ConvertToInt32'\n",
    "b = []\n",
    "for i in a:\n",
    "    if i.isupper():\n",
    "        b += '_' + i.lower()\n",
    "    else:\n",
    "        b += i\n",
    "print(*b[1:], sep='')"
   ]
  },
  {
   "cell_type": "code",
   "execution_count": 30,
   "id": "d82661b2-0fbe-4074-9549-1f6db3b8af5c",
   "metadata": {},
   "outputs": [
    {
     "name": "stdout",
     "output_type": "stream",
     "text": [
      "       *\n",
      "      ***\n",
      "     *****\n",
      "    *******\n",
      "   *********\n",
      "  ***********\n",
      " *************\n",
      "***************\n"
     ]
    }
   ],
   "source": [
    "# объявление функции\n",
    "def draw_triangle():\n",
    "    for i in range(1, 9, 1):\n",
    "        print(' ' * (8 - i) + '*' * (i + (i -1)))\n",
    "# основная программа\n",
    "draw_triangle()  # вызов функции"
   ]
  },
  {
   "cell_type": "code",
   "execution_count": 36,
   "id": "7ed858c4-9580-4d0f-b471-9b57f14801a2",
   "metadata": {},
   "outputs": [
    {
     "name": "stdin",
     "output_type": "stream",
     "text": [
      " 10\n",
      " 1\n"
     ]
    },
    {
     "name": "stdout",
     "output_type": "stream",
     "text": [
      "1316818944000\n"
     ]
    }
   ],
   "source": [
    "# объявление функции\n",
    "def compute_binom(n, k):\n",
    "    from math import factorial\n",
    "    return int((factorial(n)/(factorial(k) * factorial(n - k))))\n",
    "\n",
    "# считываем данные\n",
    "n = int(input())\n",
    "k = int(input())\n",
    "\n",
    "# вызываем функцию\n",
    "print(compute_binom(n, k))"
   ]
  },
  {
   "cell_type": "code",
   "execution_count": 39,
   "id": "331f147e-c53b-478f-bad5-d34758778f35",
   "metadata": {},
   "outputs": [
    {
     "name": "stdin",
     "output_type": "stream",
     "text": [
      " 5\n"
     ]
    },
    {
     "name": "stdout",
     "output_type": "stream",
     "text": [
      "пять\n"
     ]
    }
   ],
   "source": [
    "# объявление функции\n",
    "def number_to_words(num):\n",
    "    z = ['ноль', 'один', 'два', 'три', 'четыре', 'пять', 'шесть', 'семь', 'восемь', 'девять', 'десять', 'одиннадцать', 'двенадцать', 'тринадцать', 'четырнадцать', 'пятнадцать', 'шестнадцать', 'семнадцать', 'восемнадцать', 'девятнадцать', 'двадцать', 'двадцать один', 'двадцать два', 'двадцать три', 'двадцать четыре', 'двадцать пять', 'двадцать шесть', 'двадцать семь', 'двадцать восемь', 'двадцать девять', 'тридцать', 'тридцать один', 'тридцать два', 'тридцать три', 'тридцать четыре', 'тридцать пять', 'тридцать шесть', 'тридцать семь', 'тридцать восемь', 'тридцать девять', 'сорок', 'сорок один', 'сорок два', 'сорок три', 'сорок четыре', 'сорок пять', 'сорок шесть', 'сорок семь', 'сорок восемь', 'сорок девять', 'пятьдесят', 'пятьдесят один', 'пятьдесят два', 'пятьдесят три', 'пятьдесят четыре', 'пятьдесят пять', 'пятьдесят шесть', 'пятьдесят семь', 'пятьдесят восемь', 'пятьдесят девять', 'шестьдесят', 'шестьдесят один', 'шестьдесят два', 'шестьдесят три', 'шестьдесят четыре', 'шестьдесят пять', 'шестьдесят шесть', 'шестьдесят семь', 'шестьдесят восемь', 'шестьдесят девять', 'семьдесят', 'семьдесят один', 'семьдесят два', 'семьдесят три', 'семьдесят четыре', 'семьдесят пять', 'семьдесят шесть', 'семьдесят семь', 'семьдесят восемь', 'семьдесят девять', 'восемьдесят', 'восемьдесят один', 'восемьдесят два', 'восемьдесят три', 'восемьдесят четыре', 'восемьдесят пять', 'восемьдесят шесть', 'восемьдесят семь', 'восемьдесят восемь', 'восемьдесят девять', 'девяносто', 'девяносто один', 'девяносто два', 'девяносто три', 'девяносто четыре', 'девяносто пять', 'девяносто шесть', 'девяносто семь', 'девяносто восемь', 'девяносто девять']\n",
    "    return z[num]\n",
    "\n",
    "# считываем данные\n",
    "n = int(input())\n",
    "\n",
    "# вызываем функцию\n",
    "print(number_to_words(n))"
   ]
  },
  {
   "cell_type": "code",
   "execution_count": 46,
   "id": "2f70173e-dadc-4042-b250-87481af7623e",
   "metadata": {},
   "outputs": [
    {
     "data": {
      "text/plain": [
       "5"
      ]
     },
     "execution_count": 46,
     "metadata": {},
     "output_type": "execute_result"
    }
   ],
   "source": [
    "from math import *\n",
    "ceil(log2(20))"
   ]
  },
  {
   "cell_type": "code",
   "execution_count": 80,
   "id": "9762a840-cf6d-44bb-9a74-09d510195640",
   "metadata": {},
   "outputs": [
    {
     "name": "stdout",
     "output_type": "stream",
     "text": [
      "Добро пожаловать в числовую угадайку\n"
     ]
    },
    {
     "name": "stdin",
     "output_type": "stream",
     "text": [
      " 345\n"
     ]
    },
    {
     "name": "stdout",
     "output_type": "stream",
     "text": [
      "А может быть все-таки введем целое число от 1 до 10?\n"
     ]
    },
    {
     "name": "stdin",
     "output_type": "stream",
     "text": [
      " 4\n"
     ]
    },
    {
     "name": "stdout",
     "output_type": "stream",
     "text": [
      "Вы ввели число 4\n",
      "Ваше число меньше загаданного, попробуйте еще разок\n"
     ]
    },
    {
     "name": "stdin",
     "output_type": "stream",
     "text": [
      " 5\n"
     ]
    },
    {
     "name": "stdout",
     "output_type": "stream",
     "text": [
      "Вы ввели число 5\n",
      "Ваше число меньше загаданного, попробуйте еще разок\n"
     ]
    },
    {
     "name": "stdin",
     "output_type": "stream",
     "text": [
      " 7\n"
     ]
    },
    {
     "name": "stdout",
     "output_type": "stream",
     "text": [
      "Вы ввели число 7\n",
      "Ваше число больше загаданного, попробуйте еще разок\n"
     ]
    },
    {
     "name": "stdin",
     "output_type": "stream",
     "text": [
      " 8\n"
     ]
    },
    {
     "name": "stdout",
     "output_type": "stream",
     "text": [
      "Вы ввели число 8\n",
      "Ваше число больше загаданного, попробуйте еще разок\n"
     ]
    },
    {
     "name": "stdin",
     "output_type": "stream",
     "text": [
      " 9\n"
     ]
    },
    {
     "name": "stdout",
     "output_type": "stream",
     "text": [
      "Вы ввели число 9\n",
      "Ваше число больше загаданного, попробуйте еще разок\n"
     ]
    },
    {
     "name": "stdin",
     "output_type": "stream",
     "text": [
      " 10\n"
     ]
    },
    {
     "name": "stdout",
     "output_type": "stream",
     "text": [
      "Вы ввели число 10\n",
      "Ваше число больше загаданного, попробуйте еще разок\n"
     ]
    },
    {
     "name": "stdin",
     "output_type": "stream",
     "text": [
      " 6\n"
     ]
    },
    {
     "name": "stdout",
     "output_type": "stream",
     "text": [
      "Вы угадали с 7 попытки, поздравляем!\n",
      "Спасибо, что играли в числовую угадайку. Еще увидимся...\n"
     ]
    }
   ],
   "source": [
    "#Мини-проект Числовая угадайка\n",
    "cnt = 0\n",
    "from random import *\n",
    "n = randint(1, 10)\n",
    "print('Добро пожаловать в числовую угадайку')\n",
    "def is_valid(num):\n",
    "    if 1<=num<=10:\n",
    "        return True\n",
    "    else:\n",
    "        return False\n",
    "digit = int(input())\n",
    "while True:\n",
    "    cnt += 1\n",
    "    if is_valid(digit) == False:\n",
    "        print('А может быть все-таки введем целое число от 1 до 10?')\n",
    "        digit = int(input())\n",
    "    else:\n",
    "        print('Вы ввели число', digit)\n",
    "        if digit > n:\n",
    "            print('Ваше число больше загаданного, попробуйте еще разок')\n",
    "            digit = int(input())\n",
    "        if digit < n:\n",
    "            print('Ваше число меньше загаданного, попробуйте еще разок')\n",
    "            digit = int(input())\n",
    "        if digit == n:    \n",
    "            print(f'Вы угадали с {cnt} попытки, поздравляем!')\n",
    "            print('Спасибо, что играли в числовую угадайку. Еще увидимся...')\n",
    "            break"
   ]
  },
  {
   "cell_type": "code",
   "execution_count": 92,
   "id": "bd1511fc-0e09-47e9-afe2-e21fca6b24f7",
   "metadata": {},
   "outputs": [
    {
     "name": "stdout",
     "output_type": "stream",
     "text": [
      "Привет Мир, я магический шар, и я знаю ответ на любой твой вопрос.\n"
     ]
    },
    {
     "name": "stdin",
     "output_type": "stream",
     "text": [
      "Как тебя зовут? вппва\n"
     ]
    },
    {
     "name": "stdout",
     "output_type": "stream",
     "text": [
      "Привет, вппва!"
     ]
    },
    {
     "name": "stdin",
     "output_type": "stream",
     "text": [
      "Задай свой вопрос: впав\n"
     ]
    },
    {
     "name": "stdout",
     "output_type": "stream",
     "text": [
      "Лучше не рассказывать\n"
     ]
    },
    {
     "name": "stdin",
     "output_type": "stream",
     "text": [
      "Еще раз? вап\n",
      "Задай свой вопрос: ваып\n"
     ]
    },
    {
     "name": "stdout",
     "output_type": "stream",
     "text": [
      "Перспективы не очень хорошие\n"
     ]
    },
    {
     "name": "stdin",
     "output_type": "stream",
     "text": [
      "Еще раз? нет\n"
     ]
    },
    {
     "name": "stdout",
     "output_type": "stream",
     "text": [
      "Возвращайся, если возникнут вопросы!\n"
     ]
    }
   ],
   "source": [
    "#Мини-проект Магический шар\n",
    "answers = ['Бесспорно', 'Предрешено', 'Никаких сомнений', 'Определённо да', 'Можешь быть уверен в этом', 'Мне кажется - да', 'Вероятнее всего', 'Хорошие перспективы', 'Знаки говорят - да', 'Да', 'Пока неясно, попробуй снова', 'Спроси позже', 'Лучше не рассказывать', 'Сейчас нельзя предсказать', 'Сконцентрируйся и спроси опять', 'Даже не думай', 'Мой ответ - нет', 'По моим данным - нет', 'Перспективы не очень хорошие', 'Весьма сомнительно']\n",
    "from random import *\n",
    "print('Привет Мир, я магический шар, и я знаю ответ на любой твой вопрос.')\n",
    "name = input('Как тебя зовут?')\n",
    "print('Привет,', name, end='!')\n",
    "yn = 'да'\n",
    "while yn != 'нет':\n",
    "    text = input('Задай свой вопрос:')\n",
    "    print(choice(answers))\n",
    "    yn = input('Еще раз?').lower()\n",
    "print('Возвращайся, если возникнут вопросы!')"
   ]
  },
  {
   "cell_type": "code",
   "execution_count": 112,
   "id": "55bc27ef-59ef-444e-9829-decc57c38663",
   "metadata": {},
   "outputs": [
    {
     "name": "stdin",
     "output_type": "stream",
     "text": [
      "Включать ли цифры 0123456789? (y/n) n\n",
      "Включать ли прописные буквы ABCDEFGHIJKLMNOPQRSTUVWXYZ? (y/n) n\n",
      "Включать ли строчные буквы abcdefghijklmnopqrstuvwxyz? (y/n) n\n",
      "Включать ли символы !#$%&*+-=?@^_? (y/n) n\n",
      "Исключать ли неоднозначные символы il1Lo0O? (y/n) n\n"
     ]
    },
    {
     "ename": "SyntaxError",
     "evalue": "'break' outside loop (4227421718.py, line 33)",
     "output_type": "error",
     "traceback": [
      "\u001b[1;36m  Cell \u001b[1;32mIn[112], line 33\u001b[1;36m\u001b[0m\n\u001b[1;33m    break\u001b[0m\n\u001b[1;37m    ^\u001b[0m\n\u001b[1;31mSyntaxError\u001b[0m\u001b[1;31m:\u001b[0m 'break' outside loop\n"
     ]
    }
   ],
   "source": [
    "#Мини-проект генератор паролей\n",
    "digits = '0123456789'\n",
    "lowercase_letters = 'abcdefghijklmnopqrstuvwxyz'\n",
    "uppercase_letters = 'ABCDEFGHIJKLMNOPQRSTUVWXYZ'\n",
    "punctuation = '!#$%&*+-=?@^_'\n",
    "exc = 'il1Lo0O'\n",
    "temp_chars = ''\n",
    "chars = ''\n",
    "pw = ''\n",
    "from random import *\n",
    "dig_on = input('Включать ли цифры 0123456789? (y/n)')\n",
    "if dig_on == 'y':\n",
    "    temp_chars += digits\n",
    "abc_upper_on = input('Включать ли прописные буквы ABCDEFGHIJKLMNOPQRSTUVWXYZ? (y/n)')\n",
    "if abc_upper_on == 'y':\n",
    "    temp_chars += uppercase_letters\n",
    "abc_lower_on = input('Включать ли строчные буквы abcdefghijklmnopqrstuvwxyz? (y/n)')\n",
    "if abc_lower_on == 'y':\n",
    "    temp_chars += lowercase_letters\n",
    "ch_on = input('Включать ли символы !#$%&*+-=?@^_? (y/n)')\n",
    "if ch_on == 'y':\n",
    "    temp_chars += punctuation\n",
    "exc_on = input('Исключать ли неоднозначные символы il1Lo0O? (y/n)')\n",
    "if exc_on == 'y':\n",
    "    for i in range(len(temp_chars)):\n",
    "        if temp_chars[i] in exc:\n",
    "            continue\n",
    "        else:\n",
    "            chars += temp_chars[i]\n",
    "else:\n",
    "    chars += temp_chars\n",
    "def generate_password(length, chars):\n",
    "    cnt_pw = int(input('Укажите количество паролей для генерации:'))\n",
    "    for i in range(cnt_pw):\n",
    "        pw = sample(chars, length)\n",
    "        print(*pw, sep='')\n",
    "generate_password(int(input('Укажите длину одного пароля:')), chars)"
   ]
  },
  {
   "cell_type": "code",
   "execution_count": 138,
   "id": "9bac9b8f-16df-46ec-b3b0-37aff9c99058",
   "metadata": {},
   "outputs": [
    {
     "name": "stdin",
     "output_type": "stream",
     "text": [
      " 10\n",
      " Блажен, кто верует, тепло ему на свете!\n"
     ]
    },
    {
     "name": "stdout",
     "output_type": "stream",
     "text": [
      "Лхкрпч, фьш мпъэпь, ьпщхш пцэ чк ымпьп!"
     ]
    }
   ],
   "source": [
    "# Шифр Цезаря. Шифрование русских букв. Символы остаются\n",
    "n = int(input())\n",
    "a = input()\n",
    "for i in a:\n",
    "    c = 0\n",
    "    if i == i.upper() and i.isalpha() == True:\n",
    "        if (ord(i) + n)>1071:\n",
    "            c = 32\n",
    "            print(chr(ord(i) + n - c), end='')\n",
    "        else:\n",
    "            print(chr(ord(i) + n - c), end='')\n",
    "    if i == i.lower() and i.isalpha() == True:\n",
    "        if (ord(i) + n)>1103:\n",
    "            c = 32\n",
    "            print(chr(ord(i) + n - c), end='')\n",
    "        else:\n",
    "            print(chr(ord(i) + n - c), end='')\n",
    "    if i.isalpha() == False:\n",
    "        print(i, end='')"
   ]
  },
  {
   "cell_type": "code",
   "execution_count": 137,
   "id": "4ffb6364-8866-4314-8c9d-ff390c674844",
   "metadata": {},
   "outputs": [
    {
     "name": "stdin",
     "output_type": "stream",
     "text": [
      " 17\n",
      " To be, or not to be, that is the question!\n"
     ]
    },
    {
     "name": "stdout",
     "output_type": "stream",
     "text": [
      "Kf sv, fi efk kf sv, kyrk zj kyv hlvjkzfe!"
     ]
    }
   ],
   "source": [
    "# Шифр Цезаря. Шифрование английских букв. Символы остаются\n",
    "n = int(input())\n",
    "a = input()\n",
    "for i in a:\n",
    "    c = 0\n",
    "    if i == i.upper() and i.isalpha() == True:\n",
    "        if (ord(i) + n)>90:\n",
    "            c = 26\n",
    "            print(chr(ord(i) + n - c), end='')\n",
    "        else:\n",
    "            print(chr(ord(i) + n - c), end='')\n",
    "    if i == i.lower() and i.isalpha() == True:\n",
    "        if (ord(i) + n)>122:\n",
    "            c = 26\n",
    "            print(chr(ord(i) + n - c), end='')\n",
    "        else:\n",
    "            print(chr(ord(i) + n - c), end='')\n",
    "    if i.isalpha() == False:\n",
    "        print(i, end='')"
   ]
  },
  {
   "cell_type": "code",
   "execution_count": 139,
   "id": "8e9566d3-3504-4b74-81cd-1add4e565d34",
   "metadata": {},
   "outputs": [
    {
     "name": "stdin",
     "output_type": "stream",
     "text": [
      " 7\n",
      " Шсъцхр щмчжмщ йшм, нмтзж йшм лхшщзщг.\n"
     ]
    },
    {
     "name": "stdout",
     "output_type": "stream",
     "text": [
      "Скупой теряет все, желая все достать."
     ]
    }
   ],
   "source": [
    "# Шифр Цезаря. Дешифрование русских букв. Символы остаются\n",
    "n = int(input())\n",
    "a = input()\n",
    "for i in a:\n",
    "    c = 0\n",
    "    if i == i.upper() and i.isalpha() == True:\n",
    "        if (ord(i) - n)<1040:\n",
    "            c = 32\n",
    "            print(chr(ord(i) - n + c), end='')\n",
    "        else:\n",
    "            print(chr(ord(i) - n + c), end='')\n",
    "    if i == i.lower() and i.isalpha() == True:\n",
    "        if (ord(i) - n)<1072:\n",
    "            c = 32\n",
    "            print(chr(ord(i) - n + c), end='')\n",
    "        else:\n",
    "            print(chr(ord(i) - n + c), end='')\n",
    "    if i.isalpha() == False:\n",
    "        print(i, end='')"
   ]
  },
  {
   "cell_type": "code",
   "execution_count": 156,
   "id": "126165df-c963-4d1b-b732-a1449f8bfe29",
   "metadata": {},
   "outputs": [
    {
     "name": "stdin",
     "output_type": "stream",
     "text": [
      " 3\n",
      " # Шифр Цезаря. Дешифрование английских букв. Символы остаются n = int(input()) a = input() for i in a:     c = 0     if i == i.upper() and i.isalpha() == True:         if (ord(i) - n)<65:             c = 26             print(chr(ord(i) - n + c), end='')         else:             print(chr(ord(i) - n + c), end='')     if i == i.lower() and i.isalpha() == True:         if (ord(i) - n)<97:             c = 26             print(chr(ord(i) - n + c), end='')         else:             print(chr(ord(i) - n + c), end='')     if i.isalpha() == False:         print(i, end='')\n"
     ]
    },
    {
     "name": "stdout",
     "output_type": "stream",
     "text": [
      "# Хесн УвдЭнь. БвхеснлЯЭкев Экаиежозет ЮрзЯ. ОейЯлиш лопЭыпоь k = fkq(fkmrq()) x = fkmrq() clo f fk x:     z = 0     fc f == f.rmmbo() xka f.fpximex() == Qorb:         fc (loa(f) - k)<65:             z = 26             mofkq(zeo(loa(f) - k + z), bka='')         bipb:             mofkq(zeo(loa(f) - k + z), bka='')     fc f == f.iltbo() xka f.fpximex() == Qorb:         fc (loa(f) - k)<97:             z = 26             mofkq(zeo(loa(f) - k + z), bka='')         bipb:             mofkq(zeo(loa(f) - k + z), bka='')     fc f.fpximex() == Cxipb:         mofkq(f, bka='')"
     ]
    }
   ],
   "source": [
    "# Шифр Цезаря. Дешифрование английских букв. Символы остаются\n",
    "n = int(input())\n",
    "a = input()\n",
    "for i in a:\n",
    "    c = 0\n",
    "    if i == i.upper() and i.isalpha() == True:\n",
    "        if (ord(i) - n)<65:\n",
    "            c = 26\n",
    "            print(chr(ord(i) - n + c), end='')\n",
    "        else:\n",
    "            print(chr(ord(i) - n + c), end='')\n",
    "    if i == i.lower() and i.isalpha() == True:\n",
    "        if (ord(i) - n)<97:\n",
    "            c = 26\n",
    "            print(chr(ord(i) - n + c), end='')\n",
    "        else:\n",
    "            print(chr(ord(i) - n + c), end='')\n",
    "    if i.isalpha() == False:\n",
    "        print(i, end='')"
   ]
  },
  {
   "cell_type": "code",
   "execution_count": 160,
   "id": "71b17eda-4d7f-445d-af2f-aee0bd50fe67",
   "metadata": {},
   "outputs": [
    {
     "name": "stdin",
     "output_type": "stream",
     "text": [
      " 25\n",
      " Hawnj pk swhg xabkna ukq nqj.\n"
     ]
    },
    {
     "name": "stdout",
     "output_type": "stream",
     "text": [
      "Hawnj pk swhg xabkna ukq nqj.0\n",
      "Gzvmi oj rvgf wzajmz tjp mpi.1\n",
      "Fyulh ni qufe vyzily sio loh.2\n",
      "Extkg mh pted uxyhkx rhn kng.3\n",
      "Dwsjf lg osdc twxgjw qgm jmf.4\n",
      "Cvrie kf nrcb svwfiv pfl ile.5\n",
      "Buqhd je mqba ruvehu oek hkd.6\n",
      "Atpgc id lpaz qtudgt ndj gjc.7\n",
      "Zsofb hc kozy pstcfs mci fib.8\n",
      "Yrnea gb jnyx orsber lbh eha.9\n",
      "Xqmdz fa imxw nqradq kag dgz.10\n",
      "Wplcy ez hlwv mpqzcp jzf cfy.11\n",
      "Vokbx dy gkvu lopybo iye bex.12\n",
      "Unjaw cx fjut knoxan hxd adw.13\n",
      "Tmizv bw eits jmnwzm gwc zcv.14\n",
      "Slhyu av dhsr ilmvyl fvb ybu.15\n",
      "Rkgxt zu cgrq hkluxk eua xat.16\n",
      "Qjfws yt bfqp gjktwj dtz wzs.17\n",
      "Pievr xs aepo fijsvi csy vyr.18\n",
      "Ohduq wr zdon ehiruh brx uxq.19\n",
      "Ngctp vq ycnm dghqtg aqw twp.20\n",
      "Mfbso up xbml cfgpsf zpv svo.21\n",
      "Learn to walk before you run.22\n",
      "Kdzqm sn vzkj adenqd xnt qtm.23\n",
      "Jcypl rm uyji zcdmpc wms psl.24\n"
     ]
    }
   ],
   "source": [
    "# Шифр Цезаря. Дешифрование английских букв. Символы остаются\n",
    "j = int(input())\n",
    "a = input()\n",
    "for n in range(j):\n",
    "    for i in a:\n",
    "        c = 0\n",
    "        if i == i.upper() and i.isalpha() == True:\n",
    "            if (ord(i) - n)<65:\n",
    "                c = 26\n",
    "                print(chr(ord(i) - n + c), end='')\n",
    "            else:\n",
    "                print(chr(ord(i) - n + c), end='')\n",
    "        if i == i.lower() and i.isalpha() == True:\n",
    "            if (ord(i) - n)<97:\n",
    "                c = 26\n",
    "                print(chr(ord(i) - n + c), end='')\n",
    "            else:\n",
    "                print(chr(ord(i) - n + c), end='')\n",
    "        if i.isalpha() == False:\n",
    "            print(i, end='')\n",
    "    print(n, end='\\n')"
   ]
  },
  {
   "cell_type": "code",
   "execution_count": null,
   "id": "8a127923-f8f4-42fb-89e5-86cbeb054439",
   "metadata": {},
   "outputs": [],
   "source": [
    "# Шифр Цезаря. Шифрование английских букв. Символы остаются\n",
    "n = int(input())\n",
    "a = input()\n",
    "for i in a:\n",
    "    c = 0\n",
    "    if i == i.upper() and i.isalpha() == True:\n",
    "        if (ord(i) + n)>90:\n",
    "            c = 26\n",
    "            print(chr(ord(i) + n - c), end='')\n",
    "        else:\n",
    "            print(chr(ord(i) + n - c), end='')\n",
    "    if i == i.lower() and i.isalpha() == True:\n",
    "        if (ord(i) + n)>122:\n",
    "            c = 26\n",
    "            print(chr(ord(i) + n - c), end='')\n",
    "        else:\n",
    "            print(chr(ord(i) + n - c), end='')\n",
    "    if i.isalpha() == False:\n",
    "        print(i, end='')"
   ]
  },
  {
   "cell_type": "code",
   "execution_count": 119,
   "id": "2c974844-6ad7-4685-a11f-3adb3cfdc0ab",
   "metadata": {},
   "outputs": [
    {
     "name": "stdout",
     "output_type": "stream",
     "text": [
      "Vq dg, qt qrw vq dg, xlex ku wkh ycmabqwv"
     ]
    }
   ],
   "source": [
    "# Шифр Цезаря. Шифрование английских букв. Символы остаются. Шифрование осуществляется со сдвигом, равным длине каждого слова\n",
    "a = 'To be, or not to be, that is the question'\n",
    "a = a + '*'\n",
    "b = ''\n",
    "n = -1\n",
    "for i in a:\n",
    "    n += 1\n",
    "    if i.isalpha() == True:\n",
    "        b += i\n",
    "    else:\n",
    "        for j in b:\n",
    "            c = 0\n",
    "            if j == j.upper() and j.isalpha() == True:\n",
    "                if (ord(j) + n)>90:\n",
    "                    c = 26\n",
    "                    print(chr(ord(j) + n - c), end='')\n",
    "                else:\n",
    "                    print(chr(ord(j) + n - c), end='')\n",
    "            if j == j.lower() and j.isalpha() == True:\n",
    "                if (ord(j) + n)>122:\n",
    "                    c = 26\n",
    "                    print(chr(ord(j) + n - c), end='')\n",
    "                else:\n",
    "                    print(chr(ord(j) + n - c), end='')\n",
    "        print(i if i != '*' else '', end ='')\n",
    "        n = -1\n",
    "        b = ''       "
   ]
  },
  {
   "cell_type": "code",
   "execution_count": 118,
   "id": "371e20a0-7622-4512-a30c-2309503615c1",
   "metadata": {},
   "outputs": [
    {
     "name": "stdout",
     "output_type": "stream",
     "text": [
      "1\n",
      "0\n"
     ]
    }
   ],
   "source": [
    "# Преобразование из десятеричной системы в двоичную, восьмиричную и шестнадцатиричную\n",
    "a = int(input())\n",
    "print(bin(a)[2:])\n",
    "print(oct(a)[2:])\n",
    "print(hex(a)[2:].upper())"
   ]
  },
  {
   "cell_type": "code",
   "execution_count": 123,
   "id": "e10499e8-d77c-4f6a-a897-c54642431457",
   "metadata": {},
   "outputs": [
    {
     "name": "stdin",
     "output_type": "stream",
     "text": [
      " 80\n",
      " 1.88\n"
     ]
    },
    {
     "name": "stdout",
     "output_type": "stream",
     "text": [
      "22.634676324128566\n",
      "Оптимальная масса\n"
     ]
    }
   ],
   "source": [
    "# Индекс массы тела\n",
    "m, l = float(input()), float(input())\n",
    "idx = m / (l * l)\n",
    "print(idx)\n",
    "if 18.5 <= idx <= 25:\n",
    "    print('Оптимальная масса')\n",
    "elif idx < 18.5:\n",
    "    print('Недостаточная масса')\n",
    "elif idx > 25:\n",
    "    print('Избыточная масса')"
   ]
  },
  {
   "cell_type": "code",
   "execution_count": 179,
   "id": "098cb83e-690f-4516-b26b-f0473fe1ac69",
   "metadata": {},
   "outputs": [
    {
     "name": "stdin",
     "output_type": "stream",
     "text": [
      " 2030\n"
     ]
    },
    {
     "name": "stdout",
     "output_type": "stream",
     "text": [
      "Собака\n"
     ]
    }
   ],
   "source": [
    "# Год какого животного\n",
    "a = int(input())\n",
    "d = [2000, 2001, 2002, 2003, 2004, 2005, 2006, 2007, 2008, 2009, 2010, 2011]\n",
    "w = ['Дракон', 'Змея', 'Лошадь', 'Овца', 'Обезьяна', 'Петух', 'Собака', 'Свинья', 'Крыса', 'Бык', 'Тигр', 'Заяц']\n",
    "for i in range(len(d)):\n",
    "    if (d[i] - a) % 12 == 0:\n",
    "        print(w[i])\n",
    "        break"
   ]
  },
  {
   "cell_type": "code",
   "execution_count": 191,
   "id": "a51b6c12-6e0f-4853-a518-097df3f1f32a",
   "metadata": {},
   "outputs": [
    {
     "name": "stdout",
     "output_type": "stream",
     "text": [
      "25\n"
     ]
    }
   ],
   "source": [
    "n = '52000'\n",
    "if len(n) == 5:\n",
    "    rez = (n[::-1])\n",
    "    if rez.startswith('0'):\n",
    "        while True:\n",
    "            print(rez.replace('0', ''))\n",
    "            break\n",
    "    else:\n",
    "        print(rez)\n",
    "else:\n",
    "    print(n[0], n[5:0:-1], sep='')"
   ]
  },
  {
   "cell_type": "code",
   "execution_count": 217,
   "id": "2c2e45c1-a2a2-4cb0-bf8f-967d8689560a",
   "metadata": {},
   "outputs": [
    {
     "name": "stdout",
     "output_type": "stream",
     "text": [
      "937,600,000\n"
     ]
    }
   ],
   "source": [
    "# Расставить запятые после 3-х знаков\n",
    "n = '937600000'\n",
    "cnt = 0\n",
    "rez = ''\n",
    "if len(n) <= 3:\n",
    "    print(n)\n",
    "else:\n",
    "    for i in range(len(n) - 1, -1, -1):\n",
    "        cnt += 1\n",
    "        rez += n[i]\n",
    "        if cnt % 3 == 0:\n",
    "            rez += ','\n",
    "    if rez[-1] == ',':\n",
    "        print((rez[:-1])[::-1])\n",
    "    else:    \n",
    "        print(rez[::-1])"
   ]
  },
  {
   "cell_type": "code",
   "execution_count": 21,
   "id": "1f7d3d18-34ff-4eff-8d33-ea3997aa3ab0",
   "metadata": {},
   "outputs": [
    {
     "name": "stdout",
     "output_type": "stream",
     "text": [
      "5\n"
     ]
    }
   ],
   "source": [
    "# Задача Иосифа Флавия. n человек, пронумерованных числами от 1 до n, стоят в кругу. Они начинают считаться, каждый k-й по счету человек выбывает из круга, после чего счет продолжается со следующего за ним человека.\n",
    "n = 10\n",
    "k = 2\n",
    "cnt = 0\n",
    "for i in range(1, n + 1):\n",
    "    cnt = (cnt + k) % i\n",
    "print(cnt + 1)"
   ]
  },
  {
   "cell_type": "code",
   "execution_count": 238,
   "id": "009fcbce-9a86-4dd2-a6b5-2b317b1d3e4b",
   "metadata": {},
   "outputs": [
    {
     "name": "stdout",
     "output_type": "stream",
     "text": [
      "['*', '*', 3, '*']\n"
     ]
    }
   ],
   "source": [
    "# Поменять местами цифры\n",
    "n = [int(i) for i in input().split()]\n",
    "rez = []\n",
    "if len(n) % 2 == 0:\n",
    "    for i in range(0, len(n) - 1, 2):\n",
    "        rez.append(n[i + 1])\n",
    "        rez.append(n[i])\n",
    "else:\n",
    "    for i in range(0, len(n) - 2, 2):\n",
    "        rez.append(n[i + 1])\n",
    "        rez.append(n[i])\n",
    "    rez.append(n[-1])\n",
    "print(*rez)"
   ]
  },
  {
   "cell_type": "code",
   "execution_count": 30,
   "id": "d93c65be-8d11-4b20-8ba8-5f924bb62633",
   "metadata": {},
   "outputs": [
    {
     "name": "stdout",
     "output_type": "stream",
     "text": [
      "48\n"
     ]
    }
   ],
   "source": [
    "n = [int(input()) for i in range(int(input()))]\n",
    "r = int(input())\n",
    "yes = 0\n",
    "no = 0\n",
    "for i in range(len(n)):\n",
    "    for j in range(i):\n",
    "        if n[i] * n[j] == r:\n",
    "            yes += 1\n",
    "        else:\n",
    "            no += 1\n",
    "if yes > 0 and len(n) != 1:\n",
    "    print('ДА')\n",
    "elif no > 0 or len(n) == 1:\n",
    "    print('НЕТ')\n",
    "        "
   ]
  },
  {
   "cell_type": "code",
   "execution_count": 65,
   "id": "28dd14cc-157c-4d29-bb3c-be945b5ce641",
   "metadata": {},
   "outputs": [
    {
     "name": "stdin",
     "output_type": "stream",
     "text": [
      " бумага\n",
      " камень\n"
     ]
    },
    {
     "name": "stdout",
     "output_type": "stream",
     "text": [
      "Руслан\n"
     ]
    }
   ],
   "source": [
    "# Камень ножницы бумага ящерица спок\n",
    "a = input()\n",
    "b = input()\n",
    "if a == b:\n",
    "    print('ничья')\n",
    "elif a + b in ['ножницыбумага', 'бумагакамень', 'каменьящерица', 'ящерицаСпок', 'Спокножницы', 'ножницыящерица', 'ящерицабумага', 'бумагаСпок', 'Споккамень', 'каменьножницы']:\n",
    "    print('Тимур')\n",
    "else:\n",
    "    print('Руслан')"
   ]
  },
  {
   "cell_type": "code",
   "execution_count": 200,
   "id": "4d7100ae-01fd-4c67-90e4-80c73febb7fc",
   "metadata": {},
   "outputs": [],
   "source": [
    "# найти последовательность anton\n",
    "a = ['osfjwoiergwoignaewpjofwoeijfnwfonewfoignewtowenffnoeiwowjfninoiwfen', 'anton', 'aoooooooooontooooo', 'elelelelelelelelelel', 'ntoneeee', 'tonee', '253235235a5323352n25235352t253523523235oo235523523523n', 'antoooooooooooooooooooooooooooooooooooooooooooooooooooon', 'unton']\n",
    "# a = [input() for i in range(int(input()))]\n",
    "for i in a:\n",
    "    if 'a' in i[i.find('a'):]:\n",
    "        if 'n' in i[i.find('a'):]:\n",
    "            if 't' in i[i.find('n'):]:\n",
    "                if 'o' in i[i.find('t'):]:\n",
    "                    if 'n' in i[i.find('n') + 1:]:\n",
    "                        print(a.index(i) + 1, end=' ')\n",
    "                "
   ]
  },
  {
   "cell_type": "code",
   "execution_count": 199,
   "id": "fcd64b06-434b-4856-9d9f-93de5d873902",
   "metadata": {},
   "outputs": [
    {
     "name": "stdout",
     "output_type": "stream",
     "text": [
      "1 2 7 8 "
     ]
    }
   ],
   "source": [
    "# найти последовательность anton\n",
    "a = ['osfjwoiergwoignaewpjofwoeijfnwfonewfoignewtowenffnoeiwowjfninoiwfen', 'anton', 'aoooooooooontooooo', 'elelelelelelelelelel', 'ntoneeee', 'tonee', '253235235a5323352n25235352t253523523235oo235523523523n', 'antoooooooooooooooooooooooooooooooooooooooooooooooooooon', 'unton']\n",
    "# a = [input() for i in range(int(input()))]\n",
    "for i in a:\n",
    "    j = i\n",
    "    if 'a' in i:\n",
    "        i = i[i.find('a'):]\n",
    "        if 'n' in i:\n",
    "            i = i[i.find('n'):]\n",
    "            if 't' in i[i.find('n'):]:\n",
    "                i = i[i.find('t'):]\n",
    "                if 'o' in i[i.find('t'):]:\n",
    "                    i = i[i.find('o'):]\n",
    "                    if 'n' in i[i.find('o'):]:\n",
    "                        i = i[i.find('n'):]\n",
    "                        print(a.index(j) + 1, end=' ')\n",
    "\n",
    "\n",
    "                        "
   ]
  },
  {
   "cell_type": "code",
   "execution_count": 204,
   "id": "08dbc61c-0483-46ce-be80-fb922d23390f",
   "metadata": {},
   "outputs": [
    {
     "name": "stdout",
     "output_type": "stream",
     "text": [
      "абвдезиклмнопрсту\n"
     ]
    }
   ],
   "source": [
    "word = 'роскомнадзор' + ' запретил букву'\n",
    "wnsrt = [i for i in word if i != ' ']\n",
    "wnsrt.sort()\n",
    "w = ''\n",
    "for i in wnsrt:\n",
    "    if i not in w:\n",
    "        w += i\n",
    "print(w)"
   ]
  },
  {
   "cell_type": "code",
   "execution_count": 9,
   "id": "a5229d6d-5e14-4329-ba51-5eadba0dfb77",
   "metadata": {},
   "outputs": [
    {
     "name": "stdout",
     "output_type": "stream",
     "text": [
      "['a', 'b', ['c', ['d', 'e', ['f', 'g', 'h', 'i', 'j'], 'k'], 'l'], 'm', 'n']\n"
     ]
    }
   ],
   "source": [
    "list1 = ['a', 'b', ['c', ['d', 'e', ['f', 'g'], 'k'], 'l'], 'm', 'n']\n",
    "sub_list = ['h', 'i', 'j']\n",
    "list1[2][1][2].extend(sub_list)\n",
    "print(list1)"
   ]
  },
  {
   "cell_type": "code",
   "execution_count": 13,
   "id": "b38e164c-348c-4c7a-85da-0e10b9aa2a5a",
   "metadata": {},
   "outputs": [
    {
     "name": "stdout",
     "output_type": "stream",
     "text": [
      "106\n"
     ]
    }
   ],
   "source": [
    "list1 = [[1, 7, 8], [9, 7, 102], [6, 106, 105], [100, 99, 98, 103], [1, 2, 3]]\n",
    "maximum = 0\n",
    "for i in list1:\n",
    "    if max(i) > maximum:\n",
    "        maximum = max(i)\n",
    "print(maximum)"
   ]
  },
  {
   "cell_type": "code",
   "execution_count": 14,
   "id": "e47dc4b4-7c0a-4218-b3c3-cdfb7f162b14",
   "metadata": {},
   "outputs": [
    {
     "name": "stdout",
     "output_type": "stream",
     "text": [
      "[[8, 7, 1], [102, 7, 9], [105, 106, 102], [103, 98, 99, 100], [3, 2, 1]]\n"
     ]
    }
   ],
   "source": [
    "list1 = [[1, 7, 8], [9, 7, 102], [102, 106, 105], [100, 99, 98, 103], [1, 2, 3]]\n",
    "for i in range(len(list1)):\n",
    "    list1[i].reverse()\n",
    "print(list1)"
   ]
  },
  {
   "cell_type": "code",
   "execution_count": 17,
   "id": "7ab1a148-ae0e-44ca-a162-70dd99edd9bc",
   "metadata": {},
   "outputs": [
    {
     "name": "stdout",
     "output_type": "stream",
     "text": [
      "53.3125\n"
     ]
    }
   ],
   "source": [
    "list1 = [[1, 7, 8], [9, 7, 102], [102, 106, 105], [100, 99, 98, 103], [1, 2, 3]]\n",
    "total = 0\n",
    "counter = 0\n",
    "for i in range(len(list1)):\n",
    "    total += sum(list1[i])\n",
    "    counter += len(list1[i])\n",
    "print(total / counter)"
   ]
  },
  {
   "cell_type": "code",
   "execution_count": 21,
   "id": "c2d67cf1-26ce-4a65-b270-5f9ef4d73970",
   "metadata": {},
   "outputs": [
    {
     "name": "stdout",
     "output_type": "stream",
     "text": [
      "107\n"
     ]
    }
   ],
   "source": [
    "my_list = [[12, 221, 3], [41, 5, 633], [71, 8, 99]]\n",
    "\n",
    "maximum = my_list[0][0]\n",
    "minimum = my_list[0][0]\n",
    "\n",
    "for row in my_list:\n",
    "    maximum = max(row)\n",
    "    minimum = min(row)\n",
    "\n",
    "print(maximum + minimum)"
   ]
  },
  {
   "cell_type": "code",
   "execution_count": 36,
   "id": "f8800efb-ade6-4f83-aeac-6b7ad58bce76",
   "metadata": {},
   "outputs": [
    {
     "name": "stdin",
     "output_type": "stream",
     "text": [
      " 4\n"
     ]
    },
    {
     "name": "stdout",
     "output_type": "stream",
     "text": [
      "[1]\n",
      "[1, 2]\n",
      "[1, 2, 3]\n",
      "[1, 2, 3, 4]\n"
     ]
    }
   ],
   "source": [
    "n = int(input())\n",
    "for i in range(1, n + 1):\n",
    "    print([int(i) for i in range(1, i + 1)])\n"
   ]
  },
  {
   "cell_type": "code",
   "execution_count": 39,
   "id": "68d327f2-ffda-4f09-874f-e002a4c7cb54",
   "metadata": {},
   "outputs": [
    {
     "name": "stdin",
     "output_type": "stream",
     "text": [
      " 4\n"
     ]
    },
    {
     "name": "stdout",
     "output_type": "stream",
     "text": [
      "[1, 4, 6, 4, 1]\n"
     ]
    }
   ],
   "source": [
    "n = int(input())\n",
    "a = []\n",
    "from math import *\n",
    "for i in range(n + 1):\n",
    "    a.append(comb(n, i))\n",
    "print(a)"
   ]
  },
  {
   "cell_type": "code",
   "execution_count": 59,
   "id": "940aab23-3d7d-4f63-9b05-582d305d0429",
   "metadata": {},
   "outputs": [
    {
     "name": "stdin",
     "output_type": "stream",
     "text": [
      " 4\n"
     ]
    },
    {
     "name": "stdout",
     "output_type": "stream",
     "text": [
      "1 \n",
      "1 1 \n",
      "1 2 1 \n",
      "1 3 3 1 \n"
     ]
    }
   ],
   "source": [
    "n = int(input())\n",
    "from math import *\n",
    "for i in range(n):\n",
    "    for j in range(i + 1):\n",
    "        print(comb(i, j), end=' ')\n",
    "    print()"
   ]
  },
  {
   "cell_type": "code",
   "execution_count": 2,
   "id": "21cd8cb6-c9f5-421c-84b0-74de385d8340",
   "metadata": {},
   "outputs": [
    {
     "name": "stdin",
     "output_type": "stream",
     "text": [
      " w w w o r l d g g g g r e a t t e c c h e m g g p w w\n"
     ]
    },
    {
     "name": "stdout",
     "output_type": "stream",
     "text": [
      "[['w', 'w', 'w'], ['o'], ['r'], ['l'], ['d'], ['g', 'g', 'g', 'g'], ['r'], ['e'], ['a'], ['t', 't'], ['e'], ['c', 'c'], ['h'], ['e'], ['m'], ['g', 'g'], ['p'], ['w', 'w']]\n"
     ]
    }
   ],
   "source": [
    "# группировка дубликатов по спискам\n",
    "s = input().split()\n",
    "res = [[s[0]]]\n",
    "for i in range(1, len(s)):\n",
    "    if s[i] == s[i - 1]:\n",
    "        res[-1].append(s[i])\n",
    "    else:\n",
    "        res.append([s[i]])\n",
    "print(res)"
   ]
  },
  {
   "cell_type": "code",
   "execution_count": 23,
   "id": "e015a1cd-0ab4-4ebf-bbc1-5f5b2ff2a0d0",
   "metadata": {},
   "outputs": [
    {
     "name": "stdin",
     "output_type": "stream",
     "text": [
      " a b c d e f r g b\n",
      " 1\n"
     ]
    },
    {
     "name": "stdout",
     "output_type": "stream",
     "text": [
      "[['a'], ['b'], ['c'], ['d'], ['e'], ['f'], ['r'], ['g'], ['b']]\n"
     ]
    }
   ],
   "source": [
    "# группировка создание подсписков по числу\n",
    "def chunked(s, l):\n",
    "    res = []\n",
    "    for i in range(0, len(s), l):\n",
    "        res.append(s[i:i+l])\n",
    "    return res\n",
    "massive = input().split()\n",
    "ln = int(input())\n",
    "print(chunked(massive, ln))"
   ]
  },
  {
   "cell_type": "code",
   "execution_count": 79,
   "id": "8e40af47-426e-454d-bcb6-40864a7f1ce2",
   "metadata": {},
   "outputs": [
    {
     "name": "stdin",
     "output_type": "stream",
     "text": [
      " s t e p i k r o c k s\n"
     ]
    },
    {
     "name": "stdout",
     "output_type": "stream",
     "text": [
      "[[], ['s'], ['t'], ['e'], ['p'], ['i'], ['k'], ['r'], ['o'], ['c'], ['k'], ['s'], ['s', 't'], ['t', 'e'], ['e', 'p'], ['p', 'i'], ['i', 'k'], ['k', 'r'], ['r', 'o'], ['o', 'c'], ['c', 'k'], ['k', 's'], ['s', 't', 'e'], ['t', 'e', 'p'], ['e', 'p', 'i'], ['p', 'i', 'k'], ['i', 'k', 'r'], ['k', 'r', 'o'], ['r', 'o', 'c'], ['o', 'c', 'k'], ['c', 'k', 's'], ['s', 't', 'e', 'p'], ['t', 'e', 'p', 'i'], ['e', 'p', 'i', 'k'], ['p', 'i', 'k', 'r'], ['i', 'k', 'r', 'o'], ['k', 'r', 'o', 'c'], ['r', 'o', 'c', 'k'], ['o', 'c', 'k', 's'], ['s', 't', 'e', 'p', 'i'], ['t', 'e', 'p', 'i', 'k'], ['e', 'p', 'i', 'k', 'r'], ['p', 'i', 'k', 'r', 'o'], ['i', 'k', 'r', 'o', 'c'], ['k', 'r', 'o', 'c', 'k'], ['r', 'o', 'c', 'k', 's'], ['s', 't', 'e', 'p', 'i', 'k'], ['t', 'e', 'p', 'i', 'k', 'r'], ['e', 'p', 'i', 'k', 'r', 'o'], ['p', 'i', 'k', 'r', 'o', 'c'], ['i', 'k', 'r', 'o', 'c', 'k'], ['k', 'r', 'o', 'c', 'k', 's'], ['s', 't', 'e', 'p', 'i', 'k', 'r'], ['t', 'e', 'p', 'i', 'k', 'r', 'o'], ['e', 'p', 'i', 'k', 'r', 'o', 'c'], ['p', 'i', 'k', 'r', 'o', 'c', 'k'], ['i', 'k', 'r', 'o', 'c', 'k', 's'], ['s', 't', 'e', 'p', 'i', 'k', 'r', 'o'], ['t', 'e', 'p', 'i', 'k', 'r', 'o', 'c'], ['e', 'p', 'i', 'k', 'r', 'o', 'c', 'k'], ['p', 'i', 'k', 'r', 'o', 'c', 'k', 's'], ['s', 't', 'e', 'p', 'i', 'k', 'r', 'o', 'c'], ['t', 'e', 'p', 'i', 'k', 'r', 'o', 'c', 'k'], ['e', 'p', 'i', 'k', 'r', 'o', 'c', 'k', 's'], ['s', 't', 'e', 'p', 'i', 'k', 'r', 'o', 'c', 'k'], ['t', 'e', 'p', 'i', 'k', 'r', 'o', 'c', 'k', 's'], ['s', 't', 'e', 'p', 'i', 'k', 'r', 'o', 'c', 'k', 's']]\n"
     ]
    }
   ],
   "source": [
    "def chunked(s):\n",
    "    res = [[]]\n",
    "    dop = []\n",
    "    for i in range(len(s)):\n",
    "        for j in range(len(s)):\n",
    "            dop = s[j:i+j+1]\n",
    "            if len(dop) == i + 1:\n",
    "                res.append(dop)\n",
    "    return res\n",
    "massive = input().split()\n",
    "print(chunked(massive))"
   ]
  },
  {
   "cell_type": "code",
   "execution_count": 5,
   "id": "786977e4-870a-4b83-8d88-24af3415fe94",
   "metadata": {},
   "outputs": [
    {
     "name": "stdout",
     "output_type": "stream",
     "text": [
      "a**\n"
     ]
    }
   ],
   "source": [
    "print('a'.ljust(3, '*'))"
   ]
  },
  {
   "cell_type": "code",
   "execution_count": 6,
   "id": "3e4de875-20a3-4667-9c46-14e99471bb2f",
   "metadata": {},
   "outputs": [
    {
     "name": "stdout",
     "output_type": "stream",
     "text": [
      "1 0 0 0 0 0 0 2 \n",
      "0 1 0 0 0 0 2 0 \n",
      "0 0 1 0 0 2 0 0 \n",
      "0 0 0 1 2 0 0 0 \n",
      "0 0 0 2 1 0 0 0 \n",
      "0 0 2 0 0 1 0 0 \n",
      "0 2 0 0 0 0 1 0 \n",
      "2 0 0 0 0 0 0 1 \n"
     ]
    }
   ],
   "source": [
    "n = 8\n",
    "matrix = [[0]*n for _ in range(n)]    # создаем квадратную матрицу размером 8×8\n",
    "\n",
    "for i in range(n):                    # заполняем главную диагональ единицами, а побочную двойками\n",
    "    matrix[i][i] = 1\n",
    "    matrix[i][n-i-1] = 2\n",
    "\n",
    "for r in range(n):                    # выводим матрицу\n",
    "    for c in range(n):\n",
    "        print(matrix[r][c], end=' ')\n",
    "    print()"
   ]
  },
  {
   "cell_type": "code",
   "execution_count": 10,
   "id": "a3d0f340-b34a-40f0-b1bc-875e80767b0b",
   "metadata": {},
   "outputs": [
    {
     "name": "stdin",
     "output_type": "stream",
     "text": [
      " 3\n",
      " 1 2 3\n",
      " 4 5 6\n",
      " 7 8 9\n"
     ]
    },
    {
     "name": "stdout",
     "output_type": "stream",
     "text": [
      "[[1, 2, 3], [4, 5, 6], [7, 8, 9]]\n"
     ]
    }
   ],
   "source": [
    "n = int(input())\n",
    "matrix = []\n",
    "for i in range(n):\n",
    "    temp = [int(num) for num in input().split()]\n",
    "    matrix.append(temp)\n",
    "print(matrix)"
   ]
  },
  {
   "cell_type": "code",
   "execution_count": 11,
   "id": "a5da4406-8017-4cea-ae7b-c0ff7e690832",
   "metadata": {},
   "outputs": [
    {
     "name": "stdout",
     "output_type": "stream",
     "text": [
      "9 8 7 \n",
      "6 5 4 \n",
      "3 2 1 \n"
     ]
    }
   ],
   "source": [
    "n = 3\n",
    "a = [[1, 2, 3],\n",
    "     [4, 5, 6],\n",
    "     [7, 8, 9]]\n",
    "\n",
    "for i in range(n):\n",
    "    for j in range(n):\n",
    "        print(a[n - i - 1][n - j - 1], end=' ')\n",
    "    print()"
   ]
  },
  {
   "cell_type": "code",
   "execution_count": null,
   "id": "683bf7e4-17bd-4592-b37e-56a37b8f0638",
   "metadata": {},
   "outputs": [],
   "source": [
    "# Формирование матрицы по заданному количеству строк и сполбцов путем ввода данных\n",
    "cols, rows = int(input()), int(input())\n",
    "matrix = [[input() for i in range(rows)] for i in range(cols)]\n",
    "print(matrix)"
   ]
  },
  {
   "cell_type": "code",
   "execution_count": 12,
   "id": "9a8ecee3-cae8-4b82-88f1-87315e605578",
   "metadata": {},
   "outputs": [
    {
     "name": "stdin",
     "output_type": "stream",
     "text": [
      " 3\n",
      " f\n",
      " f\n",
      " f\n",
      " g\n",
      " g\n",
      " h\n",
      " f\n",
      " d\n",
      " s\n"
     ]
    },
    {
     "name": "stdout",
     "output_type": "stream",
     "text": [
      "[['f', 'f', 'f'], ['g', 'g', 'h'], ['f', 'd', 's']]\n"
     ]
    }
   ],
   "source": [
    "# Формирование числовой квадратной матрицы по заданному количеству строк и сполбцов путем ввода данных\n",
    "mx = [[int(i) for i in input().split()] for i in range(int(input()))]"
   ]
  },
  {
   "cell_type": "code",
   "execution_count": 14,
   "id": "dafe923a-3fb7-4833-af3a-97692dfd2c12",
   "metadata": {},
   "outputs": [
    {
     "name": "stdin",
     "output_type": "stream",
     "text": [
      " 2\n",
      " 2 2 2\n",
      " 2 2 2\n"
     ]
    }
   ],
   "source": [
    "mx = [input().split() for i in range(int(input()))]"
   ]
  },
  {
   "cell_type": "code",
   "execution_count": null,
   "id": "8df15723-d187-4974-8613-685f9e5cfcb6",
   "metadata": {},
   "outputs": [],
   "source": [
    "mx = [input().split() for i in range(int(input()))]\n",
    "for i in range(len(mx)):\n",
    "    avr = 0\n",
    "    for j in range(len(mx)):\n",
    "        avr += int(mx[i][j])\n",
    "    if avr\n",
    "    print(avr)"
   ]
  },
  {
   "cell_type": "code",
   "execution_count": null,
   "id": "fd53d2ca-4a8c-4a02-b18d-755568b4201d",
   "metadata": {},
   "outputs": [],
   "source": [
    "mx = [[int(_) for _ in input().split()] for _ in range(int(input()))]\n",
    "m = -1 * 10**10\n",
    "for i in range(len(mx)):\n",
    "    for j in range(len(mx)):\n",
    "        if i >= j:\n",
    "            if mx[i][j] > m:\n",
    "                m = mx[i][j]\n",
    "print(m)"
   ]
  },
  {
   "cell_type": "code",
   "execution_count": null,
   "id": "e1c533d6-34c3-4079-ba81-a25e103c8124",
   "metadata": {},
   "outputs": [],
   "source": [
    "mx = [[int(i) for i in input().split()] for i in range(int(input()))]\n",
    "m = mx[0][0]\n",
    "for i in range(len(mx)):\n",
    "    for j in range(len(mx)):\n",
    "        if (i > j and i < len(mx) - 1 - j) or (i < j and i > len(mx) - 1 - j) or i == j or j == len(mx) - i - 1:\n",
    "            if mx[i][j] > m:\n",
    "                m = mx[i][j]\n",
    "print(m)"
   ]
  },
  {
   "cell_type": "code",
   "execution_count": null,
   "id": "8785c3d1-4126-4496-b46e-643a95b4fa9a",
   "metadata": {},
   "outputs": [],
   "source": [
    "# Суммы каждых четвертей квадратной матрицы\n",
    "mx = [[int(i) for i in input().split()] for i in range(int(input()))]\n",
    "u, r, d, l = 0, 0, 0, 0\n",
    "for i in range(len(mx)):\n",
    "    for j in range(len(mx)):\n",
    "        if i < j and i < len(mx) - 1 - j:\n",
    "            u += mx[i][j]\n",
    "        elif i < j and i > len(mx) - 1 - j:\n",
    "            r += mx[i][j]\n",
    "        elif i > j and i > len(mx) - 1 - j:\n",
    "            d += mx[i][j]\n",
    "        elif i > j and i < len(mx) - 1 - j:\n",
    "            l += mx[i][j]\n",
    "print(f'Верхняя четверть: {u}')\n",
    "print(f'Правая четверть: {r}')\n",
    "print(f'Нижняя четверть: {d}')\n",
    "print(f'Левая четверть: {l}')"
   ]
  },
  {
   "cell_type": "code",
   "execution_count": null,
   "id": "9af2bdb1-80f9-452a-8303-46b2bb955f82",
   "metadata": {},
   "outputs": [],
   "source": [
    "# Таблица умножения\n",
    "n, m = int(input()), int(input())\n",
    "mult = [[str(i * j) for i in range(m)] for j in range(n)]\n",
    "for r in range(n):\n",
    "    for c in range(m):\n",
    "        print(mult[r][c].ljust(3), end='')\n",
    "    print()"
   ]
  },
  {
   "cell_type": "code",
   "execution_count": 2,
   "id": "22dbffdf-0222-41d9-a4cb-a1a086f9a7f0",
   "metadata": {},
   "outputs": [
    {
     "name": "stdin",
     "output_type": "stream",
     "text": [
      " 3\n",
      " 4\n",
      " 2 3 4\n",
      " 1 2 6\n",
      " 5 7 9\n"
     ]
    },
    {
     "name": "stdout",
     "output_type": "stream",
     "text": [
      "2 2\n"
     ]
    }
   ],
   "source": [
    "# Напишите программу, которая находит индексы (строку и столбец) первого вхождения максимального элемента. n и m размеры матрицы\n",
    "n, m = int(input()), int(input())\n",
    "mx = [[int(i) for i in input().split()] for j in range(n)]\n",
    "rez = []\n",
    "x = -10 ** 10\n",
    "for i in range(n):\n",
    "    rez += ([(max(mx[i]), i, mx[i].index(max(mx[i])))])\n",
    "rez.sort(reverse=True)\n",
    "for i in range(len(rez) - 1):\n",
    "    if rez[i + 1][0] >= rez[i][0]:\n",
    "        continue\n",
    "    else:\n",
    "        print(rez[i][1], rez[i][2])\n",
    "        break"
   ]
  },
  {
   "cell_type": "code",
   "execution_count": null,
   "id": "845c6f42-392d-4260-afe4-d8f93a18231a",
   "metadata": {},
   "outputs": [],
   "source": [
    "# Поменять местами столбцы, заданные в ij\n",
    "n, m = int(input()), int(input())\n",
    "mx = [[int(_) for _ in input().split()] for _ in range(n)]\n",
    "ij  = [int(_) for _ in input().split()]\n",
    "for i in range(n):\n",
    "    mx[i][ij[1]], mx[i][ij[0]] = mx[i][ij[0]], mx[i][ij[1]]\n",
    "    print(*mx[i], end='\\n')"
   ]
  },
  {
   "cell_type": "code",
   "execution_count": null,
   "id": "e2596fb7-302f-4e1f-808b-cee743c23474",
   "metadata": {},
   "outputs": [],
   "source": [
    "# Симметричность матрицы относительно главной диагонали\n",
    "n = int(input())\n",
    "mx = [[int(i) for i in input().split()] for j in range(n)]\n",
    "flag = 0\n",
    "for i in range(n):\n",
    "    for j in range(n):\n",
    "        if mx[i][j] == mx[j][i]:\n",
    "            flag += 0\n",
    "        else:\n",
    "            flag += 1\n",
    "if flag == 0:\n",
    "    print('YES')\n",
    "else:\n",
    "    print('NO')"
   ]
  },
  {
   "cell_type": "code",
   "execution_count": null,
   "id": "9c354942-2cf7-4fa8-8e79-377e8edc528a",
   "metadata": {},
   "outputs": [],
   "source": [
    "# Повернуть матрицу на 90 градусов\n",
    "n = int(input())\n",
    "mx = [[int(i) for i in input().split()] for j in range(n)]\n",
    "mx.reverse()\n",
    "for i in range(n):\n",
    "    for j in range(n):\n",
    "        print(mx[j][i], end = ' ')\n",
    "    print()"
   ]
  },
  {
   "cell_type": "code",
   "execution_count": 4,
   "id": "e72c8415-d5f3-4910-babf-961e1806ec68",
   "metadata": {},
   "outputs": [
    {
     "name": "stdin",
     "output_type": "stream",
     "text": [
      " e8\n"
     ]
    },
    {
     "name": "stdout",
     "output_type": "stream",
     "text": [
      ". . . . N . . .\n",
      ". . * . . . * .\n",
      ". . . * . * . .\n",
      ". . . . . . . .\n",
      ". . . . . . . .\n",
      ". . . . . . . .\n",
      ". . . . . . . .\n",
      ". . . . . . . .\n"
     ]
    }
   ],
   "source": [
    "# Ход коня. Вводится позиция коня. Необходимо коня обозначить N и * те фигуры, которые он может бить\n",
    "xy = input()\n",
    "y = '87654321'.index(xy[1])\n",
    "x = 'abcdefgh'.index(xy[0])\n",
    "desk = [['.' for i in range(8)] for j in range(8)]\n",
    "desk[y][x] = 'N'\n",
    "for i in range(8):\n",
    "    for j in range(8):\n",
    "        if ((x - j) * (y - i)) == 2 or ((x - j) * (y - i)) == -2:\n",
    "            desk[i][j] = '*'\n",
    "for k in desk:\n",
    "    print(*k)"
   ]
  },
  {
   "cell_type": "code",
   "execution_count": null,
   "id": "326c2f41-0090-4579-95d3-74708b8fb09d",
   "metadata": {},
   "outputs": [],
   "source": [
    "n = int(input())\n",
    "mx = [[int(i) for i in input().split()] for j in range(n)]\n",
    "mx2 = []\n",
    "c = [int(i) for i in range(1, n**2 + 1)]\n",
    "flag = 0\n",
    "sum_s = 0 # сумма всех столбцов\n",
    "sum_gl_d = 0 # сумма по главной диагонали\n",
    "sum_p_d = 0 # сумма по побочной диагонали\n",
    "for i in range(n):\n",
    "    sum_p = 0 # сумма последнего столбца (контрольная), если умножить на n, то должна равняться сумме всех столбцов\n",
    "    for j in range(n):\n",
    "        sum_s += mx[j][i]\n",
    "        sum_p += mx[j][i]\n",
    "        sum_gl_d += mx[i][i]\n",
    "        sum_p_d += mx[i][n - i - 1]\n",
    "        mx2.append(mx[j][i])\n",
    "for k in c:\n",
    "    if k in mx2:\n",
    "        flag += 0\n",
    "    else:\n",
    "        flag += 1\n",
    "if sum_s == sum_gl_d == sum_p_d == sum_p * n and flag == 0:\n",
    "    print('YES')\n",
    "else:\n",
    "    print('NO')"
   ]
  },
  {
   "cell_type": "code",
   "execution_count": 8,
   "id": "a3905677-4d9f-44a1-80e7-955f608626ac",
   "metadata": {},
   "outputs": [
    {
     "name": "stdin",
     "output_type": "stream",
     "text": [
      " 7 9\n"
     ]
    },
    {
     "name": "stdout",
     "output_type": "stream",
     "text": [
      ". * . * . * . * . \n",
      "* . * . * . * . * \n",
      ". * . * . * . * . \n",
      "* . * . * . * . * \n",
      ". * . * . * . * . \n",
      "* . * . * . * . * \n",
      ". * . * . * . * . \n"
     ]
    }
   ],
   "source": [
    "n, m = input().split()\n",
    "n, m = int(n), int(m)\n",
    "for i in range(n):\n",
    "    for j in range(m):\n",
    "        if (j + i) % 2 == 0:\n",
    "            print('.', end=' ')\n",
    "        else:\n",
    "            print('*', end=' ')\n",
    "    print()"
   ]
  },
  {
   "cell_type": "code",
   "execution_count": 19,
   "id": "92e6d47e-9ee2-4992-8146-4880b1e01ea9",
   "metadata": {},
   "outputs": [
    {
     "name": "stdin",
     "output_type": "stream",
     "text": [
      " 8\n"
     ]
    },
    {
     "name": "stdout",
     "output_type": "stream",
     "text": [
      "0 0 0 0 0 0 0 1 \n",
      "0 0 0 0 0 0 1 2 \n",
      "0 0 0 0 0 1 2 2 \n",
      "0 0 0 0 1 2 2 2 \n",
      "0 0 0 1 2 2 2 2 \n",
      "0 0 1 2 2 2 2 2 \n",
      "0 1 2 2 2 2 2 2 \n",
      "1 2 2 2 2 2 2 2 \n"
     ]
    }
   ],
   "source": [
    "n = int(input())\n",
    "mx = [[0 for i in range(n)] for j in range(n)]\n",
    "for i in range(n):\n",
    "    for j in range(n):\n",
    "        if j == n - i - 1:\n",
    "            mx[i][j] = 1\n",
    "        if i > n - j - 1:\n",
    "            mx[i][j] = 2\n",
    "        print(*str(mx[i][j]), end=' ')\n",
    "    print()"
   ]
  },
  {
   "cell_type": "code",
   "execution_count": 20,
   "id": "24634cd5-7e03-437c-925d-4bab8d46cd57",
   "metadata": {},
   "outputs": [
    {
     "name": "stdin",
     "output_type": "stream",
     "text": [
      " 5 8\n"
     ]
    },
    {
     "name": "stdout",
     "output_type": "stream",
     "text": [
      "1  2  3  4  5  6  7  8  \n",
      "9  10 11 12 13 14 15 16 \n",
      "17 18 19 20 21 22 23 24 \n",
      "25 26 27 28 29 30 31 32 \n",
      "33 34 35 36 37 38 39 40 \n"
     ]
    }
   ],
   "source": [
    "n, m = input().split()\n",
    "n, m = int(n), int(m)\n",
    "rez = [int(i) for i in range(1, n * m + 1)]\n",
    "cnt = -1\n",
    "for i in range(n):\n",
    "    for j in range(m):\n",
    "        cnt += 1\n",
    "        print(str(rez[cnt]).ljust(3), end = '')\n",
    "    print()"
   ]
  },
  {
   "cell_type": "code",
   "execution_count": 23,
   "id": "14e14f0c-d297-4731-92f8-693dea82fb35",
   "metadata": {},
   "outputs": [
    {
     "name": "stdin",
     "output_type": "stream",
     "text": [
      " 5 8\n"
     ]
    },
    {
     "name": "stdout",
     "output_type": "stream",
     "text": [
      "1  2  3  4  5  6  7  8  \n",
      "9  10 11 12 13 14 15 16 \n",
      "17 18 19 20 21 22 23 24 \n",
      "25 26 27 28 29 30 31 32 \n",
      "33 34 35 36 37 38 39 40 \n"
     ]
    }
   ],
   "source": [
    "n, m = input().split()\n",
    "n, m = int(n), int(m)\n",
    "mx = [[0] * m for i in range(n)]\n",
    "cnt = 0\n",
    "for i in range(n):\n",
    "    for j in range(m):\n",
    "        cnt += 1\n",
    "        mx[i][j] += cnt\n",
    "        print(str(mx[i][j]).ljust(3), end ='')\n",
    "    print()"
   ]
  },
  {
   "cell_type": "code",
   "execution_count": 30,
   "id": "de19bfc4-10ae-49c6-97fa-a6dee51a1106",
   "metadata": {},
   "outputs": [
    {
     "name": "stdout",
     "output_type": "stream",
     "text": [
      "1  4  7  10 13 16 19 \n",
      "2  5  8  11 14 17 20 \n",
      "3  6  9  12 15 18 21 \n"
     ]
    }
   ],
   "source": [
    "n, m = 3, 7\n",
    "mx = [[0] * n for i in range(m)]\n",
    "cnt = 0\n",
    "for i in range(m):\n",
    "    for j in range(n):\n",
    "        cnt += 1\n",
    "        mx[i][j] += cnt\n",
    "for i in range(n):\n",
    "    for j in range(m):\n",
    "        print(str(mx[j][i]).ljust(3), end='')\n",
    "    print()"
   ]
  },
  {
   "cell_type": "code",
   "execution_count": 31,
   "id": "1a2041f1-1ec1-449f-bfa1-fbed9c972449",
   "metadata": {},
   "outputs": [
    {
     "name": "stdin",
     "output_type": "stream",
     "text": [
      " 10\n"
     ]
    },
    {
     "name": "stdout",
     "output_type": "stream",
     "text": [
      "1  0  0  0  0  0  0  0  0  1  \n",
      "0  1  0  0  0  0  0  0  1  0  \n",
      "0  0  1  0  0  0  0  1  0  0  \n",
      "0  0  0  1  0  0  1  0  0  0  \n",
      "0  0  0  0  1  1  0  0  0  0  \n",
      "0  0  0  0  1  1  0  0  0  0  \n",
      "0  0  0  1  0  0  1  0  0  0  \n",
      "0  0  1  0  0  0  0  1  0  0  \n",
      "0  1  0  0  0  0  0  0  1  0  \n",
      "1  0  0  0  0  0  0  0  0  1  \n"
     ]
    }
   ],
   "source": [
    "n = int(input())\n",
    "mx = [[0] * n for i in range(n)]\n",
    "for i in range(n):\n",
    "    for j in range(n):\n",
    "        if i == j:\n",
    "            mx[i][j] = 1\n",
    "        if j == n - i - 1:\n",
    "            mx[i][j] = 1\n",
    "        print(str(mx[i][j]).ljust(3), end = '')\n",
    "    print()"
   ]
  },
  {
   "cell_type": "code",
   "execution_count": 32,
   "id": "cd6b5fca-2893-47af-8e4a-85e4dd42b0bd",
   "metadata": {},
   "outputs": [
    {
     "name": "stdin",
     "output_type": "stream",
     "text": [
      " 10\n"
     ]
    },
    {
     "name": "stdout",
     "output_type": "stream",
     "text": [
      "1  1  1  1  1  1  1  1  1  1  \n",
      "0  1  1  1  1  1  1  1  1  0  \n",
      "0  0  1  1  1  1  1  1  0  0  \n",
      "0  0  0  1  1  1  1  0  0  0  \n",
      "0  0  0  0  1  1  0  0  0  0  \n",
      "0  0  0  0  1  1  0  0  0  0  \n",
      "0  0  0  1  1  1  1  0  0  0  \n",
      "0  0  1  1  1  1  1  1  0  0  \n",
      "0  1  1  1  1  1  1  1  1  0  \n",
      "1  1  1  1  1  1  1  1  1  1  \n"
     ]
    }
   ],
   "source": [
    "n = int(input())\n",
    "mx = [[0] * n for i in range(n)]\n",
    "for i in range(n):\n",
    "    for j in range(n):\n",
    "        if i == j:\n",
    "            mx[i][j] = 1\n",
    "        if j == n - i - 1:\n",
    "            mx[i][j] = 1\n",
    "        if (i < j and i < n - 1 - j) or (i > j and i > n - 1 - j):\n",
    "            mx[i][j] = 1\n",
    "        print(str(mx[i][j]).ljust(3), end = '')\n",
    "    print()"
   ]
  },
  {
   "cell_type": "code",
   "execution_count": 13,
   "id": "6bbc8a5a-781d-4202-8291-9305746589c7",
   "metadata": {},
   "outputs": [
    {
     "name": "stdin",
     "output_type": "stream",
     "text": [
      " 10 15\n"
     ]
    },
    {
     "name": "stdout",
     "output_type": "stream",
     "text": [
      "1  2  3  4  5  6  7  8  9  10 11 12 13 14 15 \n",
      "2  3  4  5  6  7  8  9  10 11 12 13 14 15 1  \n",
      "3  4  5  6  7  8  9  10 11 12 13 14 15 1  2  \n",
      "4  5  6  7  8  9  10 11 12 13 14 15 1  2  3  \n",
      "5  6  7  8  9  10 11 12 13 14 15 1  2  3  4  \n",
      "6  7  8  9  10 11 12 13 14 15 1  2  3  4  5  \n",
      "7  8  9  10 11 12 13 14 15 1  2  3  4  5  6  \n",
      "8  9  10 11 12 13 14 15 1  2  3  4  5  6  7  \n",
      "9  10 11 12 13 14 15 1  2  3  4  5  6  7  8  \n",
      "10 11 12 13 14 15 1  2  3  4  5  6  7  8  9  \n"
     ]
    }
   ],
   "source": [
    "n, m = input().split()\n",
    "n, m = int(n), int(m)\n",
    "mx = [[0] * m for i in range(n)]\n",
    "for i in range(n):\n",
    "    cnt = i % m # cnt не будет больше либо равно m\n",
    "    for j in range(m):\n",
    "        cnt += 1\n",
    "        if cnt <= m:\n",
    "            mx[i][j] = cnt\n",
    "        else:\n",
    "            cnt = 1\n",
    "            mx[i][j] = cnt\n",
    "        print(str(mx[i][j]).ljust(3), end = '')\n",
    "    print()"
   ]
  },
  {
   "cell_type": "code",
   "execution_count": 2,
   "id": "8870a3b9-ef99-46e4-9faf-065c2e58f887",
   "metadata": {},
   "outputs": [
    {
     "name": "stdin",
     "output_type": "stream",
     "text": [
      " 5 8\n"
     ]
    },
    {
     "name": "stdout",
     "output_type": "stream",
     "text": [
      "1  2  3  4  5  6  7  8  \n",
      "16 15 14 13 12 11 10 9  \n",
      "17 18 19 20 21 22 23 24 \n",
      "32 31 30 29 28 27 26 25 \n",
      "33 34 35 36 37 38 39 40 \n"
     ]
    }
   ],
   "source": [
    "# Заполнение матрицы змейкой\n",
    "n, m = [int(i) for i in input().split()]\n",
    "mx = [[0] * m for i in range(n)]\n",
    "cnt = 0\n",
    "for i in range(n):\n",
    "    for j in range(m):\n",
    "        cnt += 1\n",
    "        mx[i][j] = cnt\n",
    "for i in range(1, n, 2):\n",
    "    mx[i].reverse()        \n",
    "for i in range(n):\n",
    "    for j in range(m):\n",
    "        print(str(mx[i][j]).ljust(3), end='')\n",
    "    print()"
   ]
  },
  {
   "cell_type": "code",
   "execution_count": 21,
   "id": "0867bb28-a9c2-41ce-a6dd-3374b5852702",
   "metadata": {},
   "outputs": [
    {
     "name": "stdin",
     "output_type": "stream",
     "text": [
      " 5 6\n"
     ]
    },
    {
     "name": "stdout",
     "output_type": "stream",
     "text": [
      "1  2  4  7  11 16 \n",
      "3  5  8  12 17 21 \n",
      "6  9  13 18 22 25 \n",
      "10 14 19 23 26 28 \n",
      "15 20 24 27 29 30 \n"
     ]
    }
   ],
   "source": [
    "# Заполнение матрицы по диагонали. Сумма j и i одинакова у элементов, находящихся по диагонали.\n",
    "n, m = [int(i) for i in input().split()]\n",
    "mx = [[0] * m for i in range(n)]\n",
    "cnt = 0\n",
    "for k in range(n * m):\n",
    "    for i in range(n):\n",
    "        for j in range(m):\n",
    "            if i + j == k:\n",
    "                cnt += 1\n",
    "                mx[i][j] = cnt\n",
    "for i in range(n):\n",
    "    for j in range(m):         \n",
    "        print(str(mx[i][j]).ljust(3), end = '')\n",
    "    print()"
   ]
  },
  {
   "cell_type": "code",
   "execution_count": 138,
   "id": "197ae525-3143-46e1-9274-ab18d1baea97",
   "metadata": {},
   "outputs": [
    {
     "name": "stdin",
     "output_type": "stream",
     "text": [
      " 9 8\n"
     ]
    },
    {
     "name": "stdout",
     "output_type": "stream",
     "text": [
      "1  2  3  4  5  6  7  8  \n",
      "30 31 32 33 34 35 36 9  \n",
      "29 52 53 54 55 56 37 10 \n",
      "28 51 66 67 68 57 38 11 \n",
      "27 50 65 72 69 58 39 12 \n",
      "26 49 64 71 70 59 40 13 \n",
      "25 48 63 62 61 60 41 14 \n",
      "24 47 46 45 44 43 42 15 \n",
      "23 22 21 20 19 18 17 16 \n"
     ]
    }
   ],
   "source": [
    "# Заполнение матрицы по спирали\n",
    "n, m = [int(i) for i in input().split()]\n",
    "mx = [[0] * n for i in range(m)]\n",
    "dx, dy = 1, 0\n",
    "x, y = 0, 0\n",
    "for i in range(1, n * m + 1):\n",
    "    mx[x][y] = i\n",
    "    nx, ny = x + dx, y + dy\n",
    "    if 0 <= nx < m and 0 <= ny < n and mx[nx][ny] == 0:\n",
    "        x, y = nx, ny \n",
    "    else:\n",
    "        dx, dy = -dy, dx\n",
    "        x, y = x + dx, y + dy\n",
    "for i in range(n):\n",
    "    for j in range(m):         \n",
    "        print(str(mx[j][i]).ljust(3), end = '')\n",
    "    print()"
   ]
  },
  {
   "cell_type": "code",
   "execution_count": 149,
   "id": "e4b9cc7e-8cb5-40f9-85b2-1a78e44a18ce",
   "metadata": {},
   "outputs": [
    {
     "name": "stdin",
     "output_type": "stream",
     "text": [
      " 2 4\n",
      " 1 2 3 4\n",
      " 5 6 7 1\n",
      " \n",
      " 3 2 1 2\n",
      " 1 3 1 3\n"
     ]
    },
    {
     "name": "stdout",
     "output_type": "stream",
     "text": [
      "4 4 4 6 \n",
      "6 9 8 4 \n"
     ]
    }
   ],
   "source": [
    "# Cложить матрицы. На вход программе подаются два натуральных числа n и m — количество строк и столбцов в матрицах, затем элементы первой матрицы, затем пустая строка, далее следуют элементы второй матрицы.\n",
    "n, m = [int(i) for i in input().split()]\n",
    "mx1 = [[int(i) for i in input().split()] for j in range(n)]\n",
    "c = input()\n",
    "mx2 = [[int(i) for i in input().split()] for j in range(n)]\n",
    "for i in range(n):\n",
    "    for j in range(m):\n",
    "        s = 0\n",
    "        s = mx1[i][j] + mx2[i][j]\n",
    "        print(s, end = ' ')\n",
    "    print()"
   ]
  },
  {
   "cell_type": "code",
   "execution_count": 108,
   "id": "85242990-5314-447d-876a-7504544cdc2d",
   "metadata": {},
   "outputs": [
    {
     "name": "stdout",
     "output_type": "stream",
     "text": [
      "[[5, 4], [11, 8]]\n"
     ]
    }
   ],
   "source": [
    "# Умножение матриц\n",
    "n1, m1 = [int(i) for i in input().split()]\n",
    "mx1 = [[int(i) for i in input().split()] for j in range(n1)]\n",
    "input()\n",
    "n2, m2 = [int(i) for i in input().split()]\n",
    "mx2 = [[int(i) for i in input().split()] for j in range(n2)]\n",
    "c = [[0] * n1 for i in range(m2)]\n",
    "for i in range(n1):\n",
    "    for j in range(m2):\n",
    "        for k in range(m1):\n",
    "            c[i][j] += (mx1[i][k] * mx2[k][j])\n",
    "        print(c[i][j], end =' ')\n",
    "    print()"
   ]
  },
  {
   "cell_type": "code",
   "execution_count": 113,
   "id": "aa08e972-a207-4045-9277-fb961ccd7e0c",
   "metadata": {},
   "outputs": [
    {
     "name": "stdout",
     "output_type": "stream",
     "text": [
      "5 4 \n",
      "11 8 \n"
     ]
    }
   ],
   "source": [
    "# Умножение матриц\n",
    "n1, m1 = 2, 2\n",
    "mx1 = [[1, 2], [3, 2]]\n",
    "n2, m2 = 2, 2\n",
    "mx2 = [[3, 2], [1, 1]]\n",
    "c = [[0] * n1 for i in range(m2)]\n",
    "for i in range(n1):\n",
    "    for j in range(m2):\n",
    "        for k in range(m1):\n",
    "            c[i][j] += (mx1[i][k] * mx2[k][j])\n",
    "        print(c[i][j], end =' ')\n",
    "    print()"
   ]
  },
  {
   "cell_type": "code",
   "execution_count": 114,
   "id": "a5da1001-e6f2-470f-bb79-abdf05accb45",
   "metadata": {},
   "outputs": [
    {
     "name": "stdin",
     "output_type": "stream",
     "text": [
      " 3\n",
      " 1 2 1\n",
      " 3 3 3\n",
      " 1 2 1\n",
      " 5\n"
     ]
    },
    {
     "name": "stdout",
     "output_type": "stream",
     "text": [
      "1666 2222 1666\n",
      "3333 4443 3333\n",
      "1666 2222 1666\n"
     ]
    }
   ],
   "source": [
    "# Возведение матрицы размером n в степень m\n",
    "n = int(input())\n",
    "mx = [[int(i) for i in input().split()] for j in range(n)]\n",
    "import copy\n",
    "mx2 = copy.deepcopy(mx) # можно без deepcopy и copy. mx2 = mx\n",
    "m = int(input())\n",
    "for o in range(m - 1):\n",
    "    c = [[0] * n for i in range(n)]\n",
    "    for i in range(n):\n",
    "        for j in range(n):\n",
    "            for k in range(n):\n",
    "                c[i][j] += (mx[i][k] * mx2[k][j])\n",
    "    mx = c\n",
    "for z in c:\n",
    "    print(*z, end = '\\n')"
   ]
  },
  {
   "cell_type": "code",
   "execution_count": 137,
   "id": "f0da69a7-a415-4f54-a035-199a0342a3b3",
   "metadata": {},
   "outputs": [
    {
     "name": "stdout",
     "output_type": "stream",
     "text": [
      "[[ 5  4]\n",
      " [11  8]]\n"
     ]
    }
   ],
   "source": [
    "# Умножение матриц\n",
    "import numpy as np\n",
    "a = np.array([[1, 2], [3, 2]])\n",
    "b = np.array([[3, 2], [1, 1]])\n",
    "m = a @ b\n",
    "print(m)"
   ]
  },
  {
   "cell_type": "code",
   "execution_count": 3,
   "id": "34085e63-8451-4719-a5eb-4edfcfabdbb5",
   "metadata": {},
   "outputs": [
    {
     "name": "stdin",
     "output_type": "stream",
     "text": [
      " 15\n"
     ]
    },
    {
     "name": "stdout",
     "output_type": "stream",
     "text": [
      "* . . . . . . * . . . . . . * \n",
      ". * . . . . . * . . . . . * . \n",
      ". . * . . . . * . . . . * . . \n",
      ". . . * . . . * . . . * . . . \n",
      ". . . . * . . * . . * . . . . \n",
      ". . . . . * . * . * . . . . . \n",
      ". . . . . . * * * . . . . . . \n",
      "* * * * * * * * * * * * * * * \n",
      ". . . . . . * * * . . . . . . \n",
      ". . . . . * . * . * . . . . . \n",
      ". . . . * . . * . . * . . . . \n",
      ". . . * . . . * . . . * . . . \n",
      ". . * . . . . * . . . . * . . \n",
      ". * . . . . . * . . . . . * . \n",
      "* . . . . . . * . . . . . . * \n"
     ]
    }
   ],
   "source": [
    "n = int(input())\n",
    "from math import ceil\n",
    "for i in range(1, n + 1):\n",
    "    for j in range(1, n + 1):\n",
    "        if i - 1 == j - 1  or j - 1 == n - i or i == ceil(n / 2) or j == ceil(n / 2):\n",
    "            print('*', end=' ')\n",
    "        else:\n",
    "            print('.', end=' ')\n",
    "    print()"
   ]
  },
  {
   "cell_type": "code",
   "execution_count": null,
   "id": "c7344e4a-afef-46f8-89b6-f1ac6d3d1420",
   "metadata": {},
   "outputs": [],
   "source": [
    "# Симметричность матрицы относительно побочной диагонали\n",
    "n = int(input())\n",
    "mx = [[int(i) for i in input().split()] for j in range(n)]\n",
    "mx.reverse()\n",
    "flag = 0\n",
    "for i in range(n):\n",
    "    for j in range(n):\n",
    "        if mx[i][j] == mx[j][i]:\n",
    "            flag += 0\n",
    "        else:\n",
    "            flag += 1\n",
    "if flag == 0:\n",
    "    print('YES')\n",
    "else:\n",
    "    print('NO')"
   ]
  },
  {
   "cell_type": "code",
   "execution_count": 7,
   "id": "e50c1422-d665-4966-bbe3-1d20cbe2e16f",
   "metadata": {},
   "outputs": [
    {
     "name": "stdin",
     "output_type": "stream",
     "text": [
      " c7\n"
     ]
    },
    {
     "name": "stdout",
     "output_type": "stream",
     "text": [
      ". * * * . . . .\n",
      "* * Q * * * * *\n",
      ". * * * . . . .\n",
      "* . * . * . . .\n",
      ". . * . . * . .\n",
      ". . * . . . * .\n",
      ". . * . . . . *\n",
      ". . * . . . . .\n"
     ]
    }
   ],
   "source": [
    "# Ход ферзя\n",
    "xy = input()\n",
    "y = '87654321'.index(xy[1])\n",
    "x = 'abcdefgh'.index(xy[0])\n",
    "desk = [['.' for i in range(8)] for j in range(8)]\n",
    "for i in range(8):\n",
    "    for j in range(8):\n",
    "        if abs(y - i) == abs(x - j) or i == y or j == x:\n",
    "            desk[i][j] = '*'\n",
    "desk[y][x] = 'Q'\n",
    "for k in desk:\n",
    "    print(*k)"
   ]
  },
  {
   "cell_type": "code",
   "execution_count": 20,
   "id": "6e2e359c-f6d4-4cce-8171-16cf0dd05511",
   "metadata": {},
   "outputs": [
    {
     "name": "stdout",
     "output_type": "stream",
     "text": [
      "[('a', 'b'), ('a', 'b', 'c'), (1,), ('d',)]\n"
     ]
    }
   ],
   "source": [
    "tuples = [(), (), ('',), ('a', 'b'), (), ('a', 'b', 'c'), (1,), (), (), ('d',), ('', ''), ()]\n",
    "non_empty_tuples = [tuples[i] for i in range(len(tuples)) if len(tuples[i]) > 0 and '' not in tuples[i]]\n",
    "\n",
    "print(non_empty_tuples)"
   ]
  },
  {
   "cell_type": "code",
   "execution_count": 39,
   "id": "d56d2e8b-4fd6-45a0-a925-6f74044ca130",
   "metadata": {},
   "outputs": [
    {
     "name": "stdout",
     "output_type": "stream",
     "text": [
      "[(10, 20, 100), (40, 50, 100), (70, 80, 100), (10, 100), (1, 2, 3, 100), (5, 6, 10, 2, 1, 100)]\n"
     ]
    }
   ],
   "source": [
    "tuples = [(10, 20, 40), (40, 50, 60), (70, 80, 90), (10, 90), (1, 2, 3, 4), (5, 6, 10, 2, 1, 77)]\n",
    "new_tuples = [tuple(list(tuples[i][:-1]) + [100]) for i in range(len(tuples))]\n",
    "print(new_tuples)"
   ]
  },
  {
   "cell_type": "code",
   "execution_count": 54,
   "id": "591a5775-46fe-457a-a984-cec6f05487c0",
   "metadata": {},
   "outputs": [
    {
     "name": "stdout",
     "output_type": "stream",
     "text": [
      "[10.5, 44.0, 58.0, 2.5, 50.0]\n"
     ]
    }
   ],
   "source": [
    "numbers = ((10, 10, 10, 12), (30, 45, 56, 45), (81, 80, 39, 32), (1, 2, 3, 4), (90, 10))\n",
    "a = []\n",
    "for i in numbers:\n",
    "    a += [sum(i) / len(i)]\n",
    "print(a)"
   ]
  },
  {
   "cell_type": "code",
   "execution_count": 56,
   "id": "d8e4856c-e723-40dd-a92a-a8b5b9d812b5",
   "metadata": {},
   "outputs": [
    {
     "name": "stdin",
     "output_type": "stream",
     "text": [
      " 5\n"
     ]
    },
    {
     "name": "stdout",
     "output_type": "stream",
     "text": [
      "1\n",
      "1\n",
      "2\n",
      "3\n",
      "5\n"
     ]
    }
   ],
   "source": [
    "# Последовательность Фибоначчи\n",
    "n = int(input())\n",
    "f1, f2 = 1, 1\n",
    "for i in range(n):\n",
    "    print(f1)\n",
    "    f1, f2 = f2, f1 + f2"
   ]
  },
  {
   "cell_type": "code",
   "execution_count": 57,
   "id": "2ddf316e-223c-4b9e-bcc3-a649e984f4d3",
   "metadata": {},
   "outputs": [
    {
     "name": "stdin",
     "output_type": "stream",
     "text": [
      " 10\n"
     ]
    },
    {
     "name": "stdout",
     "output_type": "stream",
     "text": [
      "1 1 1 3 5 9 17 31 57 105 "
     ]
    }
   ],
   "source": [
    "# Последовательность Трибоначчи\n",
    "n = int(input())\n",
    "f1, f2, f3 = 1, 1, 1\n",
    "for i in range(n):\n",
    "    print(f1, end=' ')\n",
    "    f1, f2, f3 = f2, f3, f1 + f2 + f3"
   ]
  },
  {
   "cell_type": "code",
   "execution_count": 8,
   "id": "7ebd4551-3db9-4f71-bae5-db81c1280197",
   "metadata": {},
   "outputs": [
    {
     "name": "stdout",
     "output_type": "stream",
     "text": [
      "[7, 6, 5, 3, 2, 1, 0]\n"
     ]
    }
   ],
   "source": [
    "numbers = {0, 1, 1, 2, 3, 3, 3, 5, 6, 7, 7}\n",
    "\n",
    "sorted_numbers = sorted(numbers, reverse = True )\n",
    "print(sorted_numbers)"
   ]
  },
  {
   "cell_type": "code",
   "execution_count": 11,
   "id": "5f73bad8-7fbd-47bb-8df1-196581a3d12c",
   "metadata": {},
   "outputs": [
    {
     "name": "stdout",
     "output_type": "stream",
     "text": [
      "pineapple\n",
      "grapefruit\n",
      "cherry\n",
      "banana\n",
      "avocado\n",
      "apricot\n",
      "apple\n"
     ]
    }
   ],
   "source": [
    "fruits = {'apple', 'banana', 'cherry', 'avocado', 'pineapple', 'apricot', 'banana', 'avocado', 'grapefruit'}\n",
    "print(*sorted(fruits, reverse = True), sep ='\\n')"
   ]
  },
  {
   "cell_type": "code",
   "execution_count": 7,
   "id": "f75feb02-ac52-42bc-9f8e-a6e2f9feaac8",
   "metadata": {},
   "outputs": [
    {
     "name": "stdin",
     "output_type": "stream",
     "text": [
      " ..dfgfd,g g gtfhf , fh f\n"
     ]
    },
    {
     "name": "stdout",
     "output_type": "stream",
     "text": [
      "['dfgfd,g', 'g', 'gtfhf', '', 'fh', 'f']\n"
     ]
    }
   ],
   "source": [
    "t = [i.lower().strip('.,;:-?!') for i in input().split()]\n",
    "print(t)"
   ]
  },
  {
   "cell_type": "code",
   "execution_count": 9,
   "id": "b0c616e2-3e32-4935-88f8-2361196cd569",
   "metadata": {},
   "outputs": [
    {
     "name": "stdin",
     "output_type": "stream",
     "text": [
      " 3454 5464 000000000000006\n"
     ]
    },
    {
     "name": "stdout",
     "output_type": "stream",
     "text": [
      "[3454, 5464, 6]\n"
     ]
    }
   ],
   "source": [
    "a = [int(i) for i in input().split()]\n",
    "print(a)"
   ]
  },
  {
   "cell_type": "code",
   "execution_count": 2,
   "id": "331160ee-a549-4504-be3a-de226e470530",
   "metadata": {},
   "outputs": [
    {
     "name": "stdin",
     "output_type": "stream",
     "text": [
      " 956 7476 4837 3434 545 34 134 123 123\n",
      " 956 7476 4837 3434 545 34 545 65 7666\n"
     ]
    },
    {
     "name": "stdout",
     "output_type": "stream",
     "text": [
      "123 134\n"
     ]
    }
   ],
   "source": [
    "a, b = set([int(i) for i in input().split()]), set([int(i) for i in input().split()])\n",
    "print(*(a - b))"
   ]
  },
  {
   "cell_type": "code",
   "execution_count": 1,
   "id": "2f17b8bf-ebe3-4159-9a4c-931b81ff9b17",
   "metadata": {},
   "outputs": [
    {
     "name": "stdin",
     "output_type": "stream",
     "text": [
      " 1 3 5 5 6 8\n"
     ]
    },
    {
     "name": "stdout",
     "output_type": "stream",
     "text": [
      "{1, 3, 5, 6, 8}\n"
     ]
    }
   ],
   "source": [
    "digits = {int(c) for c in input().split()}\n",
    "print(digits)"
   ]
  },
  {
   "cell_type": "code",
   "execution_count": 3,
   "id": "4a2779ae-a6b7-495d-8494-9ef2fdea5784",
   "metadata": {},
   "outputs": [
    {
     "name": "stdout",
     "output_type": "stream",
     "text": [
      "1 5 6 10 12 23 30 34 45 56 67 89 90\n"
     ]
    }
   ],
   "source": [
    "items = [10, '30', 30, 10, '56', 34, '12', 90, 89, 34, 45, '67', 12, 10, 90, 23, '45', 56, '56', 1, 5, '6', 5]\n",
    "m = {int(i) for i in items}\n",
    "print(*sorted(m))"
   ]
  },
  {
   "cell_type": "code",
   "execution_count": 6,
   "id": "d5f065f8-01dc-49d0-a005-dd5579712f20",
   "metadata": {},
   "outputs": [
    {
     "name": "stdout",
     "output_type": "stream",
     "text": [
      "a c g l o p t w\n"
     ]
    }
   ],
   "source": [
    "words = ['Plum', 'Grapefruit', 'apple', 'orange', 'pomegranate', 'Cranberry', 'lime', 'Lemon', 'grapes', 'persimmon', 'tangerine', 'Watermelon', 'currant', 'Almond']\n",
    "m = {i[0].lower() for i in words}\n",
    "print(*sorted(m))"
   ]
  },
  {
   "cell_type": "code",
   "execution_count": 52,
   "id": "174734be-391c-4f60-9074-d4e3dfac6d61",
   "metadata": {},
   "outputs": [
    {
     "name": "stdout",
     "output_type": "stream",
     "text": [
      "a about accident all am and at bloom bottom by can darkest day dells died dusk entered for freak furry golden had hedge her hill hollows i if in infancy know lightning memory midges mother my nothing observation of or over past photogenic picnic pocket rambler redolent remnants save set some stand still style subsists suddenly summer sun surely suspended the those three traversed under very warmth was when which with within writing you\n"
     ]
    }
   ],
   "source": [
    "#выбрать уникальные слова\n",
    "sentence = '''My very photogenic mother died in a freak accident (picnic, lightning) when I was three, and, save for a pocket of warmth in the darkest past, nothing of her subsists within the hollows and dells of memory, over which, if you can still stand my style (I am writing under observation), the sun of my infancy had set: surely, you all know those redolent remnants of day suspended, with the midges, about some hedge in bloom or suddenly entered and traversed by the rambler, at the bottom of a hill, in the summer dusk; a furry warmth, golden midges.'''\n",
    "p = '(),.:;'\n",
    "m = [i.lower() for i in sentence.split()]\n",
    "for i in p:\n",
    "    for j in range(len(m)):\n",
    "        if i in m[j]:\n",
    "            m[j] = ''.join([k for k in m[j] if k not in p])\n",
    "print(*sorted(set(m)))"
   ]
  },
  {
   "cell_type": "code",
   "execution_count": 53,
   "id": "b264f5e7-3e52-4533-8297-8a30532157f1",
   "metadata": {},
   "outputs": [
    {
     "name": "stdout",
     "output_type": "stream",
     "text": [
      "a about accident all am and at bloom bottom by can darkest day dells died dusk entered for freak furry golden had hedge her hill hollows i if in infancy know lightning memory midges mother my nothing observation of or over past photogenic picnic pocket rambler redolent remnants save set some stand still style subsists suddenly summer sun surely suspended the those three traversed under very warmth was when which with within writing you\n"
     ]
    }
   ],
   "source": [
    "#выбрать уникальные слова\n",
    "sentence = '''My very photogenic mother died in a freak accident (picnic, lightning) when I was three, and, save for a pocket of warmth in the darkest past, nothing of her subsists within the hollows and dells of memory, over which, if you can still stand my style (I am writing under observation), the sun of my infancy had set: surely, you all know those redolent remnants of day suspended, with the midges, about some hedge in bloom or suddenly entered and traversed by the rambler, at the bottom of a hill, in the summer dusk; a furry warmth, golden midges.'''\n",
    "\n",
    "unique_words = {el.strip(' :,.!?();') for el in sentence.lower().split()}\n",
    "print(*sorted(unique_words))"
   ]
  },
  {
   "cell_type": "code",
   "execution_count": 56,
   "id": "ea3bf515-ea71-44a7-83f5-0261207e75ce",
   "metadata": {},
   "outputs": [
    {
     "name": "stdout",
     "output_type": "stream",
     "text": [
      "a all am and at by can day for had her i if in my of or set sun the was you\n"
     ]
    }
   ],
   "source": [
    "sentence = '''My very photogenic mother died in a freak accident (picnic, lightning) when I was three, and, save for a pocket of warmth in the darkest past, nothing of her subsists within the hollows and dells of memory, over which, if you can still stand my style (I am writing under observation), the sun of my infancy had set: surely, you all know those redolent remnants of day suspended, with the midges, about some hedge in bloom or suddenly entered and traversed by the rambler, at the bottom of a hill, in the summer dusk; a furry warmth, golden midges.'''\n",
    "w = [el.strip(' :,.!?();') for el in sentence.lower().split()]\n",
    "r = set()\n",
    "for i in w:\n",
    "    if len(i) < 4:\n",
    "        r.add(i)\n",
    "print(*sorted(r))"
   ]
  },
  {
   "cell_type": "code",
   "execution_count": 74,
   "id": "72be4297-e7a2-43aa-bca3-37962f444a56",
   "metadata": {},
   "outputs": [
    {
     "name": "stdout",
     "output_type": "stream",
     "text": [
      "board.png png.png python.png stepik.png\n"
     ]
    }
   ],
   "source": [
    "#вывести названия файлов с расширением png\n",
    "files = ['python.png', 'qwerty.py', 'stepik.png', 'beegeek.org', 'windows.pnp', 'pen.txt', 'phone.py', 'book.txT', 'board.pNg', 'keyBoard.jpg', 'Python.PNg', 'apple.jpeg', 'png.png', 'input.tXt', 'split.pop', 'solution.Py', 'stepik.org', 'kotlin.ko', 'github.git']\n",
    "r = set()\n",
    "for i in files:\n",
    "    if i[-4:].lower() == '.png':\n",
    "        r.add(i.lower())\n",
    "print(*sorted(r))"
   ]
  },
  {
   "cell_type": "code",
   "execution_count": 4,
   "id": "af3d1920-14d0-45b9-bc30-5fad1058e23d",
   "metadata": {},
   "outputs": [
    {
     "name": "stdout",
     "output_type": "stream",
     "text": [
      "Россия Москва\n",
      "Франция Париж\n",
      "Чехия Прага\n"
     ]
    }
   ],
   "source": [
    "capitals = {\"Россия\": \"Москва\", \"Франция\": \"Париж\", \"Чехия\": \"Прага\"}\n",
    "\n",
    "for key, value in capitals.items():\n",
    "    print(key, value)"
   ]
  },
  {
   "cell_type": "code",
   "execution_count": 16,
   "id": "f8c1077b-0d2f-4d3b-bbd7-4690b22e9982",
   "metadata": {},
   "outputs": [
    {
     "name": "stdout",
     "output_type": "stream",
     "text": [
      "Helga\n",
      "LJ\n",
      "Maria\n",
      "Riyad\n",
      "Ruslan\n"
     ]
    }
   ],
   "source": [
    "r = []\n",
    "users = [{'name': 'Todd', 'phone': '551-1414', 'email': 'todd@gmail.com'},\n",
    "         {'name': 'Helga', 'phone': '555-1618', 'email': 'helga@mail.net'},\n",
    "         {'name': 'Olivia', 'phone': '449-3141', 'email': ''},\n",
    "         {'name': 'LJ', 'phone': '555-2718', 'email': 'lj@gmail.net'},\n",
    "         {'name': 'Ruslan', 'phone': '422-145-9098', 'email': 'rus-lan.cha@yandex.ru'},\n",
    "         {'name': 'John', 'phone': '233-421-32', 'email': ''},\n",
    "         {'name': 'Lara', 'phone': '+7998-676-2532', 'email': 'g.lara89@gmail.com'},\n",
    "         {'name': 'Alina', 'phone': '+7948-799-2434', 'email': 'ali.ch.b@gmail.com'},\n",
    "         {'name': 'Robert', 'phone': '420-2011', 'email': ''},\n",
    "         {'name': 'Riyad', 'phone': '128-8890-128', 'email': 'r.mahrez@mail.net'},\n",
    "         {'name': 'Khabib', 'phone': '+7995-600-9080', 'email': 'kh.nurmag@gmail.com'},\n",
    "         {'name': 'Olga', 'phone': '6449-314-1213', 'email': ''},\n",
    "         {'name': 'Roman', 'phone': '+7459-145-8059', 'email': 'roma988@mail.ru'},\n",
    "         {'name': 'Maria', 'phone': '12-129-3148', 'email': 'm.sharapova@gmail.com'},\n",
    "         {'name': 'Fedor', 'phone': '+7445-341-0545', 'email': ''},\n",
    "         {'name': 'Tim', 'phone': '242-449-3141', 'email': 'timm.ggg@yandex.ru'}]\n",
    "for i in users:\n",
    "    if int(i['phone'][-1]) == 8:\n",
    "        r.append(i['name'])\n",
    "print(*sorted(r), sep='\\n')"
   ]
  },
  {
   "cell_type": "code",
   "execution_count": 34,
   "id": "48e38a85-618d-40cc-8492-e2a2764a91ea",
   "metadata": {},
   "outputs": [
    {
     "name": "stdout",
     "output_type": "stream",
     "text": [
      "Alina Fedor Helga John Olga Olivia Robert Roman\n"
     ]
    }
   ],
   "source": [
    "users = [{'name': 'Todd', 'phone': '551-1414', 'email': 'todd@gmail.com'},\n",
    "         {'name': 'Helga', 'phone': '555-1618'},\n",
    "         {'name': 'Olivia', 'phone': '449-3141', 'email': ''},\n",
    "         {'name': 'LJ', 'phone': '555-2718', 'email': 'lj@gmail.net'},\n",
    "         {'name': 'Ruslan', 'phone': '422-145-9098', 'email': 'rus-lan.cha@yandex.ru'},\n",
    "         {'name': 'John', 'phone': '233-421-32', 'email': ''},\n",
    "         {'name': 'Lara', 'phone': '+7998-676-2532', 'email': 'g.lara89@gmail.com'},\n",
    "         {'name': 'Alina', 'phone': '+7948-799-2434'},\n",
    "         {'name': 'Robert', 'phone': '420-2011', 'email': ''},\n",
    "         {'name': 'Riyad', 'phone': '128-8890-128', 'email': 'r.mahrez@mail.net'},\n",
    "         {'name': 'Khabib', 'phone': '+7995-600-9080', 'email': 'kh.nurmag@gmail.com'},\n",
    "         {'name': 'Olga', 'phone': '6449-314-1213', 'email': ''},\n",
    "         {'name': 'Roman', 'phone': '+7459-145-8059'},\n",
    "         {'name': 'Maria', 'phone': '12-129-3148', 'email': 'm.sharapova@gmail.com'},\n",
    "         {'name': 'Fedor', 'phone': '+7445-341-0545', 'email': ''},\n",
    "         {'name': 'Tim', 'phone': '242-449-3141', 'email': 'timm.ggg@yandex.ru'}]\n",
    "r = []\n",
    "for i in users:\n",
    "    if 'email' not in i or i['email'] == '':\n",
    "        r.append(i['name'])\n",
    "print(*sorted(r))"
   ]
  },
  {
   "cell_type": "code",
   "execution_count": 35,
   "id": "8bd93127-afbc-4c70-9328-200e5b722105",
   "metadata": {},
   "outputs": [
    {
     "name": "stdin",
     "output_type": "stream",
     "text": [
      " Interstellar\n"
     ]
    },
    {
     "name": "stdout",
     "output_type": "stream",
     "text": [
      ".. -. - . .-. ... - . .-.. .-.. .- .-. "
     ]
    }
   ],
   "source": [
    "#азбука Морзе\n",
    "letters = [c for c in 'ABCDEFGHIJKLMNOPQRSTUVWXYZ0123456789']\n",
    "morse = ['.-', '-...', '-.-.', '-..', '.', '..-.', '--.', '....', '..', '.---', '-.-', '.-..', '--', '-.', '---', '.--.', '--.-', '.-.', '...', '-', '..-', '...-', '.--', '-..-', '-.--', '--..', '-----', '.----', '..---', '...--', '....-', '.....', '-....', '--...', '---..', '----.']\n",
    "d = dict(zip(letters, morse))\n",
    "t = input().upper()\n",
    "for i in t:\n",
    "    if i in d:\n",
    "        print(d[i], end = ' ')"
   ]
  },
  {
   "cell_type": "code",
   "execution_count": 84,
   "id": "ab27c8a9-1fa3-41f8-aac3-3cfa38f3ce63",
   "metadata": {},
   "outputs": [
    {
     "name": "stdout",
     "output_type": "stream",
     "text": [
      "Время старта: 2024-04-18 12:18:21.731063\n"
     ]
    },
    {
     "name": "stdin",
     "output_type": "stream",
     "text": [
      " He said: \"I can solve this problem\".\n"
     ]
    },
    {
     "name": "stdout",
     "output_type": "stream",
     "text": [
      "44330777724443111110444022226607777666555888330844444777707777666225553361Время окончания: 2024-04-18 12:18:22.342968\n",
      "Время работы: 0:00:00.611905\n"
     ]
    }
   ],
   "source": [
    "#кнопочный телефон\n",
    "# подключаем модуль datetime\n",
    "import datetime\n",
    "\n",
    "# фиксируем и выводим время старта работы кода\n",
    "start = datetime.datetime.now()\n",
    "print('Время старта: ' + str(start))\n",
    "keyboard = {\n",
    "    \"1\": \".,?!:\",\n",
    "    \"2\": \"ABC\",\n",
    "    \"3\": \"DEF\",\n",
    "    \"4\": \"GHI\",\n",
    "    \"5\": \"JKL\",\n",
    "    \"6\": \"MNO\",\n",
    "    \"7\": \"PQRS\",\n",
    "    \"8\": \"TUV\",\n",
    "    \"9\": \"WXYZ\",\n",
    "    \"0\": \" \"\n",
    "}\n",
    "\n",
    "for letter in input().upper():\n",
    "    for key, value in keyboard.items():\n",
    "        if letter in value:\n",
    "            print(key * (value.index(letter) + 1), end=\"\")\n",
    "finish = datetime.datetime.now()\n",
    "print('Время окончания: ' + str(finish))\n",
    "\n",
    "# вычитаем время старта из времени окончания\n",
    "print('Время работы: ' + str(finish - start))"
   ]
  },
  {
   "cell_type": "code",
   "execution_count": 96,
   "id": "b3be712b-245d-4273-b8d1-8b8bab2903a8",
   "metadata": {},
   "outputs": [
    {
     "name": "stdout",
     "output_type": "stream",
     "text": [
      "Время старта: 2024-04-18 12:18:40.891065\n"
     ]
    },
    {
     "name": "stdin",
     "output_type": "stream",
     "text": [
      " He said: \"I can solve this problem\".\n"
     ]
    },
    {
     "name": "stdout",
     "output_type": "stream",
     "text": [
      "44330777724443111110444022226607777666555888330844444777707777666225553361Время окончания: 2024-04-18 12:18:41.430320\n",
      "Время работы: 0:00:00.539255\n"
     ]
    }
   ],
   "source": [
    "#кнопочный телефон версия 2\n",
    "# подключаем модуль datetime\n",
    "import datetime\n",
    "\n",
    "# фиксируем и выводим время старта работы кода\n",
    "start = datetime.datetime.now()\n",
    "print('Время старта: ' + str(start))\n",
    "d={\".\":'1', \",\":'11', \"?\":'111', \"!\":'1111', \":\":'11111',\n",
    "    \"A\":'2', \"B\":'22', \"C\":'222',\n",
    "    \"D\":'3', \"E\":'33', \"F\":'333',\n",
    "    \"G\":'4', \"H\":'44', \"I\":'444',\n",
    "    \"J\":'5', \"K\":'55', \"L\":'555',\n",
    "    \"M\":'6', \"N\":'66', \"O\":'666',\n",
    "    \"P\":'7', \"Q\":'77', \"R\":'777', \"S\": '7777',\n",
    "    \"T\":'8', \"U\":'88', \"V\":'888',\n",
    "    \"W\":'9', \"X\":'99', \"Y\":'999', \"Z\": '9999',\n",
    "    \" \":'0'\n",
    "}\n",
    "t = input().upper()\n",
    "for i in t:\n",
    "    if i in d:\n",
    "        print(d[i], end = '')\n",
    "finish = datetime.datetime.now()\n",
    "print('Время окончания: ' + str(finish))\n",
    "\n",
    "# вычитаем время старта из времени окончания\n",
    "print('Время работы: ' + str(finish - start))"
   ]
  },
  {
   "cell_type": "code",
   "execution_count": 98,
   "id": "b501d2e8-0ceb-41c9-898f-12e5abad9c16",
   "metadata": {},
   "outputs": [
    {
     "name": "stdout",
     "output_type": "stream",
     "text": [
      "{9: 1, 8: 1, 32: 2, 1: 5, 10: 4, 23: 3, 4: 2, 2: 6}\n"
     ]
    }
   ],
   "source": [
    "#подсчет повторов в списке\n",
    "numbers = [9, 8, 32, 1, 10, 1, 10, 23, 1, 4, 10, 4, 2, 2, 2, 2, 1, 10, 1, 2, 2, 32, 23, 23]\n",
    "\n",
    "result = {}\n",
    "for num in numbers:\n",
    "    if num not in result:\n",
    "        result[num] = 1\n",
    "    else:\n",
    "        result[num] += 1\n",
    "print(result)"
   ]
  },
  {
   "cell_type": "code",
   "execution_count": 99,
   "id": "9c044e91-dd71-474e-b685-bb9bd34bc66f",
   "metadata": {},
   "outputs": [
    {
     "name": "stdout",
     "output_type": "stream",
     "text": [
      "{9: 1, 8: 1, 32: 2, 1: 5, 10: 4, 23: 3, 4: 2, 2: 6}\n"
     ]
    }
   ],
   "source": [
    "#подсчет повторов в списке\n",
    "numbers = [9, 8, 32, 1, 10, 1, 10, 23, 1, 4, 10, 4, 2, 2, 2, 2, 1, 10, 1, 2, 2, 32, 23, 23]\n",
    "\n",
    "result = {}\n",
    "for num in numbers:\n",
    "    result[num] = result.get(num, 0) + 1\n",
    "print(result)"
   ]
  },
  {
   "cell_type": "code",
   "execution_count": 108,
   "id": "e5412671-684d-48a4-86a5-6920f3d1736f",
   "metadata": {},
   "outputs": [
    {
     "name": "stdout",
     "output_type": "stream",
     "text": [
      "{'name': 'Bob', 'age': 30, 'job': 'Dev', 'city': 'New York', 'email': 'bob@web.com'}\n",
      "{'name': 'Bob', 'age': 25, 'job': 'Dev'}\n"
     ]
    }
   ],
   "source": [
    "info1 = {'name': 'Bob',\n",
    "        'age': 25,\n",
    "        'job': 'Dev'}\n",
    "\n",
    "info2 = {'age': 30,\n",
    "        'city': 'New York',\n",
    "        'email': 'bob@web.com'}\n",
    "\n",
    "print(info1 | info2)\n",
    "\n",
    "print(info1)"
   ]
  },
  {
   "cell_type": "code",
   "execution_count": 10,
   "id": "16b5caed-533b-4991-a8d2-eb316eead21e",
   "metadata": {},
   "outputs": [
    {
     "name": "stdout",
     "output_type": "stream",
     "text": [
      "{1: 1, 2: 4, 3: 9, 4: 16, 5: 25, 6: 36, 7: 49, 8: 64, 9: 81, 10: 100, 11: 121, 12: 144, 13: 169, 14: 196, 15: 225}\n"
     ]
    }
   ],
   "source": [
    "result = {}\n",
    "for i in range(1, 16):\n",
    "    result[i] = result.get(i, i**2)\n",
    "print(result)"
   ]
  },
  {
   "cell_type": "code",
   "execution_count": 35,
   "id": "af084cac-b77a-4fcf-b758-f292bb1fc784",
   "metadata": {},
   "outputs": [
    {
     "name": "stdout",
     "output_type": "stream",
     "text": [
      "{'a': 400, 'z': 999, 'b': 400, 'c': 312, 'd': 445, 'e': 98, 't': 853, 'q': 34, 'f': 90, 'm': 230, 'p': 123, 'w': 111}\n"
     ]
    }
   ],
   "source": [
    "dict1 = {'a': 100, 'z': 333, 'b': 200, 'c': 300, 'd': 45, 'e': 98, 't': 76, 'q': 34, 'f': 90, 'm': 230}\n",
    "dict2 = {'a': 300, 'b': 200, 'd': 400, 't': 777, 'c': 12, 'p': 123, 'w': 111, 'z': 666}\n",
    "result = {}\n",
    "for i, j in dict1.items():\n",
    "    if i in dict2:\n",
    "        result[i] = j + dict2[i]\n",
    "dict1.update(result)\n",
    "dict2.update(result)\n",
    "result = dict1 | dict2\n",
    "print(result)"
   ]
  },
  {
   "cell_type": "code",
   "execution_count": 38,
   "id": "5bfda4d6-141d-4dad-bcb8-a27e872d709b",
   "metadata": {},
   "outputs": [
    {
     "name": "stdout",
     "output_type": "stream",
     "text": [
      "{'f': 4, 'o': 9, 't': 9, 'b': 3, 'a': 8, 'l': 6, 'c': 6, 'y': 2, 'e': 10, 'r': 8, 'p': 4, 'u': 2, 'n': 6, 'k': 2, 'x': 1, 'i': 7, 'v': 1, 's': 4, 'h': 2, 'm': 3, 'd': 2}\n"
     ]
    }
   ],
   "source": [
    "text = 'footballcyberpunkextraterritorialityconversationalistblockophthalmoscopicinterdependencemamauserfff'\n",
    "result = {}\n",
    "for i in text:\n",
    "    result[i] = result.get(i, 0) + 1\n",
    "print(result)"
   ]
  },
  {
   "cell_type": "code",
   "execution_count": 44,
   "id": "fd230dc1-bb57-4af1-91cc-da968c6d83a4",
   "metadata": {},
   "outputs": [
    {
     "name": "stdout",
     "output_type": "stream",
     "text": [
      "banana\n"
     ]
    }
   ],
   "source": [
    "s = 'orange strawberry barley gooseberry apple apricot barley currant orange melon pomegranate banana banana orange barley apricot plum grapefruit banana quince strawberry barley grapefruit banana grapes melon strawberry apricot currant currant gooseberry raspberry apricot currant orange lime quince grapefruit barley banana melon pomegranate barley banana orange barley apricot plum banana quince lime grapefruit strawberry gooseberry apple barley apricot currant orange melon pomegranate banana banana orange apricot barley plum banana grapefruit banana quince currant orange melon pomegranate barley plum banana quince barley lime grapefruit pomegranate barley'\n",
    "l = s.split()\n",
    "result = {}\n",
    "m = 1\n",
    "f = 'z'\n",
    "for i in l:\n",
    "    result[i] = result.get(i, 0) + 1\n",
    "for i, j in result.items():\n",
    "    if j >= m and i < f:\n",
    "        m = j\n",
    "        f = i\n",
    "print(f)"
   ]
  },
  {
   "cell_type": "code",
   "execution_count": 20,
   "id": "edbf6de4-20cc-4dce-ab33-b1626527599d",
   "metadata": {},
   "outputs": [
    {
     "name": "stdout",
     "output_type": "stream",
     "text": [
      "{('Parker', 'Wilson', 50): ['Hatiko'], ('Josh', 'King', 25): ['Rusty', 'Balto', 'Barry', 'Lassie'], ('John', 'Smith', 28): ['Fido'], ('Jake', 'Smirnoff', 18): ['Butch'], ('Emma', 'Wright', 18): ['Odi'], ('Hannah', 'Taylor', 40): ['Snape'], ('Martha', 'Robinson', 73): ['Horry', 'Chase'], ('Alex', 'Martinez', 65): ['Giro'], ('Simon', 'Nevel', 32): ['Zooma', 'Rocky'], ('Martha', 'Williams', 38): ['Ace']}\n"
     ]
    }
   ],
   "source": [
    "pets = [('Hatiko', 'Parker', 'Wilson', 50),\n",
    "        ('Rusty', 'Josh', 'King', 25),\n",
    "        ('Fido', 'John', 'Smith', 28),\n",
    "        ('Butch', 'Jake', 'Smirnoff', 18),\n",
    "        ('Odi', 'Emma', 'Wright', 18),\n",
    "        ('Balto', 'Josh', 'King', 25),\n",
    "        ('Barry', 'Josh', 'King', 25),\n",
    "        ('Snape', 'Hannah', 'Taylor', 40),\n",
    "        ('Horry', 'Martha', 'Robinson', 73),\n",
    "        ('Giro', 'Alex', 'Martinez', 65),\n",
    "        ('Zooma', 'Simon', 'Nevel', 32),\n",
    "        ('Lassie', 'Josh', 'King', 25),\n",
    "        ('Chase', 'Martha', 'Robinson', 73),\n",
    "        ('Ace', 'Martha', 'Williams', 38),\n",
    "        ('Rocky', 'Simon', 'Nevel', 32)]\n",
    "result = {}\n",
    "for i in range(len(pets)):\n",
    "    result[pets[i][1:]] = []\n",
    "for i in range(len(pets)):\n",
    "    result[pets[i][1:]] += [pets[i][0]]\n",
    "print(result)"
   ]
  },
  {
   "cell_type": "code",
   "execution_count": 28,
   "id": "ea1c7e36-6861-476e-8708-dc9043d112a8",
   "metadata": {},
   "outputs": [
    {
     "name": "stdin",
     "output_type": "stream",
     "text": [
      " London is the capital of Great Britain. More than six million people live in London. London lies on both banks of the river Thames. It is the largest city in Europe and one of the largest cities in the world. London is not only the capital of the country, it is also a very big port, one of the greatest commercial centres in the world, a university city, and the seat of the government of Great Britain!\n"
     ]
    },
    {
     "name": "stdout",
     "output_type": "stream",
     "text": [
      "also\n"
     ]
    }
   ],
   "source": [
    "#выбрать слово повторяющееся наименьшее число раз. Если таких слов несколько, выбрать то, которое лексиграфически меньше\n",
    "a = input()\n",
    "a = [i.strip(' :,.!?();') for i in a.lower().split()]\n",
    "c = len(a)\n",
    "f = min(a)\n",
    "res = {}\n",
    "for i in a:\n",
    "    res[i] = res.get(i, 0) + 1\n",
    "for i, j in res.items():\n",
    "    if j < c:\n",
    "        c = j\n",
    "        f = i\n",
    "    elif j == c:\n",
    "        if i < f:\n",
    "            f = i\n",
    "print(f)"
   ]
  },
  {
   "cell_type": "code",
   "execution_count": 27,
   "id": "1dc1df39-9a0a-4cc4-bbb7-f8fe2ad51afa",
   "metadata": {},
   "outputs": [
    {
     "name": "stdin",
     "output_type": "stream",
     "text": [
      " a b c a a d c\n"
     ]
    },
    {
     "name": "stdout",
     "output_type": "stream",
     "text": [
      "a b c a_1 a_2 d c_1 "
     ]
    }
   ],
   "source": [
    "#заменить дубликаты на _n\n",
    "a = input().split()\n",
    "r = {}\n",
    "for i in a:\n",
    "    r[i] = r.get(i, 0) + 1\n",
    "    if r[i] == 1:\n",
    "        print(i, end=' ')\n",
    "    else:\n",
    "        print(i + '_' + str(r[i] - 1), end=' ')"
   ]
  },
  {
   "cell_type": "code",
   "execution_count": 10,
   "id": "0aa2edff-418b-498b-84a3-66494d63aae2",
   "metadata": {},
   "outputs": [
    {
     "name": "stdin",
     "output_type": "stream",
     "text": [
      " 5\n",
      " Змея: язык программирования Python\n",
      " Баг: от англ. bug — жучок, клоп, ошибка в программе\n",
      " Конфа: конференция\n",
      " Костыль: код, который нужен, чтобы исправить несовершенство ранее написанного кода\n",
      " Бета: бета-версия, приложение на стадии публичного тестирования\n",
      " 3\n",
      " Змея\n"
     ]
    },
    {
     "name": "stdout",
     "output_type": "stream",
     "text": [
      "язык программирования Python\n"
     ]
    },
    {
     "name": "stdin",
     "output_type": "stream",
     "text": [
      " Жаба\n"
     ]
    },
    {
     "name": "stdout",
     "output_type": "stream",
     "text": [
      "Не найдено\n"
     ]
    },
    {
     "name": "stdin",
     "output_type": "stream",
     "text": [
      " костыль\n"
     ]
    },
    {
     "name": "stdout",
     "output_type": "stream",
     "text": [
      "код, который нужен, чтобы исправить несовершенство ранее написанного кода\n"
     ]
    }
   ],
   "source": [
    "#Создание словаря и поиск по словарю\n",
    "d = [input().split(': ') for i in range(int(input()))]\n",
    "for i in d:\n",
    "    i[0] = i[0].lower()\n",
    "d = dict(d)\n",
    "for i in range(int(input())):\n",
    "    w = input().lower()\n",
    "    print(d.get(w, 'Не найдено'))"
   ]
  },
  {
   "cell_type": "code",
   "execution_count": 29,
   "id": "754e29e3-2bb3-4336-99f5-073849eee0da",
   "metadata": {},
   "outputs": [
    {
     "name": "stdin",
     "output_type": "stream",
     "text": [
      " qwerty! poiu?\n",
      " ggg\n"
     ]
    },
    {
     "name": "stdout",
     "output_type": "stream",
     "text": [
      "['e', 'i', 'o', 'p', 'q', 'r', 't', 'u', 'w', 'y']\n",
      "['g', 'g', 'g']\n"
     ]
    }
   ],
   "source": [
    "#анаграммы\n",
    "a, b = input(), input()\n",
    "a, b = sorted([i for i in a.lower() if i.isalpha()]), sorted([i for i in b.lower() if i.isalpha()])\n",
    "if a == b:\n",
    "    print('YES')\n",
    "else:\n",
    "    print('NO')"
   ]
  },
  {
   "cell_type": "code",
   "execution_count": 44,
   "id": "045381ad-dc4a-42bf-8217-f8516e59c088",
   "metadata": {},
   "outputs": [
    {
     "name": "stdin",
     "output_type": "stream",
     "text": [
      " 2\n",
      " Германия Берлин Мюнхен Гамбург Дортмунд\n",
      " Нидерланды Амстердам Гаага Роттердам Алкмар\n",
      " 2\n",
      " Алкмар\n"
     ]
    },
    {
     "name": "stdout",
     "output_type": "stream",
     "text": [
      "Нидерланды\n"
     ]
    },
    {
     "name": "stdin",
     "output_type": "stream",
     "text": [
      " Гамбург\n"
     ]
    },
    {
     "name": "stdout",
     "output_type": "stream",
     "text": [
      "Германия\n"
     ]
    }
   ],
   "source": [
    "#Словарь из нескольких значений\n",
    "d = {}\n",
    "for i in range(int(input())):\n",
    "    l = [i for i in input().split()]\n",
    "    d[l[0]] = l[1:]\n",
    "for k in range(int(input())):\n",
    "    w = input()\n",
    "    for i, j in d.items():\n",
    "        if w in j:\n",
    "            print(i)"
   ]
  },
  {
   "cell_type": "code",
   "execution_count": 50,
   "id": "5200cd00-0765-4cbf-a062-4c4b19cf786d",
   "metadata": {},
   "outputs": [
    {
     "name": "stdin",
     "output_type": "stream",
     "text": [
      " 3\n",
      " 79184219577 Женя\n",
      " 79194249271 Руслан\n",
      " 79281234567 Женя\n",
      " 3\n",
      " Руслан\n"
     ]
    },
    {
     "name": "stdout",
     "output_type": "stream",
     "text": [
      "79194249271\n"
     ]
    },
    {
     "name": "stdin",
     "output_type": "stream",
     "text": [
      " женя\n"
     ]
    },
    {
     "name": "stdout",
     "output_type": "stream",
     "text": [
      "79184219577 79281234567\n"
     ]
    },
    {
     "name": "stdin",
     "output_type": "stream",
     "text": [
      " Рустам\n"
     ]
    },
    {
     "name": "stdout",
     "output_type": "stream",
     "text": [
      "абонент не найден\n"
     ]
    }
   ],
   "source": [
    "#Создание словаря с добавлением значений к существующим ключам\n",
    "d = {}\n",
    "for i in range(int(input())):\n",
    "    l = input().split()\n",
    "    if l[1].lower() in d:\n",
    "        d[l[1].lower()] += ' ' + l[0]\n",
    "    else:\n",
    "        d[l[1].lower()] = l[0]\n",
    "for i in range(int(input())):\n",
    "    w = input().lower()\n",
    "    print(d.get(w, 'абонент не найден'))"
   ]
  },
  {
   "cell_type": "code",
   "execution_count": 51,
   "id": "ef8b1c62-2209-4e38-a584-477ffb3a67ca",
   "metadata": {},
   "outputs": [
    {
     "name": "stdin",
     "output_type": "stream",
     "text": [
      " *!*!*?\n",
      " 3\n",
      " а: 3\n",
      " н: 2\n",
      " с: 1\n"
     ]
    },
    {
     "name": "stdout",
     "output_type": "stream",
     "text": [
      "ананас"
     ]
    }
   ],
   "source": [
    "#дешифровка методом частного анализа\n",
    "crypt_text = input()\n",
    "crypt = {}\n",
    "for i in crypt_text:\n",
    "    crypt[i] = crypt.get(i, 0) + 1\n",
    "d = dict(input().split(': ') for i in range(int(input())))\n",
    "for k in crypt_text:\n",
    "    for i, j in crypt.items():\n",
    "        for n, m in d.items():\n",
    "            if k == i and int(j) == int(m):\n",
    "                print(n, end = '')"
   ]
  },
  {
   "cell_type": "code",
   "execution_count": 6,
   "id": "2e6be6c5-154f-49e3-a37d-a88fbfa8af42",
   "metadata": {},
   "outputs": [
    {
     "name": "stdout",
     "output_type": "stream",
     "text": [
      "{0: 1156, 1: 100, 2: 16, 3: 36, 4: 100, 5: 529, 6: 8100, 7: 10000, 8: 441, 9: 1225, 10: 9025, 11: 1, 12: 1296, 13: 1444, 14: 361, 15: 1, 16: 36, 17: 7569}\n"
     ]
    }
   ],
   "source": [
    "numbers = [34, 10, -4, 6, 10, 23, -90, 100, 21, -35, -95, 1, 36, -38, -19, 1, 6, 87]\n",
    "\n",
    "result = {i: numbers[i] ** 2 for i in range(len(numbers))}\n",
    "print(result)"
   ]
  },
  {
   "cell_type": "code",
   "execution_count": 10,
   "id": "95da13c3-6d35-469f-b61b-716e449d63c5",
   "metadata": {},
   "outputs": [
    {
     "name": "stdout",
     "output_type": "stream",
     "text": [
      "{'c1': 'Red', 'c2': 'Grey', 'c4': 'Green', 'c5': 'Yellow', 'c6': 'Pink', 'c7': 'Orange', 'c9': 'White', 'c10': 'Black', 'c11': 'Violet', 'c12': 'Gold', 'c14': 'Amber', 'c15': 'Azure', 'c16': 'Beige', 'c17': 'Bronze', 'c19': 'Lilac', 'c20': 'Pearl', 'c22': 'Sand'}\n"
     ]
    }
   ],
   "source": [
    "colors = {'c1': 'Red', 'c2': 'Grey', 'c3': None, 'c4': 'Green', 'c5': 'Yellow', 'c6': 'Pink', 'c7': 'Orange', 'c8': None, 'c9': 'White', 'c10': 'Black', 'c11': 'Violet', 'c12': 'Gold', 'c13': None, 'c14': 'Amber', 'c15': 'Azure', 'c16': 'Beige', 'c17': 'Bronze', 'c18': None, 'c19': 'Lilac', 'c20': 'Pearl', 'c21': None, 'c22': 'Sand', 'c23': None}\n",
    "\n",
    "result = {i: colors[i] for i in colors if colors[i] != None}\n",
    "print(result)"
   ]
  },
  {
   "cell_type": "code",
   "execution_count": 3,
   "id": "0285cf92-aeb8-4d6b-8e1d-5a80f861b8ab",
   "metadata": {},
   "outputs": [
    {
     "name": "stdout",
     "output_type": "stream",
     "text": [
      "{'timur': 17, 'larisa': 19, 'ronald': 76, 'dorothy': 62, 'harold': 36, 'rosaly': 18, 'rustam': 89, 'sveta': 75, 'anna': 55}\n"
     ]
    }
   ],
   "source": [
    "favorite_numbers = {'timur': 17, 'ruslan': 7, 'larisa': 19, 'roman': 123, 'rebecca': 293, 'ronald': 76, 'dorothy': 62, 'harold': 36, 'matt': 314, 'kim': 451, 'rosaly': 18, 'rustam': 89, 'soltan': 111, 'amir': 654, 'dima': 390, 'amiran': 777, 'geor': 999, 'sveta': 75, 'rita': 909, 'kirill': 404, 'olga': 271, 'anna': 55, 'madlen': 876}\n",
    "\n",
    "result = {i: favorite_numbers[i] for i in favorite_numbers if len(str(favorite_numbers[i])) == 2}\n",
    "print(result)\n"
   ]
  },
  {
   "cell_type": "code",
   "execution_count": 4,
   "id": "8158edbe-3ac9-47f9-84d1-6c0d6f26f8a4",
   "metadata": {},
   "outputs": [
    {
     "name": "stdout",
     "output_type": "stream",
     "text": [
      "{'January': 1, 'February': 2, 'March': 3, 'April': 4, 'May': 5, 'June': 6, 'July': 7, 'August': 8, 'September': 9, 'October': 10, 'November': 11, 'December': 12}\n"
     ]
    }
   ],
   "source": [
    "months = {1: 'January', 2: 'February', 3: 'March', 4: 'April', 5: 'May', 6: 'June', 7: 'July', 8: 'August', 9: 'September', 10: 'October', 11: 'November', 12: 'December'}\n",
    "\n",
    "result = {months[i]: i for i in months}\n",
    "print(result)"
   ]
  },
  {
   "cell_type": "code",
   "execution_count": 39,
   "id": "f934f26e-1316-48c2-8db4-8afc09405682",
   "metadata": {},
   "outputs": [
    {
     "name": "stdout",
     "output_type": "stream",
     "text": [
      "{1: 'men', 2: 'kind', 90: 'number', 0: 'sun', 34: 'book', 56: 'mountain', 87: 'wood', 54: 'car', 3: 'island', 88: 'power', 7: 'box', 17: 'star', 101: 'ice'}\n"
     ]
    }
   ],
   "source": [
    "s = '1:men 2:kind 90:number 0:sun 34:book 56:mountain 87:wood 54:car 3:island 88:power 7:box 17:star 101:ice'\n",
    "t = s.replace(':', ' ').split()\n",
    "result = {int(t[i]): t[i + 1] for i in range(0, (len(t) - 1), 2)}\n",
    "print(result)"
   ]
  },
  {
   "cell_type": "code",
   "execution_count": 48,
   "id": "70690e12-6a01-431c-986d-e6a97457fc4b",
   "metadata": {},
   "outputs": [
    {
     "name": "stdout",
     "output_type": "stream",
     "text": [
      "{34: [1, 2, 17, 34], 10: [1, 2, 5, 10], 4: [1, 2, 4], 6: [1, 2, 3, 6], 23: [1, 23], 90: [1, 2, 3, 5, 6, 9, 10, 15, 18, 30, 45, 90], 100: [1, 2, 4, 5, 10, 20, 25, 50, 100], 21: [1, 3, 7, 21], 35: [1, 5, 7, 35], 95: [1, 5, 19, 95], 1: [1], 36: [1, 2, 3, 4, 6, 9, 12, 18, 36], 38: [1, 2, 19, 38], 19: [1, 19], 87: [1, 3, 29, 87], 1000: [1, 2, 4, 5, 8, 10, 20, 25, 40, 50, 100, 125, 200, 250, 500, 1000], 13456: [1, 2, 4, 8, 16, 29, 58, 116, 232, 464, 841, 1682, 3364, 6728, 13456], 360: [1, 2, 3, 4, 5, 6, 8, 9, 10, 12, 15, 18, 20, 24, 30, 36, 40, 45, 60, 72, 90, 120, 180, 360]}\n"
     ]
    }
   ],
   "source": [
    "numbers = [34, 10, 4, 6, 10, 23, 90, 100, 21, 35, 95, 1, 36, 38, 19, 1, 6, 87, 1000, 13456, 360]\n",
    "result = {i: [j for j in range(1, i + 1) if i % j == 0] for i in numbers}\n",
    "print(result)"
   ]
  },
  {
   "cell_type": "code",
   "execution_count": 49,
   "id": "26cbed67-c40f-4322-a1ba-84fe2578e87b",
   "metadata": {},
   "outputs": [
    {
     "name": "stdout",
     "output_type": "stream",
     "text": [
      "{'hello': [104, 101, 108, 108, 111], 'bye': [98, 121, 101], 'yes': [121, 101, 115], 'no': [110, 111], 'python': [112, 121, 116, 104, 111, 110], 'apple': [97, 112, 112, 108, 101], 'maybe': [109, 97, 121, 98, 101], 'stepik': [115, 116, 101, 112, 105, 107], 'beegeek': [98, 101, 101, 103, 101, 101, 107]}\n"
     ]
    }
   ],
   "source": [
    "words = ['hello', 'bye', 'yes', 'no', 'python', 'apple', 'maybe', 'stepik', 'beegeek']\n",
    "result = {i: [ord(j) for j in i] for i in words}\n",
    "print(result)"
   ]
  },
  {
   "cell_type": "code",
   "execution_count": 51,
   "id": "8b21ec10-e869-4b5a-bb56-d5ce1ab5bfbc",
   "metadata": {},
   "outputs": [
    {
     "name": "stdout",
     "output_type": "stream",
     "text": [
      "{0: 'A', 2: 'C', 3: 'D', 4: 'E', 6: 'G', 8: 'I', 9: 'J', 10: 'K', 11: 'L', 13: 'N', 14: 'O', 15: 'P', 16: 'Q', 18: 'S', 20: 'U', 22: 'W', 23: 'X', 26: 'Z'}\n"
     ]
    }
   ],
   "source": [
    "letters = {0: 'A', 1: 'B', 2: 'C', 3: 'D', 4: 'E', 5: 'F', 6: 'G', 7: 'H', 8: 'I', 9: 'J', 10: 'K', 11: 'L', 12: 'M', 13: 'N', 14: 'O', 15: 'P', 16: 'Q', 17: 'R', 18: 'S', 19: 'T', 20: 'U', 21: 'V', 22: 'W', 23: 'X', 24: 'Y', 26: 'Z'}\n",
    "remove_keys = [1, 5, 7, 12, 17, 19, 21, 24]\n",
    "result = {i: letters[i] for i in letters if i not in remove_keys}\n",
    "print(result)"
   ]
  },
  {
   "cell_type": "code",
   "execution_count": 53,
   "id": "8932d1c0-35b4-411e-8c64-9ac604a68d7e",
   "metadata": {},
   "outputs": [
    {
     "name": "stdout",
     "output_type": "stream",
     "text": [
      "{'Soltan': (192, 68), 'Roman': (175, 70), 'Anna': (172, 67), 'Mary': (175, 69)}\n"
     ]
    }
   ],
   "source": [
    "students = {'Timur': (170, 75), 'Ruslan': (180, 105), 'Soltan': (192, 68), 'Roman': (175, 70), 'Madlen': (160, 50), 'Stefani': (165, 70), 'Tom': (190, 90), 'Jerry': (180, 87), 'Anna': (172, 67), 'Scott': (168, 78), 'John': (186, 79), 'Alex': (195, 120), 'Max': (200, 110), 'Barak': (180, 89), 'Donald': (170, 80), 'Rustam': (186, 100), 'Alice': (159, 59), 'Rita': (170, 80), 'Mary': (175, 69), 'Jane': (190, 80)}\n",
    "result = {i: students[i] for i in students if students[i][0] > 167 and students[i][1] < 75}\n",
    "print(result)"
   ]
  },
  {
   "cell_type": "code",
   "execution_count": 54,
   "id": "3fa011f2-4205-4c71-9e24-cd9d9477632e",
   "metadata": {},
   "outputs": [
    {
     "name": "stdout",
     "output_type": "stream",
     "text": [
      "{1: (2, 3), 4: (5, 6), 7: (8, 9), 10: (11, 12), 13: (14, 15), 16: (17, 18), 19: (20, 21), 22: (23, 24), 25: (26, 27), 28: (29, 30), 31: (32, 33), 34: (35, 36)}\n"
     ]
    }
   ],
   "source": [
    "tuples = [(1, 2, 3), (4, 5, 6), (7, 8, 9), (10, 11, 12), (13, 14, 15), (16, 17, 18), (19, 20, 21), (22, 23, 24), (25, 26, 27), (28, 29, 30), (31, 32, 33), (34, 35, 36)]\n",
    "result = {i[0]: tuple(i[1:]) for i in tuples}\n",
    "print(result)\n"
   ]
  },
  {
   "cell_type": "code",
   "execution_count": 126,
   "id": "9d091295-c560-44f7-983e-beef7c95f99e",
   "metadata": {},
   "outputs": [
    {
     "name": "stdout",
     "output_type": "stream",
     "text": [
      "[{'S001': {'Camila Rodriguez': 86}}, {'S002': {'Juan Cruz': 98}}, {'S003': {'Dan Richards': 89}}, {'S004': {'Sam Boyle': 92}}, {'S005': {'Batista Cesare': 45}}, {'S006': {'Francesco Totti': 67}}, {'S007': {'Khalid Hussain': 89}}, {'S008': {'Ethan Hawke': 90}}, {'S009': {'David Bowman': 100}}, {'S010': {'James Milner': 98}}, {'S011': {'Michael Owen': 10}}, {'S012': {'Gary Oldman': 96}}, {'S013': {'Tom Hardy': 93}}]\n"
     ]
    }
   ],
   "source": [
    "student_ids = ['S001', 'S002', 'S003', 'S004', 'S005', 'S006', 'S007', 'S008', 'S009', 'S010', 'S011', 'S012', 'S013'] \n",
    "student_names = ['Camila Rodriguez', 'Juan Cruz', 'Dan Richards', 'Sam Boyle', 'Batista Cesare', 'Francesco Totti', 'Khalid Hussain', 'Ethan Hawke', 'David Bowman', 'James Milner', 'Michael Owen', 'Gary Oldman', 'Tom Hardy'] \n",
    "student_grades = [86, 98, 89, 92, 45, 67, 89, 90, 100, 98, 10, 96, 93]\n",
    "result = [{student_ids[i]: {student_names[i]: student_grades[i]}} for i in range(len(student_ids))]\n",
    "print(result)\n",
    "# dict(zip(student_names, student_grades))"
   ]
  },
  {
   "cell_type": "code",
   "execution_count": 84,
   "id": "baf9f079-23b1-42b2-947f-962cf896cae5",
   "metadata": {},
   "outputs": [
    {
     "name": "stdout",
     "output_type": "stream",
     "text": [
      "{'C1': [10, 20, 7, 6], 'C2': [20, 1, 2, 3, 12], 'C3': [12, 20], 'C4': [7], 'C5': [2, 4, 19], 'C6': [4, 6, 7, 10], 'C7': [4, 8, 12], 'C8': [3, 14, 15], 'C9': [2, 7, 18, 18]}\n"
     ]
    }
   ],
   "source": [
    "my_dict = {'C1': [10, 20, 30, 7, 6, 23, 90], 'C2': [20, 30, 40, 1, 2, 3, 90, 12], 'C3': [12, 34, 20, 21], 'C4': [22, 54, 209, 21, 7], 'C5': [2, 4, 29, 21, 19], 'C6': [4, 6, 7, 10, 55], 'C7': [4, 8, 12, 23, 42], 'C8': [3, 14, 15, 26, 48], 'C9': [2, 7, 18, 28, 18, 28]}\n",
    "my_dict = {k: [i for i in v if i <= 20] for k, v in my_dict.items()}\n",
    "print(my_dict)"
   ]
  },
  {
   "cell_type": "code",
   "execution_count": 89,
   "id": "cb4eda0b-2778-4282-bb81-9f76f8ce4e68",
   "metadata": {},
   "outputs": [
    {
     "name": "stdout",
     "output_type": "stream",
     "text": [
      "angel.down@mail.ru\n",
      "apple.fruit@msu.edu\n",
      "beegeek.school@msu.edu\n",
      "beegeek@msu.edu\n",
      "cream.soda@hse.edu\n",
      "google@yandex.ru\n",
      "joanne@mail.ru\n",
      "joseph@nosu.edu\n",
      "larisa.mamuk@nosu.edu\n",
      "ruslan.chaika@gmail.com\n",
      "rustam.mini@gmail.com\n",
      "stepik-best@gmail.com\n",
      "surface@yandex.ru\n",
      "svetlana.gaeva@nosu.edu\n",
      "the.fame.moster@mail.ru\n",
      "timyr@nosu.edu\n",
      "tomas-henders@hse.edu\n",
      "zivert@hse.edu\n"
     ]
    }
   ],
   "source": [
    "emails = {'nosu.edu': ['timyr', 'joseph', 'svetlana.gaeva', 'larisa.mamuk'], \n",
    "          'gmail.com': ['ruslan.chaika', 'rustam.mini', 'stepik-best'], \n",
    "          'msu.edu': ['apple.fruit', 'beegeek', 'beegeek.school'], \n",
    "          'yandex.ru': ['surface', 'google'],\n",
    "          'hse.edu': ['tomas-henders', 'cream.soda', 'zivert'],\n",
    "          'mail.ru': ['angel.down', 'joanne', 'the.fame.moster']}\n",
    "e = []\n",
    "for i, j in emails.items():\n",
    "    for k in j:\n",
    "        e.append(k + '@' + i)\n",
    "print(*sorted(e), sep='\\n')"
   ]
  },
  {
   "cell_type": "code",
   "execution_count": 122,
   "id": "a1cbad7f-9c02-400b-aca6-e7a2126a0593",
   "metadata": {},
   "outputs": [
    {
     "name": "stdout",
     "output_type": "stream",
     "text": [
      "age=28&name=timur\n"
     ]
    }
   ],
   "source": [
    "def build_query_string(params):\n",
    "    r = ''\n",
    "    for i, j in sorted(params.items()):\n",
    "        r += str(i) + '='+ str(j) + '&'\n",
    "    return r[0:-1]\n",
    "print(build_query_string({'name': 'timur', 'age': 28}))"
   ]
  },
  {
   "cell_type": "code",
   "execution_count": 209,
   "id": "f22a3e61-3439-4d6d-91aa-cfb69104046a",
   "metadata": {},
   "outputs": [
    {
     "name": "stdout",
     "output_type": "stream",
     "text": [
      "{'a': {1, 5}, 'b': {17, 10, 2}, 'c': {50, 100}, 'd': {777}}\n"
     ]
    }
   ],
   "source": [
    "def merge(values):      # values - это список словарей\n",
    "    d = {}\n",
    "    l = []\n",
    "    for k in values:\n",
    "        for i, j in k.items():\n",
    "            l.append(str(i) + ':' + str(j))\n",
    "    l = set(l)\n",
    "    l = list(l)\n",
    "    l.sort()\n",
    "    for i in l:\n",
    "        if i[0] not in d:\n",
    "            d[i[0]] = set([int(i[2:])])\n",
    "        else:\n",
    "            d[i[0]].add(int(i[2:]))\n",
    "    return d\n",
    "print(merge([{'a': 1, 'b': 2}, {'b': 10, 'c': 100}, {'a': 1, 'b': 17, 'c': 50}, {'a': 5, 'd': 777}]))"
   ]
  },
  {
   "cell_type": "code",
   "execution_count": 210,
   "id": "8eba3cbf-56b9-4095-b656-141b6c93272d",
   "metadata": {},
   "outputs": [
    {
     "name": "stdout",
     "output_type": "stream",
     "text": [
      "{'a': {1, 5}, 'b': {17, 2, 10}, 'c': {50, 100}, 'd': {777}}\n"
     ]
    }
   ],
   "source": [
    "def merge(values):      # values - это список словарей\n",
    "    d = {}\n",
    "    for k in values:\n",
    "        for i, j in k.items():\n",
    "            d.setdefault(i, set()).add(j)\n",
    "    return d\n",
    "print(merge([{'a': 1, 'b': 2}, {'b': 10, 'c': 100}, {'a': 1, 'b': 17, 'c': 50}, {'a': 5, 'd': 777}]))"
   ]
  },
  {
   "cell_type": "code",
   "execution_count": 211,
   "id": "6d41d303-e0ee-4616-affb-463d8670e0d7",
   "metadata": {},
   "outputs": [
    {
     "name": "stdin",
     "output_type": "stream",
     "text": [
      " 7\n",
      " Вячеслав Ручка 1\n",
      " Филипп Ручка 1\n",
      " Виктория Перо 3\n",
      " Вячеслав Линейка 4\n",
      " Виктория Тетрадь 7\n",
      " Вячеслав Ручка 29\n",
      " Филипп Циркуль 1\n"
     ]
    },
    {
     "name": "stdout",
     "output_type": "stream",
     "text": [
      "Виктория:\n",
      "Перо 3\n",
      "Тетрадь 7\n",
      "Вячеслав:\n",
      "Линейка 4\n",
      "Ручка 30\n",
      "Филипп:\n",
      "Ручка 1\n",
      "Циркуль 1\n"
     ]
    }
   ],
   "source": [
    "# подсчет покупок в магазине\n",
    "buy = [[i for i in input().split()] for i in range(int(input()))]\n",
    "basket = {}\n",
    "for i in buy:\n",
    "    if i[0] not in basket:\n",
    "        basket.setdefault(i[0], {i[1] : int(i[2])})\n",
    "    elif i[0] in basket:\n",
    "        if i[1] in basket[i[0]]:\n",
    "            basket[i[0]][i[1]] += int(i[2])\n",
    "        else:\n",
    "            basket[i[0]].update({i[1] : int(i[2])})\n",
    "for i, j in sorted(basket.items()):\n",
    "    print(i + ':')\n",
    "    for k, l in sorted(j.items()):\n",
    "        print(k, l)"
   ]
  },
  {
   "cell_type": "code",
   "execution_count": 219,
   "id": "52eb8cd3-9bb1-48e6-99b9-362b6648a384",
   "metadata": {},
   "outputs": [
    {
     "name": "stdout",
     "output_type": "stream",
     "text": [
      "Виктория:\n",
      "Перо 3\n",
      "Тетрадь 7\n",
      "Вячеслав:\n",
      "Линейка 4\n",
      "Ручка 30\n",
      "Филипп:\n",
      "Ручка 1\n",
      "Циркуль 1\n"
     ]
    }
   ],
   "source": [
    "# подсчет покупок в магазине более простой вариант\n",
    "shopping_list = [['Вячеслав', 'Ручка', '1'], ['Филипп', 'Ручка', '1'], ['Виктория', 'Перо', '3'], ['Вячеслав', 'Линейка', '4'], ['Виктория', 'Тетрадь', '7'], ['Вячеслав', 'Ручка', '29'], ['Филипп', 'Циркуль', '1']]\n",
    "############### Чтобы не создавать список можно распаковать элементы сразу при вводе name, product, number = input().split()\n",
    "shopping_dict = dict()\n",
    "# Собираем словарь\n",
    "for item in shopping_list:\n",
    "    name, kind, count = item # Каждый подсписок состоит из 3-х элементов, им даются названия по порядку\n",
    "    shopping_dict[name] = shopping_dict.get(name, {}) # создаем ключ имя покупателя, а значение пустой словарь\n",
    "    shopping_dict[name][kind] = shopping_dict[name].get(kind, 0) + int(count) # создаем в пустом подсловаре ключ, если его значение уже встречается, то прибавляем количество\n",
    "# Выводим его в упорядоченном порядке\n",
    "for name in sorted(shopping_dict.keys()):\n",
    "    print(f\"{name}:\")\n",
    "    for kind in sorted(shopping_dict[name].keys()):\n",
    "        print(f\"{kind} {shopping_dict[name][kind]}\")"
   ]
  },
  {
   "cell_type": "code",
   "execution_count": 3,
   "id": "faecd7e9-03f5-4409-8804-2af4510b4375",
   "metadata": {},
   "outputs": [
    {
     "name": "stdin",
     "output_type": "stream",
     "text": [
      " 7\n"
     ]
    },
    {
     "name": "stdout",
     "output_type": "stream",
     "text": [
      "Орел\n",
      "Решка\n",
      "Орел\n",
      "Решка\n",
      "Решка\n",
      "Орел\n",
      "Орел\n"
     ]
    }
   ],
   "source": [
    "import random\n",
    "n = int(input())    # количество попыток\n",
    "for i in range(n):\n",
    "    ro = random.randint(0, 1)\n",
    "    if ro == 0:\n",
    "        print('Орел')\n",
    "    else:\n",
    "        print('Решка')"
   ]
  },
  {
   "cell_type": "code",
   "execution_count": 12,
   "id": "bc7e469f-7fa8-469f-b912-b906266e5514",
   "metadata": {},
   "outputs": [
    {
     "name": "stdin",
     "output_type": "stream",
     "text": [
      " 13\n"
     ]
    },
    {
     "name": "stdout",
     "output_type": "stream",
     "text": [
      "lGaMekMQhchrE"
     ]
    }
   ],
   "source": [
    "import random\n",
    "length = int(input())    # длина пароля\n",
    "for i in range(length):\n",
    "    s = random.randint(65, 90)\n",
    "    r = random.randint(0, 1)\n",
    "    if r == 1:\n",
    "        print(chr(s).lower(), end = '')\n",
    "    else:\n",
    "        print(chr(s),  end = '')"
   ]
  },
  {
   "cell_type": "code",
   "execution_count": 55,
   "id": "7aa28214-af66-4124-8bc5-3d9548fa3333",
   "metadata": {},
   "outputs": [
    {
     "name": "stdout",
     "output_type": "stream",
     "text": [
      "3 4 12 14 15 24 31\n"
     ]
    }
   ],
   "source": [
    "# случайные семь неповторяющихся чисел\n",
    "import random\n",
    "t = set()\n",
    "while len(t) != 7:\n",
    "    t.add(random.randint(1, 49))\n",
    "print(*sorted(t))"
   ]
  },
  {
   "cell_type": "code",
   "execution_count": 72,
   "id": "bbbe00a9-9833-4c09-a1fa-c608b6c4ed97",
   "metadata": {},
   "outputs": [
    {
     "name": "stdout",
     "output_type": "stream",
     "text": [
      "233.10.130.30\n"
     ]
    }
   ],
   "source": [
    "def generate_ip():\n",
    "    import random\n",
    "    ip = ''\n",
    "    for i in range(4):\n",
    "        ip += str(random.randint(0, 255)) + '.'\n",
    "    return ip[:-1]\n",
    "print(generate_ip())"
   ]
  },
  {
   "cell_type": "code",
   "execution_count": 83,
   "id": "c0a84e50-4d0a-4a16-93c8-687a1ff027d2",
   "metadata": {},
   "outputs": [
    {
     "name": "stdout",
     "output_type": "stream",
     "text": [
      "LZ67_81GF\n"
     ]
    }
   ],
   "source": [
    "def generate_index(): # AB23_56VG  \n",
    "    import random\n",
    "    import string\n",
    "    return (f'{random.choice(string.ascii_uppercase)}{random.choice(string.ascii_uppercase)}{random.randrange(100)}_{random.randrange(100)}{random.choice(string.ascii_uppercase)}{random.choice(string.ascii_uppercase)}')\n",
    "print(generate_index())"
   ]
  },
  {
   "cell_type": "code",
   "execution_count": 87,
   "id": "0dde794a-d73c-483e-b3c2-540ad666a0f1",
   "metadata": {},
   "outputs": [
    {
     "name": "stdout",
     "output_type": "stream",
     "text": [
      "[[4, 3, 2, 1], [6, 7, 5, 8], [10, 9, 11, 12], [14, 13, 15, 16]]\n"
     ]
    }
   ],
   "source": [
    "# перемешать элементы матрицы\n",
    "import random\n",
    "matrix = [[1, 2, 3, 4],\n",
    "          [5, 6, 7, 8],\n",
    "          [9, 10, 11, 12],\n",
    "          [13, 14, 15, 16]]\n",
    "for i in range(len(matrix)):\n",
    "    random.shuffle(matrix[i])\n",
    "print(matrix)"
   ]
  },
  {
   "cell_type": "code",
   "execution_count": null,
   "id": "0a5a748f-337a-4b8d-be66-70b6a6320db4",
   "metadata": {},
   "outputs": [],
   "source": [
    "#100 случайных уникальных номеров frozenset\n",
    "import random\n",
    "l = set()\n",
    "while len(l) != 100:\n",
    "    t = set()\n",
    "    while True:\n",
    "        t.add(random.randint(1000000, 9999999))\n",
    "        break\n",
    "    l.add(frozenset(t))\n",
    "for i in l:\n",
    "    print(*i, sep='')"
   ]
  },
  {
   "cell_type": "code",
   "execution_count": null,
   "id": "8e210c55-e76b-42f8-854d-6657ad18b16a",
   "metadata": {},
   "outputs": [],
   "source": [
    "#100 случайных уникальных номеров\n",
    "from random import randint\n",
    "s=set()\n",
    "while len(s)!=100:\n",
    "    s.add(randint(1000000,9999999))\n",
    "print(*s,sep='\\n')"
   ]
  },
  {
   "cell_type": "code",
   "execution_count": 86,
   "id": "9a7b793f-fe2b-4c4a-ac3f-9b564ca79ccc",
   "metadata": {},
   "outputs": [
    {
     "name": "stdin",
     "output_type": "stream",
     "text": [
      " fgbkjfgbjfigb\n"
     ]
    },
    {
     "name": "stdout",
     "output_type": "stream",
     "text": [
      "bfgijbjgkgffb\n"
     ]
    }
   ],
   "source": [
    "import random\n",
    "word = [i for i in input()]\n",
    "random.shuffle(word)\n",
    "print(*word, sep='')"
   ]
  },
  {
   "cell_type": "code",
   "execution_count": 81,
   "id": "80de7a00-15da-4270-9255-e9fb1a2438b8",
   "metadata": {},
   "outputs": [
    {
     "name": "stdout",
     "output_type": "stream",
     "text": [
      "3   4   5   14  15  \n",
      "18  22  26  28  31  \n",
      "34  35  0   38  43  \n",
      "45  47  50  53  56  \n",
      "57  59  65  71  73  \n"
     ]
    }
   ],
   "source": [
    "# Bingo. Бинго. собрать матрицу 5*5 из неповторяющихся чисел. в середине должен быть 0.\n",
    "import random\n",
    "s = set()\n",
    "while len(s) != 25: # собираем множество из неповторяющихся чисел\n",
    "    s.add(random.randint(1, 75))\n",
    "t = list(s)\n",
    "m = []\n",
    "for i in range(0, len(t), 5): # формируем матрицу 5*5 из списка\n",
    "    m.append(t[i:i + 5])\n",
    "m[2][2] = 0\n",
    "for i in range(len(m)): # выводим матрицу\n",
    "    for j in range(len(m)):\n",
    "        print(str(m[i][j]).ljust(3), end = ' ')\n",
    "    print()"
   ]
  },
  {
   "cell_type": "code",
   "execution_count": 82,
   "id": "f8ffb5da-9252-4290-b3ff-cacdccb1acb2",
   "metadata": {},
   "outputs": [
    {
     "name": "stdout",
     "output_type": "stream",
     "text": [
      "70  6   45  16  65  \n",
      "26  10  63  35  73  \n",
      "68  21  0   37  7   \n",
      "72  29  74  52  31  \n",
      "27  23  42  69  33  \n"
     ]
    }
   ],
   "source": [
    "# Bingo. Бинго. Идеальное решение\n",
    "from random import sample\n",
    "numbers = sample(list(range(1, 76)), 25)\n",
    "bingo = [numbers[i:i + 5] for i in range(0, 21, 5)]\n",
    "bingo[2][2] = 0\n",
    "for i in range(5):\n",
    "    for j in range(5):\n",
    "        print(str(bingo[i][j]).ljust(3), end=' ')\n",
    "    print()"
   ]
  },
  {
   "cell_type": "code",
   "execution_count": 77,
   "id": "ee6ddacd-49ab-4cdf-997c-2fedbeb208b0",
   "metadata": {},
   "outputs": [
    {
     "name": "stdout",
     "output_type": "stream",
     "text": [
      "Светлана Зуева - Борис Боков\n",
      "Аркадий Белых - Светлана Зуева\n",
      "Борис Боков - Аркадий Белых\n"
     ]
    }
   ],
   "source": [
    "# найти пару\n",
    "import random\n",
    "n = 3\n",
    "st = ['Светлана Зуева', 'Аркадий Белых', 'Борис Боков']\n",
    "p = st.copy()\n",
    "flag = False\n",
    "while flag == False:\n",
    "    random.shuffle(p)\n",
    "    for i in range(n):\n",
    "        if st[i] == p[i]:\n",
    "            flag = False\n",
    "            break\n",
    "        else:\n",
    "            flag = True\n",
    "for i in range(n):\n",
    "    print(f'{st[i]} - {p[i]}')"
   ]
  },
  {
   "cell_type": "code",
   "execution_count": 13,
   "id": "e7b17c3b-93c8-49cb-a801-986636f0fdbd",
   "metadata": {},
   "outputs": [
    {
     "name": "stdin",
     "output_type": "stream",
     "text": [
      " 7\n",
      " 8\n"
     ]
    },
    {
     "name": "stdout",
     "output_type": "stream",
     "text": [
      "dBTw62Rr\n",
      "LRWGgy3h\n",
      "cJSFbUfv\n",
      "kCAEYnJK\n",
      "aTJQ6hgE\n",
      "VqZxr9gG\n",
      "ziQLyKAZ\n"
     ]
    }
   ],
   "source": [
    "# генератор случайных паролей. Сложно через функции по условиям задачи. Можно сделать намного проще\n",
    "import string\n",
    "import random\n",
    "wd = [i for i in (string.ascii_letters + string.digits) if i not in 'lI1oO0']\n",
    "\n",
    "def generate_password(length):\n",
    "    return ''.join(random.sample(wd, length))\n",
    "\n",
    "def generate_passwords(count, length):\n",
    "    for i in range(count - 1):\n",
    "        print (''.join(random.sample(wd, length)))\n",
    "    return ''.join(random.sample(wd, length))\n",
    "\n",
    "n, m = int(input()), int(input())\n",
    "print(generate_passwords(n, m))"
   ]
  },
  {
   "cell_type": "code",
   "execution_count": 6,
   "id": "272bcbc5-fcbd-4740-b7bf-1a265fa8b53f",
   "metadata": {},
   "outputs": [
    {
     "name": "stdout",
     "output_type": "stream",
     "text": [
      "ctrNMPf3xL\n",
      "429wgYMLa5\n",
      "3ThJ8E56wB\n",
      "CSs3zEqYnM\n"
     ]
    }
   ],
   "source": [
    "# Генератор паролей\n",
    "m = 10\n",
    "import string\n",
    "import random\n",
    "def generate_password(length):\n",
    "    L = [i for i in string.ascii_uppercase if i not in 'IO']\n",
    "    l = [i for i in string.ascii_lowercase if i not in 'lo']\n",
    "    d = [i for i in string.digits if i not in '10']\n",
    "    mm = 0\n",
    "    while mm != length:\n",
    "        m1 = random.randint(1, length)\n",
    "        m2 = random.randint(1, length)\n",
    "        m3 = random.randint(1, length)\n",
    "        if m1 > len(L) or m2 > len(l) or m3 > len(d):\n",
    "            continue\n",
    "        mm = m1 + m2 + m3\n",
    "    pas = [i for i in (random.sample(L, m1) + random.sample(l, m2) + random.sample(d, m3))]\n",
    "    random.shuffle(pas)\n",
    "    return pas\n",
    "print(*generate_password(m), sep='')"
   ]
  },
  {
   "cell_type": "code",
   "execution_count": 5,
   "id": "6159a98d-5794-48ee-848f-c5ea483967c5",
   "metadata": {},
   "outputs": [
    {
     "name": "stdout",
     "output_type": "stream",
     "text": [
      "279.12\n",
      "9.85 9.74 9.73 9.60 9.36\n"
     ]
    }
   ],
   "source": [
    "s = '9.73 8.84 8.92 9.60 9.32 8.97 8.53 1.26 6.62 9.85 1.85 1.80 0.83 6.75 9.74 9.11 9.14 5.03 5.03 1.34 3.52 8.09 7.89 8.24 8.23 5.22 0.30 2.59 1.25 6.24 2.14 7.54 5.72 2.75 2.32 2.69 9.32 8.11 4.53 0.80 0.08 9.36 5.22 4.08 3.86 5.56 1.43 8.36 6.29 5.13'\n",
    "from decimal import Decimal as d\n",
    "num = [d(i) for i in s.split()]\n",
    "print(sum(num))\n",
    "print(*sorted(sorted(num)[-5:], reverse = True))"
   ]
  },
  {
   "cell_type": "code",
   "execution_count": 7,
   "id": "fc73e761-511d-433f-9f9e-815d5e12bc4d",
   "metadata": {},
   "outputs": [
    {
     "name": "stdout",
     "output_type": "stream",
     "text": [
      "1\n",
      "(1, 2, 3, 4, 5, 6, 7, 8)\n",
      "-8\n"
     ]
    }
   ],
   "source": [
    "from decimal import *\n",
    "\n",
    "num = Decimal('-0.12345678')\n",
    "num_tuple = num.as_tuple()\n",
    "\n",
    "print(num_tuple.sign)\n",
    "print(num_tuple.digits)\n",
    "print(num_tuple.exponent)"
   ]
  },
  {
   "cell_type": "code",
   "execution_count": 2,
   "id": "9a72a4fd-9b24-4e69-8de3-c523d3a69887",
   "metadata": {},
   "outputs": [
    {
     "name": "stdout",
     "output_type": "stream",
     "text": [
      "6.34 = 317/50\n",
      "4.08 = 102/25\n",
      "3.04 = 76/25\n",
      "7.49 = 749/100\n",
      "4.45 = 89/20\n",
      "5.39 = 539/100\n",
      "7.82 = 391/50\n",
      "2.76 = 69/25\n",
      "0.71 = 71/100\n",
      "1.97 = 197/100\n",
      "2.54 = 127/50\n",
      "3.67 = 367/100\n",
      "0.14 = 7/50\n",
      "4.29 = 429/100\n",
      "1.84 = 46/25\n",
      "4.07 = 407/100\n",
      "7.26 = 363/50\n",
      "9.37 = 937/100\n",
      "8.11 = 811/100\n",
      "4.30 = 43/10\n",
      "7.16 = 179/25\n",
      "2.46 = 123/50\n",
      "1.27 = 127/100\n",
      "0.29 = 29/100\n",
      "5.12 = 128/25\n",
      "4.02 = 201/50\n",
      "6.95 = 139/20\n",
      "1.62 = 81/50\n",
      "2.26 = 113/50\n",
      "0.45 = 9/20\n",
      "6.91 = 691/100\n",
      "7.39 = 739/100\n",
      "0.52 = 13/25\n",
      "1.88 = 47/25\n",
      "8.38 = 419/50\n",
      "0.75 = 3/4\n",
      "0.32 = 8/25\n",
      "4.81 = 481/100\n",
      "3.31 = 331/100\n",
      "4.63 = 463/100\n",
      "7.84 = 196/25\n",
      "2.25 = 9/4\n",
      "1.10 = 11/10\n",
      "3.35 = 67/20\n",
      "2.05 = 41/20\n",
      "7.87 = 787/100\n",
      "2.40 = 12/5\n",
      "1.20 = 6/5\n",
      "2.58 = 129/50\n",
      "2.46 = 123/50\n"
     ]
    }
   ],
   "source": [
    "from fractions import Fraction as F\n",
    "\n",
    "numbers = ['6.34', '4.08', '3.04', '7.49', '4.45', '5.39', '7.82', '2.76', '0.71', '1.97', '2.54', '3.67', '0.14', '4.29', '1.84', '4.07', '7.26', '9.37', '8.11', '4.30', '7.16', '2.46', '1.27', '0.29', '5.12', '4.02', '6.95', '1.62', '2.26', '0.45', '6.91', '7.39', '0.52', '1.88', '8.38', '0.75', '0.32', '4.81', '3.31', '4.63', '7.84', '2.25', '1.10', '3.35', '2.05', '7.87', '2.40', '1.20', '2.58', '2.46']\n",
    "for i in numbers:\n",
    "    print(f'{i} = {F(i)}')"
   ]
  },
  {
   "cell_type": "code",
   "execution_count": 4,
   "id": "86de94c1-4fd1-4711-947d-789c507f5991",
   "metadata": {},
   "outputs": [
    {
     "name": "stdout",
     "output_type": "stream",
     "text": [
      "997021/100000\n"
     ]
    }
   ],
   "source": [
    "from fractions import Fraction as F\n",
    "\n",
    "s = '0.78 4.3 9.6 3.88 7.08 5.88 0.23 4.65 2.79 0.90 4.23 2.15 3.24 8.57 0.10 8.57 1.49 5.64 3.63 8.36 1.56 6.67 1.46 5.26 4.83 7.13 1.22 1.02 7.82 9.97 5.40 9.79 9.82 2.78 2.96 0.07 1.72 7.24 7.84 9.23 1.71 6.24 5.78 5.37 0.03 9.60 8.86 2.73 5.83 6.50 0.123 0.00021'\n",
    "dr = [F(i) for i in s.split()]\n",
    "print(max(dr) + min(dr))"
   ]
  },
  {
   "cell_type": "code",
   "execution_count": 61,
   "id": "dfb9b351-3e8a-4ada-a681-eaceb8fad388",
   "metadata": {},
   "outputs": [
    {
     "name": "stdout",
     "output_type": "stream",
     "text": [
      "3/7\n"
     ]
    }
   ],
   "source": [
    "from math import gcd as gcd\n",
    "from fractions import Fraction as F\n",
    "n = int(input())\n",
    "i = n//2\n",
    "j = n - i\n",
    "while i + j != n or gcd(i, j) != 1:\n",
    "    i -= 1 \n",
    "    j += 1\n",
    "print(F(i, j))"
   ]
  },
  {
   "cell_type": "code",
   "execution_count": 64,
   "id": "878e72e1-3d4a-4926-9c92-d40f451cf5af",
   "metadata": {},
   "outputs": [
    {
     "name": "stdout",
     "output_type": "stream",
     "text": [
      "5\n"
     ]
    }
   ],
   "source": [
    "from math import gcd as gcd\n",
    "print(gcd(5, 5))"
   ]
  },
  {
   "cell_type": "code",
   "execution_count": 68,
   "id": "ab7ebb72-0006-4799-a73a-0c8ae2173a41",
   "metadata": {},
   "outputs": [
    {
     "name": "stdout",
     "output_type": "stream",
     "text": [
      "1/5\n",
      "1/4\n",
      "1/3\n",
      "2/5\n",
      "1/2\n",
      "3/5\n",
      "2/3\n",
      "3/4\n",
      "4/5\n"
     ]
    }
   ],
   "source": [
    "from math import gcd as gcd\n",
    "from fractions import Fraction as F\n",
    "n = 5\n",
    "r = []\n",
    "for i in range(1, n + 1):\n",
    "    for j in range(1, n + 1):\n",
    "        if gcd(i, j) == 1 and i < j:\n",
    "            r.append(F(i, j))\n",
    "print(*sorted(r), sep = '\\n')"
   ]
  },
  {
   "cell_type": "code",
   "execution_count": 78,
   "id": "728b5d89-d53a-4bf6-8c3b-fe9da5e09168",
   "metadata": {},
   "outputs": [
    {
     "name": "stdout",
     "output_type": "stream",
     "text": [
      "(-20+15j)\n",
      "25.0\n"
     ]
    }
   ],
   "source": [
    "numbers = [3 + 4j, 3 + 1j, -7 + 3j, 4 + 8j, -8 + 10j, -3 + 2j, 3 - 2j, -9 + 9j, -1 - 1j, -1 - 10j, -20 + 15j, -21 + 1j, 1j, -3 + 8j, 4 - 6j, 8 + 2j, 2 + 3j]\n",
    "com = [complex(i) for i in numbers]\n",
    "m = abs(com[0])\n",
    "d = com[0]\n",
    "for i in com:\n",
    "    if m < abs(i):\n",
    "        m = abs(i)\n",
    "        d = i\n",
    "print(d)\n",
    "print(m)"
   ]
  },
  {
   "cell_type": "code",
   "execution_count": 2,
   "id": "a33050e1-7908-41a6-ab5a-578ee3999540",
   "metadata": {},
   "outputs": [],
   "source": [
    "import turtle\n",
    "\n",
    "turtle.showturtle()\n",
    "turtle.forward(100)\n",
    "turtle.backward(250)"
   ]
  },
  {
   "cell_type": "code",
   "execution_count": null,
   "id": "5f000a41-fe21-4900-bf71-0d35c1b7ca7e",
   "metadata": {},
   "outputs": [],
   "source": [
    "from turtle import *\n",
    "\n",
    "\n",
    "def signature():\n",
    "    import os\n",
    "    text = \"Rif.  \" + os.path.basename(__file__)\n",
    "    penup()\n",
    "    setpos(Screen().screensize()[0] - 30, -Screen().screensize()[1] - 20)\n",
    "    write(text, move=False, align=\"right\", font=(\"Arial\", 8, \"normal\"))\n",
    "\n",
    "\n",
    "def turtlette():\n",
    "    bgcolor(\"black\")\n",
    "    pencolor('white')\n",
    "    pensize(1)\n",
    "    hideturtle()\n",
    "    speed(0)\n",
    "\n",
    "    for i in range(40, 160):\n",
    "        left(8 - 160 // i)\n",
    "        circle(i)\n",
    "\n",
    "    signature()\n",
    "    done()\n",
    "\n",
    "\n",
    "if __name__ == '__main__':\n",
    "    turtlette()"
   ]
  },
  {
   "cell_type": "code",
   "execution_count": 1,
   "id": "24efa15d-659a-4871-80fd-1193388ea417",
   "metadata": {},
   "outputs": [
    {
     "name": "stdout",
     "output_type": "stream",
     "text": [
      "None\n"
     ]
    }
   ],
   "source": [
    "# черепаший прямоугольник\n",
    "import turtle\n",
    "def rectangle(width, height):\n",
    "  turtle.forward(width)\n",
    "  turtle.setheading(90)\n",
    "  \n",
    "  turtle.forward(height)\n",
    "  turtle.setheading(180)\n",
    "  \n",
    "  turtle.forward(width)\n",
    "  turtle.setheading(270)\n",
    "  \n",
    "  turtle.forward(height)\n",
    "print(rectangle(100, 50))"
   ]
  },
  {
   "cell_type": "code",
   "execution_count": null,
   "id": "d56dfc3d-9ddc-44f3-a7af-448648d3ea8a",
   "metadata": {},
   "outputs": [],
   "source": [
    "# черепаший треугольник\n",
    "import turtle\n",
    "def triangle(side):\n",
    "  turtle.forward(side)\n",
    "  turtle.setheading(120)\n",
    "  \n",
    "  turtle.forward(side)\n",
    "  turtle.setheading(240)\n",
    "  \n",
    "  turtle.forward(side)\n",
    "print(triangle(200))"
   ]
  },
  {
   "cell_type": "code",
   "execution_count": null,
   "id": "794b46a8-0544-496f-b726-3b09ae0c382e",
   "metadata": {},
   "outputs": [],
   "source": [
    "import turtle\n",
    "def square(side):\n",
    "  turtle.forward(side)\n",
    "  turtle.setheading(90)\n",
    "  \n",
    "  turtle.forward(side)\n",
    "  turtle.setheading(180)\n",
    "  \n",
    "  turtle.forward(side)\n",
    "  turtle.setheading(270)\n",
    "  \n",
    "  turtle.forward(side)\n",
    "print(square(100))"
   ]
  },
  {
   "cell_type": "code",
   "execution_count": null,
   "id": "5558ae54-cd24-498c-8887-0837448b1f56",
   "metadata": {},
   "outputs": [],
   "source": [
    "import turtle\n",
    "def square(side):\n",
    "  turtle.shape('turtle')\n",
    "  turtle.setheading(10)\n",
    "  turtle.forward(side)\n",
    "  turtle.setheading(100)\n",
    "  \n",
    "  turtle.forward(side)\n",
    "  turtle.setheading(190)\n",
    "  \n",
    "  turtle.forward(side)\n",
    "  turtle.setheading(280)\n",
    "  \n",
    "  turtle.forward(side)\n",
    "  \n",
    "  turtle.setheading(45)\n",
    "  turtle.forward(side)\n",
    "  turtle.setheading(135)\n",
    "  \n",
    "  turtle.forward(side)\n",
    "  turtle.setheading(225)\n",
    "  \n",
    "  turtle.forward(side)\n",
    "  turtle.setheading(315)\n",
    "  \n",
    "  turtle.forward(side)\n",
    "  \n",
    "  turtle.setheading(170)\n",
    "  turtle.forward(side)\n",
    "  turtle.setheading(80)\n",
    "  \n",
    "  turtle.forward(side)\n",
    "  turtle.setheading(350)\n",
    "  \n",
    "  turtle.forward(side)\n",
    "  turtle.setheading(260)\n",
    "  \n",
    "  turtle.forward(side)\n",
    "print(square(100))"
   ]
  },
  {
   "cell_type": "code",
   "execution_count": null,
   "id": "f77273ee-d73a-49b5-aafd-fb24e2866b3b",
   "metadata": {},
   "outputs": [],
   "source": [
    "import turtle\n",
    "def square(side):\n",
    "  turtle.shape('turtle')\n",
    "\n",
    "  for _ in range(4):\n",
    "    turtle.forward(side)\n",
    "    turtle.left(90)\n",
    "    \n",
    "for _ in range(8):\n",
    "  turtle.left(45)\n",
    "  square(100)\n",
    "print(square(100))"
   ]
  },
  {
   "cell_type": "code",
   "execution_count": null,
   "id": "96c2aa29-dbe1-44df-828b-92f085facfe0",
   "metadata": {},
   "outputs": [],
   "source": [
    "# звезда\n",
    "import turtle\n",
    "side = 150\n",
    "turtle.shape('turtle')\n",
    "for i in range(5):\n",
    "  turtle.backward(side)\n",
    "  turtle.left(144)"
   ]
  },
  {
   "cell_type": "code",
   "execution_count": null,
   "id": "0588d886-0e71-4b2f-83c4-5437dc6e9a98",
   "metadata": {},
   "outputs": [],
   "source": [
    "import turtle\n",
    "turtle.shape('turtle')\n",
    "import turtle\n",
    "for i in range(20, 200, 10):\n",
    "    for _ in range(4):\n",
    "        turtle.left(90)\n",
    "        turtle.forward(i)"
   ]
  },
  {
   "cell_type": "code",
   "execution_count": 11,
   "id": "5281338d-4358-490e-9012-e95d5789752c",
   "metadata": {},
   "outputs": [
    {
     "name": "stdout",
     "output_type": "stream",
     "text": [
      "[[9, 9, 9, 9, 9], [9, 9, 9, 9, 9]]\n"
     ]
    }
   ],
   "source": [
    "def matrix(n=None, m=None, value=None):\n",
    "    if n == None and m == None and value == None:\n",
    "        return [[0]]\n",
    "    elif n != None and m == None and value == None:\n",
    "        return [[0 for i in range(n)] for i in range(n)]\n",
    "    elif n != None and m != None and value == None:\n",
    "        return [[0 for i in range(m)] for i in range(n)]\n",
    "    elif n != None and m != None and value != None:\n",
    "        return [[int(value) for i in range(m)] for i in range(n)]\n",
    "print(matrix(2, 5, 9))    "
   ]
  },
  {
   "cell_type": "code",
   "execution_count": 7,
   "id": "7af6476c-a8c8-4e35-9dad-bddcfea60761",
   "metadata": {},
   "outputs": [
    {
     "name": "stdout",
     "output_type": "stream",
     "text": [
      "0\n",
      "4\n",
      "8.5\n",
      "14\n",
      "385\n"
     ]
    }
   ],
   "source": [
    "def sq_sum(*args):\n",
    "    if len(args) > 0:\n",
    "        return sum(i**2 for i in args)\n",
    "    else:\n",
    "        return 0\n",
    "print(sq_sum())\n",
    "print(sq_sum(2))\n",
    "print(sq_sum(1.5, 2.5))\n",
    "print(sq_sum(1, 2, 3))\n",
    "print(sq_sum(1, 2, 3, 4, 5, 6, 7, 8, 9, 10))"
   ]
  },
  {
   "cell_type": "code",
   "execution_count": 60,
   "id": "00717d76-b586-4647-898f-9ca570f876aa",
   "metadata": {},
   "outputs": [
    {
     "name": "stdout",
     "output_type": "stream",
     "text": [
      "0\n",
      "7.0\n",
      "2.0\n",
      "0\n",
      "3.5\n",
      "5.5\n"
     ]
    }
   ],
   "source": [
    "# Подсчитать среднее арифметическое аргументов с типом int и float\n",
    "def mean(*args):\n",
    "    if len(args) > 0:\n",
    "        temp = []\n",
    "        for i in args:\n",
    "            if type(i) == int or type(i) == float:\n",
    "                temp.append(i)\n",
    "        if len(temp) > 0:\n",
    "            return sum(temp) / len(temp)\n",
    "        else:\n",
    "            return 0\n",
    "    else:\n",
    "        return 0\n",
    "print(mean())\n",
    "print(mean(7))\n",
    "print(mean(1.5, True, ['stepik'], 'beegeek', 2.5, (1, 2)))\n",
    "print(mean(True, ['stepik'], 'beegeek', (1, 2)))\n",
    "print(mean(-1, 2, 3, 10, ('5')))\n",
    "print(mean(1, 2, 3, 4, 5, 6, 7, 8, 9, 10))"
   ]
  },
  {
   "cell_type": "code",
   "execution_count": 98,
   "id": "662e70ef-4c48-4441-8f73-7701fb8c3cb8",
   "metadata": {},
   "outputs": [
    {
     "name": "stdout",
     "output_type": "stream",
     "text": [
      "Hello, Timur!\n",
      "Hello, Timur and Roman!\n",
      "Hello, Timur and Roman and Ruslan!\n"
     ]
    }
   ],
   "source": [
    "def greet(n, *args):\n",
    "    if len(args) == 0:\n",
    "        return f'Hello, {n}!'\n",
    "    else:\n",
    "        t = [n]\n",
    "        for i in args:\n",
    "            t.append(i)\n",
    "    return f\"Hello, {' and '.join(t)}!\"\n",
    "    \n",
    "print(greet('Timur'))\n",
    "print(greet('Timur', 'Roman'))\n",
    "print(greet('Timur', 'Roman', 'Ruslan'))"
   ]
  },
  {
   "cell_type": "code",
   "execution_count": 128,
   "id": "46da76c4-73cf-47f8-bfdd-57fb2b956539",
   "metadata": {},
   "outputs": [
    {
     "name": "stdout",
     "output_type": "stream",
     "text": [
      "1) Бананы\n",
      "2) Яблоки\n",
      "3) Макароны\n",
      "Нет продуктов\n"
     ]
    }
   ],
   "source": [
    "def print_products(*args):\n",
    "    if len(args) > 0:\n",
    "        cnt = 0\n",
    "        for i in args:\n",
    "            if type(i) == str and i != '':\n",
    "                cnt += 1\n",
    "                print(f'{cnt}) {i}')\n",
    "    if cnt == 0:\n",
    "        print('Нет продуктов')\n",
    "print_products('Бананы', [1, 2], ('Stepik',), 'Яблоки', '', 'Макароны', 5, True)\n",
    "print_products([4], {}, 1, 2, {'Beegeek'}, '')"
   ]
  },
  {
   "cell_type": "code",
   "execution_count": 142,
   "id": "3ebec73b-fc68-4a62-a378-57e5c8f6da48",
   "metadata": {},
   "outputs": [
    {
     "name": "stdout",
     "output_type": "stream",
     "text": [
      "age: 28\n",
      "first_name: Timur\n",
      "job: teacher\n",
      "last_name: Guev\n"
     ]
    }
   ],
   "source": [
    "def info_kwargs(**kwargs):\n",
    "    for k, v in sorted(kwargs.items()):\n",
    "        print(f'{k}: {v}')\n",
    "info_kwargs(first_name='Timur', last_name='Guev', age=28, job='teacher') "
   ]
  },
  {
   "cell_type": "code",
   "execution_count": 31,
   "id": "dd1b53d4-9dd4-435f-a0aa-70cca020af18",
   "metadata": {},
   "outputs": [
    {
     "name": "stdout",
     "output_type": "stream",
     "text": [
      "(-9, 8, 4)\n",
      "(81, 39)\n"
     ]
    }
   ],
   "source": [
    "numbers = [(10, 10, 10), (30, 45, 56), (81, 39), (1, 2, 3), (12,), (-2, -4, 100), (1, 2, 99), (89, 9, 34), (10, 20, 30, -2), (50, 40, 50), (34, 78, 65), (-5, 90, -1, -5), (1, 2, 3, 4, 5, 6), (-9, 8, 4), (90, 1, -45, -21)]\n",
    "def mn(n):\n",
    "    return (sum(n)) / len(n)\n",
    "print(sorted(numbers, key = mn)[0])\n",
    "print(sorted(numbers, key = mn, reverse = True)[0])"
   ]
  },
  {
   "cell_type": "code",
   "execution_count": 33,
   "id": "e2caf75a-27ea-435c-9beb-301b0c09d8b6",
   "metadata": {},
   "outputs": [
    {
     "name": "stdout",
     "output_type": "stream",
     "text": [
      "[(0, 0), (0, 1), (-1, 1), (2, 0), (3, 0), (-1, 3), (-3, 2), (4, 3), (3, 6), (5, 6), (-9, 1), (8, 8), (12, 0)]\n"
     ]
    }
   ],
   "source": [
    "points = [(-1, 1), (5, 6), (12, 0), (4, 3), (0, 1), (-3, 2), (0, 0), (-1, 3), (2, 0), (3, 0), (-9, 1), (3, 6), (8, 8)]\n",
    "def l(p):\n",
    "    return (p[0] ** 2 + p[1] ** 2) ** 0.5\n",
    "print(sorted(points, key = l))"
   ]
  },
  {
   "cell_type": "code",
   "execution_count": 35,
   "id": "7deefec0-b965-4823-8ce8-c776b5df3c1d",
   "metadata": {},
   "outputs": [
    {
     "name": "stdout",
     "output_type": "stream",
     "text": [
      "[(1, 2, 3), (10, 10, 10), (10, 20, 30), (12, 45, 67), (-5, 90, -1), (30, 45, 56), (50, 40, 50), (-2, -4, 100), (1, 2, 99), (34, 78, 65), (81, 80, 39), (89, 90, 34)]\n"
     ]
    }
   ],
   "source": [
    "numbers = [(10, 10, 10), (30, 45, 56), (81, 80, 39), (1, 2, 3), (12, 45, 67), (-2, -4, 100), (1, 2, 99), (89, 90, 34), (10, 20, 30), (50, 40, 50), (34, 78, 65), (-5, 90, -1)]\n",
    "def mnmx(n):\n",
    "    return max(n) + min(n)\n",
    "print(sorted(numbers, key = mnmx))"
   ]
  },
  {
   "cell_type": "code",
   "execution_count": 36,
   "id": "2c7e86ae-b9c9-4c3d-8a55-cbd6006d963a",
   "metadata": {},
   "outputs": [
    {
     "name": "stdin",
     "output_type": "stream",
     "text": [
      " 3\n"
     ]
    },
    {
     "name": "stdout",
     "output_type": "stream",
     "text": [
      "Рустам 10 128 30\n",
      "Дима 10 130 35\n",
      "Тимур 11 135 39\n",
      "Руслан 9 140 33\n",
      "Матвей 17 168 68\n",
      "Амир 16 170 70\n",
      "Рома 16 188 100\n",
      "Петя 15 190 90\n"
     ]
    }
   ],
   "source": [
    "athletes = [('Дима', 10, 130, 35), ('Тимур', 11, 135, 39), ('Руслан', 9, 140, 33), ('Рустам', 10, 128, 30), ('Амир', 16, 170, 70), ('Рома', 16, 188, 100), ('Матвей', 17, 168, 68), ('Петя', 15, 190, 90)]\n",
    "def name(n):\n",
    "    return n[0]\n",
    "def old(o):\n",
    "    return o[1]\n",
    "def height(h):\n",
    "    return h[2]\n",
    "def weight(w):\n",
    "    return w[3]\n",
    "commands = {1:name, 2:old, 3:height, 4:weight}\n",
    "com = int(input())\n",
    "for i in sorted(athletes, key = commands[com]):\n",
    "    print(*i, end='\\n')"
   ]
  },
  {
   "cell_type": "code",
   "execution_count": 38,
   "id": "4e47bc62-7ca5-44b7-9670-78a2156f8619",
   "metadata": {},
   "outputs": [
    {
     "name": "stdin",
     "output_type": "stream",
     "text": [
      " 5\n",
      " квадрат\n"
     ]
    },
    {
     "name": "stdout",
     "output_type": "stream",
     "text": [
      "25\n"
     ]
    }
   ],
   "source": [
    "n = int(input()) \n",
    "f = input()\n",
    "def kv(a):\n",
    "    return a ** 2\n",
    "def ku(a):\n",
    "    return a ** 3\n",
    "def ko(a):\n",
    "    return a ** 0.5\n",
    "def mo(a):\n",
    "    return abs(a)\n",
    "def si(a):\n",
    "    from math import sin as sin\n",
    "    return sin(a)\n",
    "commands = {'квадрат':kv, 'куб':ku, 'корень':ko, 'модуль':mo, 'синус':si}\n",
    "print(commands[f](n))"
   ]
  },
  {
   "cell_type": "code",
   "execution_count": null,
   "id": "55d115b2-86f2-444b-b9bc-997b05953bd5",
   "metadata": {},
   "outputs": [],
   "source": [
    "# Факториал\n",
    "def factorial (n):\n",
    "    if n == 0:\n",
    "        return 1\n",
    "    else:\n",
    "        return n * factorial(n - 1)"
   ]
  },
  {
   "cell_type": "code",
   "execution_count": 7,
   "id": "e05d41e3-92e4-4969-abdc-4e8b3626eaac",
   "metadata": {},
   "outputs": [
    {
     "name": "stdout",
     "output_type": "stream",
     "text": [
      "80\n"
     ]
    }
   ],
   "source": [
    "# Факториал числа с заданным шагом\n",
    "def kfactorial(n, k = 1):\n",
    "    if n == 0:\n",
    "        return 1\n",
    "    elif n <= k:\n",
    "        return n\n",
    "    elif n > k:\n",
    "        return n *  kfactorial(n-k, k)\n",
    "print(kfactorial(8, 3))"
   ]
  },
  {
   "cell_type": "code",
   "execution_count": null,
   "id": "bef25fb3-4c12-417a-8796-c9a7f141d05d",
   "metadata": {},
   "outputs": [],
   "source": [
    "n = input().split()\n",
    "def s(a):\n",
    "    r = 0\n",
    "    for i in a:\n",
    "        r += int(i)\n",
    "    return r\n",
    "print(*sorted(n, key = s))"
   ]
  },
  {
   "cell_type": "code",
   "execution_count": null,
   "id": "9ffc201d-cce8-4cf3-8c85-48dad32de882",
   "metadata": {},
   "outputs": [],
   "source": [
    "n = [int(i) for i in input().split()]\n",
    "n.sort()\n",
    "def s(a):\n",
    "    r = 0\n",
    "    for i in str(a):\n",
    "        r += int(i)\n",
    "    return r\n",
    "print(*sorted(n, key = s))"
   ]
  },
  {
   "cell_type": "code",
   "execution_count": 65,
   "id": "2a0e6812-5044-4780-99f8-c3ea0c4852d4",
   "metadata": {},
   "outputs": [],
   "source": [
    "# my_map\n",
    " \n",
    "def my_map(func, items):\n",
    "    return [func(i) for i in items]\n",
    "\n",
    "# my_filter\n",
    "\n",
    "def my_filter(func, items):\n",
    "    return [i for i in items if func(i)]\n",
    "    \n",
    "# my_reduce\n",
    "\n",
    "def my_reduce(operation, items, initial_value):\n",
    "    acc = initial_value\n",
    "    for i in items:\n",
    "        acc = operation(acc, i)\n",
    "    return acc"
   ]
  },
  {
   "cell_type": "code",
   "execution_count": 18,
   "id": "8940a1c6-ea3c-4ed8-be50-0ae4836a69d6",
   "metadata": {},
   "outputs": [
    {
     "name": "stdout",
     "output_type": "stream",
     "text": [
      "-99\n"
     ]
    }
   ],
   "source": [
    "numbers = [-2, 45, 45, -7, -45, 37, -42, 27, -58, -58, -12, -27, -49, -27, -56, 4, -99, -11, 86]\n",
    "\n",
    "var1 = max(numbers, key=abs)\n",
    "print(var1)"
   ]
  },
  {
   "cell_type": "code",
   "execution_count": 47,
   "id": "0a85b182-9d56-4096-bec7-82d63a76a1aa",
   "metadata": {},
   "outputs": [
    {
     "name": "stdout",
     "output_type": "stream",
     "text": [
      "3.57\n",
      "5.58\n",
      "4.01\n",
      "56.24\n",
      "9.01\n",
      "32.12\n",
      "23.22\n",
      "90.1\n",
      "45.45\n",
      "314.15\n",
      "2.72\n",
      "1.42\n"
     ]
    }
   ],
   "source": [
    "# округление с помощью функции высшего порядка\n",
    "def my_map(func, items):\n",
    "    return [func(i) for i in items]\n",
    "def r(x):\n",
    "    return round(x, 2)\n",
    "numbers = [3.56773, 5.57668, 4.00914, 56.24241, 9.01344, 32.12013, 23.22222, 90.09873, 45.45, 314.1528, 2.71828, 1.41546]\n",
    "rnd = my_map(r, numbers)\n",
    "print(*rnd, sep='\\n')"
   ]
  },
  {
   "cell_type": "code",
   "execution_count": 64,
   "id": "c3f128a0-50f3-431a-b8a8-baaf826fb625",
   "metadata": {},
   "outputs": [
    {
     "name": "stdout",
     "output_type": "stream",
     "text": [
      "283593393\n",
      "758550528\n",
      "154854153\n",
      "8869743\n",
      "16974593\n",
      "12487168\n",
      "6028568\n",
      "849278123\n",
      "2863288\n",
      "57960603\n",
      "575930368\n"
     ]
    }
   ],
   "source": [
    "def my_map(func, items):\n",
    "    return [func(i) for i in items]\n",
    "def my_filter(func, items):\n",
    "    return [i for i in items if func(i)]\n",
    "def div(n):\n",
    "    return len(str(n)) == 3 and int(n) % 5 == 2\n",
    "def mn(n):\n",
    "    return n**3\n",
    "numbers = [1014, 1321, 675, 1215, 56, 1386, 1385, 431, 1058, 486, 1434, 696, 1016, 1084, 424, 1189, 475, 95, 1434, 1462, 815, 776, 657, 1225, 912, 537, 1478, 1176, 544, 488, 668, 944, 207, 266, 1309, 1027, 257, 1374, 1289, 1155, 230, 866, 708, 144, 1434, 1163, 345, 394, 560, 338, 232, 182, 1438, 1127, 928, 1309, 98, 530, 1013, 898, 669, 105, 130, 1363, 947, 72, 1278, 166, 904, 349, 831, 1207, 1496, 370, 725, 926, 175, 959, 1282, 336, 1268, 351, 1439, 186, 273, 1008, 231, 138, 142, 433, 456, 1268, 1018, 1274, 387, 120, 340, 963, 832, 1127]\n",
    "print(*my_map(mn, my_filter(div, numbers)), sep='\\n')"
   ]
  },
  {
   "cell_type": "code",
   "execution_count": 74,
   "id": "f67aaa86-51fc-4b74-810b-4e40527dc8c0",
   "metadata": {},
   "outputs": [
    {
     "name": "stdout",
     "output_type": "stream",
     "text": [
      "319563\n",
      "319563\n"
     ]
    }
   ],
   "source": [
    "def my_reduce(operation, items, initial_value):\n",
    "    acc = initial_value\n",
    "    for i in items:\n",
    "        acc = operation(acc, i)\n",
    "    return acc\n",
    "def my_map(func, items):\n",
    "    return [func(i) for i in items]\n",
    "def ssque(x, y):\n",
    "    return x + y**2\n",
    "def add(x):\n",
    "    return x**2\n",
    "numbers = [97, 42, 9, 32, 3, 45, 31, 77, -1, 11, -2, 75, 5, 51, 34, 28, 46, 1, -8, 84, 16, 51, 90, 56, 65, 90, 23, 35, 11, -10, 70, 90, 90, 12, 96, 58, -8, -4, 91, 76, 94, 60, 72, 43, 4, -6, -5, 51, 58, 60, 30, 38, 67, 62, 36, 72, 34, 82, 62, -1, 60, 82, 87, 81, -7, 57, 26, 36, 17, 43, 80, 40, 75, 94, 91, 64, 38, 72, 29, 84, 38, 35, 7, 54, 31, 95, 78, 27, 82, 1, 64, 94, 31, 29, -8, 98, 24, 61, 7, 73]\n",
    "print(my_reduce(ssque, numbers, 0))\n",
    "print(sum(my_map(add, numbers)))"
   ]
  },
  {
   "cell_type": "code",
   "execution_count": 83,
   "id": "15dd9878-0257-471a-8ffb-bf573b54c4cc",
   "metadata": {},
   "outputs": [
    {
     "name": "stdout",
     "output_type": "stream",
     "text": [
      "25137\n"
     ]
    }
   ],
   "source": [
    "def my_map(func, items):\n",
    "    return [func(i) for i in items]\n",
    "def my_filter(func, items):\n",
    "    return [i for i in items if func(i)]\n",
    "def div(n):\n",
    "    return len(str(abs(n))) == 2 and int(n) % 7 == 0\n",
    "def mn(n):\n",
    "    return n**2\n",
    "numbers = [77, 293, 28, 242, 213, 285, 71, 286, 144, 276, 61, 298, 280, 214, 156, 227, 228, 51, -4, 202, 58, 99, 270, 219, 94, 253, 53, 235, 9, 158, 49, 183, 166, 205, 183, 266, 180, 6, 279, 200, 208, 231, 178, 201, 260, -35, 152, 115, 79, 284, 181, 92, 286, 98, 271, 259, 258, 196, -8, 43, 2, 128, 143, 43, 297, 229, 60, 254, -9, 5, 187, 220, -8, 111, 285, 5, 263, 187, 192, -9, 268, -9, 23, 71, 135, 7, -161, 65, 135, 29, 148, 242, 33, 35, 211, 5, 161, 46, 159, 23, 169, 23, 172, 184, -7, 228, 129, 274, 73, 197, 272, 54, 278, 26, 280, 13, 171, 2, 79, -2, 183, 10, 236, 276, 4, 29, -10, 41, 269, 94, 279, 129, 39, 92, -63, 263, 219, 57, 18, 236, 291, 234, 10, 250, 0, 64, 172, 216, 30, 15, 229, 205, 123, -105]\n",
    "print(sum(my_map(mn, my_filter(div, numbers))))"
   ]
  },
  {
   "cell_type": "code",
   "execution_count": 11,
   "id": "2b5b66b2-0ae1-438f-823d-20ba600a9be4",
   "metadata": {},
   "outputs": [
    {
     "name": "stdout",
     "output_type": "stream",
     "text": [
      "['ALFRED', 'TABITHA', 'WILLIAM', 'ARLA']\n",
      "['Alfred', 'Tabitha', 'William', 'Arla']\n",
      "['x', 'y', 'a']\n"
     ]
    }
   ],
   "source": [
    "# Примеры map, filter\n",
    "pets = ['alfred', 'tabitha', 'william', 'arla']\n",
    "chars = ['x', 'y', '2', '3', 'a']\n",
    " \n",
    "uppered_pets = list(map(str.upper, pets))\n",
    "capitalized_pets = list(map(str.capitalize, pets))\n",
    "only_letters = list(filter(str.isalpha, chars))\n",
    "\n",
    "print(uppered_pets)\n",
    "print(capitalized_pets)\n",
    "print(only_letters)"
   ]
  },
  {
   "cell_type": "code",
   "execution_count": 13,
   "id": "1d51568d-eb78-4ae9-916f-dfc37080d607",
   "metadata": {},
   "outputs": [
    {
     "name": "stdout",
     "output_type": "stream",
     "text": [
      "[1, 'a', True, '0', 7]\n"
     ]
    }
   ],
   "source": [
    "random_list = [1, 'a', 0, False, True, '0', 7, '']\n",
    "filtered_list = list(filter(None, random_list))\n",
    "print(filtered_list)"
   ]
  },
  {
   "cell_type": "code",
   "execution_count": 14,
   "id": "5ef06ed2-52ba-4f25-bae5-2957f38d0d09",
   "metadata": {},
   "outputs": [
    {
     "name": "stdout",
     "output_type": "stream",
     "text": [
      "21\n"
     ]
    }
   ],
   "source": [
    "listA = [2, 3, 4]\n",
    "listB = [3, 2, 1]\n",
    "\n",
    "result = sum(map(pow, listA, listB))\n",
    "print(result)"
   ]
  },
  {
   "cell_type": "code",
   "execution_count": 4,
   "id": "dc67fdfa-1608-43c9-bcc4-2fccf5b48888",
   "metadata": {},
   "outputs": [
    {
     "name": "stdout",
     "output_type": "stream",
     "text": [
      "19\n"
     ]
    }
   ],
   "source": [
    "high_ord_func = lambda x, func: x + func(x)\n",
    "\n",
    "result = high_ord_func(2, lambda x: x * x) + high_ord_func(5, lambda x: x + 3)\n",
    "\n",
    "print(result)"
   ]
  },
  {
   "cell_type": "code",
   "execution_count": 31,
   "id": "73dc30d7-94ec-4744-b3e9-857051867ab5",
   "metadata": {},
   "outputs": [
    {
     "name": "stdout",
     "output_type": "stream",
     "text": [
      "[18.9, 37.1, 10.6, 95.5, 4.7, 78.9, 21.1, 1171.7, 146.9, 21.8, 6.0, 86.9]\n",
      "['racecar', 'civic', 'TATTARRATTAT', 'malayalam']\n",
      "24840\n"
     ]
    }
   ],
   "source": [
    "from functools import reduce \n",
    "\n",
    "floats = [4.35, 6.09, 3.25, 9.77, 2.16, 8.88, 4.59, 34.23, 12.12, 4.67, 2.45, 9.32]\n",
    "words = ['racecar', 'akinremi', 'deed', 'temidayo', 'omoseun', 'civic', 'TATTARRATTAT', 'malayalam', 'nun']\n",
    "numbers = [4, 6, 9, 23, 5]\n",
    "\n",
    "map_result = list(map(lambda num: round(num**2, 1), floats)) # возвести в квадрат и округилить\n",
    "filter_result = list(filter(lambda name: name == name[::-1] and len(name) > 4, words)) # отфильтровать палиндромы с длиной символов больше 4\n",
    "reduce_result = reduce(lambda num1, num2: num1 * num2, numbers, 1) # найти произведение чисел списка\n",
    "\n",
    "print(map_result)\n",
    "print(filter_result)\n",
    "print(reduce_result)"
   ]
  },
  {
   "cell_type": "code",
   "execution_count": 74,
   "id": "a714f513-1e47-4750-b97a-eefd943e8076",
   "metadata": {},
   "outputs": [
    {
     "name": "stdout",
     "output_type": "stream",
     "text": [
      "Cities: Beijing, Buenos Aires, Cairo, Dhaka, Manila, Mexico City, Moscow, Tokyo\n"
     ]
    }
   ],
   "source": [
    "from functools import reduce\n",
    "\n",
    "data = [['Tokyo', 35676000, 'primary'],\n",
    "        ['New York', 19354922, 'nan'],\n",
    "        ['Mexico City', 19028000, 'primary'],\n",
    "        ['Mumbai', 18978000, 'admin'],\n",
    "        ['Sao Paulo', 18845000, 'admin'],\n",
    "        ['Delhi', 15926000, 'admin'],\n",
    "        ['Shanghai', 14987000, 'admin'],\n",
    "        ['Kolkata', 14787000, 'admin'],\n",
    "        ['Los Angeles', 12815475, 'nan'],\n",
    "        ['Dhaka', 12797394, 'primary'],\n",
    "        ['Buenos Aires', 12795000, 'primary'],\n",
    "        ['Karachi', 12130000, 'admin'],\n",
    "        ['Cairo', 11893000, 'primary'],\n",
    "        ['Rio de Janeiro', 11748000, 'admin'],\n",
    "        ['Osaka', 11294000, 'admin'],\n",
    "        ['Beijing', 11106000, 'primary'],\n",
    "        ['Manila', 11100000, 'primary'],\n",
    "        ['Moscow', 10452000, 'primary'],\n",
    "        ['Istanbul', 10061000, 'admin'],\n",
    "        ['Paris', 9904000, 'primary']]\n",
    "c = ''\n",
    "for i in sorted([i[0] for i in list(filter(lambda x: x[1] > 10000000 and x[2] == 'primary', data))]):\n",
    "    c += i + ', '\n",
    "print('Cities:', c[:-2])"
   ]
  },
  {
   "cell_type": "code",
   "execution_count": 83,
   "id": "ecc3baec-2d36-4731-86fa-0e589054cfcf",
   "metadata": {},
   "outputs": [
    {
     "name": "stdout",
     "output_type": "stream",
     "text": [
      "True\n",
      "True\n",
      "False\n",
      "False\n",
      "True\n"
     ]
    }
   ],
   "source": [
    "func = lambda x: True if x % 19 == 0 or x % 13 == 0 else False\n",
    "print(func(19))\n",
    "print(func(13))\n",
    "print(func(20))\n",
    "print(func(15))\n",
    "print(func(247))"
   ]
  },
  {
   "cell_type": "code",
   "execution_count": 86,
   "id": "26f584d4-95fd-42b7-a4fc-b204eb32ffcf",
   "metadata": {},
   "outputs": [
    {
     "name": "stdout",
     "output_type": "stream",
     "text": [
      "False\n",
      "False\n",
      "True\n",
      "False\n",
      "False\n",
      "True\n"
     ]
    }
   ],
   "source": [
    "func = lambda x: True if x[0] in 'aA' and x[-1] in 'aA' else False\n",
    "print(func('abcd'))\n",
    "print(func('bcda'))\n",
    "print(func('abcda'))\n",
    "print(func('Abcd'))\n",
    "print(func('bcdA'))\n",
    "print(func('abcdA'))"
   ]
  },
  {
   "cell_type": "code",
   "execution_count": 127,
   "id": "96907a63-9b61-4c03-a264-66ce49479c83",
   "metadata": {},
   "outputs": [
    {
     "name": "stdout",
     "output_type": "stream",
     "text": [
      "False\n",
      "True\n",
      "False\n",
      "False\n",
      "True\n",
      "False\n",
      "False\n",
      "True\n"
     ]
    }
   ],
   "source": [
    "is_non_negative_num = lambda x: True if x.count('.') <= 1 and x.lower() == x.upper() and x[0] != '-' else False\n",
    "print(is_non_negative_num('10.34ab'))\n",
    "print(is_non_negative_num('10.45'))\n",
    "print(is_non_negative_num('-18'))\n",
    "print(is_non_negative_num('-34.67'))\n",
    "print(is_non_negative_num('987'))\n",
    "print(is_non_negative_num('abcd'))\n",
    "print(is_non_negative_num('123.122.12'))\n",
    "print(is_non_negative_num('123.122'))"
   ]
  },
  {
   "cell_type": "code",
   "execution_count": 160,
   "id": "0ec8948b-5b91-453a-a80c-b4012109d79b",
   "metadata": {},
   "outputs": [
    {
     "name": "stdout",
     "output_type": "stream",
     "text": [
      "False\n",
      "True\n",
      "True\n",
      "True\n",
      "True\n",
      "False\n",
      "False\n",
      "True\n",
      "False\n"
     ]
    }
   ],
   "source": [
    "is_num = lambda x: True if x.count('.') <= 1 and x.lower() == x.upper() and '-' not in x[1:] else False\n",
    "print(is_num('10.34ab'))\n",
    "print(is_num('10.45'))\n",
    "print(is_num('-18'))\n",
    "print(is_num('-34.67'))\n",
    "print(is_num('987'))\n",
    "print(is_num('abcd'))\n",
    "print(is_num('123.122.12'))\n",
    "print(is_num('-123.122'))\n",
    "print(is_num('--13.2'))"
   ]
  },
  {
   "cell_type": "code",
   "execution_count": 163,
   "id": "677ea4ea-e886-4bc8-af92-3e488cc02dd1",
   "metadata": {},
   "outputs": [
    {
     "name": "stdout",
     "output_type": "stream",
     "text": [
      "abduct aboard abound abroad abrupt absent absorb accept access beside bestow betray beware beyond friday monday sunday\n"
     ]
    }
   ],
   "source": [
    "words = ['beverage', 'monday', 'abroad', 'bias', 'abuse', 'abolish', 'abuse', 'abuse', 'bid', 'wednesday', 'able', 'betray', 'accident', 'abduct', 'bigot', 'bet', 'abandon', 'besides', 'access', 'friday', 'bestow', 'abound', 'absent', 'beware', 'abundant', 'abnormal', 'aboard', 'about', 'accelerate', 'abort', 'thursday', 'tuesday', 'sunday', 'berth', 'beyond', 'benevolent', 'abate', 'abide', 'bicycle', 'beside', 'accept', 'berry', 'bewilder', 'abrupt', 'saturday', 'accessory', 'absorb']\n",
    "print(*sorted(list(filter(lambda x: len(x) == 6, words))))"
   ]
  },
  {
   "cell_type": "code",
   "execution_count": 173,
   "id": "b4f64610-7d87-4eea-b91f-2109769f7196",
   "metadata": {},
   "outputs": [
    {
     "name": "stdout",
     "output_type": "stream",
     "text": [
      "23 17 17 28 13 1 3 41 37 40 27 47 17 50 18 33 33 41 40 40 20 17 16 8 5 8 20 18 4 19 4 33 21 36 16 41 35 32 39 27 43 35 24 17 19 20 45 28 40 45 27 13 3 2 23 26 39 37 15 33 29 44 47 37 22 1 19 18 16 5 33 30 47 4 18 47 23 33\n"
     ]
    }
   ],
   "source": [
    "numbers = [46, 61, 34, 17, 56, 26, 93, 1, 3, 82, 71, 37, 80, 27, 77, 94, 34, 100, 36, 81, 33, 81, 66, 83, 41, 80, 80, 93, 40, 34, 32, 16, 5, 16, 40, 93, 36, 65, 8, 19, 8, 75, 66, 21, 72, 32, 41, 59, 35, 64, 49, 78, 83, 27, 57, 53, 43, 35, 48, 17, 19, 40, 90, 57, 77, 56, 80, 95, 90, 27, 26, 6, 4, 23, 52, 39, 63, 74, 15, 66, 29, 88, 94, 37, 44, 2, 38, 36, 32, 49, 5, 33, 60, 94, 89, 8, 36, 94, 46, 33]\n",
    "numbers = list(filter(lambda x: x < 47 or x > 47 and x % 2 == 0, numbers))\n",
    "numbers = list(map(lambda x: x if x % 2 != 0 else x // 2, numbers))\n",
    "print(*numbers)"
   ]
  },
  {
   "cell_type": "code",
   "execution_count": 5,
   "id": "f6542bc1-b4f6-4296-914a-13ab00e03239",
   "metadata": {},
   "outputs": [
    {
     "name": "stdout",
     "output_type": "stream",
     "text": [
      "Vermont: 626299\n",
      "Massachusetts: 7029917\n",
      "Ohio: 11799448\n",
      "Michigan: 10077331\n",
      "Washington: 7705281\n",
      "New York: 19542209\n",
      "Hawaii: 1420491\n",
      "Tennessee: 6910840\n",
      "Alabama: 4887871\n",
      "West Virginia: 1805832\n",
      "California: 39865590\n",
      "Georgia: 10711908\n",
      "Virginia: 10439388\n",
      "Arizona: 7151502\n"
     ]
    }
   ],
   "source": [
    "# Сортировка по последнему символу названия города\n",
    "data = [(19542209, 'New York'), (4887871, 'Alabama'), (1420491, 'Hawaii'), (626299, 'Vermont'), (1805832, 'West Virginia'), (39865590, 'California'), (11799448, 'Ohio'), (10711908, 'Georgia'), (10077331, 'Michigan'), (10439388, 'Virginia'), (7705281, 'Washington'), (7151502, 'Arizona'), (7029917, 'Massachusetts'), (6910840, 'Tennessee')]\n",
    "for i in sorted(data, key = lambda x: x[1][-1], reverse = True):\n",
    "    print(f'{i[1]}: {i[0]}')"
   ]
  },
  {
   "cell_type": "code",
   "execution_count": 8,
   "id": "cc718e8c-478e-4881-8ca7-6395b204de0e",
   "metadata": {},
   "outputs": [
    {
     "name": "stdout",
     "output_type": "stream",
     "text": [
      "вид год дом мир раз глаз дело день друг лицо рука сила время город жизнь конец место слово часть вопрос голова деньги работа случай страна женщина ребенок система сторона человек отношение\n"
     ]
    }
   ],
   "source": [
    "data = ['год', 'человек', 'время', 'дело', 'жизнь', 'день', 'рука', 'раз', 'работа', 'слово', 'место', 'лицо', 'друг', 'глаз', 'вопрос', 'дом', 'сторона', 'страна', 'мир', 'случай', 'голова', 'ребенок', 'сила', 'конец', 'вид', 'система', 'часть', 'город', 'отношение', 'женщина', 'деньги']\n",
    "print(*sorted(sorted(data), key = len))"
   ]
  },
  {
   "cell_type": "code",
   "execution_count": 16,
   "id": "33de4d8c-986d-4c26-9e8b-67c529c97609",
   "metadata": {},
   "outputs": [
    {
     "name": "stdout",
     "output_type": "stream",
     "text": [
      "2950603\n"
     ]
    }
   ],
   "source": [
    "mixed_list = ['tuesday', 'abroad', 'abuse', 'beside', 'monday', 'abate', 'accessory', 'absorb', 1384878, 'sunday', 'about', 454805, 'saturday', 'abort', 2121919, 2552839, 977970, 1772933, 1564063, 'abduct', 901271, 2680434, 'bicycle', 'accelerate', 1109147, 942908, 'berry', 433507, 'bias', 'bestow', 1875665, 'besides', 'bewilder', 1586517, 375290, 1503450, 2713047, 'abnormal', 2286106, 242192, 701049, 2866491, 'benevolent', 'bigot', 'abuse', 'abrupt', 343772, 'able', 2135748, 690280, 686008, 'beyond', 2415643, 'aboard', 'bet', 859105, 'accident', 2223166, 894187, 146564, 1251748, 2851543, 1619426, 2263113, 1618068, 'berth', 'abolish', 'beware', 2618492, 1555062, 'access', 'absent', 'abundant', 2950603, 'betray', 'beverage', 'abide', 'abandon', 2284251, 'wednesday', 2709698, 'thursday', 810387, 'friday', 2576799, 2213552, 1599022, 'accept', 'abuse', 'abound', 1352953, 'bid', 1805326, 1499197, 2241159, 605320, 2347441]\n",
    "print(max(list(filter(lambda x: type(x) == int, mixed_list))))"
   ]
  },
  {
   "cell_type": "code",
   "execution_count": 19,
   "id": "e636d876-eb07-4114-adbb-9871f35a2e8d",
   "metadata": {},
   "outputs": [
    {
     "name": "stdout",
     "output_type": "stream",
     "text": [
      "10 11 12 12 13 13 13 14 15 19 20 20 26 26 26 28 35 36 37 38 40 40 41 41 46 46 47 48 50 51 60 64 65 65 66 67 70 75 76 76 76 78 80 87 89 94 95 95 98 99 abandon abate abduct abide able abnormal aboard abort abound about abrupt absent absorb abundant abuse accelerate accept access accessory accident benevolent berry berth beside besides bestow bet betray beware bewilder beyond bicycle bid bigot friday saturday sunday thursday tuesday wednesday\n"
     ]
    }
   ],
   "source": [
    "mixed_list = ['beside', 48, 'accelerate', 28, 'beware', 'absorb', 'besides', 'berry', 15, 65, 'abate', 'thursday', 76, 70, 94, 35, 36, 'berth', 41, 'abnormal', 'bicycle', 'bid', 'sunday', 'saturday', 87, 'bigot', 41, 'abort', 13, 60, 'friday', 26, 13, 'accident', 'access', 40, 26, 20, 75, 13, 40, 67, 12, 'abuse', 78, 10, 80, 'accessory', 20, 'bewilder', 'benevolent', 'bet', 64, 38, 65, 51, 95, 'abduct', 37, 98, 99, 14, 'abandon', 'accept', 46, 'abide', 'beyond', 19, 'about', 76, 26, 'abound', 12, 95, 'wednesday', 'abundant', 'abrupt', 'aboard', 50, 89, 'tuesday', 66, 'bestow', 'absent', 76, 46, 'betray', 47, 'able', 11]\n",
    "print(*sorted(mixed_list, key = lambda x: str(x) if type(x) == int else x))"
   ]
  },
  {
   "cell_type": "code",
   "execution_count": null,
   "id": "277c2709-79e7-413b-87b1-e0ce5396b2d9",
   "metadata": {},
   "outputs": [],
   "source": [
    "print(*list(map(lambda i: 255 - int(i), input().split())))"
   ]
  },
  {
   "cell_type": "code",
   "execution_count": 26,
   "id": "6cf02fcf-027a-4a99-9a17-2e340b22f0d9",
   "metadata": {},
   "outputs": [
    {
     "name": "stdin",
     "output_type": "stream",
     "text": [
      " 2 4 3\n",
      " 10\n"
     ]
    },
    {
     "name": "stdout",
     "output_type": "stream",
     "text": [
      "243\n"
     ]
    }
   ],
   "source": [
    "def evaluate(coefficients, x):\n",
    "    res = 0\n",
    "    st = len(coefficients) - 1\n",
    "    for i in coefficients[:len(coefficients) - 1]:\n",
    "        res += i * (x ** st)\n",
    "        st -= 1\n",
    "    return res + coefficients[-1]\n",
    "print(evaluate(coefficients = list(map(int, input().split())), x = int(input())))"
   ]
  },
  {
   "cell_type": "code",
   "execution_count": 6,
   "id": "6f980c8e-c515-48bb-9c11-7c4a724745ab",
   "metadata": {},
   "outputs": [
    {
     "name": "stdout",
     "output_type": "stream",
     "text": [
      "True\n"
     ]
    }
   ],
   "source": [
    "def ignore_command(command):\n",
    "    ignore = ['alias', 'configuration', 'ip', 'sql', 'select', 'update', 'exec', 'del', 'truncate']\n",
    "\n",
    "    for word in ignore:\n",
    "        if word in command:\n",
    "            return True\n",
    "    return False\n",
    "print(ignore_command('get ip'))"
   ]
  },
  {
   "cell_type": "code",
   "execution_count": 12,
   "id": "f7205878-7850-4238-b952-0fb102db9413",
   "metadata": {},
   "outputs": [
    {
     "name": "stdout",
     "output_type": "stream",
     "text": [
      "True\n"
     ]
    }
   ],
   "source": [
    "def ignore_command(command):\n",
    "    ignore = ['alias', 'configuration', 'ip', 'sql', 'select', 'update', 'exec', 'del', 'truncate']\n",
    "    return any(map(lambda x: True if x in command else False, ignore))\n",
    "print(ignore_command('get ip'))"
   ]
  },
  {
   "cell_type": "code",
   "execution_count": 19,
   "id": "9b18ca9d-a073-4788-8df2-f5e53cb3f30f",
   "metadata": {},
   "outputs": [
    {
     "name": "stdout",
     "output_type": "stream",
     "text": [
      "Moscow is the capital of Russia, population equal 145934462 people.\n",
      "Washington is the capital of USA, population equal 331002651 people.\n",
      "London is the capital of UK, population equal 80345321 people.\n",
      "Berlin is the capital of Germany, population equal 67886011 people.\n",
      "Paris is the capital of France, population equal 65273511 people.\n",
      "Delhi is the capital of India, population equal 1380004385 people.\n"
     ]
    }
   ],
   "source": [
    "countries = ['Russia', 'USA', 'UK', 'Germany', 'France', 'India']\n",
    "capitals = ['Moscow', 'Washington', 'London', 'Berlin', 'Paris', 'Delhi']\n",
    "population = [145_934_462, 331_002_651, 80_345_321, 67_886_011, 65_273_511, 1_380_004_385]\n",
    "for i in zip(countries, capitals, population):\n",
    "    print(f'{i[1]} is the capital of {i[0]}, population equal {i[2]} people.')"
   ]
  },
  {
   "cell_type": "code",
   "execution_count": null,
   "id": "118f8e8b-008f-4f3a-b68e-20eb4b98700a",
   "metadata": {},
   "outputs": [],
   "source": [
    "abscissas = list(map(float, input().split()))\n",
    "ordinates = list(map(float, input().split()))\n",
    "applicates = list(map(float, input().split()))\n",
    "print(all(map(lambda x: x[0]**2+x[1]**2+x[2]**2<=4, zip(abscissas, ordinates, applicates))))"
   ]
  },
  {
   "cell_type": "code",
   "execution_count": 21,
   "id": "d7306c15-9a22-4be0-90e7-ce0e2a0fb85a",
   "metadata": {},
   "outputs": [
    {
     "name": "stdin",
     "output_type": "stream",
     "text": [
      " 10.1.1.a\n"
     ]
    },
    {
     "name": "stdout",
     "output_type": "stream",
     "text": [
      "False\n"
     ]
    }
   ],
   "source": [
    "ip = list(input().split('.'))\n",
    "print(all(map(lambda x: x.isdigit() and int(x) <= 255, ip)))"
   ]
  },
  {
   "cell_type": "code",
   "execution_count": 1,
   "id": "678c853a-68a6-426f-aed3-a2976211ad98",
   "metadata": {},
   "outputs": [
    {
     "name": "stdin",
     "output_type": "stream",
     "text": [
      " abcABC9\n"
     ]
    },
    {
     "name": "stdout",
     "output_type": "stream",
     "text": [
      "YES\n"
     ]
    }
   ],
   "source": [
    "# Много условий через all any\n",
    "p = input()\n",
    "print('YES' if all([len(p) > 6, (any(i.isupper() for i in p)), (any(i.islower() for i in p)), (any(i.isdigit() for i in p))]) else 'NO')"
   ]
  },
  {
   "cell_type": "code",
   "execution_count": null,
   "id": "b82bb31e-cab9-45df-b014-0ac609a2c6c0",
   "metadata": {},
   "outputs": [],
   "source": [
    "d = {}\n",
    "for i in range(int(input())):\n",
    "    cl = int(input())\n",
    "    for j in range(cl):\n",
    "        f, o = input().split()\n",
    "        if i not in d:\n",
    "            d[i] = [str(cl), f, int(o)]\n",
    "        else:\n",
    "            d[i] += [str(cl), f, int(o)]\n",
    "print('YES' if all(map(lambda x: 5 in x, d.values())) else 'NO')"
   ]
  },
  {
   "cell_type": "code",
   "execution_count": 31,
   "id": "c8ecd90c-ecd0-496c-a983-84087389bd2b",
   "metadata": {},
   "outputs": [
    {
     "name": "stdout",
     "output_type": "stream",
     "text": [
      "To: lara@yandex.ru\n",
      "Приветствую, Лариса!\n",
      "Вам назначен экзамен, который пройдет 10 декабря, в 12:00.\n",
      "По адресу: Часова 23, корпус 2.\n",
      "Экзамен будет проводить Тимур Гуев в кабинете 17.\n",
      "Желаем удачи на экзамене!\n"
     ]
    }
   ],
   "source": [
    "def generate_letter(mail, name, date, time, place, teacher='Тимур Гуев', number=17):\n",
    "    return f'''To: {mail}\n",
    "Приветствую, {name}!\n",
    "Вам назначен экзамен, который пройдет {date}, в {time}.\n",
    "По адресу: {place}.\n",
    "Экзамен будет проводить {teacher} в кабинете {number}.\n",
    "Желаем удачи на экзамене!'''\n",
    "print(generate_letter('lara@yandex.ru', 'Лариса', '10 декабря', '12:00', 'Часова 23, корпус 2'))"
   ]
  },
  {
   "cell_type": "code",
   "execution_count": 71,
   "id": "27e080af-0d9e-478d-b5ca-c50e716df4b8",
   "metadata": {},
   "outputs": [
    {
     "name": "stdout",
     "output_type": "stream",
     "text": [
      " ------------------------------ \n",
      "| 1 | 2 | 10 | 23 | 123 | 3000 |\n",
      " ------------------------------ \n"
     ]
    }
   ],
   "source": [
    "def pretty_print(data, side='-', delimiter='|'):\n",
    "    data = map(str, data)\n",
    "    t = delimiter + ''\n",
    "    for i in data:\n",
    "        t += ' ' + i + ' ' + delimiter\n",
    "    print(f' {side * (len(t) - 2)} ')\n",
    "    print(t)\n",
    "    print(f' {side * (len(t) - 2)} ')\n",
    "pretty_print([1, 2, 10, 23, 123, 3000])"
   ]
  },
  {
   "cell_type": "code",
   "execution_count": 77,
   "id": "e4d218e1-3b9a-44dd-b694-a32956038683",
   "metadata": {},
   "outputs": [
    {
     "name": "stdout",
     "output_type": "stream",
     "text": [
      "[1, 2, 3, 4, 5]\n"
     ]
    }
   ],
   "source": [
    "#Преобразование матрицы в список 1\n",
    "from functools import reduce\n",
    "import operator\n",
    "\n",
    "def flatten(data):\n",
    "    return reduce(operator.concat, data, [])\n",
    "\n",
    "result = flatten([[1, 2], [3, 4], [], [5]])\n",
    "\n",
    "print(result)"
   ]
  },
  {
   "cell_type": "code",
   "execution_count": 38,
   "id": "2db6976c-92fa-47fb-9ce5-bdadfcd8ffe8",
   "metadata": {},
   "outputs": [
    {
     "name": "stdout",
     "output_type": "stream",
     "text": [
      "['one', 'two', 'three', 1, 2, 3, 4, 5, 6]\n"
     ]
    }
   ],
   "source": [
    "#Преобразование матрицы в список 2\n",
    "l1 = [['one', 'two', 'three'], [1, 2, 3, 4, 5, 6]]\n",
    "l2 = []\n",
    "for i in l1:\n",
    "    for j in i:\n",
    "        l2.append(j)\n",
    "print(l2)"
   ]
  },
  {
   "cell_type": "code",
   "execution_count": 39,
   "id": "9d2eba3c-78ec-42e5-8d59-da3efe7054df",
   "metadata": {},
   "outputs": [
    {
     "name": "stdout",
     "output_type": "stream",
     "text": [
      "['one', 'two', 'three', 1, 2, 3, 4, 5, 6]\n"
     ]
    }
   ],
   "source": [
    "#Преобразование матрицы в список 3\n",
    "l1 = [['one', 'two', 'three'], [1, 2, 3, 4, 5, 6]]\n",
    "l2 = sum(l1, [])\n",
    "print(l2)"
   ]
  },
  {
   "cell_type": "code",
   "execution_count": 93,
   "id": "d90966af-e85f-4ac8-99de-21a5eba15e92",
   "metadata": {},
   "outputs": [
    {
     "name": "stdout",
     "output_type": "stream",
     "text": [
      "hello*python*and*stepik\n"
     ]
    }
   ],
   "source": [
    "def concat(*args, sep=' '):\n",
    "    return sep.join(map(str, args))\n",
    "print(concat('hello', 'python', 'and', 'stepik', sep='*'))"
   ]
  },
  {
   "cell_type": "code",
   "execution_count": 121,
   "id": "aaed9b12-de6c-4f26-819a-7201f84bdcf1",
   "metadata": {},
   "outputs": [
    {
     "name": "stdout",
     "output_type": "stream",
     "text": [
      "945\n"
     ]
    }
   ],
   "source": [
    "def product_of_odds(data):\n",
    "    from functools import reduce\n",
    "    d = filter(lambda x: x%2==1, data)\n",
    "    return reduce(lambda n1, n2: n1*n2, d, 1)\n",
    "print(product_of_odds([1, 2, 3, 4, 5, 6, 7, 8, 9, 10]))"
   ]
  },
  {
   "cell_type": "code",
   "execution_count": 136,
   "id": "df304c12-ecff-43f0-ba6a-8aa8722d126e",
   "metadata": {},
   "outputs": [
    {
     "name": "stdout",
     "output_type": "stream",
     "text": [
      "\"the\" \"world\" \"is\" \"mine\" \"take\" \"a\" \"look\" \"what\" \"you\" \"have\" \"started\"\n"
     ]
    }
   ],
   "source": [
    "words = 'the world is mine take a look what you have started'.split()\n",
    "\n",
    "print(*map(lambda x: f'\"{x}\"', words))"
   ]
  },
  {
   "cell_type": "code",
   "execution_count": 138,
   "id": "dcd12f74-5568-40f7-8c49-1b05f173c61b",
   "metadata": {},
   "outputs": [
    {
     "name": "stdout",
     "output_type": "stream",
     "text": [
      "18 78 45 23 908 8976 6565 10 1000 908 786\n"
     ]
    }
   ],
   "source": [
    "numbers = [18, 191, 9009, 5665, 78, 77, 45, 23, 19991, 908, 8976, 6565, 5665, 10, 1000, 908, 909, 232, 45654, 786]\n",
    "print(*filter(lambda x: str(x)!=str(x)[::-1], numbers))"
   ]
  },
  {
   "cell_type": "code",
   "execution_count": 140,
   "id": "f87e9e4e-4597-40fc-b361-c087dd3b4777",
   "metadata": {},
   "outputs": [
    {
     "name": "stdout",
     "output_type": "stream",
     "text": [
      "[(39, 12), (-13, 56), (17, 0, 1), (1, 9, 2), (10, -2, 3, 4), (3,), (-1, 5, 1), (1, 1), (0, 1), (3, -8), (-1, -9, -45, 32), (11, -23), (10, -100, 21, 32)]\n"
     ]
    }
   ],
   "source": [
    "# сортировка по убыванию среднего арифметического элементов кортежей списка numbers\n",
    "numbers = [(10, -2, 3, 4), (-13, 56), (1, 9, 2), (-1, -9, -45, 32), (-1, 5, 1), (17, 0, 1), (0, 1), (3,), (39, 12), (11, -23), (10, -100, 21, 32), (3, -8), (1, 1)]\n",
    "\n",
    "sorted_numbers = sorted(numbers, key = lambda x: sum(x)/len(x), reverse = True)\n",
    "\n",
    "print(sorted_numbers)"
   ]
  },
  {
   "cell_type": "code",
   "execution_count": 155,
   "id": "7e7ab278-ac89-4345-b9d6-4f44fb9c4093",
   "metadata": {},
   "outputs": [
    {
     "name": "stdout",
     "output_type": "stream",
     "text": [
      "80\n"
     ]
    }
   ],
   "source": [
    "# вызов функции через функцию\n",
    "def mul7(x):\n",
    "    return x * 7\n",
    "def add2(x, y):\n",
    "    return x + y\n",
    "def add3(x, y, z):\n",
    "    return x + y + z\n",
    "def call(f, *args):\n",
    "    return f(*args)\n",
    "print(call(add3, 10, 30, 40))"
   ]
  },
  {
   "cell_type": "code",
   "execution_count": 178,
   "id": "4561110e-7e39-49f9-b1c5-8cc132d1a383",
   "metadata": {},
   "outputs": [
    {
     "name": "stdout",
     "output_type": "stream",
     "text": [
      "17\n"
     ]
    }
   ],
   "source": [
    "# вложенные функции\n",
    "def add3(x):\n",
    "    return x + 3\n",
    "def mul7(x):\n",
    "    return x * 7\n",
    "def compose(f1, f2):\n",
    "    return lambda i: f1(f2(i))\n",
    "def compose(f1, f2):\n",
    "    return lambda i: f1(f2(i))\n",
    "print(compose(add3, mul7)(2))"
   ]
  },
  {
   "cell_type": "code",
   "execution_count": 183,
   "id": "cc340c4b-91eb-4ec3-8cb4-5e58fcf75410",
   "metadata": {},
   "outputs": [
    {
     "name": "stdout",
     "output_type": "stream",
     "text": [
      "30\n"
     ]
    }
   ],
   "source": [
    "# вложенные функции\n",
    "from operator import *\n",
    "def arithmetic_operation(operation):\n",
    "    def func(x, y):\n",
    "        result = {'+': add(x, y), '-': sub(x, y), '*': mul(x, y), '/': truediv(x, y)}\n",
    "        return result[operation]\n",
    "    return func\n",
    "print(add(10, 20))"
   ]
  },
  {
   "cell_type": "code",
   "execution_count": 184,
   "id": "6ad2d78e-2eb8-489c-9a77-6c6445c1ef2f",
   "metadata": {},
   "outputs": [
    {
     "name": "stdin",
     "output_type": "stream",
     "text": [
      " cate Frog cat FROGs bee CATERS mouse cATwalk dolphin mOus Cats CatAlo\n"
     ]
    },
    {
     "name": "stdout",
     "output_type": "stream",
     "text": [
      "bee cat CatAlo cate CATERS Cats cATwalk dolphin Frog FROGs mOus mouse\n"
     ]
    }
   ],
   "source": [
    "# сортировка списка по возрастанию несмотря на регистр букв\n",
    "print(*sorted(input().split(), key = lambda x: x.lower()))"
   ]
  },
  {
   "cell_type": "code",
   "execution_count": null,
   "id": "53122759-5466-462e-b260-a8e5570263c0",
   "metadata": {},
   "outputs": [],
   "source": [
    "# сортировка lambda\n",
    "w = [input() for i in range(int(input()))]\n",
    "g = []\n",
    "for i in w:\n",
    "    temp = 0\n",
    "    for j in i:\n",
    "        temp += ord(j.upper()) - ord('A')\n",
    "    g.append(temp)\n",
    "dc = sorted(list((zip(g, w))), key = lambda x: x[1])\n",
    "for i in sorted(dc, key = lambda x: x[0]):\n",
    "    print(i[1])\n"
   ]
  },
  {
   "cell_type": "code",
   "execution_count": 186,
   "id": "b50d2a3d-da80-41cf-b9ad-f0c0338e5ffa",
   "metadata": {},
   "outputs": [
    {
     "name": "stdout",
     "output_type": "stream",
     "text": [
      "2160536600\n"
     ]
    }
   ],
   "source": [
    "print( 128* 256 ** 3 + 199 * 256 ** 2 + 44 * 256 ** 1 + 24 * 256 ** 0)"
   ]
  },
  {
   "cell_type": "code",
   "execution_count": null,
   "id": "7e274a0a-f2a2-4d2f-a951-83dcd37be7b5",
   "metadata": {},
   "outputs": [],
   "source": [
    "ip = [input() for i in range(int(input()))]\n",
    "s = []\n",
    "temp = 0\n",
    "for i in ip:\n",
    "    i1, i2, i3, i4 = i.split('.')\n",
    "    temp += int(i1) * 256 ** 3 + int(i2) * 256 ** 2 + int(i3) * 256 ** 1 + int(i4) * 256 ** 0\n",
    "    s.append(temp)\n",
    "    temp = 0\n",
    "dc = list(zip(ip, s))\n",
    "for i in sorted(dc, key = lambda x: x[1]):\n",
    "    print(i[0])"
   ]
  },
  {
   "cell_type": "code",
   "execution_count": 46,
   "id": "173d0c13-a6eb-4b4c-bf3a-037949937e95",
   "metadata": {},
   "outputs": [
    {
     "name": "stdout",
     "output_type": "stream",
     "text": [
      "453491626\n"
     ]
    }
   ],
   "source": [
    "file = open('nums.txt', 'r')\n",
    "nums = (list(filter(str.isdigit, (map(str.strip, file)))))\n",
    "print(sum(map(lambda x: int(x), nums)))\n",
    "file.close()"
   ]
  },
  {
   "cell_type": "code",
   "execution_count": 63,
   "id": "8601333e-d6f6-4eef-ab49-9f17ee88dafe",
   "metadata": {},
   "outputs": [
    {
     "name": "stdout",
     "output_type": "stream",
     "text": [
      "1286800\n"
     ]
    }
   ],
   "source": [
    "file = open('prices.txt', 'r', encoding='utf-8')\n",
    "f = list(filter(str.isdigit, file.read().split()))\n",
    "c = 0\n",
    "for i in range(0, len(f) - 1, 2):\n",
    "    c += int(f[i]) * int(f[i+1])\n",
    "file.close()\n",
    "print(c)"
   ]
  },
  {
   "cell_type": "code",
   "execution_count": 65,
   "id": "ba6ed675-e675-4849-b1c4-be1173bf1261",
   "metadata": {},
   "outputs": [
    {
     "name": "stdout",
     "output_type": "stream",
     "text": [
      "Repeat after me: pop\n",
      "goes!\n",
      "the!\n",
      "weasel!!\n"
     ]
    }
   ],
   "source": [
    "with open('input.txt', encoding='utf-8') as file:\n",
    "    print('Repeat after me:', file.readline().strip())\n",
    "    for line in file:\n",
    "        print(line.strip() + '!')"
   ]
  },
  {
   "cell_type": "code",
   "execution_count": 68,
   "id": "89e78a4b-b663-41d7-838c-bb1f2800cf8f",
   "metadata": {},
   "outputs": [
    {
     "name": "stdout",
     "output_type": "stream",
     "text": [
      ".enil hcae fo rettel tsrif eht tuo tnirp dna txt.egassem_terces daeR\n"
     ]
    }
   ],
   "source": [
    "with open('text.txt') as file:\n",
    "    print(file.readline()[::-1])"
   ]
  },
  {
   "cell_type": "code",
   "execution_count": 76,
   "id": "bbc828d5-f57f-4c06-b009-195a9d2bf3e0",
   "metadata": {},
   "outputs": [
    {
     "name": "stdout",
     "output_type": "stream",
     "text": [
      "Complex is better than complicated.\n",
      "Simple is better than complex.\n",
      "Explicit is better than implicit.\n",
      "Beautiful is better than ugly.\n"
     ]
    }
   ],
   "source": [
    "with open('data.txt') as file:\n",
    "    t = list(map(str.strip, file.readlines()))\n",
    "    print(*t[::-1], sep='\\n')"
   ]
  },
  {
   "cell_type": "code",
   "execution_count": 43,
   "id": "5a2af97c-c5c2-46f1-8068-28d07ca75101",
   "metadata": {},
   "outputs": [
    {
     "name": "stdout",
     "output_type": "stream",
     "text": [
      "believe in their..\n",
      "Life is what 12345\n",
      "better than ugly!!\n",
      "Explicit is better\n"
     ]
    }
   ],
   "source": [
    "# Выбрать строки максимальной длины\n",
    "with open('lines.txt') as file:\n",
    "    file = list(map(str.strip, file.readlines()))\n",
    "    file.sort(key=len)\n",
    "    res = list(filter(lambda x: len(x) == len(file[-1]), file))\n",
    "    print(*res, sep='\\n')"
   ]
  },
  {
   "cell_type": "code",
   "execution_count": 24,
   "id": "e9aecfc6-9005-44e1-8f11-a0de6bc2d5d5",
   "metadata": {},
   "outputs": [
    {
     "name": "stdout",
     "output_type": "stream",
     "text": [
      "256\n",
      "78\n",
      "114\n",
      "15\n",
      "1089\n"
     ]
    }
   ],
   "source": [
    "# Сумма чисел в каждой строке\n",
    "with open('numbers.txt') as file:\n",
    "    file = list(map(str.strip, file.readlines()))\n",
    "    for i in file:\n",
    "        print(sum([int(j) for j in i.split()]))"
   ]
  },
  {
   "cell_type": "code",
   "execution_count": 87,
   "id": "2bd6b44a-fe7e-45d4-b334-196c328b621d",
   "metadata": {},
   "outputs": [
    {
     "name": "stdout",
     "output_type": "stream",
     "text": [
      "124410\n"
     ]
    }
   ],
   "source": [
    "# Выбрать все числа из текста и вычислить сумму чисел findall\n",
    "with open('nums.txt') as file:\n",
    "    res = 0\n",
    "    import re\n",
    "    sp = [re.findall('\\d+', i) for i in file.readlines()]\n",
    "    for i in sp:\n",
    "        res += sum(map(int, i))\n",
    "    print(res)"
   ]
  },
  {
   "cell_type": "code",
   "execution_count": 105,
   "id": "2ac347c9-5b2d-45f9-8bab-54ed0a676ff3",
   "metadata": {},
   "outputs": [
    {
     "name": "stdout",
     "output_type": "stream",
     "text": [
      "Input file contains:\n",
      "1069 letters\n",
      "229 words\n",
      "12 lines\n"
     ]
    }
   ],
   "source": [
    "# Подсчитать количество букв, слов, строк в файле\n",
    "with open('file.txt') as file:\n",
    "    l = 0\n",
    "    w = 0\n",
    "    n = 0\n",
    "    for i in file:\n",
    "        n += 1\n",
    "        l += len(list(filter(lambda x: x.isalpha(), i)))\n",
    "        w += len(i.split())\n",
    "    print('Input file contains:')\n",
    "    print(l, 'letters')\n",
    "    print(w, 'words')\n",
    "    print(n, 'lines')"
   ]
  },
  {
   "cell_type": "code",
   "execution_count": 125,
   "id": "fc483650-f839-422f-b99a-31fda14c9083",
   "metadata": {},
   "outputs": [
    {
     "name": "stdout",
     "output_type": "stream",
     "text": [
      "Darwin Totten\n",
      "Dave Peterman\n",
      "Brian Toscano\n"
     ]
    }
   ],
   "source": [
    "# открыть 2 файла, выбрать случайные имена и фамилии\n",
    "with open('first_names.txt') as name, open('last_names.txt') as family:\n",
    "    import random\n",
    "    name = list(map(str.strip, name.readlines()))\n",
    "    family = list(map(str.strip, family.readlines()))\n",
    "    for i in range(3):\n",
    "        print(*random.sample(name, 1), *random.sample(family, 1))"
   ]
  },
  {
   "cell_type": "code",
   "execution_count": 149,
   "id": "9e95d761-5e1c-4492-a8ee-9670cf7d222c",
   "metadata": {},
   "outputs": [
    {
     "name": "stdout",
     "output_type": "stream",
     "text": [
      "Germany\n",
      "Ghana\n",
      "Guatemala\n",
      "Greece\n",
      "Guinea\n",
      "Georgia\n",
      "Guinea-Bissau\n",
      "Gabon\n",
      "Guyana\n"
     ]
    }
   ],
   "source": [
    "with open('population.txt') as f:\n",
    "    for i in f:\n",
    "        if int(i.split('\\t')[1]) > 500000 and i.split('\\t')[0][0] == 'G':\n",
    "            print(i.split('\\t')[0])"
   ]
  },
  {
   "cell_type": "code",
   "execution_count": 177,
   "id": "947764ce-ccb7-45ef-8133-a804e9a9cfd7",
   "metadata": {},
   "outputs": [
    {
     "name": "stdout",
     "output_type": "stream",
     "text": [
      "[{'policyID': '119736', 'statecode': 'FL', 'county': 'CLAY COUNTY', 'eq_site_limit': '498960', 'hu_site_limit': '498960', 'fl_site_limit': '498960', 'fr_site_limit': '498960', 'tiv_2011': '498960', 'tiv_2012': '792148.9', 'eq_site_deductible': '0', 'hu_site_deductible': '9979.2', 'fl_site_deductible': '0', 'fr_site_deductible': '0', 'point_latitude': '30.102261', 'point_longitude': '-81.711777', 'line': 'Residential', 'construction': 'Masonry', 'point_granularity': '1'}, {'policyID': '448094', 'statecode': 'FL', 'county': 'CLAY COUNTY', 'eq_site_limit': '1322376.3', 'hu_site_limit': '1322376.3', 'fl_site_limit': '1322376.3', 'fr_site_limit': '1322376.3', 'tiv_2011': '1322376.3', 'tiv_2012': '1438163.57', 'eq_site_deductible': '0', 'hu_site_deductible': '0', 'fl_site_deductible': '0', 'fr_site_deductible': '0', 'point_latitude': '30.063936', 'point_longitude': '-81.707664', 'line': 'Residential', 'construction': 'Masonry', 'point_granularity': '3'}, {'policyID': '206893', 'statecode': 'FL', 'county': 'CLAY COUNTY', 'eq_site_limit': '190724.4', 'hu_site_limit': '190724.4', 'fl_site_limit': '190724.4', 'fr_site_limit': '190724.4', 'tiv_2011': '190724.4', 'tiv_2012': '192476.78', 'eq_site_deductible': '0', 'hu_site_deductible': '0', 'fl_site_deductible': '0', 'fr_site_deductible': '0', 'point_latitude': '30.089579', 'point_longitude': '-81.700455', 'line': 'Residential', 'construction': 'Wood', 'point_granularity': '1'}, {'policyID': '333743', 'statecode': 'FL', 'county': 'CLAY COUNTY', 'eq_site_limit': '0', 'hu_site_limit': '79520.76', 'fl_site_limit': '0', 'fr_site_limit': '0', 'tiv_2011': '79520.76', 'tiv_2012': '86854.48', 'eq_site_deductible': '0', 'hu_site_deductible': '0', 'fl_site_deductible': '0', 'fr_site_deductible': '0', 'point_latitude': '30.063236', 'point_longitude': '-81.707703', 'line': 'Residential', 'construction': 'Wood', 'point_granularity': '3'}, {'policyID': '172534', 'statecode': 'FL', 'county': 'CLAY COUNTY', 'eq_site_limit': '0', 'hu_site_limit': '254281.5', 'fl_site_limit': '0', 'fr_site_limit': '254281.5', 'tiv_2011': '254281.5', 'tiv_2012': '246144.49', 'eq_site_deductible': '0', 'hu_site_deductible': '0', 'fl_site_deductible': '0', 'fr_site_deductible': '0', 'point_latitude': '30.060614', 'point_longitude': '-81.702675', 'line': 'Residential', 'construction': 'Wood', 'point_granularity': '1'}, {'policyID': '785275', 'statecode': 'FL', 'county': 'CLAY COUNTY', 'eq_site_limit': '0', 'hu_site_limit': '515035.62', 'fl_site_limit': '0', 'fr_site_limit': '0', 'tiv_2011': '515035.62', 'tiv_2012': '884419.17', 'eq_site_deductible': '0', 'hu_site_deductible': '0', 'fl_site_deductible': '0', 'fr_site_deductible': '0', 'point_latitude': '30.063236', 'point_longitude': '-81.707703', 'line': 'Residential', 'construction': 'Masonry', 'point_granularity': '3'}, {'policyID': '995932', 'statecode': 'FL', 'county': 'CLAY COUNTY', 'eq_site_limit': '0', 'hu_site_limit': '19260000', 'fl_site_limit': '0', 'fr_site_limit': '0', 'tiv_2011': '19260000', 'tiv_2012': '20610000', 'eq_site_deductible': '0', 'hu_site_deductible': '0', 'fl_site_deductible': '0', 'fr_site_deductible': '0', 'point_latitude': '30.102226', 'point_longitude': '-81.713882', 'line': 'Commercial', 'construction': 'Reinforced Concrete', 'point_granularity': '1'}, {'policyID': '223488', 'statecode': 'FL', 'county': 'CLAY COUNTY', 'eq_site_limit': '328500', 'hu_site_limit': '328500', 'fl_site_limit': '328500', 'fr_site_limit': '328500', 'tiv_2011': '328500', 'tiv_2012': '348374.25', 'eq_site_deductible': '0', 'hu_site_deductible': '16425', 'fl_site_deductible': '0', 'fr_site_deductible': '0', 'point_latitude': '30.102217', 'point_longitude': '-81.707146', 'line': 'Residential', 'construction': 'Wood', 'point_granularity': '1'}, {'policyID': '433512', 'statecode': 'FL', 'county': 'CLAY COUNTY', 'eq_site_limit': '315000', 'hu_site_limit': '315000', 'fl_site_limit': '315000', 'fr_site_limit': '315000', 'tiv_2011': '315000', 'tiv_2012': '265821.57', 'eq_site_deductible': '0', 'hu_site_deductible': '15750', 'fl_site_deductible': '0', 'fr_site_deductible': '0', 'point_latitude': '30.118774', 'point_longitude': '-81.704613', 'line': 'Residential', 'construction': 'Wood', 'point_granularity': '1'}, {'policyID': '142071', 'statecode': 'FL', 'county': 'CLAY COUNTY', 'eq_site_limit': '705600', 'hu_site_limit': '705600', 'fl_site_limit': '705600', 'fr_site_limit': '705600', 'tiv_2011': '705600', 'tiv_2012': '1010842.56', 'eq_site_deductible': '14112', 'hu_site_deductible': '35280', 'fl_site_deductible': '0', 'fr_site_deductible': '0', 'point_latitude': '30.100628', 'point_longitude': '-81.703751', 'line': 'Residential', 'construction': 'Masonry', 'point_granularity': '1'}]\n"
     ]
    }
   ],
   "source": [
    "# список словарей из файла csv\n",
    "def read_csv():\n",
    "    with open('data.csv') as f:\n",
    "        res = []\n",
    "        k = [i.strip() for i in f.readline().split(',')]\n",
    "        for i in f.readlines():\n",
    "            v = [i.strip() for i in i.split(',')]\n",
    "            res.append(dict(zip(k, v)))\n",
    "        return(res)\n",
    "print(read_csv())"
   ]
  },
  {
   "cell_type": "code",
   "execution_count": 178,
   "id": "804dd247-48e3-4dee-a676-f2f8e41e026c",
   "metadata": {},
   "outputs": [],
   "source": [
    "# Запись в файл через print\n",
    "with open('words.txt', 'w') as output:\n",
    "    print('stepik', 'beegeek', 'iq-option', sep='*', end='+\\n', file=output)\n",
    "    print('python', file=output)"
   ]
  },
  {
   "cell_type": "code",
   "execution_count": 180,
   "id": "f4fd7241-3ce2-450f-958f-e2ddc2341274",
   "metadata": {},
   "outputs": [],
   "source": [
    "with open('random.txt', 'a') as output:\n",
    "    import random\n",
    "    for i in range(25):\n",
    "        print(random.randrange(111, 778), file=output)"
   ]
  },
  {
   "cell_type": "code",
   "execution_count": 13,
   "id": "ae377765-4782-40b3-a8e1-95725027da83",
   "metadata": {},
   "outputs": [],
   "source": [
    "# Пронумеровать список и перенести его в новый файл\n",
    "with open('input.txt') as input, open('output.txt', 'w') as output:\n",
    "    cnt = 0\n",
    "    for i in input:\n",
    "        cnt += 1\n",
    "        print(str(cnt) + ')', i.strip(), file=output)"
   ]
  },
  {
   "cell_type": "code",
   "execution_count": 35,
   "id": "91c08c25-c706-4198-8e00-c043797f8456",
   "metadata": {},
   "outputs": [],
   "source": [
    "# Считать из файла данные, прибавить 5 к результату и записать в новый файл\n",
    "with open('class_scores.txt', encoding='utf-8') as old, open('new_scores.txt', 'w', encoding='utf-8') as new:\n",
    "    temp = [i.strip().split() for i in old.readlines()]\n",
    "    for i, j in temp:\n",
    "        if int(j) >= 95:\n",
    "            print(i, '100', file=new)\n",
    "        else:\n",
    "            print(i, int(j) + 5, file=new)"
   ]
  },
  {
   "cell_type": "code",
   "execution_count": 81,
   "id": "bf2c95c5-b7e7-41a1-978a-ca7adf055afe",
   "metadata": {},
   "outputs": [],
   "source": [
    "# Начало чтения файла со слова GOATS. Подсчет повторов, вычисление процента, запись в файл\n",
    "with open('goats.txt') as goat, open('answer.txt', 'w') as ans:\n",
    "    temp = [i.strip().split() for i in goat.readlines()]\n",
    "    start = temp.index(['GOATS'])\n",
    "    res = {}\n",
    "    for i in range(start + 1, len(temp)):\n",
    "        res[temp[i][0]] = res.get(temp[i][0], 0) + 1\n",
    "    common = (sum(map(lambda x: res[x], res)))\n",
    "    for i, j in res.items():\n",
    "        if j / common > 0.07:\n",
    "            print(i, 'goat', file = ans)"
   ]
  },
  {
   "cell_type": "code",
   "execution_count": 2,
   "id": "14500bfd-eea2-481f-ad1b-6130abb4e22a",
   "metadata": {},
   "outputs": [
    {
     "name": "stdout",
     "output_type": "stream",
     "text": [
      "Beautiful is better than ugly.\n",
      "Explicit is better than implicit.\n",
      "Simple is better than complex.\n",
      "Complex is better than complicated.\n",
      "\n"
     ]
    }
   ],
   "source": [
    "with open('data.txt') as d:\n",
    "    print(d.read())"
   ]
  },
  {
   "cell_type": "code",
   "execution_count": 5,
   "id": "6da850a1-2f1d-4783-899e-588a776c993b",
   "metadata": {},
   "outputs": [
    {
     "name": "stdin",
     "output_type": "stream",
     "text": [
      " 2\n",
      " 1.txt\n",
      " 2.txt\n"
     ]
    }
   ],
   "source": [
    "# Добавление содержимого файлов в один. На вход подаются количество файлов и их названия\n",
    "with open('output.txt', 'w') as output:   \n",
    "    for i in range(int(input())):\n",
    "        with open(str(input())) as inp:\n",
    "            print(inp.read(), file=output, end='')"
   ]
  },
  {
   "cell_type": "code",
   "execution_count": 29,
   "id": "f88504c3-7ea6-4586-83a8-63fb10bc8dc3",
   "metadata": {},
   "outputs": [],
   "source": [
    "# выборка н аоснове разницы во времени\n",
    "with open('logfile.txt', encoding='utf-8') as log, open('output.txt', 'w', encoding='utf-8') as output:\n",
    "    def minutes(x): # функция перевода часов и минут формата 15:20 в минуты\n",
    "        res=[int(i) for i in x.split(':')]\n",
    "        return res[0]*60+res[1]\n",
    "    text = [i.strip().split(',') for i in log.readlines()]\n",
    "    for i in text:\n",
    "        if (minutes(i[2]) - minutes(i[1])) > 59:\n",
    "            print(i[0], file=output)"
   ]
  },
  {
   "cell_type": "code",
   "execution_count": 15,
   "id": "8a170047-dbcd-4948-9ee0-1260fc92666e",
   "metadata": {},
   "outputs": [
    {
     "name": "stdout",
     "output_type": "stream",
     "text": [
      "$26127\n"
     ]
    }
   ],
   "source": [
    "with open('ledger.txt', encoding='utf-8') as l:\n",
    "    res = sum([int(i.strip('\\n$')) for i in l.readlines()])\n",
    "    print(f'${res}')"
   ]
  },
  {
   "cell_type": "code",
   "execution_count": 18,
   "id": "d9b5ba4a-689a-40aa-b3ad-1ba75a2ba03a",
   "metadata": {},
   "outputs": [
    {
     "name": "stdout",
     "output_type": "stream",
     "text": [
      "19\n"
     ]
    }
   ],
   "source": [
    "with open('grades.txt', encoding='utf-8') as l:\n",
    "    st = [i.strip().split() for i in l.readlines()]\n",
    "    cnt = 0\n",
    "    for i in st:\n",
    "        if int(i[1]) >= 65 and int(i[2]) >= 65 and int(i[3]) >= 65:\n",
    "            cnt += 1\n",
    "    print(cnt)"
   ]
  },
  {
   "cell_type": "code",
   "execution_count": 54,
   "id": "72693d48-3cb8-4373-9f66-299df0d5f21f",
   "metadata": {},
   "outputs": [
    {
     "name": "stdout",
     "output_type": "stream",
     "text": [
      "responsibility\n",
      "administration\n",
      "recommendation\n",
      "transportation\n"
     ]
    }
   ],
   "source": [
    "with open('words.txt', encoding='utf-8') as w:\n",
    "    text = [i.strip().split() for i in w.readlines()]\n",
    "    l = len(sorted(text[0], key = len, reverse = True)[0])\n",
    "    res = list(filter(lambda x: len(x)==l, text[0]))\n",
    "    print(*res, sep='\\n')"
   ]
  },
  {
   "cell_type": "code",
   "execution_count": null,
   "id": "db639897-a2b1-4aa7-b9d8-8c030338024b",
   "metadata": {},
   "outputs": [],
   "source": [
    "# установка модуля для чтения файла с конца\n",
    "pip install file_read_backwards"
   ]
  },
  {
   "cell_type": "code",
   "execution_count": 76,
   "id": "c8420b79-b15c-48d7-86e6-4cabd9a09cb1",
   "metadata": {},
   "outputs": [
    {
     "name": "stdout",
     "output_type": "stream",
     "text": [
      "Young 65 65 65\n",
      "Young 64 65 66\n",
      "Wright 65 66 67\n",
      "Wilson 67 28 81\n",
      "Wilson 87 97 96\n",
      "Williams 60 91 21\n",
      "Williams 68 54 33\n",
      "Willcox 96 94 80\n",
      "Whitfield 68 81 93\n",
      "Wheatley 54 58 35\n"
     ]
    }
   ],
   "source": [
    "# чтение строк файла с конца\n",
    "from file_read_backwards import FileReadBackwards\n",
    "with FileReadBackwards(\"grades.txt\", encoding=\"utf-8\") as frb:\n",
    "    c = 0\n",
    "    for i in frb:\n",
    "        print(i)\n",
    "        c += 1\n",
    "        if c == 10:\n",
    "            break"
   ]
  },
  {
   "cell_type": "code",
   "execution_count": 100,
   "id": "97d54b2a-b037-4a69-926a-4eb3baa88cd9",
   "metadata": {},
   "outputs": [
    {
     "name": "stdout",
     "output_type": "stream",
     "text": [
      "Wheatley 54 58 35\n",
      "Whitfield 68 81 93\n",
      "Willcox 96 94 80\n",
      "Williams 68 54 33\n",
      "Williams 60 91 21\n",
      "Wilson 87 97 96\n",
      "Wilson 67 28 81\n",
      "Wright 65 66 67\n",
      "Young 64 65 66\n",
      "Young 65 65 65\n"
     ]
    }
   ],
   "source": [
    "# последние 10 строк\n",
    "with open(\"grades.txt\", encoding=\"utf-8\") as f:\n",
    "    lst = f.readlines()[-10:] \n",
    "    for i in lst:\n",
    "        print(i.strip())"
   ]
  },
  {
   "cell_type": "code",
   "execution_count": 200,
   "id": "fd7bb9fb-7ba4-4b8d-90f0-022d58b4e917",
   "metadata": {},
   "outputs": [
    {
     "name": "stdout",
     "output_type": "stream",
     "text": [
      "*********** ******************* ******** ************ ************. ***********     confusio  ********* and *******************.\n",
      "********* and math ******* ***********...... ****** ****** PyToN"
     ]
    }
   ],
   "source": [
    "# замена запрещенных слов на *\n",
    "with open('forbidden_words.txt', encoding='utf-8') as fw, open('stepik.txt', encoding='utf-8') as w:\n",
    "    fw_key = [i.strip().split() for i in fw.readlines()][0]\n",
    "    fw_val = ['*' * len(i) for i in fw_key]\n",
    "    fw = dict(zip(fw_key, fw_val))\n",
    "    w = w.read()\n",
    "    wl = w.lower()\n",
    "    for i, j in fw.items():\n",
    "        if i in wl:\n",
    "            wl = wl.replace(i, j)\n",
    "    for i in range(len(wl)):\n",
    "        if wl[i] == '*':\n",
    "            print('*', end = '')\n",
    "        else:\n",
    "            print(w[i], end = '')"
   ]
  },
  {
   "cell_type": "code",
   "execution_count": 219,
   "id": "1116edd5-ecf9-4352-95ca-e759e5efa141",
   "metadata": {},
   "outputs": [],
   "source": [
    "# Транслитерация. Замена русских букв на литинские\n",
    "with open('cyrillic.txt', encoding='utf-8') as cyr, open('transliteration.txt', 'w') as tr:\n",
    "    cyr = cyr.read()\n",
    "    d = {\n",
    "    'а': 'a', 'к': 'k', 'х': 'h', 'б': 'b', 'л': 'l', 'ц': 'c', 'в': 'v', 'м': 'm', 'ч': 'ch',\n",
    "    'г': 'g', 'н': 'n', 'ш': 'sh', 'д': 'd', 'о': 'o', 'щ': 'shh', 'е': 'e', 'п': 'p', 'ъ': '*',\n",
    "    'ё': 'jo', 'р': 'r', 'ы': 'y', 'ж': 'zh', 'с': 's', 'ь': \"'\", 'з': 'z', 'т': 't', 'э': 'je',\n",
    "    'и': 'i', 'у': 'u', 'ю': 'ju', 'й': 'j', 'ф': 'f', 'я': 'ya'\n",
    "    }\n",
    "    for i in cyr:\n",
    "        if i.lower() in d:\n",
    "            cyr = cyr.replace(i.lower(), d[i.lower()])\n",
    "        if i.isupper() and i.lower() in d:\n",
    "            cyr = cyr.replace(i, str(d[i.lower()])[0].upper() + str(d[i.lower()])[1:] )\n",
    "    print(cyr, file = tr)"
   ]
  },
  {
   "cell_type": "code",
   "execution_count": 267,
   "id": "fa74185b-952c-420c-b66e-bf3dc0e75422",
   "metadata": {},
   "outputs": [
    {
     "name": "stdout",
     "output_type": "stream",
     "text": [
      "powers\n",
      "matrix\n",
      "mean\n",
      "greet\n"
     ]
    }
   ],
   "source": [
    "# Проверить есть ли комментарии над функциями\n",
    "with open('func.txt', encoding='utf-8') as func:\n",
    "    func = [i.strip() for i in func.readlines()]\n",
    "    res = []\n",
    "    if not func[0].startswith('#'):\n",
    "        res.append(func[0][4:].split('(')[0])\n",
    "        flag = True\n",
    "    for i in range(len(func) - 1):\n",
    "        if not func[i].startswith('#') and func[i+1].startswith('def '):\n",
    "            res.append(func[i+1][4:].split('(')[0])\n",
    "    if len(res) != 0:\n",
    "        print(*res, sep='\\n')\n",
    "    else:\n",
    "        print('Best Programming Team')"
   ]
  },
  {
   "cell_type": "code",
   "execution_count": null,
   "id": "aa4a9181-cf02-495f-b100-08eaa20492d2",
   "metadata": {},
   "outputs": [],
   "source": [
    "with open ('excel.txt', 'w') as f:\n",
    "    for row in excel_data.iterrows():\n",
    "        print(row, file=f)"
   ]
  },
  {
   "cell_type": "code",
   "execution_count": 421,
   "id": "7602ff17-136b-4182-b952-a2d7dafd922e",
   "metadata": {},
   "outputs": [
    {
     "name": "stdout",
     "output_type": "stream",
     "text": [
      "[['Akhtar', 179], ['Alford', 140], ['Ali', 174], ['Allen', 235], ['Armstrong', 212], ['Armstrong', 135], ['Ashraf', 169], ['Atherton', 176], ['Bailey', 158], ['Baran', 190], ['Bartley', 70], ['Beagley', 163], ['Bell', 230], ['Benefield', 197], ['Bevan', 236], ['Bird', 217], ['Bishop', 120], ['Black', 138], ['Blake', 189], ['Boddy', 248], ['Bowen', 111], ['Boyd', 124], ['Breen', 183], ['Brereton', 77], ['Brown', 149], ['Bruce', 139], ['Burchell', 174], ['Burke', 105], ['Burns', 154], ['Burrough', 162], ['Calderwood', 198], ['Caldon', 210], ['Cartwright', 170], ['Chalmers', 115], ['Clarke', 189], ['Clay', 164], ['Cockram', 247], ['Cole', 115], ['Colman', 200], ['Constable', 164], ['Cottrell', 192], ['Crane', 170], ['Crossley', 146], ['Davenport', 115], ['Davidson', 181], ['Dockray', 177], ['Down', 209], ['Duke', 178], ['Fahy', 157], ['Fellows', 142], ['Felton', 178], ['Finnie', 182], ['Fitzgerald', 174], ['Flavin', 150], ['Flitton', 118], ['Frame', 132], ['Fry', 220], ['Fyfe', 144], ['Gannon', 174], ['Geraghty', 211], ['Gibbons', 198], ['Girvan', 215], ['Glyn', 193], ['Glynn', 178], ['Gold', 198], ['Gore', 198], ['Gould', 155], ['Grimes', 223], ['Gwizdak', 205], ['Haggarty', 219], ['Harper', 197], ['Harrison', 154], ['Haye', 164], ['Hazell', 129], ['Hill', 234], ['Hogg', 113], ['Holder', 155], ['Holland', 248], ['Hopcroft', 89], ['Hudson', 125], ['Hughes', 224], ['Humphreys', 135], ['Husain', 216], ['Iles', 184], ['Isaacson', 123], ['Jackson', 219], ['Jackson', 257], ['James', 166], ['Jennings', 256], ['Johal', 213], ['Jones', 181], ['Jones', 225], ['Jones', 181], ['Kane', 212], ['Kelly', 182], ['Kirk', 109], ['Lavelle', 152], ['Lee', 235], ['Leek', 145], ['Lennox', 139], ['Lewis', 205], ['Lewis', 222], ['Li', 181], ['Lloyd', 162], ['Long', 195], ['Longbottom', 209], ['Lowery', 184], ['Lyne', 226], ['MacDonald', 157], ['MacKenzie', 103], ['MacPherson', 153], ['Madsen', 148], ['Magee', 159], ['Maltby', 204], ['Markey', 133], ['Martins', 197], ['McCann', 84], ['McElduff', 219], ['McGoldrick', 232], ['Mehmet', 192], ['Mehta', 234], ['Moffatt', 137], ['Montague', 210], ['Moore', 194], ['Morris', 177], ['Morris', 224], ['Mosley', 190], ['Munday', 164], ['Murray', 144], ['Naji', 187], ['Newman', 157], ['Nicholls', 181], ['Niven', 126], ['Nunns', 212], ['Oliver', 175], ['Oxley', 193], ['Palmer', 193], ['Parr', 226], ['Peters', 212], ['Phelan', 223], ['Phillips', 179], ['Phillips', 209], ['Pipe', 186], ['Poulter', 208], ['Powell', 199], ['Powley', 172], ['Ram', 250], ['Reith', 155], ['Revell', 150], ['Rice', 219], ['Ridley', 210], ['Rimmer', 178], ['Robinson', 114], ['Rose', 124], ['Rowland', 192], ['Sagar', 198], ['Sales', 171], ['Seddon', 217], ['Silsby', 151], ['Singleton', 190], ['Solanki', 142], ['Starkey', 202], ['Stephen', 140], ['Stephen', 170], ['Stevens', 164], ['Stewart', 185], ['Stone', 204], ['Storey', 272], ['Strachan', 243], ['Stuart', 236], ['Stubbs', 227], ['Suri', 153], ['Tart', 126], ['Taylor', 165], ['Thomas', 191], ['Thompson', 157], ['Thompson', 171], ['Thompson', 181], ['Tierney', 229], ['Tiffin', 183], ['Turner', 217], ['Turner', 171], ['Twist', 189], ['Voss', 116], ['Waller', 253], ['Walton', 137], ['Wang', 229], ['Wardle', 179], ['Warner', 208], ['Way', 271], ['Wheatley', 147], ['Whitfield', 242], ['Willcox', 270], ['Williams', 155], ['Williams', 172], ['Wilson', 280], ['Wilson', 176], ['Wright', 198], ['Young', 195], ['Young', 195]]\n"
     ]
    }
   ],
   "source": [
    "# Работа с excel\n",
    "import pandas as pd\n",
    "excel_data = pd.read_excel('excel.xlsx') \n",
    "data = pd.DataFrame(excel_data) \n",
    "tmp = [] \n",
    "for row in excel_data.iterrows(): \n",
    "    tmp.append(str(row).replace('(', '').replace(',', '').split()) \n",
    "tbl = [i[:9] for i in tmp]\n",
    "print(list(map(lambda x: [x[2], int(x[4]) + int(x[6]) + int(x[8])], tbl)))"
   ]
  },
  {
   "cell_type": "code",
   "execution_count": 27,
   "id": "7e697dcc-7574-44d9-8240-ac5fb8af61cd",
   "metadata": {},
   "outputs": [
    {
     "name": "stdin",
     "output_type": "stream",
     "text": [
      " 60\n",
      " 87\n"
     ]
    },
    {
     "name": "stdout",
     "output_type": "stream",
     "text": [
      "Все идет по плану\n",
      "#60 ДЕНЬ: ТЕКУЩИЙ ВЕС = 87.0 кг, ЦЕЛЬ по ВЕСУ = 88.0 кг\n"
     ]
    }
   ],
   "source": [
    "from decimal import *\n",
    "w = {}\n",
    "m = Decimal(100)\n",
    "for i in range(1, 61):\n",
    "    w[i] = Decimal(m) - Decimal('0.2')\n",
    "    m -= Decimal('0.2')\n",
    "day = int(input())\n",
    "mas = Decimal(input())\n",
    "if mas <= w[day]:\n",
    "    print('Все идет по плану')    \n",
    "else:\n",
    "    print('Что-то пошло не так')\n",
    "print(f'#{day} ДЕНЬ: ТЕКУЩИЙ ВЕС = {float(mas)} кг, ЦЕЛЬ по ВЕСУ = {float(w[day])} кг')"
   ]
  },
  {
   "cell_type": "code",
   "execution_count": 9,
   "id": "71a12901-54d0-4bde-9b90-2594db1f75fe",
   "metadata": {},
   "outputs": [
    {
     "data": {
      "text/plain": [
       "True"
      ]
     },
     "execution_count": 9,
     "metadata": {},
     "output_type": "execute_result"
    }
   ],
   "source": [
    "# Проверить есть файл по указанному пути\n",
    "import os.path\n",
    "os.path.isfile('1.txt')"
   ]
  },
  {
   "cell_type": "code",
   "execution_count": 16,
   "id": "ec39eebc-a1a7-4ef3-8a9c-0a879fcfec75",
   "metadata": {},
   "outputs": [
    {
     "name": "stdout",
     "output_type": "stream",
     "text": [
      "ERROR:\n",
      "Это каталог, а не файл\n"
     ]
    }
   ],
   "source": [
    "import os.path\n",
    "p = input()\n",
    "if os.path.isdir(p): # Проверить является ли строка путем к файлу\n",
    "    print(f'ERROR:\\nЭто каталог, а не файл')\n",
    "else:\n",
    "    if os.path.isfile(p):\n",
    "        with open(p, encoding='utf-8') as f:\n",
    "            print(f'CONTENT:\\n{f.read()}')\n",
    "    else:\n",
    "        print(f'ERROR:\\nФайл не существует')"
   ]
  },
  {
   "cell_type": "code",
   "execution_count": 26,
   "id": "b8a842a5-adfc-485f-9ccf-6fabb51fc918",
   "metadata": {},
   "outputs": [],
   "source": [
    "# Добавить строку в начало файла\n",
    "with open('input2.txt') as fr:\n",
    "    tm = fr.read() # Считываем содержимое\n",
    " \n",
    "with open('input2.txt', 'w') as fw:\n",
    "    print('5555',  tm, sep='\\n', file=fw) # Добавляем и записываем то что было в файле\n"
   ]
  },
  {
   "cell_type": "code",
   "execution_count": 15,
   "id": "a43900ee-ae5b-41e1-aff9-b53bee24222e",
   "metadata": {},
   "outputs": [
    {
     "name": "stdout",
     "output_type": "stream",
     "text": [
      "[2, 6]\n"
     ]
    }
   ],
   "source": [
    "import numpy as np\n",
    "v = np.array([1, 2, -3, -5, 6])\n",
    "print(list(v[v % 2 == 0]))"
   ]
  },
  {
   "cell_type": "code",
   "execution_count": 1,
   "id": "58be957e-99e7-4a8c-ab80-57c7ae0b3c1e",
   "metadata": {},
   "outputs": [
    {
     "name": "stdout",
     "output_type": "stream",
     "text": [
      "1.26.3\n"
     ]
    }
   ],
   "source": [
    "import numpy as np\n",
    "print(np.__version__)"
   ]
  },
  {
   "cell_type": "code",
   "execution_count": 20,
   "id": "081ef698-fa66-4a87-aebf-686fb76465f0",
   "metadata": {},
   "outputs": [
    {
     "name": "stdin",
     "output_type": "stream",
     "text": [
      " 5 6 bool\n"
     ]
    },
    {
     "name": "stdout",
     "output_type": "stream",
     "text": [
      "[[False False False False False False]\n",
      " [False False False False False False]\n",
      " [False False False False False False]\n",
      " [False False False False False False]\n",
      " [False False False False False False]]\n"
     ]
    }
   ],
   "source": [
    "#Создайте матрицу Z размера shape, со значениями типа dtype (если dtype не указан, используйте numpy.float64)\n",
    "import numpy as np\n",
    "m = tuple(i for i in input().split())\n",
    "if m[-1].isdigit():\n",
    "    m = tuple(map(int, m))\n",
    "    Z = np.zeros(m, dtype = np.float64)\n",
    "else:\n",
    "    t = m[-1]\n",
    "    l = m[:len(m) - 1]\n",
    "    l = tuple(map(int, l))\n",
    "    Z = np.zeros(l, dtype = t)\n",
    "print(Z)"
   ]
  },
  {
   "cell_type": "code",
   "execution_count": 30,
   "id": "0b55319e-b5eb-4c90-88cf-889955b1d593",
   "metadata": {},
   "outputs": [
    {
     "name": "stdout",
     "output_type": "stream",
     "text": [
      "add(x1, x2, /, out=None, *, where=True, casting='same_kind', order='K', dtype=None, subok=True[, signature, extobj])\n",
      "\n",
      "Add arguments element-wise.\n",
      "\n",
      "Parameters\n",
      "----------\n",
      "x1, x2 : array_like\n",
      "    The arrays to be added.\n",
      "    If ``x1.shape != x2.shape``, they must be broadcastable to a common\n",
      "    shape (which becomes the shape of the output).\n",
      "out : ndarray, None, or tuple of ndarray and None, optional\n",
      "    A location into which the result is stored. If provided, it must have\n",
      "    a shape that the inputs broadcast to. If not provided or None,\n",
      "    a freshly-allocated array is returned. A tuple (possible only as a\n",
      "    keyword argument) must have length equal to the number of outputs.\n",
      "where : array_like, optional\n",
      "    This condition is broadcast over the input. At locations where the\n",
      "    condition is True, the `out` array will be set to the ufunc result.\n",
      "    Elsewhere, the `out` array will retain its original value.\n",
      "    Note that if an uninitialized `out` array is created via the default\n",
      "    ``out=None``, locations within it where the condition is False will\n",
      "    remain uninitialized.\n",
      "**kwargs\n",
      "    For other keyword-only arguments, see the\n",
      "    :ref:`ufunc docs <ufuncs.kwargs>`.\n",
      "\n",
      "Returns\n",
      "-------\n",
      "add : ndarray or scalar\n",
      "    The sum of `x1` and `x2`, element-wise.\n",
      "    This is a scalar if both `x1` and `x2` are scalars.\n",
      "\n",
      "Notes\n",
      "-----\n",
      "Equivalent to `x1` + `x2` in terms of array broadcasting.\n",
      "\n",
      "Examples\n",
      "--------\n",
      ">>> np.add(1.0, 4.0)\n",
      "5.0\n",
      ">>> x1 = np.arange(9.0).reshape((3, 3))\n",
      ">>> x2 = np.arange(3.0)\n",
      ">>> np.add(x1, x2)\n",
      "array([[  0.,   2.,   4.],\n",
      "       [  3.,   5.,   7.],\n",
      "       [  6.,   8.,  10.]])\n",
      "\n",
      "The ``+`` operator can be used as a shorthand for ``np.add`` on ndarrays.\n",
      "\n",
      ">>> x1 = np.arange(9.0).reshape((3, 3))\n",
      ">>> x2 = np.arange(3.0)\n",
      ">>> x1 + x2\n",
      "array([[ 0.,  2.,  4.],\n",
      "       [ 3.,  5.,  7.],\n",
      "       [ 6.,  8., 10.]])\n",
      "array(object, dtype=None, *, copy=True, order='K', subok=False, ndmin=0,\n",
      "          like=None)\n",
      "\n",
      "    Create an array.\n",
      "\n",
      "    Parameters\n",
      "    ----------\n",
      "    object : array_like\n",
      "        An array, any object exposing the array interface, an object whose\n",
      "        ``__array__`` method returns an array, or any (nested) sequence.\n",
      "        If object is a scalar, a 0-dimensional array containing object is\n",
      "        returned.\n",
      "    dtype : data-type, optional\n",
      "        The desired data-type for the array. If not given, NumPy will try to use\n",
      "        a default ``dtype`` that can represent the values (by applying promotion\n",
      "        rules when necessary.)\n",
      "    copy : bool, optional\n",
      "        If true (default), then the object is copied.  Otherwise, a copy will\n",
      "        only be made if ``__array__`` returns a copy, if obj is a nested\n",
      "        sequence, or if a copy is needed to satisfy any of the other\n",
      "        requirements (``dtype``, ``order``, etc.).\n",
      "    order : {'K', 'A', 'C', 'F'}, optional\n",
      "        Specify the memory layout of the array. If object is not an array, the\n",
      "        newly created array will be in C order (row major) unless 'F' is\n",
      "        specified, in which case it will be in Fortran order (column major).\n",
      "        If object is an array the following holds.\n",
      "\n",
      "        ===== ========= ===================================================\n",
      "        order  no copy                     copy=True\n",
      "        ===== ========= ===================================================\n",
      "        'K'   unchanged F & C order preserved, otherwise most similar order\n",
      "        'A'   unchanged F order if input is F and not C, otherwise C order\n",
      "        'C'   C order   C order\n",
      "        'F'   F order   F order\n",
      "        ===== ========= ===================================================\n",
      "\n",
      "        When ``copy=False`` and a copy is made for other reasons, the result is\n",
      "        the same as if ``copy=True``, with some exceptions for 'A', see the\n",
      "        Notes section. The default order is 'K'.\n",
      "    subok : bool, optional\n",
      "        If True, then sub-classes will be passed-through, otherwise\n",
      "        the returned array will be forced to be a base-class array (default).\n",
      "    ndmin : int, optional\n",
      "        Specifies the minimum number of dimensions that the resulting\n",
      "        array should have.  Ones will be prepended to the shape as\n",
      "        needed to meet this requirement.\n",
      "    like : array_like, optional\n",
      "        Reference object to allow the creation of arrays which are not\n",
      "        NumPy arrays. If an array-like passed in as ``like`` supports\n",
      "        the ``__array_function__`` protocol, the result will be defined\n",
      "        by it. In this case, it ensures the creation of an array object\n",
      "        compatible with that passed in via this argument.\n",
      "\n",
      "        .. versionadded:: 1.20.0\n",
      "\n",
      "    Returns\n",
      "    -------\n",
      "    out : ndarray\n",
      "        An array object satisfying the specified requirements.\n",
      "\n",
      "    See Also\n",
      "    --------\n",
      "    empty_like : Return an empty array with shape and type of input.\n",
      "    ones_like : Return an array of ones with shape and type of input.\n",
      "    zeros_like : Return an array of zeros with shape and type of input.\n",
      "    full_like : Return a new array with shape of input filled with value.\n",
      "    empty : Return a new uninitialized array.\n",
      "    ones : Return a new array setting values to one.\n",
      "    zeros : Return a new array setting values to zero.\n",
      "    full : Return a new array of given shape filled with value.\n",
      "\n",
      "\n",
      "    Notes\n",
      "    -----\n",
      "    When order is 'A' and ``object`` is an array in neither 'C' nor 'F' order,\n",
      "    and a copy is forced by a change in dtype, then the order of the result is\n",
      "    not necessarily 'C' as expected. This is likely a bug.\n",
      "\n",
      "    Examples\n",
      "    --------\n",
      "    >>> np.array([1, 2, 3])\n",
      "    array([1, 2, 3])\n",
      "\n",
      "    Upcasting:\n",
      "\n",
      "    >>> np.array([1, 2, 3.0])\n",
      "    array([ 1.,  2.,  3.])\n",
      "\n",
      "    More than one dimension:\n",
      "\n",
      "    >>> np.array([[1, 2], [3, 4]])\n",
      "    array([[1, 2],\n",
      "           [3, 4]])\n",
      "\n",
      "    Minimum dimensions 2:\n",
      "\n",
      "    >>> np.array([1, 2, 3], ndmin=2)\n",
      "    array([[1, 2, 3]])\n",
      "\n",
      "    Type provided:\n",
      "\n",
      "    >>> np.array([1, 2, 3], dtype=complex)\n",
      "    array([ 1.+0.j,  2.+0.j,  3.+0.j])\n",
      "\n",
      "    Data-type consisting of more than one element:\n",
      "\n",
      "    >>> x = np.array([(1,2),(3,4)],dtype=[('a','<i4'),('b','<i4')])\n",
      "    >>> x['a']\n",
      "    array([1, 3])\n",
      "\n",
      "    Creating an array from sub-classes:\n",
      "\n",
      "    >>> np.array(np.mat('1 2; 3 4'))\n",
      "    array([[1, 2],\n",
      "           [3, 4]])\n",
      "\n",
      "    >>> np.array(np.mat('1 2; 3 4'), subok=True)\n",
      "    matrix([[1, 2],\n",
      "            [3, 4]])\n"
     ]
    }
   ],
   "source": [
    "import numpy as np\n",
    "print(np.add.__doc__)\n",
    "print(np.array.__doc__)"
   ]
  },
  {
   "cell_type": "code",
   "execution_count": null,
   "id": "a01132bb-cd41-469f-b1b5-a8fcba2ccf48",
   "metadata": {},
   "outputs": [],
   "source": [
    "# Заполните матрицу Z числами от 0 до n-1 по порядку (сперва строки, потом столбцы)\n",
    "# n = 6, m = 2 3\n",
    "import numpy as np\n",
    "n = int(input())\n",
    "m = tuple(map(int, input().split()))\n",
    "Z = np.arange(n).reshape(m)"
   ]
  },
  {
   "cell_type": "code",
   "execution_count": 33,
   "id": "1749ff63-7711-4465-a0cb-92731f575e3b",
   "metadata": {},
   "outputs": [
    {
     "name": "stdout",
     "output_type": "stream",
     "text": [
      "(array([0, 2, 4, 6], dtype=int64),)\n"
     ]
    }
   ],
   "source": [
    "# Выбрать индексы ненулевых элементов вектора\n",
    "import numpy as np\n",
    "v = np.array([1, 0, 2, 0, 3, 0, 4])\n",
    "nonzerros = np.nonzero(v)\n",
    "print(nonzerros)"
   ]
  },
  {
   "cell_type": "code",
   "execution_count": 57,
   "id": "7f165273-def1-42f7-8853-b3d0d716a9f2",
   "metadata": {},
   "outputs": [
    {
     "name": "stdout",
     "output_type": "stream",
     "text": [
      "[1, 2, 3, 4, 5, 6, 7, 8, 9, 0, 0, 9]\n"
     ]
    }
   ],
   "source": [
    "# Дана матрица чисел Z (Z может быть 1, 2 или даже 3 мерной). Выведите на печать список чисел из этой матрицы, которые больше 3 \n",
    "# (Преобразовать матрицу в список)\n",
    "import numpy as np\n",
    "Z = np.array([[1, 2, 3],\n",
    "          [4, 5, 6],\n",
    "          [7, 8, 9],\n",
    "          [0, 0, 9]])\n",
    "r = [int(i) for i in np.nditer(Z) if i > 3]\n",
    "print(r)"
   ]
  },
  {
   "cell_type": "code",
   "execution_count": 47,
   "id": "2820c4c8-3771-40ec-bcb3-b62467c29122",
   "metadata": {},
   "outputs": [
    {
     "name": "stdout",
     "output_type": "stream",
     "text": [
      "'one', 343, 2, 9, 9, 9, 666, 666, 42\n",
      "['one', '343', '2', '9', '9', '9', '666', '666', '42']\n"
     ]
    }
   ],
   "source": [
    "# Преобразовать многомерный список в список\n",
    "l = [['one'], [343, 2], [[9, 9, 9], [[666, 666], [[[[42]]]]]]]\n",
    "r = ''\n",
    "for i in str(l):\n",
    "    if i != '[' and i != ']':\n",
    "        r += i\n",
    "print(list(r.replace(\"'\",'').split(', ')))"
   ]
  },
  {
   "cell_type": "code",
   "execution_count": 3,
   "id": "1d14993e-3af7-4e07-a97c-7d2854bf2364",
   "metadata": {},
   "outputs": [
    {
     "name": "stdout",
     "output_type": "stream",
     "text": [
      "[['one'], [343, 2], [[9, 9, 9], [[666, 666], [[[[42]]]]]]]\n",
      "[['z'], [343, 2], [[9, 9, 9], [[666, 666], [[[['z']]]]]]]\n"
     ]
    }
   ],
   "source": [
    "# Глубокая копия без deepcopy\n",
    "L1 = [['one'], [343, 2], [[9, 9, 9], [[666, 666], [[[[42]]]]]]]\n",
    "\n",
    "def deep(a):\n",
    "    return a if not isinstance(a, list) else list(map(deep, a))\n",
    "\n",
    "L2 = deep(L1)\n",
    "L1[2][1][1][0][0][0][0] = 'z'\n",
    "L1[0] = ['z']\n",
    "print(L2)\n",
    "print(L1)"
   ]
  },
  {
   "cell_type": "code",
   "execution_count": 7,
   "id": "6eb2c597-9566-4b03-8ca0-a6abc1a17d1b",
   "metadata": {},
   "outputs": [
    {
     "data": {
      "text/plain": [
       "array([[1., 0., 0.],\n",
       "       [0., 1., 0.],\n",
       "       [0., 0., 1.]])"
      ]
     },
     "execution_count": 7,
     "metadata": {},
     "output_type": "execute_result"
    }
   ],
   "source": [
    "import numpy as np\n",
    "np.eye(3)"
   ]
  },
  {
   "cell_type": "code",
   "execution_count": 11,
   "id": "c042ee4e-2fa6-4453-98ca-ee665f68e774",
   "metadata": {},
   "outputs": [
    {
     "name": "stdin",
     "output_type": "stream",
     "text": [
      " 2 2 3\n"
     ]
    },
    {
     "name": "stdout",
     "output_type": "stream",
     "text": [
      "[[[0.50374513 0.88956146 0.62683964]\n",
      "  [0.85130247 0.67512394 0.75297132]]\n",
      "\n",
      " [[0.03907134 0.85655919 0.55083705]\n",
      "  [0.07795774 0.10838564 0.88691048]]]\n"
     ]
    }
   ],
   "source": [
    "# Создать рандомную матрицу n*m*l\n",
    "import numpy as np\n",
    "n, m, l = input().split()\n",
    "#np.random.seed(42)\n",
    "Z = np.random.random_sample((int(n), int(m), int(l)))\n",
    "print(Z)"
   ]
  },
  {
   "cell_type": "code",
   "execution_count": 14,
   "id": "20726170-43c4-4f2a-a2c7-fe21eb412f35",
   "metadata": {},
   "outputs": [
    {
     "name": "stdin",
     "output_type": "stream",
     "text": [
      " 5 5\n"
     ]
    },
    {
     "name": "stdout",
     "output_type": "stream",
     "text": [
      "0.020584494295802447\n",
      "0.9699098521619943\n"
     ]
    }
   ],
   "source": [
    "# Минимальный и максимальный элементы рандомной матрицы\n",
    "import numpy as np\n",
    "n, m = input().split()\n",
    "np.random.seed(42)\n",
    "Z = np.random.random_sample((int(n), int(m)))\n",
    "print(Z.min(), Z.max(), sep='\\n')"
   ]
  },
  {
   "cell_type": "code",
   "execution_count": 15,
   "id": "109966a0-a396-4586-b084-dc2881ecc4ed",
   "metadata": {},
   "outputs": [
    {
     "name": "stdin",
     "output_type": "stream",
     "text": [
      " 30 30\n"
     ]
    },
    {
     "name": "stdout",
     "output_type": "stream",
     "text": [
      "0.4923750160905882\n"
     ]
    }
   ],
   "source": [
    "# Среднее значение рандомной матрицы\n",
    "import numpy as np\n",
    "n, m = input().split()\n",
    "np.random.seed(42)\n",
    "Z = np.random.random_sample((int(n), int(m)))\n",
    "print(np.mean(Z)) # можно использовать average "
   ]
  },
  {
   "cell_type": "code",
   "execution_count": null,
   "id": "649e702d-783a-4dce-a019-0344fa77dc48",
   "metadata": {},
   "outputs": [],
   "source": [
    "# Выведите на печать значение минимального и максимального среднего по столбцам (каждое с новой строки).\n",
    "import numpy as np\n",
    "n, m = input().split()\n",
    "np.random.seed(42)\n",
    "Z = np.random.random_sample((int(n), int(m)))\n",
    "avr = np.mean(Z, axis=0) # axis=0 по столбцам, axis=1 по строкам\n",
    "print(avr.min(), avr.max(), sep='\\n')"
   ]
  },
  {
   "cell_type": "code",
   "execution_count": 1,
   "id": "67166e8c-391b-4d00-9a2e-c9f1ee8873f4",
   "metadata": {},
   "outputs": [
    {
     "name": "stdin",
     "output_type": "stream",
     "text": [
      " 10 10\n"
     ]
    },
    {
     "name": "stdout",
     "output_type": "stream",
     "text": [
      "[[1. 1. 1. 1. 1. 1. 1. 1. 1. 1.]\n",
      " [1. 0. 0. 0. 0. 0. 0. 0. 0. 1.]\n",
      " [1. 0. 0. 0. 0. 0. 0. 0. 0. 1.]\n",
      " [1. 0. 0. 0. 0. 0. 0. 0. 0. 1.]\n",
      " [1. 0. 0. 0. 0. 0. 0. 0. 0. 1.]\n",
      " [1. 0. 0. 0. 0. 0. 0. 0. 0. 1.]\n",
      " [1. 0. 0. 0. 0. 0. 0. 0. 0. 1.]\n",
      " [1. 0. 0. 0. 0. 0. 0. 0. 0. 1.]\n",
      " [1. 0. 0. 0. 0. 0. 0. 0. 0. 1.]\n",
      " [1. 1. 1. 1. 1. 1. 1. 1. 1. 1.]]\n"
     ]
    }
   ],
   "source": [
    "# Окантовка матрицы из единиц\n",
    "import numpy as np\n",
    "n, m = input().split()\n",
    "Z = np.ones((int(n), int(m)))\n",
    "Z[1:-1, 1:-1] = 0\n",
    "print(Z)"
   ]
  },
  {
   "cell_type": "code",
   "execution_count": 4,
   "id": "f6cc60a1-f4a1-4f7f-b179-f2afb013393d",
   "metadata": {},
   "outputs": [
    {
     "name": "stdout",
     "output_type": "stream",
     "text": [
      "[[0 0 0 0 0]\n",
      " [0 1 2 3 0]\n",
      " [0 4 5 6 0]\n",
      " [0 7 8 9 0]\n",
      " [0 0 0 0 0]]\n"
     ]
    }
   ],
   "source": [
    "# Окантовка матрицы из нолей\n",
    "import numpy as np\n",
    "Z = np.array([[1, 2, 3],\n",
    "       [4, 5, 6],\n",
    "       [7, 8, 9]])\n",
    "Z = np.pad(Z, (1,1), 'constant', constant_values=0)\n",
    "print(Z)"
   ]
  },
  {
   "cell_type": "code",
   "execution_count": 5,
   "id": "ef6a8eb8-f2c2-476a-9aa3-907b4ae39035",
   "metadata": {},
   "outputs": [
    {
     "name": "stdin",
     "output_type": "stream",
     "text": [
      " 9\n"
     ]
    },
    {
     "name": "stdout",
     "output_type": "stream",
     "text": [
      "[[1 0 0 0 0 0 0 0 0]\n",
      " [0 2 0 0 0 0 0 0 0]\n",
      " [0 0 3 0 0 0 0 0 0]\n",
      " [0 0 0 4 0 0 0 0 0]\n",
      " [0 0 0 0 5 0 0 0 0]\n",
      " [0 0 0 0 0 6 0 0 0]\n",
      " [0 0 0 0 0 0 7 0 0]\n",
      " [0 0 0 0 0 0 0 8 0]\n",
      " [0 0 0 0 0 0 0 0 9]]\n"
     ]
    }
   ],
   "source": [
    "# Создайте диагональную матрицу размера n*n. На главной диагонали должны быть числа от 1 до n.\n",
    "import numpy as np\n",
    "n = int(input())\n",
    "Z = np.zeros((n, n), dtype = int)\n",
    "Z = np.diag(np.arange(1, n + 1))\n",
    "print(Z)"
   ]
  },
  {
   "cell_type": "code",
   "execution_count": 26,
   "id": "fb83d88e-085e-4dd0-ae93-b7806da46f80",
   "metadata": {},
   "outputs": [
    {
     "name": "stdout",
     "output_type": "stream",
     "text": [
      "[[0. 1. 0. 1. 0. 1. 0. 1. 0. 1.]\n",
      " [1. 0. 1. 0. 1. 0. 1. 0. 1. 0.]\n",
      " [0. 1. 0. 1. 0. 1. 0. 1. 0. 1.]\n",
      " [1. 0. 1. 0. 1. 0. 1. 0. 1. 0.]\n",
      " [0. 1. 0. 1. 0. 1. 0. 1. 0. 1.]\n",
      " [1. 0. 1. 0. 1. 0. 1. 0. 1. 0.]\n",
      " [0. 1. 0. 1. 0. 1. 0. 1. 0. 1.]\n",
      " [1. 0. 1. 0. 1. 0. 1. 0. 1. 0.]]\n",
      "(8, 10)\n"
     ]
    }
   ],
   "source": [
    "# Заполнить шахматную доску из матрицы\n",
    "import numpy as np\n",
    "#mn = tuple(map(int, input().split()))\n",
    "mn = (8, 10)\n",
    "Z = np.zeros(mn)\n",
    "for i in range(len(Z)):\n",
    "    if i % 2 == 0:\n",
    "        Z[i][1::2] = 1\n",
    "    else:\n",
    "        Z[i][0::2] = 1\n",
    "print(Z)\n",
    "print(np.shape(Z))\n",
    "\n",
    "# import numpy as np\n",
    "# size = tuple(map(int, input().split()))\n",
    "# Z = np.ones(size)\n",
    "# Z[::2, ::2] = 0\n",
    "# Z[1::2, 1::2] = 0"
   ]
  },
  {
   "cell_type": "code",
   "execution_count": 40,
   "id": "b9bb89eb-531e-4c26-b156-b14a4907b136",
   "metadata": {},
   "outputs": [
    {
     "name": "stdout",
     "output_type": "stream",
     "text": [
      "(1, 1)\n"
     ]
    }
   ],
   "source": [
    "# Определите координаты элемента с индексом i в yy и выведите кортеж с координатами на печать. Индекс i в данном случае 5, \n",
    "# если представить матрицу как [0 1 2 3 4 5 6 7 8 9 10 11]\n",
    "import numpy as np\n",
    "yy = np.array([[ 0,  1,  2,  3],\n",
    "       [ 4,  5,  6,  7],\n",
    "       [ 8,  9, 10, 11]])\n",
    "i = 5\n",
    "print(np.unravel_index(i, np.shape(yy)))"
   ]
  },
  {
   "cell_type": "code",
   "execution_count": 31,
   "id": "43550109-63b1-4498-a61b-c24425cd5a95",
   "metadata": {},
   "outputs": [
    {
     "name": "stdout",
     "output_type": "stream",
     "text": [
      "[ 0  1  2 -3 -4 -5 -6 -7 -8  9 10]\n"
     ]
    }
   ],
   "source": [
    "# Выборка с последующим изменением вектора\n",
    "import numpy as np\n",
    "Z = np.arange(11)\n",
    "Z[(Z >= 3) & (Z < 9)] *= -1\n",
    "print(Z)"
   ]
  },
  {
   "cell_type": "code",
   "execution_count": 42,
   "id": "ebd9c3aa-fa52-4c2c-af82-deeb2aade1b6",
   "metadata": {},
   "outputs": [
    {
     "name": "stdout",
     "output_type": "stream",
     "text": [
      "[-4. -6.  0.  3. 10.]\n"
     ]
    }
   ],
   "source": [
    "# Условие where\n",
    "import numpy as np\n",
    "A = np.array([-3.1, -5.9, 0, 2.2, 9.8])\n",
    "Z = np.where((A<0), np.floor(A), np.ceil(A))\n",
    "print(Z)"
   ]
  },
  {
   "cell_type": "code",
   "execution_count": 43,
   "id": "9126f39c-c6f1-4ed2-b29e-c5f802c89c28",
   "metadata": {},
   "outputs": [
    {
     "name": "stdout",
     "output_type": "stream",
     "text": [
      "[1 3 7]\n"
     ]
    }
   ],
   "source": [
    "# Пересечения векторов\n",
    "import numpy as np\n",
    "A = np.array([0, 9, 7, 1, 3, 7, 5, 2, 5, 1])\n",
    "B = np.array([3, 1, 3, 7, 4, 1, 8, 1, 1, 8])\n",
    "Z = np.intersect1d(A, B)\n",
    "print(Z)"
   ]
  },
  {
   "cell_type": "code",
   "execution_count": null,
   "id": "aa6448b9-cd93-4997-935d-10cd7485b01d",
   "metadata": {},
   "outputs": [],
   "source": [
    "# Игнорировать все ошибки\n",
    "import numpy as np\n",
    "np.seterr(all = 'ignore')"
   ]
  },
  {
   "cell_type": "code",
   "execution_count": 67,
   "id": "ea7699ad-1e1f-4dc7-b788-6e80205d8540",
   "metadata": {},
   "outputs": [
    {
     "name": "stdout",
     "output_type": "stream",
     "text": [
      "['2024-01-01' '2024-01-02' '2024-01-03' '2024-01-04' '2024-01-05'\n",
      " '2024-01-06' '2024-01-07' '2024-01-08' '2024-01-09' '2024-01-10'\n",
      " '2024-01-11' '2024-01-12' '2024-01-13' '2024-01-14' '2024-01-15'\n",
      " '2024-01-16' '2024-01-17' '2024-01-18' '2024-01-19' '2024-01-20'\n",
      " '2024-01-21' '2024-01-22' '2024-01-23' '2024-01-24' '2024-01-25'\n",
      " '2024-01-26' '2024-01-27' '2024-01-28' '2024-01-29' '2024-01-30'\n",
      " '2024-01-31' '2024-02-01' '2024-02-02' '2024-02-03' '2024-02-04'\n",
      " '2024-02-05' '2024-02-06' '2024-02-07' '2024-02-08' '2024-02-09'\n",
      " '2024-02-10' '2024-02-11' '2024-02-12' '2024-02-13' '2024-02-14'\n",
      " '2024-02-15' '2024-02-16' '2024-02-17' '2024-02-18' '2024-02-19'\n",
      " '2024-02-20' '2024-02-21' '2024-02-22' '2024-02-23' '2024-02-24'\n",
      " '2024-02-25' '2024-02-26' '2024-02-27' '2024-02-28' '2024-02-29']\n"
     ]
    }
   ],
   "source": [
    "# Генератор дат\n",
    "import numpy as np\n",
    "a = '2024'\n",
    "b = '2024-03'\n",
    "Z = np.arange(a, b, dtype='datetime64[D]')\n",
    "print(Z)"
   ]
  },
  {
   "cell_type": "code",
   "execution_count": 70,
   "id": "4efe422c-e256-4a45-942b-3f60ba810668",
   "metadata": {},
   "outputs": [
    {
     "name": "stdin",
     "output_type": "stream",
     "text": [
      " 5 4\n",
      " -5\n"
     ]
    },
    {
     "name": "stdout",
     "output_type": "stream",
     "text": [
      "[[-5. -4. -3. -2.]\n",
      " [-5. -4. -3. -2.]\n",
      " [-5. -4. -3. -2.]\n",
      " [-5. -4. -3. -2.]\n",
      " [-5. -4. -3. -2.]]\n"
     ]
    }
   ],
   "source": [
    "# Создайте матрицу размера n*m такую, что каждая её строка содержит числа от k до k+m-1 (с шагом 1)\n",
    "import numpy as np\n",
    "n, m = tuple(map(int, input().split()))\n",
    "k = int(input())\n",
    "t = np.array(np.arange(k,k+m), dtype = 'float64')\n",
    "Z = np.zeros((n, m))\n",
    "Z = Z + t\n",
    "print(Z)"
   ]
  },
  {
   "cell_type": "code",
   "execution_count": 73,
   "id": "8fe0a9ce-1a22-4807-825c-abe41a4bbb14",
   "metadata": {},
   "outputs": [
    {
     "name": "stdin",
     "output_type": "stream",
     "text": [
      " 5 4\n",
      " -5\n"
     ]
    },
    {
     "name": "stdout",
     "output_type": "stream",
     "text": [
      "[[-5. -5. -5. -5.]\n",
      " [-4. -4. -4. -4.]\n",
      " [-3. -3. -3. -3.]\n",
      " [-2. -2. -2. -2.]\n",
      " [-1. -1. -1. -1.]]\n"
     ]
    }
   ],
   "source": [
    "# Создайте матрицу размера n*m такую, что каждый её столбец содержит числа от k до k+n-1 (с шагом 1).\n",
    "import numpy as np\n",
    "n, m = tuple(map(int, input().split()))\n",
    "k = int(input())\n",
    "t = np.array(np.arange(k, k+n).reshape((n, np.where(k==0, 1, k))), dtype = 'float64') # where для того, если k = 0\n",
    "Z = np.zeros((n, m))\n",
    "Z = Z + t\n",
    "print(Z)"
   ]
  },
  {
   "cell_type": "code",
   "execution_count": 74,
   "id": "7475e61f-683e-4855-b5c3-921112e101d3",
   "metadata": {},
   "outputs": [
    {
     "name": "stdout",
     "output_type": "stream",
     "text": [
      "[0. 1. 2. 3. 4. 5. 6. 7. 8. 9.]\n"
     ]
    }
   ],
   "source": [
    "# Превращение итерируемого объекта в вектор\n",
    "import numpy as np\n",
    "V = range(10)\n",
    "Z = np.fromiter(V, float)\n",
    "print(Z)"
   ]
  },
  {
   "cell_type": "code",
   "execution_count": 76,
   "id": "8a24ec56-1741-4c18-aeac-45a43b1970e4",
   "metadata": {},
   "outputs": [
    {
     "name": "stdout",
     "output_type": "stream",
     "text": [
      "[ 5.6  7.2  8.8 10.4 12.  13.6 15.2 16.8 18.4]\n"
     ]
    }
   ],
   "source": [
    "# Равномерно разделенный отрезок\n",
    "import numpy as np\n",
    "start = 4\n",
    "stop = 20\n",
    "n = 9\n",
    "Z = np.around(np.linspace(start, stop, num=n + 2), 3)[1:-1]\n",
    "print(Z)"
   ]
  },
  {
   "cell_type": "code",
   "execution_count": 81,
   "id": "11fb0040-bfd1-4f1b-be69-2e759455cad9",
   "metadata": {},
   "outputs": [
    {
     "name": "stdout",
     "output_type": "stream",
     "text": [
      "[ 4.     4.891  5.981  7.314  8.944 10.937 13.375 16.355 20.   ]\n"
     ]
    }
   ],
   "source": [
    "# Равномерно разделенный отрезок в геометрической прогрессии\n",
    "import numpy as np\n",
    "start = 4\n",
    "stop = 20\n",
    "n = 9\n",
    "Z = np.around(np.geomspace(start, stop, num=n), 3)\n",
    "print(Z)"
   ]
  },
  {
   "cell_type": "code",
   "execution_count": 95,
   "id": "298925a3-1b55-4949-9092-f92884d10154",
   "metadata": {},
   "outputs": [
    {
     "data": {
      "text/html": [
       "<div>\n",
       "<style scoped>\n",
       "    .dataframe tbody tr th:only-of-type {\n",
       "        vertical-align: middle;\n",
       "    }\n",
       "\n",
       "    .dataframe tbody tr th {\n",
       "        vertical-align: top;\n",
       "    }\n",
       "\n",
       "    .dataframe thead th {\n",
       "        text-align: right;\n",
       "    }\n",
       "</style>\n",
       "<table border=\"1\" class=\"dataframe\">\n",
       "  <thead>\n",
       "    <tr style=\"text-align: right;\">\n",
       "      <th></th>\n",
       "      <th>animal</th>\n",
       "      <th>age</th>\n",
       "      <th>visits</th>\n",
       "      <th>priority</th>\n",
       "    </tr>\n",
       "  </thead>\n",
       "  <tbody>\n",
       "    <tr>\n",
       "      <th>a</th>\n",
       "      <td>cat</td>\n",
       "      <td>2.5</td>\n",
       "      <td>1</td>\n",
       "      <td>yes</td>\n",
       "    </tr>\n",
       "    <tr>\n",
       "      <th>b</th>\n",
       "      <td>cat</td>\n",
       "      <td>3.0</td>\n",
       "      <td>3</td>\n",
       "      <td>yes</td>\n",
       "    </tr>\n",
       "    <tr>\n",
       "      <th>c</th>\n",
       "      <td>snake</td>\n",
       "      <td>0.5</td>\n",
       "      <td>2</td>\n",
       "      <td>no</td>\n",
       "    </tr>\n",
       "    <tr>\n",
       "      <th>d</th>\n",
       "      <td>dog</td>\n",
       "      <td>NaN</td>\n",
       "      <td>3</td>\n",
       "      <td>yes</td>\n",
       "    </tr>\n",
       "    <tr>\n",
       "      <th>e</th>\n",
       "      <td>dog</td>\n",
       "      <td>5.0</td>\n",
       "      <td>2</td>\n",
       "      <td>no</td>\n",
       "    </tr>\n",
       "    <tr>\n",
       "      <th>f</th>\n",
       "      <td>cat</td>\n",
       "      <td>2.0</td>\n",
       "      <td>3</td>\n",
       "      <td>no</td>\n",
       "    </tr>\n",
       "    <tr>\n",
       "      <th>g</th>\n",
       "      <td>snake</td>\n",
       "      <td>4.5</td>\n",
       "      <td>1</td>\n",
       "      <td>no</td>\n",
       "    </tr>\n",
       "    <tr>\n",
       "      <th>h</th>\n",
       "      <td>cat</td>\n",
       "      <td>NaN</td>\n",
       "      <td>1</td>\n",
       "      <td>yes</td>\n",
       "    </tr>\n",
       "    <tr>\n",
       "      <th>i</th>\n",
       "      <td>dog</td>\n",
       "      <td>7.0</td>\n",
       "      <td>2</td>\n",
       "      <td>no</td>\n",
       "    </tr>\n",
       "    <tr>\n",
       "      <th>j</th>\n",
       "      <td>dog</td>\n",
       "      <td>3.0</td>\n",
       "      <td>1</td>\n",
       "      <td>no</td>\n",
       "    </tr>\n",
       "  </tbody>\n",
       "</table>\n",
       "</div>"
      ],
      "text/plain": [
       "  animal  age  visits priority\n",
       "a    cat  2.5       1      yes\n",
       "b    cat  3.0       3      yes\n",
       "c  snake  0.5       2       no\n",
       "d    dog  NaN       3      yes\n",
       "e    dog  5.0       2       no\n",
       "f    cat  2.0       3       no\n",
       "g  snake  4.5       1       no\n",
       "h    cat  NaN       1      yes\n",
       "i    dog  7.0       2       no\n",
       "j    dog  3.0       1       no"
      ]
     },
     "execution_count": 95,
     "metadata": {},
     "output_type": "execute_result"
    }
   ],
   "source": [
    "# Создание датафрейма\n",
    "import pandas as pd\n",
    "data = {'animal': ['cat', 'cat', 'snake', 'dog', 'dog', 'cat', 'snake', 'cat', 'dog', 'dog'],\n",
    "        'age': [2.5, 3, 0.5, np.nan, 5, 2, 4.5, np.nan, 7, 3],\n",
    "        'visits': [1, 3, 2, 3, 2, 3, 1, 1, 2, 1],\n",
    "        'priority': ['yes', 'yes', 'no', 'yes', 'no', 'no', 'no', 'yes', 'no', 'no']}\n",
    "\n",
    "labels = ['a', 'b', 'c', 'd', 'e', 'f', 'g', 'h', 'i', 'j']\n",
    "df = pd.DataFrame(data, index=labels)\n",
    "df"
   ]
  },
  {
   "cell_type": "code",
   "execution_count": 7,
   "id": "64e49926-064b-4c0d-8229-31590e1a7b43",
   "metadata": {},
   "outputs": [
    {
     "name": "stdout",
     "output_type": "stream",
     "text": [
      "     name  age designation\n",
      "0    Alex   21          VP\n",
      "1     Bob   27         CEO\n",
      "2  Carmen   35         CFO\n",
      "3    Diaz   55          VP\n",
      "4    Ella   18          VP\n",
      "5  Forman   21         CEO\n",
      "6    Glen   35          MD\n"
     ]
    }
   ],
   "source": [
    "import numpy as np\n",
    "import pandas as pd\n",
    "df = pd.DataFrame({'name' : [\"Alex\", \"Bob\", \"Carmen\", \"Diaz\", \"Ella\",\"Forman\", \"Glen\"],\n",
    "                   'age' : [20, 27, 35, 55, 18, 21, 35],\n",
    "                   'designation': [\"VP\", \"CEO\", \"CFO\", \"VP\", \"VP\", \"CEO\", \"MD\"]})\n",
    "index = 0\n",
    "if type(index) == int:\n",
    "    df.iloc[index, df.columns.get_loc('age')] += 1\n",
    "else:\n",
    "    df.loc[index,'age'] += 1\n",
    "print(df)"
   ]
  },
  {
   "cell_type": "code",
   "execution_count": 38,
   "id": "3eacef68-2b05-4d82-bf92-6c72c0c2df20",
   "metadata": {},
   "outputs": [
    {
     "name": "stdout",
     "output_type": "stream",
     "text": [
      "[[100, 100, 100], [5.67, 17.43, 37.36], 100, 100, 100, 5.67, 17.43, 37.36]\n"
     ]
    }
   ],
   "source": [
    "from functools import reduce\n",
    "a = [[100, 100, 100], [5.67, 17.43, 37.36]]\n",
    "print(reduce(lambda x, y: x + y, a, a))"
   ]
  },
  {
   "cell_type": "code",
   "execution_count": null,
   "id": "2d41aaea-8f8c-46f7-83d8-e592515b2ab6",
   "metadata": {},
   "outputs": [],
   "source": []
  }
 ],
 "metadata": {
  "kernelspec": {
   "display_name": "Python 3 (ipykernel)",
   "language": "python",
   "name": "python3"
  },
  "language_info": {
   "codemirror_mode": {
    "name": "ipython",
    "version": 3
   },
   "file_extension": ".py",
   "mimetype": "text/x-python",
   "name": "python",
   "nbconvert_exporter": "python",
   "pygments_lexer": "ipython3",
   "version": "3.11.4"
  }
 },
 "nbformat": 4,
 "nbformat_minor": 5
}
